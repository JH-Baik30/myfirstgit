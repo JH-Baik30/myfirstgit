{
 "cells": [
  {
   "cell_type": "markdown",
   "id": "7c00679a",
   "metadata": {},
   "source": [
    "# Make New Columns\n",
    "* 영상 8강"
   ]
  },
  {
   "cell_type": "code",
   "execution_count": 1,
   "id": "db23c320",
   "metadata": {},
   "outputs": [],
   "source": [
    "import pandas as pd\n",
    "import numpy as np"
   ]
  },
  {
   "cell_type": "code",
   "execution_count": 2,
   "id": "01982aa6",
   "metadata": {},
   "outputs": [
    {
     "data": {
      "text/html": [
       "<div>\n",
       "<style scoped>\n",
       "    .dataframe tbody tr th:only-of-type {\n",
       "        vertical-align: middle;\n",
       "    }\n",
       "\n",
       "    .dataframe tbody tr th {\n",
       "        vertical-align: top;\n",
       "    }\n",
       "\n",
       "    .dataframe thead th {\n",
       "        text-align: right;\n",
       "    }\n",
       "</style>\n",
       "<table border=\"1\" class=\"dataframe\">\n",
       "  <thead>\n",
       "    <tr style=\"text-align: right;\">\n",
       "      <th></th>\n",
       "    </tr>\n",
       "  </thead>\n",
       "  <tbody>\n",
       "  </tbody>\n",
       "</table>\n",
       "</div>"
      ],
      "text/plain": [
       "Empty DataFrame\n",
       "Columns: []\n",
       "Index: []"
      ]
     },
     "execution_count": 2,
     "metadata": {},
     "output_type": "execute_result"
    }
   ],
   "source": [
    "df = pd.DataFrame([])\n",
    "df"
   ]
  },
  {
   "cell_type": "code",
   "execution_count": 17,
   "id": "d4433c60",
   "metadata": {},
   "outputs": [],
   "source": [
    "df.assign?"
   ]
  },
  {
   "cell_type": "code",
   "execution_count": 3,
   "id": "204329ef",
   "metadata": {
    "scrolled": true
   },
   "outputs": [
    {
     "data": {
      "text/html": [
       "<div>\n",
       "<style scoped>\n",
       "    .dataframe tbody tr th:only-of-type {\n",
       "        vertical-align: middle;\n",
       "    }\n",
       "\n",
       "    .dataframe tbody tr th {\n",
       "        vertical-align: top;\n",
       "    }\n",
       "\n",
       "    .dataframe thead th {\n",
       "        text-align: right;\n",
       "    }\n",
       "</style>\n",
       "<table border=\"1\" class=\"dataframe\">\n",
       "  <thead>\n",
       "    <tr style=\"text-align: right;\">\n",
       "      <th></th>\n",
       "      <th>A</th>\n",
       "      <th>B</th>\n",
       "    </tr>\n",
       "  </thead>\n",
       "  <tbody>\n",
       "    <tr>\n",
       "      <th>0</th>\n",
       "      <td>1</td>\n",
       "      <td>-0.528458</td>\n",
       "    </tr>\n",
       "    <tr>\n",
       "      <th>1</th>\n",
       "      <td>2</td>\n",
       "      <td>-0.578593</td>\n",
       "    </tr>\n",
       "    <tr>\n",
       "      <th>2</th>\n",
       "      <td>3</td>\n",
       "      <td>0.462373</td>\n",
       "    </tr>\n",
       "    <tr>\n",
       "      <th>3</th>\n",
       "      <td>4</td>\n",
       "      <td>-0.543216</td>\n",
       "    </tr>\n",
       "    <tr>\n",
       "      <th>4</th>\n",
       "      <td>5</td>\n",
       "      <td>-0.983988</td>\n",
       "    </tr>\n",
       "    <tr>\n",
       "      <th>5</th>\n",
       "      <td>6</td>\n",
       "      <td>-1.165647</td>\n",
       "    </tr>\n",
       "    <tr>\n",
       "      <th>6</th>\n",
       "      <td>7</td>\n",
       "      <td>0.226325</td>\n",
       "    </tr>\n",
       "    <tr>\n",
       "      <th>7</th>\n",
       "      <td>8</td>\n",
       "      <td>0.226105</td>\n",
       "    </tr>\n",
       "    <tr>\n",
       "      <th>8</th>\n",
       "      <td>9</td>\n",
       "      <td>-1.968990</td>\n",
       "    </tr>\n",
       "    <tr>\n",
       "      <th>9</th>\n",
       "      <td>10</td>\n",
       "      <td>-1.505683</td>\n",
       "    </tr>\n",
       "  </tbody>\n",
       "</table>\n",
       "</div>"
      ],
      "text/plain": [
       "    A         B\n",
       "0   1 -0.528458\n",
       "1   2 -0.578593\n",
       "2   3  0.462373\n",
       "3   4 -0.543216\n",
       "4   5 -0.983988\n",
       "5   6 -1.165647\n",
       "6   7  0.226325\n",
       "7   8  0.226105\n",
       "8   9 -1.968990\n",
       "9  10 -1.505683"
      ]
     },
     "execution_count": 3,
     "metadata": {},
     "output_type": "execute_result"
    }
   ],
   "source": [
    "df = pd.DataFrame({'A': range(1, 11), 'B': np.random.randn(10)})\n",
    "df"
   ]
  },
  {
   "cell_type": "markdown",
   "id": "27e6a6ac",
   "metadata": {},
   "source": [
    "### ln_A column 을 만들고 A column 의 로그값을 넣어주는 3가지 방법"
   ]
  },
  {
   "cell_type": "code",
   "execution_count": null,
   "id": "8166b323",
   "metadata": {},
   "outputs": [],
   "source": [
    "# 1 \n",
    "df.assign(ln_A = lambda x:np.log(x.A))"
   ]
  },
  {
   "cell_type": "code",
   "execution_count": null,
   "id": "9f3041eb",
   "metadata": {},
   "outputs": [],
   "source": [
    "# 2\n",
    "df['ln_A'] = np.log(df.A)"
   ]
  },
  {
   "cell_type": "code",
   "execution_count": 9,
   "id": "6b479700",
   "metadata": {},
   "outputs": [
    {
     "data": {
      "text/html": [
       "<div>\n",
       "<style scoped>\n",
       "    .dataframe tbody tr th:only-of-type {\n",
       "        vertical-align: middle;\n",
       "    }\n",
       "\n",
       "    .dataframe tbody tr th {\n",
       "        vertical-align: top;\n",
       "    }\n",
       "\n",
       "    .dataframe thead th {\n",
       "        text-align: right;\n",
       "    }\n",
       "</style>\n",
       "<table border=\"1\" class=\"dataframe\">\n",
       "  <thead>\n",
       "    <tr style=\"text-align: right;\">\n",
       "      <th></th>\n",
       "      <th>A</th>\n",
       "      <th>B</th>\n",
       "      <th>ln_A</th>\n",
       "    </tr>\n",
       "  </thead>\n",
       "  <tbody>\n",
       "    <tr>\n",
       "      <th>0</th>\n",
       "      <td>1</td>\n",
       "      <td>-0.528458</td>\n",
       "      <td>0.000000</td>\n",
       "    </tr>\n",
       "    <tr>\n",
       "      <th>1</th>\n",
       "      <td>2</td>\n",
       "      <td>-0.578593</td>\n",
       "      <td>0.693147</td>\n",
       "    </tr>\n",
       "    <tr>\n",
       "      <th>2</th>\n",
       "      <td>3</td>\n",
       "      <td>0.462373</td>\n",
       "      <td>1.098612</td>\n",
       "    </tr>\n",
       "    <tr>\n",
       "      <th>3</th>\n",
       "      <td>4</td>\n",
       "      <td>-0.543216</td>\n",
       "      <td>1.386294</td>\n",
       "    </tr>\n",
       "    <tr>\n",
       "      <th>4</th>\n",
       "      <td>5</td>\n",
       "      <td>-0.983988</td>\n",
       "      <td>1.609438</td>\n",
       "    </tr>\n",
       "    <tr>\n",
       "      <th>5</th>\n",
       "      <td>6</td>\n",
       "      <td>-1.165647</td>\n",
       "      <td>1.791759</td>\n",
       "    </tr>\n",
       "    <tr>\n",
       "      <th>6</th>\n",
       "      <td>7</td>\n",
       "      <td>0.226325</td>\n",
       "      <td>1.945910</td>\n",
       "    </tr>\n",
       "    <tr>\n",
       "      <th>7</th>\n",
       "      <td>8</td>\n",
       "      <td>0.226105</td>\n",
       "      <td>2.079442</td>\n",
       "    </tr>\n",
       "    <tr>\n",
       "      <th>8</th>\n",
       "      <td>9</td>\n",
       "      <td>-1.968990</td>\n",
       "      <td>2.197225</td>\n",
       "    </tr>\n",
       "    <tr>\n",
       "      <th>9</th>\n",
       "      <td>10</td>\n",
       "      <td>-1.505683</td>\n",
       "      <td>2.302585</td>\n",
       "    </tr>\n",
       "  </tbody>\n",
       "</table>\n",
       "</div>"
      ],
      "text/plain": [
       "    A         B      ln_A\n",
       "0   1 -0.528458  0.000000\n",
       "1   2 -0.578593  0.693147\n",
       "2   3  0.462373  1.098612\n",
       "3   4 -0.543216  1.386294\n",
       "4   5 -0.983988  1.609438\n",
       "5   6 -1.165647  1.791759\n",
       "6   7  0.226325  1.945910\n",
       "7   8  0.226105  2.079442\n",
       "8   9 -1.968990  2.197225\n",
       "9  10 -1.505683  2.302585"
      ]
     },
     "execution_count": 9,
     "metadata": {},
     "output_type": "execute_result"
    }
   ],
   "source": [
    "# 3\n",
    "df.ln_A = np.log(df.A)"
   ]
  },
  {
   "cell_type": "markdown",
   "id": "1aa8e31f",
   "metadata": {},
   "source": [
    "#### 내가 맹글어본 ex) 길이 높이에 넓이 컬럼추가(계산해서.)"
   ]
  },
  {
   "cell_type": "code",
   "execution_count": null,
   "id": "5268b336",
   "metadata": {},
   "outputs": [],
   "source": [
    "dfx = pd.DataFrame({'Length' : np.random.randint(1,10,10), 'Height' : np.random.randint(5,15, 10)})\n",
    "dfx.assign(Area=lambda x: dfx.length * dfx.height)  # 1\n",
    "dfx['Area'] = dfx['Length'] * dfx['Height']         # 2 dfx.컬럼 = dfx.컬럼*dfx.컬럼 (error 남)"
   ]
  },
  {
   "cell_type": "raw",
   "id": "b8c25dfc",
   "metadata": {},
   "source": []
  },
  {
   "cell_type": "markdown",
   "id": "29597f15",
   "metadata": {},
   "source": [
    "#### qcut 숫자형 데이터를 category로 변환해준다."
   ]
  },
  {
   "cell_type": "code",
   "execution_count": 19,
   "id": "740c840f",
   "metadata": {},
   "outputs": [
    {
     "data": {
      "text/plain": [
       "['good', 'good', 'medium', 'bad', 'bad']\n",
       "Categories (3, object): ['good' < 'medium' < 'bad']"
      ]
     },
     "execution_count": 19,
     "metadata": {},
     "output_type": "execute_result"
    }
   ],
   "source": [
    "pd.qcut(range(5), 3, labels=[\"good\", \"medium\", \"bad\"])"
   ]
  },
  {
   "cell_type": "markdown",
   "id": "90430b7a",
   "metadata": {},
   "source": [
    "#### 'axis'로 행 또는 열에서의 max, min 가장큰값 가장작은값 불러오기"
   ]
  },
  {
   "cell_type": "code",
   "execution_count": 42,
   "id": "467bead6",
   "metadata": {},
   "outputs": [
    {
     "data": {
      "text/plain": [
       "A    10.000000\n",
       "B     1.519701\n",
       "dtype: float64"
      ]
     },
     "execution_count": 42,
     "metadata": {},
     "output_type": "execute_result"
    }
   ],
   "source": [
    "df.max(axis=0)"
   ]
  },
  {
   "cell_type": "code",
   "execution_count": 43,
   "id": "61f69db7",
   "metadata": {},
   "outputs": [
    {
     "data": {
      "text/plain": [
       "A    1.000000\n",
       "B   -0.832558\n",
       "dtype: float64"
      ]
     },
     "execution_count": 43,
     "metadata": {},
     "output_type": "execute_result"
    }
   ],
   "source": [
    "df.min(axis=0)"
   ]
  },
  {
   "cell_type": "code",
   "execution_count": 44,
   "id": "29664ac2",
   "metadata": {},
   "outputs": [
    {
     "data": {
      "text/plain": [
       "0     1\n",
       "1     2\n",
       "2     3\n",
       "3     4\n",
       "4     5\n",
       "5     6\n",
       "6     7\n",
       "7     8\n",
       "8     9\n",
       "9    10\n",
       "Name: A, dtype: int64"
      ]
     },
     "execution_count": 44,
     "metadata": {},
     "output_type": "execute_result"
    }
   ],
   "source": [
    "df['A'].clip(lower=-10,upper=10)     # ???????????????????? 도무지 뭔소린지..."
   ]
  },
  {
   "cell_type": "markdown",
   "id": "c25263db",
   "metadata": {},
   "source": [
    "#### 절대값으로 변환"
   ]
  },
  {
   "cell_type": "code",
   "execution_count": 37,
   "id": "32a7ba6d",
   "metadata": {},
   "outputs": [
    {
     "data": {
      "text/plain": [
       "<bound method NDFrame.abs of     A         E      ln_A\n",
       "0   1  1.012055  0.000000\n",
       "1   2  0.802772  0.693147\n",
       "2   3  0.082639  1.098612\n",
       "3   4  0.218838  1.386294\n",
       "4   5  0.322096  1.609438\n",
       "5   6  0.934211  1.791759\n",
       "6   7 -1.206530  1.945910\n",
       "7   8  1.453056  2.079442\n",
       "8   9  1.273541  2.197225\n",
       "9  10 -0.852746  2.302585>"
      ]
     },
     "execution_count": 37,
     "metadata": {},
     "output_type": "execute_result"
    }
   ],
   "source": [
    "df.abs"
   ]
  },
  {
   "cell_type": "code",
   "execution_count": 41,
   "id": "bb92fa7f",
   "metadata": {
    "scrolled": true
   },
   "outputs": [
    {
     "data": {
      "text/plain": [
       "0    0.374813\n",
       "1    1.122408\n",
       "2    0.574937\n",
       "3    0.761006\n",
       "4    0.534145\n",
       "5    1.519701\n",
       "6    0.179159\n",
       "7    0.509912\n",
       "8    0.832558\n",
       "9    0.714112\n",
       "Name: B, dtype: float64"
      ]
     },
     "execution_count": 41,
     "metadata": {},
     "output_type": "execute_result"
    }
   ],
   "source": [
    "df['B'].abs()"
   ]
  },
  {
   "cell_type": "code",
   "execution_count": null,
   "id": "26a890da",
   "metadata": {},
   "outputs": [],
   "source": []
  },
  {
   "cell_type": "code",
   "execution_count": null,
   "id": "1d555653",
   "metadata": {},
   "outputs": [],
   "source": []
  }
 ],
 "metadata": {
  "kernelspec": {
   "display_name": "Python 3",
   "language": "python",
   "name": "python3"
  },
  "language_info": {
   "codemirror_mode": {
    "name": "ipython",
    "version": 3
   },
   "file_extension": ".py",
   "mimetype": "text/x-python",
   "name": "python",
   "nbconvert_exporter": "python",
   "pygments_lexer": "ipython3",
   "version": "3.8.8"
  }
 },
 "nbformat": 4,
 "nbformat_minor": 5
}
