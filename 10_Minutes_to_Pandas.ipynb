{
 "cells": [
  {
   "cell_type": "markdown",
   "id": "f7d16df6",
   "metadata": {},
   "source": [
    "\n",
    "<img src=\"https://raw.githubusercontent.com/dataitgirls2/10minutes2pandas/master/_layouts/og_image_trsp.png\" width=\"60%\">\n",
    "\n",
    ">[Pandas 10분 완성](https://dataitgirls2.github.io/10minutes2pandas/)\n",
    "> 1. Object Creation (객체 생성)\n",
    "> 2. Viewing Data (데이터 확인하기)\n",
    "> 3. Selection (선택)\n",
    "> 4. Missing Data (결측치)\n",
    "> 5. Operation (연산)\n",
    "> 6. Merge (병합)\n",
    "> 7. Grouping (그룹화)\n",
    "> 8. Reshaping (변형)\n",
    "> 9. Time Series (시계열)\n",
    "> 10. Categoricals (범주화)\n",
    "> 11. Plotting (그래프)\n",
    "> 12. Getting Data In / Out (데이터 입 / 출력)\n",
    "> 13. Gotchas (잡았다!)"
   ]
  },
  {
   "cell_type": "code",
   "execution_count": 1,
   "id": "94e0976c",
   "metadata": {},
   "outputs": [],
   "source": [
    "import pandas as pd\n",
    "import numpy as np\n",
    "import matplotlib.pyplot as plt"
   ]
  },
  {
   "cell_type": "markdown",
   "id": "430b25ef",
   "metadata": {},
   "source": [
    "## Object Creation (객체 생성)\n",
    "> *[데이터 구조 소개 섹션](https://pandas.pydata.org/pandas-docs/stable/user_guide/dsintro.html) 을 참조*</br>\n",
    ">\n",
    ">Pandas는 값을 가지고 있는 리스트를 통해 Series를 만들고, 정수로 만들어진 인덱스를 기본값으로 불러올 것입니다."
   ]
  },
  {
   "cell_type": "code",
   "execution_count": 2,
   "id": "5896fe6e",
   "metadata": {
    "scrolled": false
   },
   "outputs": [
    {
     "data": {
      "text/plain": [
       "0    1.0\n",
       "1    3.0\n",
       "2    5.0\n",
       "3    NaN\n",
       "4    6.0\n",
       "5    8.0\n",
       "dtype: float64"
      ]
     },
     "execution_count": 2,
     "metadata": {},
     "output_type": "execute_result"
    }
   ],
   "source": [
    "s = pd.Series([1, 3, 5,np.nan, 6, 8])\n",
    "s"
   ]
  },
  {
   "cell_type": "markdown",
   "id": "b8240ac0",
   "metadata": {},
   "source": [
    ">datetime 인덱스와 레이블이 있는 열을 가지고 있는 numpy 배열을 전달하여 데이터프레임을 만듭니다."
   ]
  },
  {
   "cell_type": "code",
   "execution_count": 3,
   "id": "ee3f0b08",
   "metadata": {},
   "outputs": [
    {
     "data": {
      "text/plain": [
       "DatetimeIndex(['2013-01-01', '2013-01-02', '2013-01-03', '2013-01-04',\n",
       "               '2013-01-05', '2013-01-06'],\n",
       "              dtype='datetime64[ns]', freq='D')"
      ]
     },
     "execution_count": 3,
     "metadata": {},
     "output_type": "execute_result"
    }
   ],
   "source": [
    "dates = pd.date_range('20130101', periods=6)\n",
    "dates"
   ]
  },
  {
   "cell_type": "code",
   "execution_count": 4,
   "id": "eb8d399a",
   "metadata": {
    "scrolled": true
   },
   "outputs": [
    {
     "data": {
      "text/html": [
       "<div>\n",
       "<style scoped>\n",
       "    .dataframe tbody tr th:only-of-type {\n",
       "        vertical-align: middle;\n",
       "    }\n",
       "\n",
       "    .dataframe tbody tr th {\n",
       "        vertical-align: top;\n",
       "    }\n",
       "\n",
       "    .dataframe thead th {\n",
       "        text-align: right;\n",
       "    }\n",
       "</style>\n",
       "<table border=\"1\" class=\"dataframe\">\n",
       "  <thead>\n",
       "    <tr style=\"text-align: right;\">\n",
       "      <th></th>\n",
       "      <th>A</th>\n",
       "      <th>B</th>\n",
       "      <th>C</th>\n",
       "      <th>D</th>\n",
       "    </tr>\n",
       "  </thead>\n",
       "  <tbody>\n",
       "    <tr>\n",
       "      <th>2013-01-01</th>\n",
       "      <td>0.785347</td>\n",
       "      <td>0.574925</td>\n",
       "      <td>-0.676452</td>\n",
       "      <td>1.813467</td>\n",
       "    </tr>\n",
       "    <tr>\n",
       "      <th>2013-01-02</th>\n",
       "      <td>-0.257480</td>\n",
       "      <td>-0.100852</td>\n",
       "      <td>-0.784089</td>\n",
       "      <td>0.151827</td>\n",
       "    </tr>\n",
       "    <tr>\n",
       "      <th>2013-01-03</th>\n",
       "      <td>-1.580742</td>\n",
       "      <td>0.080017</td>\n",
       "      <td>2.600976</td>\n",
       "      <td>2.022480</td>\n",
       "    </tr>\n",
       "    <tr>\n",
       "      <th>2013-01-04</th>\n",
       "      <td>1.026957</td>\n",
       "      <td>-0.587041</td>\n",
       "      <td>1.167862</td>\n",
       "      <td>-0.989285</td>\n",
       "    </tr>\n",
       "    <tr>\n",
       "      <th>2013-01-05</th>\n",
       "      <td>2.339449</td>\n",
       "      <td>0.110415</td>\n",
       "      <td>0.381784</td>\n",
       "      <td>0.437112</td>\n",
       "    </tr>\n",
       "    <tr>\n",
       "      <th>2013-01-06</th>\n",
       "      <td>1.293271</td>\n",
       "      <td>0.855742</td>\n",
       "      <td>-0.126445</td>\n",
       "      <td>0.393147</td>\n",
       "    </tr>\n",
       "  </tbody>\n",
       "</table>\n",
       "</div>"
      ],
      "text/plain": [
       "                   A         B         C         D\n",
       "2013-01-01  0.785347  0.574925 -0.676452  1.813467\n",
       "2013-01-02 -0.257480 -0.100852 -0.784089  0.151827\n",
       "2013-01-03 -1.580742  0.080017  2.600976  2.022480\n",
       "2013-01-04  1.026957 -0.587041  1.167862 -0.989285\n",
       "2013-01-05  2.339449  0.110415  0.381784  0.437112\n",
       "2013-01-06  1.293271  0.855742 -0.126445  0.393147"
      ]
     },
     "execution_count": 4,
     "metadata": {},
     "output_type": "execute_result"
    }
   ],
   "source": [
    "df = pd.DataFrame(np.random.randn(6,4), index=dates, columns=list('ABCD'))\n",
    "df"
   ]
  },
  {
   "cell_type": "markdown",
   "id": "6da5f2e4",
   "metadata": {},
   "source": [
    "> Series와 같은 것으로 변환될 수 있는 객체들의 dict로 구성된 데이터프레임을 만듭니다."
   ]
  },
  {
   "cell_type": "code",
   "execution_count": 5,
   "id": "e21203a8",
   "metadata": {},
   "outputs": [
    {
     "data": {
      "text/html": [
       "<div>\n",
       "<style scoped>\n",
       "    .dataframe tbody tr th:only-of-type {\n",
       "        vertical-align: middle;\n",
       "    }\n",
       "\n",
       "    .dataframe tbody tr th {\n",
       "        vertical-align: top;\n",
       "    }\n",
       "\n",
       "    .dataframe thead th {\n",
       "        text-align: right;\n",
       "    }\n",
       "</style>\n",
       "<table border=\"1\" class=\"dataframe\">\n",
       "  <thead>\n",
       "    <tr style=\"text-align: right;\">\n",
       "      <th></th>\n",
       "      <th>A</th>\n",
       "      <th>B</th>\n",
       "      <th>C</th>\n",
       "      <th>D</th>\n",
       "      <th>E</th>\n",
       "      <th>F</th>\n",
       "    </tr>\n",
       "  </thead>\n",
       "  <tbody>\n",
       "    <tr>\n",
       "      <th>0</th>\n",
       "      <td>1.0</td>\n",
       "      <td>2013-01-02</td>\n",
       "      <td>1.0</td>\n",
       "      <td>3</td>\n",
       "      <td>test</td>\n",
       "      <td>foo</td>\n",
       "    </tr>\n",
       "    <tr>\n",
       "      <th>1</th>\n",
       "      <td>1.0</td>\n",
       "      <td>2013-01-02</td>\n",
       "      <td>1.0</td>\n",
       "      <td>3</td>\n",
       "      <td>train</td>\n",
       "      <td>foo</td>\n",
       "    </tr>\n",
       "    <tr>\n",
       "      <th>2</th>\n",
       "      <td>1.0</td>\n",
       "      <td>2013-01-02</td>\n",
       "      <td>1.0</td>\n",
       "      <td>3</td>\n",
       "      <td>test</td>\n",
       "      <td>foo</td>\n",
       "    </tr>\n",
       "    <tr>\n",
       "      <th>3</th>\n",
       "      <td>1.0</td>\n",
       "      <td>2013-01-02</td>\n",
       "      <td>1.0</td>\n",
       "      <td>3</td>\n",
       "      <td>train</td>\n",
       "      <td>foo</td>\n",
       "    </tr>\n",
       "  </tbody>\n",
       "</table>\n",
       "</div>"
      ],
      "text/plain": [
       "     A          B    C  D      E    F\n",
       "0  1.0 2013-01-02  1.0  3   test  foo\n",
       "1  1.0 2013-01-02  1.0  3  train  foo\n",
       "2  1.0 2013-01-02  1.0  3   test  foo\n",
       "3  1.0 2013-01-02  1.0  3  train  foo"
      ]
     },
     "execution_count": 5,
     "metadata": {},
     "output_type": "execute_result"
    }
   ],
   "source": [
    "df2 = pd.DataFrame({'A' : 1.,\n",
    "                    'B' : pd.Timestamp('20130102'),\n",
    "                    'C' : pd.Series(1, index=list(range(4)), dtype='float32'),\n",
    "                    'D' : np.array([3]  * 4, dtype='int32'),\n",
    "                    'E' : pd.Categorical(['test', 'train', 'test', 'train']),\n",
    "                    'F' : 'foo' })\n",
    "df2"
   ]
  },
  {
   "cell_type": "code",
   "execution_count": 6,
   "id": "2f28ad5e",
   "metadata": {},
   "outputs": [
    {
     "data": {
      "text/plain": [
       "A           float64\n",
       "B    datetime64[ns]\n",
       "C           float32\n",
       "D             int32\n",
       "E          category\n",
       "F            object\n",
       "dtype: object"
      ]
     },
     "execution_count": 6,
     "metadata": {},
     "output_type": "execute_result"
    }
   ],
   "source": [
    "df2.dtypes"
   ]
  },
  {
   "cell_type": "markdown",
   "id": "f8720545",
   "metadata": {},
   "source": [
    "## Viewing Data (데이터 확인하기)\n",
    ">[Basic Section](https://pandas.pydata.org/pandas-docs/stable/user_guide/basics.html)을 참조"
   ]
  },
  {
   "cell_type": "code",
   "execution_count": 7,
   "id": "dfa6ffd7",
   "metadata": {},
   "outputs": [
    {
     "data": {
      "text/html": [
       "<div>\n",
       "<style scoped>\n",
       "    .dataframe tbody tr th:only-of-type {\n",
       "        vertical-align: middle;\n",
       "    }\n",
       "\n",
       "    .dataframe tbody tr th {\n",
       "        vertical-align: top;\n",
       "    }\n",
       "\n",
       "    .dataframe thead th {\n",
       "        text-align: right;\n",
       "    }\n",
       "</style>\n",
       "<table border=\"1\" class=\"dataframe\">\n",
       "  <thead>\n",
       "    <tr style=\"text-align: right;\">\n",
       "      <th></th>\n",
       "      <th>A</th>\n",
       "      <th>B</th>\n",
       "      <th>C</th>\n",
       "      <th>D</th>\n",
       "    </tr>\n",
       "  </thead>\n",
       "  <tbody>\n",
       "    <tr>\n",
       "      <th>2013-01-01</th>\n",
       "      <td>0.785347</td>\n",
       "      <td>0.574925</td>\n",
       "      <td>-0.676452</td>\n",
       "      <td>1.813467</td>\n",
       "    </tr>\n",
       "    <tr>\n",
       "      <th>2013-01-02</th>\n",
       "      <td>-0.257480</td>\n",
       "      <td>-0.100852</td>\n",
       "      <td>-0.784089</td>\n",
       "      <td>0.151827</td>\n",
       "    </tr>\n",
       "    <tr>\n",
       "      <th>2013-01-03</th>\n",
       "      <td>-1.580742</td>\n",
       "      <td>0.080017</td>\n",
       "      <td>2.600976</td>\n",
       "      <td>2.022480</td>\n",
       "    </tr>\n",
       "    <tr>\n",
       "      <th>2013-01-04</th>\n",
       "      <td>1.026957</td>\n",
       "      <td>-0.587041</td>\n",
       "      <td>1.167862</td>\n",
       "      <td>-0.989285</td>\n",
       "    </tr>\n",
       "    <tr>\n",
       "      <th>2013-01-05</th>\n",
       "      <td>2.339449</td>\n",
       "      <td>0.110415</td>\n",
       "      <td>0.381784</td>\n",
       "      <td>0.437112</td>\n",
       "    </tr>\n",
       "  </tbody>\n",
       "</table>\n",
       "</div>"
      ],
      "text/plain": [
       "                   A         B         C         D\n",
       "2013-01-01  0.785347  0.574925 -0.676452  1.813467\n",
       "2013-01-02 -0.257480 -0.100852 -0.784089  0.151827\n",
       "2013-01-03 -1.580742  0.080017  2.600976  2.022480\n",
       "2013-01-04  1.026957 -0.587041  1.167862 -0.989285\n",
       "2013-01-05  2.339449  0.110415  0.381784  0.437112"
      ]
     },
     "execution_count": 7,
     "metadata": {},
     "output_type": "execute_result"
    }
   ],
   "source": [
    "df.head()"
   ]
  },
  {
   "cell_type": "code",
   "execution_count": 8,
   "id": "266b46be",
   "metadata": {},
   "outputs": [
    {
     "data": {
      "text/html": [
       "<div>\n",
       "<style scoped>\n",
       "    .dataframe tbody tr th:only-of-type {\n",
       "        vertical-align: middle;\n",
       "    }\n",
       "\n",
       "    .dataframe tbody tr th {\n",
       "        vertical-align: top;\n",
       "    }\n",
       "\n",
       "    .dataframe thead th {\n",
       "        text-align: right;\n",
       "    }\n",
       "</style>\n",
       "<table border=\"1\" class=\"dataframe\">\n",
       "  <thead>\n",
       "    <tr style=\"text-align: right;\">\n",
       "      <th></th>\n",
       "      <th>A</th>\n",
       "      <th>B</th>\n",
       "      <th>C</th>\n",
       "      <th>D</th>\n",
       "    </tr>\n",
       "  </thead>\n",
       "  <tbody>\n",
       "    <tr>\n",
       "      <th>2013-01-02</th>\n",
       "      <td>-0.257480</td>\n",
       "      <td>-0.100852</td>\n",
       "      <td>-0.784089</td>\n",
       "      <td>0.151827</td>\n",
       "    </tr>\n",
       "    <tr>\n",
       "      <th>2013-01-03</th>\n",
       "      <td>-1.580742</td>\n",
       "      <td>0.080017</td>\n",
       "      <td>2.600976</td>\n",
       "      <td>2.022480</td>\n",
       "    </tr>\n",
       "    <tr>\n",
       "      <th>2013-01-04</th>\n",
       "      <td>1.026957</td>\n",
       "      <td>-0.587041</td>\n",
       "      <td>1.167862</td>\n",
       "      <td>-0.989285</td>\n",
       "    </tr>\n",
       "    <tr>\n",
       "      <th>2013-01-05</th>\n",
       "      <td>2.339449</td>\n",
       "      <td>0.110415</td>\n",
       "      <td>0.381784</td>\n",
       "      <td>0.437112</td>\n",
       "    </tr>\n",
       "    <tr>\n",
       "      <th>2013-01-06</th>\n",
       "      <td>1.293271</td>\n",
       "      <td>0.855742</td>\n",
       "      <td>-0.126445</td>\n",
       "      <td>0.393147</td>\n",
       "    </tr>\n",
       "  </tbody>\n",
       "</table>\n",
       "</div>"
      ],
      "text/plain": [
       "                   A         B         C         D\n",
       "2013-01-02 -0.257480 -0.100852 -0.784089  0.151827\n",
       "2013-01-03 -1.580742  0.080017  2.600976  2.022480\n",
       "2013-01-04  1.026957 -0.587041  1.167862 -0.989285\n",
       "2013-01-05  2.339449  0.110415  0.381784  0.437112\n",
       "2013-01-06  1.293271  0.855742 -0.126445  0.393147"
      ]
     },
     "execution_count": 8,
     "metadata": {},
     "output_type": "execute_result"
    }
   ],
   "source": [
    "df.tail()"
   ]
  },
  {
   "cell_type": "code",
   "execution_count": 9,
   "id": "7d208c38",
   "metadata": {},
   "outputs": [
    {
     "data": {
      "text/plain": [
       "DatetimeIndex(['2013-01-01', '2013-01-02', '2013-01-03', '2013-01-04',\n",
       "               '2013-01-05', '2013-01-06'],\n",
       "              dtype='datetime64[ns]', freq='D')"
      ]
     },
     "execution_count": 9,
     "metadata": {},
     "output_type": "execute_result"
    }
   ],
   "source": [
    "df.index"
   ]
  },
  {
   "cell_type": "code",
   "execution_count": 10,
   "id": "4737d220",
   "metadata": {},
   "outputs": [
    {
     "data": {
      "text/plain": [
       "Index(['A', 'B', 'C', 'D'], dtype='object')"
      ]
     },
     "execution_count": 10,
     "metadata": {},
     "output_type": "execute_result"
    }
   ],
   "source": [
    "df.columns"
   ]
  },
  {
   "cell_type": "code",
   "execution_count": 11,
   "id": "85d194f5",
   "metadata": {
    "scrolled": true
   },
   "outputs": [
    {
     "data": {
      "text/plain": [
       "array([[ 0.7853474 ,  0.57492478, -0.67645156,  1.81346717],\n",
       "       [-0.25747977, -0.10085236, -0.7840888 ,  0.15182715],\n",
       "       [-1.58074229,  0.08001677,  2.60097635,  2.02248013],\n",
       "       [ 1.02695658, -0.58704088,  1.16786166, -0.98928452],\n",
       "       [ 2.33944948,  0.11041531,  0.38178412,  0.43711213],\n",
       "       [ 1.29327129,  0.85574184, -0.12644472,  0.39314728]])"
      ]
     },
     "execution_count": 11,
     "metadata": {},
     "output_type": "execute_result"
    }
   ],
   "source": [
    "df.values"
   ]
  },
  {
   "cell_type": "code",
   "execution_count": 12,
   "id": "cd738b88",
   "metadata": {},
   "outputs": [
    {
     "data": {
      "text/html": [
       "<div>\n",
       "<style scoped>\n",
       "    .dataframe tbody tr th:only-of-type {\n",
       "        vertical-align: middle;\n",
       "    }\n",
       "\n",
       "    .dataframe tbody tr th {\n",
       "        vertical-align: top;\n",
       "    }\n",
       "\n",
       "    .dataframe thead th {\n",
       "        text-align: right;\n",
       "    }\n",
       "</style>\n",
       "<table border=\"1\" class=\"dataframe\">\n",
       "  <thead>\n",
       "    <tr style=\"text-align: right;\">\n",
       "      <th></th>\n",
       "      <th>A</th>\n",
       "      <th>B</th>\n",
       "      <th>C</th>\n",
       "      <th>D</th>\n",
       "    </tr>\n",
       "  </thead>\n",
       "  <tbody>\n",
       "    <tr>\n",
       "      <th>count</th>\n",
       "      <td>6.000000</td>\n",
       "      <td>6.000000</td>\n",
       "      <td>6.000000</td>\n",
       "      <td>6.000000</td>\n",
       "    </tr>\n",
       "    <tr>\n",
       "      <th>mean</th>\n",
       "      <td>0.601134</td>\n",
       "      <td>0.155534</td>\n",
       "      <td>0.427273</td>\n",
       "      <td>0.638125</td>\n",
       "    </tr>\n",
       "    <tr>\n",
       "      <th>std</th>\n",
       "      <td>1.357487</td>\n",
       "      <td>0.508148</td>\n",
       "      <td>1.285903</td>\n",
       "      <td>1.121003</td>\n",
       "    </tr>\n",
       "    <tr>\n",
       "      <th>min</th>\n",
       "      <td>-1.580742</td>\n",
       "      <td>-0.587041</td>\n",
       "      <td>-0.784089</td>\n",
       "      <td>-0.989285</td>\n",
       "    </tr>\n",
       "    <tr>\n",
       "      <th>25%</th>\n",
       "      <td>0.003227</td>\n",
       "      <td>-0.055635</td>\n",
       "      <td>-0.538950</td>\n",
       "      <td>0.212157</td>\n",
       "    </tr>\n",
       "    <tr>\n",
       "      <th>50%</th>\n",
       "      <td>0.906152</td>\n",
       "      <td>0.095216</td>\n",
       "      <td>0.127670</td>\n",
       "      <td>0.415130</td>\n",
       "    </tr>\n",
       "    <tr>\n",
       "      <th>75%</th>\n",
       "      <td>1.226693</td>\n",
       "      <td>0.458797</td>\n",
       "      <td>0.971342</td>\n",
       "      <td>1.469378</td>\n",
       "    </tr>\n",
       "    <tr>\n",
       "      <th>max</th>\n",
       "      <td>2.339449</td>\n",
       "      <td>0.855742</td>\n",
       "      <td>2.600976</td>\n",
       "      <td>2.022480</td>\n",
       "    </tr>\n",
       "  </tbody>\n",
       "</table>\n",
       "</div>"
      ],
      "text/plain": [
       "              A         B         C         D\n",
       "count  6.000000  6.000000  6.000000  6.000000\n",
       "mean   0.601134  0.155534  0.427273  0.638125\n",
       "std    1.357487  0.508148  1.285903  1.121003\n",
       "min   -1.580742 -0.587041 -0.784089 -0.989285\n",
       "25%    0.003227 -0.055635 -0.538950  0.212157\n",
       "50%    0.906152  0.095216  0.127670  0.415130\n",
       "75%    1.226693  0.458797  0.971342  1.469378\n",
       "max    2.339449  0.855742  2.600976  2.022480"
      ]
     },
     "execution_count": 12,
     "metadata": {},
     "output_type": "execute_result"
    }
   ],
   "source": [
    "df.describe()"
   ]
  },
  {
   "cell_type": "markdown",
   "id": "c7c2e05d",
   "metadata": {},
   "source": [
    "> 행 과 열 전치."
   ]
  },
  {
   "cell_type": "code",
   "execution_count": 13,
   "id": "b1c07747",
   "metadata": {
    "scrolled": true
   },
   "outputs": [
    {
     "data": {
      "text/html": [
       "<div>\n",
       "<style scoped>\n",
       "    .dataframe tbody tr th:only-of-type {\n",
       "        vertical-align: middle;\n",
       "    }\n",
       "\n",
       "    .dataframe tbody tr th {\n",
       "        vertical-align: top;\n",
       "    }\n",
       "\n",
       "    .dataframe thead th {\n",
       "        text-align: right;\n",
       "    }\n",
       "</style>\n",
       "<table border=\"1\" class=\"dataframe\">\n",
       "  <thead>\n",
       "    <tr style=\"text-align: right;\">\n",
       "      <th></th>\n",
       "      <th>2013-01-01</th>\n",
       "      <th>2013-01-02</th>\n",
       "      <th>2013-01-03</th>\n",
       "      <th>2013-01-04</th>\n",
       "      <th>2013-01-05</th>\n",
       "      <th>2013-01-06</th>\n",
       "    </tr>\n",
       "  </thead>\n",
       "  <tbody>\n",
       "    <tr>\n",
       "      <th>A</th>\n",
       "      <td>0.785347</td>\n",
       "      <td>-0.257480</td>\n",
       "      <td>-1.580742</td>\n",
       "      <td>1.026957</td>\n",
       "      <td>2.339449</td>\n",
       "      <td>1.293271</td>\n",
       "    </tr>\n",
       "    <tr>\n",
       "      <th>B</th>\n",
       "      <td>0.574925</td>\n",
       "      <td>-0.100852</td>\n",
       "      <td>0.080017</td>\n",
       "      <td>-0.587041</td>\n",
       "      <td>0.110415</td>\n",
       "      <td>0.855742</td>\n",
       "    </tr>\n",
       "    <tr>\n",
       "      <th>C</th>\n",
       "      <td>-0.676452</td>\n",
       "      <td>-0.784089</td>\n",
       "      <td>2.600976</td>\n",
       "      <td>1.167862</td>\n",
       "      <td>0.381784</td>\n",
       "      <td>-0.126445</td>\n",
       "    </tr>\n",
       "    <tr>\n",
       "      <th>D</th>\n",
       "      <td>1.813467</td>\n",
       "      <td>0.151827</td>\n",
       "      <td>2.022480</td>\n",
       "      <td>-0.989285</td>\n",
       "      <td>0.437112</td>\n",
       "      <td>0.393147</td>\n",
       "    </tr>\n",
       "  </tbody>\n",
       "</table>\n",
       "</div>"
      ],
      "text/plain": [
       "   2013-01-01  2013-01-02  2013-01-03  2013-01-04  2013-01-05  2013-01-06\n",
       "A    0.785347   -0.257480   -1.580742    1.026957    2.339449    1.293271\n",
       "B    0.574925   -0.100852    0.080017   -0.587041    0.110415    0.855742\n",
       "C   -0.676452   -0.784089    2.600976    1.167862    0.381784   -0.126445\n",
       "D    1.813467    0.151827    2.022480   -0.989285    0.437112    0.393147"
      ]
     },
     "execution_count": 13,
     "metadata": {},
     "output_type": "execute_result"
    }
   ],
   "source": [
    "df.T"
   ]
  },
  {
   "cell_type": "markdown",
   "id": "68b91c3e",
   "metadata": {},
   "source": [
    "> 축 별 정렬"
   ]
  },
  {
   "cell_type": "code",
   "execution_count": 14,
   "id": "d8b713ce",
   "metadata": {
    "scrolled": true
   },
   "outputs": [
    {
     "data": {
      "text/html": [
       "<div>\n",
       "<style scoped>\n",
       "    .dataframe tbody tr th:only-of-type {\n",
       "        vertical-align: middle;\n",
       "    }\n",
       "\n",
       "    .dataframe tbody tr th {\n",
       "        vertical-align: top;\n",
       "    }\n",
       "\n",
       "    .dataframe thead th {\n",
       "        text-align: right;\n",
       "    }\n",
       "</style>\n",
       "<table border=\"1\" class=\"dataframe\">\n",
       "  <thead>\n",
       "    <tr style=\"text-align: right;\">\n",
       "      <th></th>\n",
       "      <th>D</th>\n",
       "      <th>C</th>\n",
       "      <th>B</th>\n",
       "      <th>A</th>\n",
       "    </tr>\n",
       "  </thead>\n",
       "  <tbody>\n",
       "    <tr>\n",
       "      <th>2013-01-01</th>\n",
       "      <td>1.813467</td>\n",
       "      <td>-0.676452</td>\n",
       "      <td>0.574925</td>\n",
       "      <td>0.785347</td>\n",
       "    </tr>\n",
       "    <tr>\n",
       "      <th>2013-01-02</th>\n",
       "      <td>0.151827</td>\n",
       "      <td>-0.784089</td>\n",
       "      <td>-0.100852</td>\n",
       "      <td>-0.257480</td>\n",
       "    </tr>\n",
       "    <tr>\n",
       "      <th>2013-01-03</th>\n",
       "      <td>2.022480</td>\n",
       "      <td>2.600976</td>\n",
       "      <td>0.080017</td>\n",
       "      <td>-1.580742</td>\n",
       "    </tr>\n",
       "    <tr>\n",
       "      <th>2013-01-04</th>\n",
       "      <td>-0.989285</td>\n",
       "      <td>1.167862</td>\n",
       "      <td>-0.587041</td>\n",
       "      <td>1.026957</td>\n",
       "    </tr>\n",
       "    <tr>\n",
       "      <th>2013-01-05</th>\n",
       "      <td>0.437112</td>\n",
       "      <td>0.381784</td>\n",
       "      <td>0.110415</td>\n",
       "      <td>2.339449</td>\n",
       "    </tr>\n",
       "    <tr>\n",
       "      <th>2013-01-06</th>\n",
       "      <td>0.393147</td>\n",
       "      <td>-0.126445</td>\n",
       "      <td>0.855742</td>\n",
       "      <td>1.293271</td>\n",
       "    </tr>\n",
       "  </tbody>\n",
       "</table>\n",
       "</div>"
      ],
      "text/plain": [
       "                   D         C         B         A\n",
       "2013-01-01  1.813467 -0.676452  0.574925  0.785347\n",
       "2013-01-02  0.151827 -0.784089 -0.100852 -0.257480\n",
       "2013-01-03  2.022480  2.600976  0.080017 -1.580742\n",
       "2013-01-04 -0.989285  1.167862 -0.587041  1.026957\n",
       "2013-01-05  0.437112  0.381784  0.110415  2.339449\n",
       "2013-01-06  0.393147 -0.126445  0.855742  1.293271"
      ]
     },
     "execution_count": 14,
     "metadata": {},
     "output_type": "execute_result"
    }
   ],
   "source": [
    "df.sort_index(axis=1, ascending=False)"
   ]
  },
  {
   "cell_type": "markdown",
   "id": "6b087637",
   "metadata": {},
   "source": [
    "> 값 별 정렬"
   ]
  },
  {
   "cell_type": "code",
   "execution_count": 15,
   "id": "fddd16b9",
   "metadata": {
    "scrolled": true
   },
   "outputs": [
    {
     "data": {
      "text/html": [
       "<div>\n",
       "<style scoped>\n",
       "    .dataframe tbody tr th:only-of-type {\n",
       "        vertical-align: middle;\n",
       "    }\n",
       "\n",
       "    .dataframe tbody tr th {\n",
       "        vertical-align: top;\n",
       "    }\n",
       "\n",
       "    .dataframe thead th {\n",
       "        text-align: right;\n",
       "    }\n",
       "</style>\n",
       "<table border=\"1\" class=\"dataframe\">\n",
       "  <thead>\n",
       "    <tr style=\"text-align: right;\">\n",
       "      <th></th>\n",
       "      <th>A</th>\n",
       "      <th>B</th>\n",
       "      <th>C</th>\n",
       "      <th>D</th>\n",
       "    </tr>\n",
       "  </thead>\n",
       "  <tbody>\n",
       "    <tr>\n",
       "      <th>2013-01-04</th>\n",
       "      <td>1.026957</td>\n",
       "      <td>-0.587041</td>\n",
       "      <td>1.167862</td>\n",
       "      <td>-0.989285</td>\n",
       "    </tr>\n",
       "    <tr>\n",
       "      <th>2013-01-02</th>\n",
       "      <td>-0.257480</td>\n",
       "      <td>-0.100852</td>\n",
       "      <td>-0.784089</td>\n",
       "      <td>0.151827</td>\n",
       "    </tr>\n",
       "    <tr>\n",
       "      <th>2013-01-03</th>\n",
       "      <td>-1.580742</td>\n",
       "      <td>0.080017</td>\n",
       "      <td>2.600976</td>\n",
       "      <td>2.022480</td>\n",
       "    </tr>\n",
       "    <tr>\n",
       "      <th>2013-01-05</th>\n",
       "      <td>2.339449</td>\n",
       "      <td>0.110415</td>\n",
       "      <td>0.381784</td>\n",
       "      <td>0.437112</td>\n",
       "    </tr>\n",
       "    <tr>\n",
       "      <th>2013-01-01</th>\n",
       "      <td>0.785347</td>\n",
       "      <td>0.574925</td>\n",
       "      <td>-0.676452</td>\n",
       "      <td>1.813467</td>\n",
       "    </tr>\n",
       "    <tr>\n",
       "      <th>2013-01-06</th>\n",
       "      <td>1.293271</td>\n",
       "      <td>0.855742</td>\n",
       "      <td>-0.126445</td>\n",
       "      <td>0.393147</td>\n",
       "    </tr>\n",
       "  </tbody>\n",
       "</table>\n",
       "</div>"
      ],
      "text/plain": [
       "                   A         B         C         D\n",
       "2013-01-04  1.026957 -0.587041  1.167862 -0.989285\n",
       "2013-01-02 -0.257480 -0.100852 -0.784089  0.151827\n",
       "2013-01-03 -1.580742  0.080017  2.600976  2.022480\n",
       "2013-01-05  2.339449  0.110415  0.381784  0.437112\n",
       "2013-01-01  0.785347  0.574925 -0.676452  1.813467\n",
       "2013-01-06  1.293271  0.855742 -0.126445  0.393147"
      ]
     },
     "execution_count": 15,
     "metadata": {},
     "output_type": "execute_result"
    }
   ],
   "source": [
    "df.sort_values(by='B')"
   ]
  },
  {
   "cell_type": "markdown",
   "id": "001b23a6",
   "metadata": {},
   "source": [
    "## Selection (선택)\n",
    "> 주석 (Note) : 선택과 설정을 위한 Python / Numpy의 표준화된 표현들이 직관적\n",
    "\n",
    "> 코드 작성을 위한 양방향 작업에 유용하지만 Pandas에 최적화된 데이터 접근 방법인 <u>\"*.at, .iat, .loc 및 .iloc*\"</u> 을 추천\n",
    ">\n",
    "> *[데이터 인덱싱 및 선택](https://pandas.pydata.org/pandas-docs/stable/user_guide/indexing.html) 문서와 [다중 인덱싱 / 심화 인덱싱 문서](https://pandas.pydata.org/pandas-docs/stable/user_guide/advanced.html)를 참조*\n",
    "### Getting (데이터 얻기)\n",
    "> df.A 와 동일한 Series를 생성하는 단일의 열 선택"
   ]
  },
  {
   "cell_type": "code",
   "execution_count": 16,
   "id": "945c928e",
   "metadata": {
    "scrolled": true
   },
   "outputs": [
    {
     "data": {
      "text/plain": [
       "2013-01-01    0.785347\n",
       "2013-01-02   -0.257480\n",
       "2013-01-03   -1.580742\n",
       "2013-01-04    1.026957\n",
       "2013-01-05    2.339449\n",
       "2013-01-06    1.293271\n",
       "Freq: D, Name: A, dtype: float64"
      ]
     },
     "execution_count": 16,
     "metadata": {},
     "output_type": "execute_result"
    }
   ],
   "source": [
    "df['A']"
   ]
  },
  {
   "cell_type": "markdown",
   "id": "5fb969d9",
   "metadata": {},
   "source": [
    "> row indexing"
   ]
  },
  {
   "cell_type": "code",
   "execution_count": 17,
   "id": "de32718e",
   "metadata": {
    "scrolled": true
   },
   "outputs": [
    {
     "data": {
      "text/html": [
       "<div>\n",
       "<style scoped>\n",
       "    .dataframe tbody tr th:only-of-type {\n",
       "        vertical-align: middle;\n",
       "    }\n",
       "\n",
       "    .dataframe tbody tr th {\n",
       "        vertical-align: top;\n",
       "    }\n",
       "\n",
       "    .dataframe thead th {\n",
       "        text-align: right;\n",
       "    }\n",
       "</style>\n",
       "<table border=\"1\" class=\"dataframe\">\n",
       "  <thead>\n",
       "    <tr style=\"text-align: right;\">\n",
       "      <th></th>\n",
       "      <th>A</th>\n",
       "      <th>B</th>\n",
       "      <th>C</th>\n",
       "      <th>D</th>\n",
       "    </tr>\n",
       "  </thead>\n",
       "  <tbody>\n",
       "    <tr>\n",
       "      <th>2013-01-01</th>\n",
       "      <td>0.785347</td>\n",
       "      <td>0.574925</td>\n",
       "      <td>-0.676452</td>\n",
       "      <td>1.813467</td>\n",
       "    </tr>\n",
       "    <tr>\n",
       "      <th>2013-01-02</th>\n",
       "      <td>-0.257480</td>\n",
       "      <td>-0.100852</td>\n",
       "      <td>-0.784089</td>\n",
       "      <td>0.151827</td>\n",
       "    </tr>\n",
       "    <tr>\n",
       "      <th>2013-01-03</th>\n",
       "      <td>-1.580742</td>\n",
       "      <td>0.080017</td>\n",
       "      <td>2.600976</td>\n",
       "      <td>2.022480</td>\n",
       "    </tr>\n",
       "  </tbody>\n",
       "</table>\n",
       "</div>"
      ],
      "text/plain": [
       "                   A         B         C         D\n",
       "2013-01-01  0.785347  0.574925 -0.676452  1.813467\n",
       "2013-01-02 -0.257480 -0.100852 -0.784089  0.151827\n",
       "2013-01-03 -1.580742  0.080017  2.600976  2.022480"
      ]
     },
     "execution_count": 17,
     "metadata": {},
     "output_type": "execute_result"
    }
   ],
   "source": [
    "df[0:3]"
   ]
  },
  {
   "cell_type": "code",
   "execution_count": 18,
   "id": "e4f8a542",
   "metadata": {
    "scrolled": true
   },
   "outputs": [
    {
     "data": {
      "text/html": [
       "<div>\n",
       "<style scoped>\n",
       "    .dataframe tbody tr th:only-of-type {\n",
       "        vertical-align: middle;\n",
       "    }\n",
       "\n",
       "    .dataframe tbody tr th {\n",
       "        vertical-align: top;\n",
       "    }\n",
       "\n",
       "    .dataframe thead th {\n",
       "        text-align: right;\n",
       "    }\n",
       "</style>\n",
       "<table border=\"1\" class=\"dataframe\">\n",
       "  <thead>\n",
       "    <tr style=\"text-align: right;\">\n",
       "      <th></th>\n",
       "      <th>A</th>\n",
       "      <th>B</th>\n",
       "      <th>C</th>\n",
       "      <th>D</th>\n",
       "    </tr>\n",
       "  </thead>\n",
       "  <tbody>\n",
       "    <tr>\n",
       "      <th>2013-01-02</th>\n",
       "      <td>-0.257480</td>\n",
       "      <td>-0.100852</td>\n",
       "      <td>-0.784089</td>\n",
       "      <td>0.151827</td>\n",
       "    </tr>\n",
       "    <tr>\n",
       "      <th>2013-01-03</th>\n",
       "      <td>-1.580742</td>\n",
       "      <td>0.080017</td>\n",
       "      <td>2.600976</td>\n",
       "      <td>2.022480</td>\n",
       "    </tr>\n",
       "    <tr>\n",
       "      <th>2013-01-04</th>\n",
       "      <td>1.026957</td>\n",
       "      <td>-0.587041</td>\n",
       "      <td>1.167862</td>\n",
       "      <td>-0.989285</td>\n",
       "    </tr>\n",
       "  </tbody>\n",
       "</table>\n",
       "</div>"
      ],
      "text/plain": [
       "                   A         B         C         D\n",
       "2013-01-02 -0.257480 -0.100852 -0.784089  0.151827\n",
       "2013-01-03 -1.580742  0.080017  2.600976  2.022480\n",
       "2013-01-04  1.026957 -0.587041  1.167862 -0.989285"
      ]
     },
     "execution_count": 18,
     "metadata": {},
     "output_type": "execute_result"
    }
   ],
   "source": [
    "df['20130102':'20130104']"
   ]
  },
  {
   "cell_type": "markdown",
   "id": "23bb6ce8",
   "metadata": {},
   "source": [
    "### Selection by Label (Label 을 통한 선택) loc[]\n",
    "> *[Label을 통한 선택](https://pandas.pydata.org/pandas-docs/stable/user_guide/indexing.html) 참조*\n",
    ">\n",
    "> loc indexing (dates는 위에서 row 인덱스로 지정)"
   ]
  },
  {
   "cell_type": "code",
   "execution_count": 19,
   "id": "f269abd8",
   "metadata": {
    "scrolled": true
   },
   "outputs": [
    {
     "data": {
      "text/plain": [
       "A    0.785347\n",
       "B    0.574925\n",
       "C   -0.676452\n",
       "D    1.813467\n",
       "Name: 2013-01-01 00:00:00, dtype: float64"
      ]
     },
     "execution_count": 19,
     "metadata": {},
     "output_type": "execute_result"
    }
   ],
   "source": [
    "df.loc[dates[0]]"
   ]
  },
  {
   "cell_type": "markdown",
   "id": "995aea0c",
   "metadata": {},
   "source": [
    "> loc 라벨을 사용하여 다중 column 가져오기"
   ]
  },
  {
   "cell_type": "code",
   "execution_count": 20,
   "id": "42b36a2f",
   "metadata": {},
   "outputs": [
    {
     "data": {
      "text/html": [
       "<div>\n",
       "<style scoped>\n",
       "    .dataframe tbody tr th:only-of-type {\n",
       "        vertical-align: middle;\n",
       "    }\n",
       "\n",
       "    .dataframe tbody tr th {\n",
       "        vertical-align: top;\n",
       "    }\n",
       "\n",
       "    .dataframe thead th {\n",
       "        text-align: right;\n",
       "    }\n",
       "</style>\n",
       "<table border=\"1\" class=\"dataframe\">\n",
       "  <thead>\n",
       "    <tr style=\"text-align: right;\">\n",
       "      <th></th>\n",
       "      <th>A</th>\n",
       "      <th>B</th>\n",
       "    </tr>\n",
       "  </thead>\n",
       "  <tbody>\n",
       "    <tr>\n",
       "      <th>2013-01-01</th>\n",
       "      <td>0.785347</td>\n",
       "      <td>0.574925</td>\n",
       "    </tr>\n",
       "    <tr>\n",
       "      <th>2013-01-02</th>\n",
       "      <td>-0.257480</td>\n",
       "      <td>-0.100852</td>\n",
       "    </tr>\n",
       "    <tr>\n",
       "      <th>2013-01-03</th>\n",
       "      <td>-1.580742</td>\n",
       "      <td>0.080017</td>\n",
       "    </tr>\n",
       "    <tr>\n",
       "      <th>2013-01-04</th>\n",
       "      <td>1.026957</td>\n",
       "      <td>-0.587041</td>\n",
       "    </tr>\n",
       "    <tr>\n",
       "      <th>2013-01-05</th>\n",
       "      <td>2.339449</td>\n",
       "      <td>0.110415</td>\n",
       "    </tr>\n",
       "    <tr>\n",
       "      <th>2013-01-06</th>\n",
       "      <td>1.293271</td>\n",
       "      <td>0.855742</td>\n",
       "    </tr>\n",
       "  </tbody>\n",
       "</table>\n",
       "</div>"
      ],
      "text/plain": [
       "                   A         B\n",
       "2013-01-01  0.785347  0.574925\n",
       "2013-01-02 -0.257480 -0.100852\n",
       "2013-01-03 -1.580742  0.080017\n",
       "2013-01-04  1.026957 -0.587041\n",
       "2013-01-05  2.339449  0.110415\n",
       "2013-01-06  1.293271  0.855742"
      ]
     },
     "execution_count": 20,
     "metadata": {},
     "output_type": "execute_result"
    }
   ],
   "source": [
    "df.loc[:, ['A', 'B']]"
   ]
  },
  {
   "cell_type": "markdown",
   "id": "f7c0bdaa",
   "metadata": {},
   "source": [
    "> row 는 인덱싱 column 은 지정하는 형식 (test. 2번째줄의 결과는 같다.)"
   ]
  },
  {
   "cell_type": "code",
   "execution_count": 21,
   "id": "729a9f3b",
   "metadata": {},
   "outputs": [
    {
     "data": {
      "text/html": [
       "<div>\n",
       "<style scoped>\n",
       "    .dataframe tbody tr th:only-of-type {\n",
       "        vertical-align: middle;\n",
       "    }\n",
       "\n",
       "    .dataframe tbody tr th {\n",
       "        vertical-align: top;\n",
       "    }\n",
       "\n",
       "    .dataframe thead th {\n",
       "        text-align: right;\n",
       "    }\n",
       "</style>\n",
       "<table border=\"1\" class=\"dataframe\">\n",
       "  <thead>\n",
       "    <tr style=\"text-align: right;\">\n",
       "      <th></th>\n",
       "      <th>A</th>\n",
       "      <th>B</th>\n",
       "    </tr>\n",
       "  </thead>\n",
       "  <tbody>\n",
       "    <tr>\n",
       "      <th>2013-01-02</th>\n",
       "      <td>-0.257480</td>\n",
       "      <td>-0.100852</td>\n",
       "    </tr>\n",
       "    <tr>\n",
       "      <th>2013-01-03</th>\n",
       "      <td>-1.580742</td>\n",
       "      <td>0.080017</td>\n",
       "    </tr>\n",
       "    <tr>\n",
       "      <th>2013-01-04</th>\n",
       "      <td>1.026957</td>\n",
       "      <td>-0.587041</td>\n",
       "    </tr>\n",
       "  </tbody>\n",
       "</table>\n",
       "</div>"
      ],
      "text/plain": [
       "                   A         B\n",
       "2013-01-02 -0.257480 -0.100852\n",
       "2013-01-03 -1.580742  0.080017\n",
       "2013-01-04  1.026957 -0.587041"
      ]
     },
     "execution_count": 21,
     "metadata": {},
     "output_type": "execute_result"
    }
   ],
   "source": [
    "df.loc['20130102' : '20130104', ['A', 'B']]\n",
    "# df.loc['20130102' : '20130104', 'A' : 'B']"
   ]
  },
  {
   "cell_type": "markdown",
   "id": "1c6740bd",
   "metadata": {},
   "source": [
    "> 반환되는 객체의 차원를 줄입니다. (type = pandas.core.series.Series)"
   ]
  },
  {
   "cell_type": "code",
   "execution_count": 22,
   "id": "496d4625",
   "metadata": {
    "scrolled": false
   },
   "outputs": [
    {
     "data": {
      "text/plain": [
       "A   -0.257480\n",
       "B   -0.100852\n",
       "Name: 2013-01-02 00:00:00, dtype: float64"
      ]
     },
     "execution_count": 22,
     "metadata": {},
     "output_type": "execute_result"
    }
   ],
   "source": [
    "df.loc['20130102',['A','B']]"
   ]
  },
  {
   "cell_type": "markdown",
   "id": "e9019305",
   "metadata": {},
   "source": [
    "> 특정 행열의 스칼라 값을 가져온다."
   ]
  },
  {
   "cell_type": "code",
   "execution_count": 23,
   "id": "bcadc591",
   "metadata": {
    "scrolled": true
   },
   "outputs": [
    {
     "data": {
      "text/plain": [
       "0.7853474040428359"
      ]
     },
     "execution_count": 23,
     "metadata": {},
     "output_type": "execute_result"
    }
   ],
   "source": [
    "df.loc[dates[0],'A']"
   ]
  },
  {
   "cell_type": "markdown",
   "id": "8e176b18",
   "metadata": {},
   "source": [
    "> 스칼라 값만 가져오는 방법 (loc와 비슷함, <u>\"*at*\"</u> if you only need to get or set a single value in a DataFrame\n",
    "or Series.)"
   ]
  },
  {
   "cell_type": "code",
   "execution_count": 24,
   "id": "592c693e",
   "metadata": {
    "scrolled": true
   },
   "outputs": [
    {
     "data": {
      "text/plain": [
       "0.7853474040428359"
      ]
     },
     "execution_count": 24,
     "metadata": {},
     "output_type": "execute_result"
    }
   ],
   "source": [
    "df.at[dates[0], 'A']\n",
    "# df.at?"
   ]
  },
  {
   "cell_type": "markdown",
   "id": "08a7af8f",
   "metadata": {},
   "source": [
    "### Selection by Position (위치로 선택하기) iloc[]\n",
    "> *자세한 내용은 [위치로 선택하기](https://pandas.pydata.org/pandas-docs/stable/user_guide/indexing.html)를 참고* </br>\n",
    ">\n",
    "> index로 위치 선택"
   ]
  },
  {
   "cell_type": "code",
   "execution_count": 25,
   "id": "52182fff",
   "metadata": {
    "scrolled": true
   },
   "outputs": [
    {
     "data": {
      "text/plain": [
       "A    1.026957\n",
       "B   -0.587041\n",
       "C    1.167862\n",
       "D   -0.989285\n",
       "Name: 2013-01-04 00:00:00, dtype: float64"
      ]
     },
     "execution_count": 25,
     "metadata": {},
     "output_type": "execute_result"
    }
   ],
   "source": [
    "df.iloc[3]"
   ]
  },
  {
   "cell_type": "markdown",
   "id": "78ebc5fe",
   "metadata": {},
   "source": [
    "> numpy / python과 유사하게 slicing"
   ]
  },
  {
   "cell_type": "code",
   "execution_count": 26,
   "id": "150fd6b6",
   "metadata": {},
   "outputs": [
    {
     "data": {
      "text/html": [
       "<div>\n",
       "<style scoped>\n",
       "    .dataframe tbody tr th:only-of-type {\n",
       "        vertical-align: middle;\n",
       "    }\n",
       "\n",
       "    .dataframe tbody tr th {\n",
       "        vertical-align: top;\n",
       "    }\n",
       "\n",
       "    .dataframe thead th {\n",
       "        text-align: right;\n",
       "    }\n",
       "</style>\n",
       "<table border=\"1\" class=\"dataframe\">\n",
       "  <thead>\n",
       "    <tr style=\"text-align: right;\">\n",
       "      <th></th>\n",
       "      <th>A</th>\n",
       "      <th>B</th>\n",
       "    </tr>\n",
       "  </thead>\n",
       "  <tbody>\n",
       "    <tr>\n",
       "      <th>2013-01-04</th>\n",
       "      <td>1.026957</td>\n",
       "      <td>-0.587041</td>\n",
       "    </tr>\n",
       "    <tr>\n",
       "      <th>2013-01-05</th>\n",
       "      <td>2.339449</td>\n",
       "      <td>0.110415</td>\n",
       "    </tr>\n",
       "  </tbody>\n",
       "</table>\n",
       "</div>"
      ],
      "text/plain": [
       "                   A         B\n",
       "2013-01-04  1.026957 -0.587041\n",
       "2013-01-05  2.339449  0.110415"
      ]
     },
     "execution_count": 26,
     "metadata": {},
     "output_type": "execute_result"
    }
   ],
   "source": [
    "df.iloc[3:5,0:2]"
   ]
  },
  {
   "cell_type": "markdown",
   "id": "2d5aec21",
   "metadata": {},
   "source": [
    "> 리스트형태로 원하는 행과 열만 뽑니다. (numpy / python의 스타일)"
   ]
  },
  {
   "cell_type": "code",
   "execution_count": 27,
   "id": "3e2a2afd",
   "metadata": {},
   "outputs": [
    {
     "data": {
      "text/html": [
       "<div>\n",
       "<style scoped>\n",
       "    .dataframe tbody tr th:only-of-type {\n",
       "        vertical-align: middle;\n",
       "    }\n",
       "\n",
       "    .dataframe tbody tr th {\n",
       "        vertical-align: top;\n",
       "    }\n",
       "\n",
       "    .dataframe thead th {\n",
       "        text-align: right;\n",
       "    }\n",
       "</style>\n",
       "<table border=\"1\" class=\"dataframe\">\n",
       "  <thead>\n",
       "    <tr style=\"text-align: right;\">\n",
       "      <th></th>\n",
       "      <th>A</th>\n",
       "      <th>C</th>\n",
       "    </tr>\n",
       "  </thead>\n",
       "  <tbody>\n",
       "    <tr>\n",
       "      <th>2013-01-02</th>\n",
       "      <td>-0.257480</td>\n",
       "      <td>-0.784089</td>\n",
       "    </tr>\n",
       "    <tr>\n",
       "      <th>2013-01-03</th>\n",
       "      <td>-1.580742</td>\n",
       "      <td>2.600976</td>\n",
       "    </tr>\n",
       "    <tr>\n",
       "      <th>2013-01-05</th>\n",
       "      <td>2.339449</td>\n",
       "      <td>0.381784</td>\n",
       "    </tr>\n",
       "  </tbody>\n",
       "</table>\n",
       "</div>"
      ],
      "text/plain": [
       "                   A         C\n",
       "2013-01-02 -0.257480 -0.784089\n",
       "2013-01-03 -1.580742  2.600976\n",
       "2013-01-05  2.339449  0.381784"
      ]
     },
     "execution_count": 27,
     "metadata": {},
     "output_type": "execute_result"
    }
   ],
   "source": [
    "df.iloc[[1,2,4],[0,2]]"
   ]
  },
  {
   "cell_type": "markdown",
   "id": "2b8165cc",
   "metadata": {},
   "source": [
    "> 명시적으로 행으로 나누기"
   ]
  },
  {
   "cell_type": "code",
   "execution_count": 28,
   "id": "66569c0c",
   "metadata": {},
   "outputs": [
    {
     "data": {
      "text/html": [
       "<div>\n",
       "<style scoped>\n",
       "    .dataframe tbody tr th:only-of-type {\n",
       "        vertical-align: middle;\n",
       "    }\n",
       "\n",
       "    .dataframe tbody tr th {\n",
       "        vertical-align: top;\n",
       "    }\n",
       "\n",
       "    .dataframe thead th {\n",
       "        text-align: right;\n",
       "    }\n",
       "</style>\n",
       "<table border=\"1\" class=\"dataframe\">\n",
       "  <thead>\n",
       "    <tr style=\"text-align: right;\">\n",
       "      <th></th>\n",
       "      <th>A</th>\n",
       "      <th>B</th>\n",
       "      <th>C</th>\n",
       "      <th>D</th>\n",
       "    </tr>\n",
       "  </thead>\n",
       "  <tbody>\n",
       "    <tr>\n",
       "      <th>2013-01-02</th>\n",
       "      <td>-0.257480</td>\n",
       "      <td>-0.100852</td>\n",
       "      <td>-0.784089</td>\n",
       "      <td>0.151827</td>\n",
       "    </tr>\n",
       "    <tr>\n",
       "      <th>2013-01-03</th>\n",
       "      <td>-1.580742</td>\n",
       "      <td>0.080017</td>\n",
       "      <td>2.600976</td>\n",
       "      <td>2.022480</td>\n",
       "    </tr>\n",
       "  </tbody>\n",
       "</table>\n",
       "</div>"
      ],
      "text/plain": [
       "                   A         B         C         D\n",
       "2013-01-02 -0.257480 -0.100852 -0.784089  0.151827\n",
       "2013-01-03 -1.580742  0.080017  2.600976  2.022480"
      ]
     },
     "execution_count": 28,
     "metadata": {},
     "output_type": "execute_result"
    }
   ],
   "source": [
    "df.iloc[1:3,:]"
   ]
  },
  {
   "cell_type": "markdown",
   "id": "58df9481",
   "metadata": {},
   "source": [
    "> 명시적으로 열로 나누기"
   ]
  },
  {
   "cell_type": "code",
   "execution_count": 29,
   "id": "59356688",
   "metadata": {},
   "outputs": [
    {
     "data": {
      "text/html": [
       "<div>\n",
       "<style scoped>\n",
       "    .dataframe tbody tr th:only-of-type {\n",
       "        vertical-align: middle;\n",
       "    }\n",
       "\n",
       "    .dataframe tbody tr th {\n",
       "        vertical-align: top;\n",
       "    }\n",
       "\n",
       "    .dataframe thead th {\n",
       "        text-align: right;\n",
       "    }\n",
       "</style>\n",
       "<table border=\"1\" class=\"dataframe\">\n",
       "  <thead>\n",
       "    <tr style=\"text-align: right;\">\n",
       "      <th></th>\n",
       "      <th>B</th>\n",
       "      <th>C</th>\n",
       "    </tr>\n",
       "  </thead>\n",
       "  <tbody>\n",
       "    <tr>\n",
       "      <th>2013-01-01</th>\n",
       "      <td>0.574925</td>\n",
       "      <td>-0.676452</td>\n",
       "    </tr>\n",
       "    <tr>\n",
       "      <th>2013-01-02</th>\n",
       "      <td>-0.100852</td>\n",
       "      <td>-0.784089</td>\n",
       "    </tr>\n",
       "    <tr>\n",
       "      <th>2013-01-03</th>\n",
       "      <td>0.080017</td>\n",
       "      <td>2.600976</td>\n",
       "    </tr>\n",
       "    <tr>\n",
       "      <th>2013-01-04</th>\n",
       "      <td>-0.587041</td>\n",
       "      <td>1.167862</td>\n",
       "    </tr>\n",
       "    <tr>\n",
       "      <th>2013-01-05</th>\n",
       "      <td>0.110415</td>\n",
       "      <td>0.381784</td>\n",
       "    </tr>\n",
       "    <tr>\n",
       "      <th>2013-01-06</th>\n",
       "      <td>0.855742</td>\n",
       "      <td>-0.126445</td>\n",
       "    </tr>\n",
       "  </tbody>\n",
       "</table>\n",
       "</div>"
      ],
      "text/plain": [
       "                   B         C\n",
       "2013-01-01  0.574925 -0.676452\n",
       "2013-01-02 -0.100852 -0.784089\n",
       "2013-01-03  0.080017  2.600976\n",
       "2013-01-04 -0.587041  1.167862\n",
       "2013-01-05  0.110415  0.381784\n",
       "2013-01-06  0.855742 -0.126445"
      ]
     },
     "execution_count": 29,
     "metadata": {},
     "output_type": "execute_result"
    }
   ],
   "source": [
    "df.iloc[:,1:3]"
   ]
  },
  {
   "cell_type": "markdown",
   "id": "1833facd",
   "metadata": {},
   "source": [
    "> 명시적으로 특정(스칼라) 값을 얻을때"
   ]
  },
  {
   "cell_type": "code",
   "execution_count": 30,
   "id": "c4911232",
   "metadata": {},
   "outputs": [
    {
     "data": {
      "text/plain": [
       "-0.10085235705482462"
      ]
     },
     "execution_count": 30,
     "metadata": {},
     "output_type": "execute_result"
    }
   ],
   "source": [
    "df.iloc[1,1]"
   ]
  },
  {
   "cell_type": "markdown",
   "id": "b791207d",
   "metadata": {},
   "source": [
    "> 스칼라 값을 빠르게 얻는 방법입니다 (위의 방식과 동일합니다)."
   ]
  },
  {
   "cell_type": "code",
   "execution_count": 31,
   "id": "f77bb880",
   "metadata": {},
   "outputs": [
    {
     "data": {
      "text/plain": [
       "-0.10085235705482462"
      ]
     },
     "execution_count": 31,
     "metadata": {},
     "output_type": "execute_result"
    }
   ],
   "source": [
    "df.iat[1,1]"
   ]
  },
  {
   "cell_type": "markdown",
   "id": "f90a6ebd",
   "metadata": {},
   "source": [
    "### Boolean Indexing\n",
    ">데이터를 선택하기 위해 특정 열의 값을 기준으로 사용"
   ]
  },
  {
   "cell_type": "code",
   "execution_count": 32,
   "id": "2e8b79db",
   "metadata": {},
   "outputs": [
    {
     "data": {
      "text/html": [
       "<div>\n",
       "<style scoped>\n",
       "    .dataframe tbody tr th:only-of-type {\n",
       "        vertical-align: middle;\n",
       "    }\n",
       "\n",
       "    .dataframe tbody tr th {\n",
       "        vertical-align: top;\n",
       "    }\n",
       "\n",
       "    .dataframe thead th {\n",
       "        text-align: right;\n",
       "    }\n",
       "</style>\n",
       "<table border=\"1\" class=\"dataframe\">\n",
       "  <thead>\n",
       "    <tr style=\"text-align: right;\">\n",
       "      <th></th>\n",
       "      <th>A</th>\n",
       "      <th>B</th>\n",
       "      <th>C</th>\n",
       "      <th>D</th>\n",
       "    </tr>\n",
       "  </thead>\n",
       "  <tbody>\n",
       "    <tr>\n",
       "      <th>2013-01-01</th>\n",
       "      <td>0.785347</td>\n",
       "      <td>0.574925</td>\n",
       "      <td>-0.676452</td>\n",
       "      <td>1.813467</td>\n",
       "    </tr>\n",
       "    <tr>\n",
       "      <th>2013-01-04</th>\n",
       "      <td>1.026957</td>\n",
       "      <td>-0.587041</td>\n",
       "      <td>1.167862</td>\n",
       "      <td>-0.989285</td>\n",
       "    </tr>\n",
       "    <tr>\n",
       "      <th>2013-01-05</th>\n",
       "      <td>2.339449</td>\n",
       "      <td>0.110415</td>\n",
       "      <td>0.381784</td>\n",
       "      <td>0.437112</td>\n",
       "    </tr>\n",
       "    <tr>\n",
       "      <th>2013-01-06</th>\n",
       "      <td>1.293271</td>\n",
       "      <td>0.855742</td>\n",
       "      <td>-0.126445</td>\n",
       "      <td>0.393147</td>\n",
       "    </tr>\n",
       "  </tbody>\n",
       "</table>\n",
       "</div>"
      ],
      "text/plain": [
       "                   A         B         C         D\n",
       "2013-01-01  0.785347  0.574925 -0.676452  1.813467\n",
       "2013-01-04  1.026957 -0.587041  1.167862 -0.989285\n",
       "2013-01-05  2.339449  0.110415  0.381784  0.437112\n",
       "2013-01-06  1.293271  0.855742 -0.126445  0.393147"
      ]
     },
     "execution_count": 32,
     "metadata": {},
     "output_type": "execute_result"
    }
   ],
   "source": [
    "df[df.A > 0]"
   ]
  },
  {
   "cell_type": "markdown",
   "id": "d5198979",
   "metadata": {},
   "source": [
    "> Boolean 조건을 충족하는 DataFrame 에서 값을 선택"
   ]
  },
  {
   "cell_type": "code",
   "execution_count": 33,
   "id": "e7bfa0f1",
   "metadata": {},
   "outputs": [
    {
     "data": {
      "text/html": [
       "<div>\n",
       "<style scoped>\n",
       "    .dataframe tbody tr th:only-of-type {\n",
       "        vertical-align: middle;\n",
       "    }\n",
       "\n",
       "    .dataframe tbody tr th {\n",
       "        vertical-align: top;\n",
       "    }\n",
       "\n",
       "    .dataframe thead th {\n",
       "        text-align: right;\n",
       "    }\n",
       "</style>\n",
       "<table border=\"1\" class=\"dataframe\">\n",
       "  <thead>\n",
       "    <tr style=\"text-align: right;\">\n",
       "      <th></th>\n",
       "      <th>A</th>\n",
       "      <th>B</th>\n",
       "      <th>C</th>\n",
       "      <th>D</th>\n",
       "    </tr>\n",
       "  </thead>\n",
       "  <tbody>\n",
       "    <tr>\n",
       "      <th>2013-01-01</th>\n",
       "      <td>0.785347</td>\n",
       "      <td>0.574925</td>\n",
       "      <td>NaN</td>\n",
       "      <td>1.813467</td>\n",
       "    </tr>\n",
       "    <tr>\n",
       "      <th>2013-01-02</th>\n",
       "      <td>NaN</td>\n",
       "      <td>NaN</td>\n",
       "      <td>NaN</td>\n",
       "      <td>0.151827</td>\n",
       "    </tr>\n",
       "    <tr>\n",
       "      <th>2013-01-03</th>\n",
       "      <td>NaN</td>\n",
       "      <td>0.080017</td>\n",
       "      <td>2.600976</td>\n",
       "      <td>2.022480</td>\n",
       "    </tr>\n",
       "    <tr>\n",
       "      <th>2013-01-04</th>\n",
       "      <td>1.026957</td>\n",
       "      <td>NaN</td>\n",
       "      <td>1.167862</td>\n",
       "      <td>NaN</td>\n",
       "    </tr>\n",
       "    <tr>\n",
       "      <th>2013-01-05</th>\n",
       "      <td>2.339449</td>\n",
       "      <td>0.110415</td>\n",
       "      <td>0.381784</td>\n",
       "      <td>0.437112</td>\n",
       "    </tr>\n",
       "    <tr>\n",
       "      <th>2013-01-06</th>\n",
       "      <td>1.293271</td>\n",
       "      <td>0.855742</td>\n",
       "      <td>NaN</td>\n",
       "      <td>0.393147</td>\n",
       "    </tr>\n",
       "  </tbody>\n",
       "</table>\n",
       "</div>"
      ],
      "text/plain": [
       "                   A         B         C         D\n",
       "2013-01-01  0.785347  0.574925       NaN  1.813467\n",
       "2013-01-02       NaN       NaN       NaN  0.151827\n",
       "2013-01-03       NaN  0.080017  2.600976  2.022480\n",
       "2013-01-04  1.026957       NaN  1.167862       NaN\n",
       "2013-01-05  2.339449  0.110415  0.381784  0.437112\n",
       "2013-01-06  1.293271  0.855742       NaN  0.393147"
      ]
     },
     "execution_count": 33,
     "metadata": {},
     "output_type": "execute_result"
    }
   ],
   "source": [
    "df[df > 0]"
   ]
  },
  {
   "cell_type": "markdown",
   "id": "e17bf40b",
   "metadata": {},
   "source": [
    "> isin() 필터링을 위한 메소드"
   ]
  },
  {
   "cell_type": "code",
   "execution_count": 34,
   "id": "0755ea68",
   "metadata": {},
   "outputs": [],
   "source": [
    "df2 = df.copy()"
   ]
  },
  {
   "cell_type": "code",
   "execution_count": 35,
   "id": "7a0245ad",
   "metadata": {},
   "outputs": [
    {
     "data": {
      "text/html": [
       "<div>\n",
       "<style scoped>\n",
       "    .dataframe tbody tr th:only-of-type {\n",
       "        vertical-align: middle;\n",
       "    }\n",
       "\n",
       "    .dataframe tbody tr th {\n",
       "        vertical-align: top;\n",
       "    }\n",
       "\n",
       "    .dataframe thead th {\n",
       "        text-align: right;\n",
       "    }\n",
       "</style>\n",
       "<table border=\"1\" class=\"dataframe\">\n",
       "  <thead>\n",
       "    <tr style=\"text-align: right;\">\n",
       "      <th></th>\n",
       "      <th>A</th>\n",
       "      <th>B</th>\n",
       "      <th>C</th>\n",
       "      <th>D</th>\n",
       "      <th>E</th>\n",
       "    </tr>\n",
       "  </thead>\n",
       "  <tbody>\n",
       "    <tr>\n",
       "      <th>2013-01-01</th>\n",
       "      <td>0.785347</td>\n",
       "      <td>0.574925</td>\n",
       "      <td>-0.676452</td>\n",
       "      <td>1.813467</td>\n",
       "      <td>one</td>\n",
       "    </tr>\n",
       "    <tr>\n",
       "      <th>2013-01-02</th>\n",
       "      <td>-0.257480</td>\n",
       "      <td>-0.100852</td>\n",
       "      <td>-0.784089</td>\n",
       "      <td>0.151827</td>\n",
       "      <td>one</td>\n",
       "    </tr>\n",
       "    <tr>\n",
       "      <th>2013-01-03</th>\n",
       "      <td>-1.580742</td>\n",
       "      <td>0.080017</td>\n",
       "      <td>2.600976</td>\n",
       "      <td>2.022480</td>\n",
       "      <td>two</td>\n",
       "    </tr>\n",
       "    <tr>\n",
       "      <th>2013-01-04</th>\n",
       "      <td>1.026957</td>\n",
       "      <td>-0.587041</td>\n",
       "      <td>1.167862</td>\n",
       "      <td>-0.989285</td>\n",
       "      <td>three</td>\n",
       "    </tr>\n",
       "    <tr>\n",
       "      <th>2013-01-05</th>\n",
       "      <td>2.339449</td>\n",
       "      <td>0.110415</td>\n",
       "      <td>0.381784</td>\n",
       "      <td>0.437112</td>\n",
       "      <td>four</td>\n",
       "    </tr>\n",
       "    <tr>\n",
       "      <th>2013-01-06</th>\n",
       "      <td>1.293271</td>\n",
       "      <td>0.855742</td>\n",
       "      <td>-0.126445</td>\n",
       "      <td>0.393147</td>\n",
       "      <td>three</td>\n",
       "    </tr>\n",
       "  </tbody>\n",
       "</table>\n",
       "</div>"
      ],
      "text/plain": [
       "                   A         B         C         D      E\n",
       "2013-01-01  0.785347  0.574925 -0.676452  1.813467    one\n",
       "2013-01-02 -0.257480 -0.100852 -0.784089  0.151827    one\n",
       "2013-01-03 -1.580742  0.080017  2.600976  2.022480    two\n",
       "2013-01-04  1.026957 -0.587041  1.167862 -0.989285  three\n",
       "2013-01-05  2.339449  0.110415  0.381784  0.437112   four\n",
       "2013-01-06  1.293271  0.855742 -0.126445  0.393147  three"
      ]
     },
     "execution_count": 35,
     "metadata": {},
     "output_type": "execute_result"
    }
   ],
   "source": [
    "df2['E'] = ['one', 'one', 'two', 'three', 'four', 'three']\n",
    "df2"
   ]
  },
  {
   "cell_type": "code",
   "execution_count": 36,
   "id": "aadf600b",
   "metadata": {},
   "outputs": [
    {
     "data": {
      "text/html": [
       "<div>\n",
       "<style scoped>\n",
       "    .dataframe tbody tr th:only-of-type {\n",
       "        vertical-align: middle;\n",
       "    }\n",
       "\n",
       "    .dataframe tbody tr th {\n",
       "        vertical-align: top;\n",
       "    }\n",
       "\n",
       "    .dataframe thead th {\n",
       "        text-align: right;\n",
       "    }\n",
       "</style>\n",
       "<table border=\"1\" class=\"dataframe\">\n",
       "  <thead>\n",
       "    <tr style=\"text-align: right;\">\n",
       "      <th></th>\n",
       "      <th>A</th>\n",
       "      <th>B</th>\n",
       "      <th>C</th>\n",
       "      <th>D</th>\n",
       "      <th>E</th>\n",
       "    </tr>\n",
       "  </thead>\n",
       "  <tbody>\n",
       "    <tr>\n",
       "      <th>2013-01-03</th>\n",
       "      <td>-1.580742</td>\n",
       "      <td>0.080017</td>\n",
       "      <td>2.600976</td>\n",
       "      <td>2.022480</td>\n",
       "      <td>two</td>\n",
       "    </tr>\n",
       "    <tr>\n",
       "      <th>2013-01-05</th>\n",
       "      <td>2.339449</td>\n",
       "      <td>0.110415</td>\n",
       "      <td>0.381784</td>\n",
       "      <td>0.437112</td>\n",
       "      <td>four</td>\n",
       "    </tr>\n",
       "  </tbody>\n",
       "</table>\n",
       "</div>"
      ],
      "text/plain": [
       "                   A         B         C         D     E\n",
       "2013-01-03 -1.580742  0.080017  2.600976  2.022480   two\n",
       "2013-01-05  2.339449  0.110415  0.381784  0.437112  four"
      ]
     },
     "execution_count": 36,
     "metadata": {},
     "output_type": "execute_result"
    }
   ],
   "source": [
    "df2[df2['E'].isin(['two', 'four'])]"
   ]
  },
  {
   "cell_type": "markdown",
   "id": "3fe3806a",
   "metadata": {},
   "source": [
    "### Setting (설정)\n",
    "> 새 열을 설정하면 데이터가 인덱스 별로 자동 정렬"
   ]
  },
  {
   "cell_type": "code",
   "execution_count": 37,
   "id": "c1c9c3dd",
   "metadata": {},
   "outputs": [
    {
     "data": {
      "text/plain": [
       "2013-01-02    1\n",
       "2013-01-03    2\n",
       "2013-01-04    3\n",
       "2013-01-05    4\n",
       "2013-01-06    5\n",
       "2013-01-07    6\n",
       "Freq: D, dtype: int64"
      ]
     },
     "execution_count": 37,
     "metadata": {},
     "output_type": "execute_result"
    }
   ],
   "source": [
    "s1 = pd.Series([1, 2, 3, 4, 5, 6], index=pd.date_range('20130102', periods=6))\n",
    "s1"
   ]
  },
  {
   "cell_type": "code",
   "execution_count": 38,
   "id": "886555f1",
   "metadata": {},
   "outputs": [],
   "source": [
    "df['f'] = s1"
   ]
  },
  {
   "cell_type": "markdown",
   "id": "3098919c",
   "metadata": {},
   "source": [
    "> 라벨로 값 설정 (0 행 A 열 값을 0으로)"
   ]
  },
  {
   "cell_type": "code",
   "execution_count": 39,
   "id": "270eff84",
   "metadata": {},
   "outputs": [],
   "source": [
    "df.at[dates[0], 'A'] = 0"
   ]
  },
  {
   "cell_type": "markdown",
   "id": "1423c1e3",
   "metadata": {},
   "source": [
    "> 위치로 값 설정"
   ]
  },
  {
   "cell_type": "code",
   "execution_count": 40,
   "id": "7a9fc32f",
   "metadata": {},
   "outputs": [],
   "source": [
    "df.iat[0, 1] = 0"
   ]
  },
  {
   "cell_type": "markdown",
   "id": "d633e83f",
   "metadata": {},
   "source": [
    "> Numpy 배열을 사용하여 값 설정"
   ]
  },
  {
   "cell_type": "code",
   "execution_count": 41,
   "id": "e74cef6a",
   "metadata": {},
   "outputs": [
    {
     "data": {
      "text/html": [
       "<div>\n",
       "<style scoped>\n",
       "    .dataframe tbody tr th:only-of-type {\n",
       "        vertical-align: middle;\n",
       "    }\n",
       "\n",
       "    .dataframe tbody tr th {\n",
       "        vertical-align: top;\n",
       "    }\n",
       "\n",
       "    .dataframe thead th {\n",
       "        text-align: right;\n",
       "    }\n",
       "</style>\n",
       "<table border=\"1\" class=\"dataframe\">\n",
       "  <thead>\n",
       "    <tr style=\"text-align: right;\">\n",
       "      <th></th>\n",
       "      <th>A</th>\n",
       "      <th>B</th>\n",
       "      <th>C</th>\n",
       "      <th>D</th>\n",
       "      <th>f</th>\n",
       "    </tr>\n",
       "  </thead>\n",
       "  <tbody>\n",
       "    <tr>\n",
       "      <th>2013-01-01</th>\n",
       "      <td>0.000000</td>\n",
       "      <td>0.000000</td>\n",
       "      <td>-0.676452</td>\n",
       "      <td>5</td>\n",
       "      <td>NaN</td>\n",
       "    </tr>\n",
       "    <tr>\n",
       "      <th>2013-01-02</th>\n",
       "      <td>-0.257480</td>\n",
       "      <td>-0.100852</td>\n",
       "      <td>-0.784089</td>\n",
       "      <td>5</td>\n",
       "      <td>1.0</td>\n",
       "    </tr>\n",
       "    <tr>\n",
       "      <th>2013-01-03</th>\n",
       "      <td>-1.580742</td>\n",
       "      <td>0.080017</td>\n",
       "      <td>2.600976</td>\n",
       "      <td>5</td>\n",
       "      <td>2.0</td>\n",
       "    </tr>\n",
       "    <tr>\n",
       "      <th>2013-01-04</th>\n",
       "      <td>1.026957</td>\n",
       "      <td>-0.587041</td>\n",
       "      <td>1.167862</td>\n",
       "      <td>5</td>\n",
       "      <td>3.0</td>\n",
       "    </tr>\n",
       "    <tr>\n",
       "      <th>2013-01-05</th>\n",
       "      <td>2.339449</td>\n",
       "      <td>0.110415</td>\n",
       "      <td>0.381784</td>\n",
       "      <td>5</td>\n",
       "      <td>4.0</td>\n",
       "    </tr>\n",
       "    <tr>\n",
       "      <th>2013-01-06</th>\n",
       "      <td>1.293271</td>\n",
       "      <td>0.855742</td>\n",
       "      <td>-0.126445</td>\n",
       "      <td>5</td>\n",
       "      <td>5.0</td>\n",
       "    </tr>\n",
       "  </tbody>\n",
       "</table>\n",
       "</div>"
      ],
      "text/plain": [
       "                   A         B         C  D    f\n",
       "2013-01-01  0.000000  0.000000 -0.676452  5  NaN\n",
       "2013-01-02 -0.257480 -0.100852 -0.784089  5  1.0\n",
       "2013-01-03 -1.580742  0.080017  2.600976  5  2.0\n",
       "2013-01-04  1.026957 -0.587041  1.167862  5  3.0\n",
       "2013-01-05  2.339449  0.110415  0.381784  5  4.0\n",
       "2013-01-06  1.293271  0.855742 -0.126445  5  5.0"
      ]
     },
     "execution_count": 41,
     "metadata": {},
     "output_type": "execute_result"
    }
   ],
   "source": [
    "df.loc[:, 'D'] = np.array([5] * len(df))\n",
    "df"
   ]
  },
  {
   "cell_type": "markdown",
   "id": "4b523ec5",
   "metadata": {},
   "source": [
    "> where 연산을 설정"
   ]
  },
  {
   "cell_type": "code",
   "execution_count": 42,
   "id": "9e5afab8",
   "metadata": {},
   "outputs": [
    {
     "data": {
      "text/html": [
       "<div>\n",
       "<style scoped>\n",
       "    .dataframe tbody tr th:only-of-type {\n",
       "        vertical-align: middle;\n",
       "    }\n",
       "\n",
       "    .dataframe tbody tr th {\n",
       "        vertical-align: top;\n",
       "    }\n",
       "\n",
       "    .dataframe thead th {\n",
       "        text-align: right;\n",
       "    }\n",
       "</style>\n",
       "<table border=\"1\" class=\"dataframe\">\n",
       "  <thead>\n",
       "    <tr style=\"text-align: right;\">\n",
       "      <th></th>\n",
       "      <th>A</th>\n",
       "      <th>B</th>\n",
       "      <th>C</th>\n",
       "      <th>D</th>\n",
       "      <th>f</th>\n",
       "    </tr>\n",
       "  </thead>\n",
       "  <tbody>\n",
       "    <tr>\n",
       "      <th>2013-01-01</th>\n",
       "      <td>0.000000</td>\n",
       "      <td>0.000000</td>\n",
       "      <td>-0.676452</td>\n",
       "      <td>-5</td>\n",
       "      <td>NaN</td>\n",
       "    </tr>\n",
       "    <tr>\n",
       "      <th>2013-01-02</th>\n",
       "      <td>-0.257480</td>\n",
       "      <td>-0.100852</td>\n",
       "      <td>-0.784089</td>\n",
       "      <td>-5</td>\n",
       "      <td>-1.0</td>\n",
       "    </tr>\n",
       "    <tr>\n",
       "      <th>2013-01-03</th>\n",
       "      <td>-1.580742</td>\n",
       "      <td>-0.080017</td>\n",
       "      <td>-2.600976</td>\n",
       "      <td>-5</td>\n",
       "      <td>-2.0</td>\n",
       "    </tr>\n",
       "    <tr>\n",
       "      <th>2013-01-04</th>\n",
       "      <td>-1.026957</td>\n",
       "      <td>-0.587041</td>\n",
       "      <td>-1.167862</td>\n",
       "      <td>-5</td>\n",
       "      <td>-3.0</td>\n",
       "    </tr>\n",
       "    <tr>\n",
       "      <th>2013-01-05</th>\n",
       "      <td>-2.339449</td>\n",
       "      <td>-0.110415</td>\n",
       "      <td>-0.381784</td>\n",
       "      <td>-5</td>\n",
       "      <td>-4.0</td>\n",
       "    </tr>\n",
       "    <tr>\n",
       "      <th>2013-01-06</th>\n",
       "      <td>-1.293271</td>\n",
       "      <td>-0.855742</td>\n",
       "      <td>-0.126445</td>\n",
       "      <td>-5</td>\n",
       "      <td>-5.0</td>\n",
       "    </tr>\n",
       "  </tbody>\n",
       "</table>\n",
       "</div>"
      ],
      "text/plain": [
       "                   A         B         C  D    f\n",
       "2013-01-01  0.000000  0.000000 -0.676452 -5  NaN\n",
       "2013-01-02 -0.257480 -0.100852 -0.784089 -5 -1.0\n",
       "2013-01-03 -1.580742 -0.080017 -2.600976 -5 -2.0\n",
       "2013-01-04 -1.026957 -0.587041 -1.167862 -5 -3.0\n",
       "2013-01-05 -2.339449 -0.110415 -0.381784 -5 -4.0\n",
       "2013-01-06 -1.293271 -0.855742 -0.126445 -5 -5.0"
      ]
     },
     "execution_count": 42,
     "metadata": {},
     "output_type": "execute_result"
    }
   ],
   "source": [
    "df2 = df.copy()\n",
    "df2[df2 > 0] = -df2\n",
    "df2"
   ]
  },
  {
   "cell_type": "markdown",
   "id": "38b9b98a",
   "metadata": {},
   "source": [
    "## Missing Data (결측치)\n",
    "> Pandas는 결측치를 표현하기 위해 주로 np.nan 값을 사용\n",
    ">\n",
    "> 이 방법은 기본 설정값이지만 계산에는 포함되지 않는다. [Missing data section](https://pandas.pydata.org/pandas-docs/stable/user_guide/missing_data.html)을 참조\n",
    ">\n",
    ">Reindexing으로 지정된 축 상의 인덱스를 변경 / 추가 / 삭제 할 수 있다.\n",
    ">\n",
    ">Reindexing은 데이터의 복사본을 반환"
   ]
  },
  {
   "cell_type": "code",
   "execution_count": 43,
   "id": "d24dba98",
   "metadata": {},
   "outputs": [],
   "source": [
    "df1 = df.reindex(index=dates[0:4], columns=list(df.columns) + ['E'])"
   ]
  },
  {
   "cell_type": "code",
   "execution_count": 44,
   "id": "25abf188",
   "metadata": {},
   "outputs": [],
   "source": [
    "df1.loc[dates[0]:dates[1], 'E'] = 1"
   ]
  },
  {
   "cell_type": "code",
   "execution_count": 45,
   "id": "bce5a4b0",
   "metadata": {
    "scrolled": true
   },
   "outputs": [
    {
     "data": {
      "text/html": [
       "<div>\n",
       "<style scoped>\n",
       "    .dataframe tbody tr th:only-of-type {\n",
       "        vertical-align: middle;\n",
       "    }\n",
       "\n",
       "    .dataframe tbody tr th {\n",
       "        vertical-align: top;\n",
       "    }\n",
       "\n",
       "    .dataframe thead th {\n",
       "        text-align: right;\n",
       "    }\n",
       "</style>\n",
       "<table border=\"1\" class=\"dataframe\">\n",
       "  <thead>\n",
       "    <tr style=\"text-align: right;\">\n",
       "      <th></th>\n",
       "      <th>A</th>\n",
       "      <th>B</th>\n",
       "      <th>C</th>\n",
       "      <th>D</th>\n",
       "      <th>f</th>\n",
       "      <th>E</th>\n",
       "    </tr>\n",
       "  </thead>\n",
       "  <tbody>\n",
       "    <tr>\n",
       "      <th>2013-01-01</th>\n",
       "      <td>0.000000</td>\n",
       "      <td>0.000000</td>\n",
       "      <td>-0.676452</td>\n",
       "      <td>5</td>\n",
       "      <td>NaN</td>\n",
       "      <td>1.0</td>\n",
       "    </tr>\n",
       "    <tr>\n",
       "      <th>2013-01-02</th>\n",
       "      <td>-0.257480</td>\n",
       "      <td>-0.100852</td>\n",
       "      <td>-0.784089</td>\n",
       "      <td>5</td>\n",
       "      <td>1.0</td>\n",
       "      <td>1.0</td>\n",
       "    </tr>\n",
       "    <tr>\n",
       "      <th>2013-01-03</th>\n",
       "      <td>-1.580742</td>\n",
       "      <td>0.080017</td>\n",
       "      <td>2.600976</td>\n",
       "      <td>5</td>\n",
       "      <td>2.0</td>\n",
       "      <td>NaN</td>\n",
       "    </tr>\n",
       "    <tr>\n",
       "      <th>2013-01-04</th>\n",
       "      <td>1.026957</td>\n",
       "      <td>-0.587041</td>\n",
       "      <td>1.167862</td>\n",
       "      <td>5</td>\n",
       "      <td>3.0</td>\n",
       "      <td>NaN</td>\n",
       "    </tr>\n",
       "  </tbody>\n",
       "</table>\n",
       "</div>"
      ],
      "text/plain": [
       "                   A         B         C  D    f    E\n",
       "2013-01-01  0.000000  0.000000 -0.676452  5  NaN  1.0\n",
       "2013-01-02 -0.257480 -0.100852 -0.784089  5  1.0  1.0\n",
       "2013-01-03 -1.580742  0.080017  2.600976  5  2.0  NaN\n",
       "2013-01-04  1.026957 -0.587041  1.167862  5  3.0  NaN"
      ]
     },
     "execution_count": 45,
     "metadata": {},
     "output_type": "execute_result"
    }
   ],
   "source": [
    "df1"
   ]
  },
  {
   "cell_type": "markdown",
   "id": "fd14d3ad",
   "metadata": {},
   "source": [
    "> 결측치를 가지고 있는 행 삭제"
   ]
  },
  {
   "cell_type": "code",
   "execution_count": 46,
   "id": "b1904b35",
   "metadata": {},
   "outputs": [
    {
     "data": {
      "text/html": [
       "<div>\n",
       "<style scoped>\n",
       "    .dataframe tbody tr th:only-of-type {\n",
       "        vertical-align: middle;\n",
       "    }\n",
       "\n",
       "    .dataframe tbody tr th {\n",
       "        vertical-align: top;\n",
       "    }\n",
       "\n",
       "    .dataframe thead th {\n",
       "        text-align: right;\n",
       "    }\n",
       "</style>\n",
       "<table border=\"1\" class=\"dataframe\">\n",
       "  <thead>\n",
       "    <tr style=\"text-align: right;\">\n",
       "      <th></th>\n",
       "      <th>A</th>\n",
       "      <th>B</th>\n",
       "      <th>C</th>\n",
       "      <th>D</th>\n",
       "      <th>f</th>\n",
       "      <th>E</th>\n",
       "    </tr>\n",
       "  </thead>\n",
       "  <tbody>\n",
       "    <tr>\n",
       "      <th>2013-01-02</th>\n",
       "      <td>-0.25748</td>\n",
       "      <td>-0.100852</td>\n",
       "      <td>-0.784089</td>\n",
       "      <td>5</td>\n",
       "      <td>1.0</td>\n",
       "      <td>1.0</td>\n",
       "    </tr>\n",
       "  </tbody>\n",
       "</table>\n",
       "</div>"
      ],
      "text/plain": [
       "                  A         B         C  D    f    E\n",
       "2013-01-02 -0.25748 -0.100852 -0.784089  5  1.0  1.0"
      ]
     },
     "execution_count": 46,
     "metadata": {},
     "output_type": "execute_result"
    }
   ],
   "source": [
    "df1.dropna(how='any')"
   ]
  },
  {
   "cell_type": "markdown",
   "id": "f48a32a3",
   "metadata": {},
   "source": [
    "> 결측치 채워넣기"
   ]
  },
  {
   "cell_type": "code",
   "execution_count": 47,
   "id": "bd33b409",
   "metadata": {},
   "outputs": [
    {
     "data": {
      "text/html": [
       "<div>\n",
       "<style scoped>\n",
       "    .dataframe tbody tr th:only-of-type {\n",
       "        vertical-align: middle;\n",
       "    }\n",
       "\n",
       "    .dataframe tbody tr th {\n",
       "        vertical-align: top;\n",
       "    }\n",
       "\n",
       "    .dataframe thead th {\n",
       "        text-align: right;\n",
       "    }\n",
       "</style>\n",
       "<table border=\"1\" class=\"dataframe\">\n",
       "  <thead>\n",
       "    <tr style=\"text-align: right;\">\n",
       "      <th></th>\n",
       "      <th>A</th>\n",
       "      <th>B</th>\n",
       "      <th>C</th>\n",
       "      <th>D</th>\n",
       "      <th>f</th>\n",
       "      <th>E</th>\n",
       "    </tr>\n",
       "  </thead>\n",
       "  <tbody>\n",
       "    <tr>\n",
       "      <th>2013-01-01</th>\n",
       "      <td>0.000000</td>\n",
       "      <td>0.000000</td>\n",
       "      <td>-0.676452</td>\n",
       "      <td>5</td>\n",
       "      <td>5.0</td>\n",
       "      <td>1.0</td>\n",
       "    </tr>\n",
       "    <tr>\n",
       "      <th>2013-01-02</th>\n",
       "      <td>-0.257480</td>\n",
       "      <td>-0.100852</td>\n",
       "      <td>-0.784089</td>\n",
       "      <td>5</td>\n",
       "      <td>1.0</td>\n",
       "      <td>1.0</td>\n",
       "    </tr>\n",
       "    <tr>\n",
       "      <th>2013-01-03</th>\n",
       "      <td>-1.580742</td>\n",
       "      <td>0.080017</td>\n",
       "      <td>2.600976</td>\n",
       "      <td>5</td>\n",
       "      <td>2.0</td>\n",
       "      <td>5.0</td>\n",
       "    </tr>\n",
       "    <tr>\n",
       "      <th>2013-01-04</th>\n",
       "      <td>1.026957</td>\n",
       "      <td>-0.587041</td>\n",
       "      <td>1.167862</td>\n",
       "      <td>5</td>\n",
       "      <td>3.0</td>\n",
       "      <td>5.0</td>\n",
       "    </tr>\n",
       "  </tbody>\n",
       "</table>\n",
       "</div>"
      ],
      "text/plain": [
       "                   A         B         C  D    f    E\n",
       "2013-01-01  0.000000  0.000000 -0.676452  5  5.0  1.0\n",
       "2013-01-02 -0.257480 -0.100852 -0.784089  5  1.0  1.0\n",
       "2013-01-03 -1.580742  0.080017  2.600976  5  2.0  5.0\n",
       "2013-01-04  1.026957 -0.587041  1.167862  5  3.0  5.0"
      ]
     },
     "execution_count": 47,
     "metadata": {},
     "output_type": "execute_result"
    }
   ],
   "source": [
    "df1.fillna(value=5)"
   ]
  },
  {
   "cell_type": "markdown",
   "id": "62baff17",
   "metadata": {},
   "source": [
    "> NaN 값을 boolean을 통해 표시\n",
    ">\n",
    "> <u>\"*isna()*\"</u> 값이 있는 데이터는 False, NAN인 값은 True 로 표시"
   ]
  },
  {
   "cell_type": "code",
   "execution_count": 48,
   "id": "dcf2d2b3",
   "metadata": {},
   "outputs": [
    {
     "data": {
      "text/html": [
       "<div>\n",
       "<style scoped>\n",
       "    .dataframe tbody tr th:only-of-type {\n",
       "        vertical-align: middle;\n",
       "    }\n",
       "\n",
       "    .dataframe tbody tr th {\n",
       "        vertical-align: top;\n",
       "    }\n",
       "\n",
       "    .dataframe thead th {\n",
       "        text-align: right;\n",
       "    }\n",
       "</style>\n",
       "<table border=\"1\" class=\"dataframe\">\n",
       "  <thead>\n",
       "    <tr style=\"text-align: right;\">\n",
       "      <th></th>\n",
       "      <th>A</th>\n",
       "      <th>B</th>\n",
       "      <th>C</th>\n",
       "      <th>D</th>\n",
       "      <th>f</th>\n",
       "      <th>E</th>\n",
       "    </tr>\n",
       "  </thead>\n",
       "  <tbody>\n",
       "    <tr>\n",
       "      <th>2013-01-01</th>\n",
       "      <td>False</td>\n",
       "      <td>False</td>\n",
       "      <td>False</td>\n",
       "      <td>False</td>\n",
       "      <td>True</td>\n",
       "      <td>False</td>\n",
       "    </tr>\n",
       "    <tr>\n",
       "      <th>2013-01-02</th>\n",
       "      <td>False</td>\n",
       "      <td>False</td>\n",
       "      <td>False</td>\n",
       "      <td>False</td>\n",
       "      <td>False</td>\n",
       "      <td>False</td>\n",
       "    </tr>\n",
       "    <tr>\n",
       "      <th>2013-01-03</th>\n",
       "      <td>False</td>\n",
       "      <td>False</td>\n",
       "      <td>False</td>\n",
       "      <td>False</td>\n",
       "      <td>False</td>\n",
       "      <td>True</td>\n",
       "    </tr>\n",
       "    <tr>\n",
       "      <th>2013-01-04</th>\n",
       "      <td>False</td>\n",
       "      <td>False</td>\n",
       "      <td>False</td>\n",
       "      <td>False</td>\n",
       "      <td>False</td>\n",
       "      <td>True</td>\n",
       "    </tr>\n",
       "  </tbody>\n",
       "</table>\n",
       "</div>"
      ],
      "text/plain": [
       "                A      B      C      D      f      E\n",
       "2013-01-01  False  False  False  False   True  False\n",
       "2013-01-02  False  False  False  False  False  False\n",
       "2013-01-03  False  False  False  False  False   True\n",
       "2013-01-04  False  False  False  False  False   True"
      ]
     },
     "execution_count": 48,
     "metadata": {},
     "output_type": "execute_result"
    }
   ],
   "source": [
    "pd.isna(df1)"
   ]
  },
  {
   "cell_type": "markdown",
   "id": "1a573a6f",
   "metadata": {},
   "source": [
    "## Operation (연산)\n",
    "\n",
    "> [이진 (Binary) 연산의 기본섹션](https://pandas.pydata.org/pandas-docs/stable/user_guide/basics.html) 참조\n",
    "### Stats (통계)\n",
    "> 일반적으로 결측치를 제외한 후 연산\n",
    "> 기술통계를 수행한다.\n",
    ">\n",
    "> <u>\"*mean()*\"</u> 기본은 columns"
   ]
  },
  {
   "cell_type": "code",
   "execution_count": 49,
   "id": "8af56908",
   "metadata": {},
   "outputs": [
    {
     "data": {
      "text/plain": [
       "A    0.470243\n",
       "B    0.059713\n",
       "C    0.427273\n",
       "D    5.000000\n",
       "f    3.000000\n",
       "dtype: float64"
      ]
     },
     "execution_count": 49,
     "metadata": {},
     "output_type": "execute_result"
    }
   ],
   "source": [
    "df.mean()"
   ]
  },
  {
   "cell_type": "markdown",
   "id": "af7361b3",
   "metadata": {},
   "source": [
    "> rows axes"
   ]
  },
  {
   "cell_type": "code",
   "execution_count": 50,
   "id": "0b0b699e",
   "metadata": {},
   "outputs": [
    {
     "data": {
      "text/plain": [
       "2013-01-01    1.080887\n",
       "2013-01-02    0.971516\n",
       "2013-01-03    1.620050\n",
       "2013-01-04    1.921555\n",
       "2013-01-05    2.366330\n",
       "2013-01-06    2.404514\n",
       "Freq: D, dtype: float64"
      ]
     },
     "execution_count": 50,
     "metadata": {},
     "output_type": "execute_result"
    }
   ],
   "source": [
    "df.mean(1)"
   ]
  },
  {
   "cell_type": "markdown",
   "id": "61c3e767",
   "metadata": {},
   "source": [
    "정렬이 필요하며, 차원이 다른 객체로 연산해보겠습니다.\n",
    "\n",
    "또한, pandas는 지정된 차원을 따라 자동으로 브로드 캐스팅됩니다.\n",
    "\n",
    "역자 주 : broadcast란 numpy에서 유래한 용어로, n차원이나 스칼라 값으로 연산을 수행할 때 도출되는 결과의 규칙을 설명하는 것을 의미"
   ]
  },
  {
   "cell_type": "markdown",
   "id": "a095c5f7",
   "metadata": {},
   "source": [
    "shift???? </br>\n",
    "sub????"
   ]
  },
  {
   "cell_type": "code",
   "execution_count": 51,
   "id": "a2f82127",
   "metadata": {},
   "outputs": [
    {
     "data": {
      "text/plain": [
       "2013-01-01    NaN\n",
       "2013-01-02    NaN\n",
       "2013-01-03    1.0\n",
       "2013-01-04    3.0\n",
       "2013-01-05    5.0\n",
       "2013-01-06    NaN\n",
       "Freq: D, dtype: float64"
      ]
     },
     "execution_count": 51,
     "metadata": {},
     "output_type": "execute_result"
    }
   ],
   "source": [
    "s = pd.Series([1, 3, 5, np.nan, 6, 8], index=dates).shift(2)\n",
    "s"
   ]
  },
  {
   "cell_type": "code",
   "execution_count": 52,
   "id": "004b6fb7",
   "metadata": {},
   "outputs": [
    {
     "data": {
      "text/html": [
       "<div>\n",
       "<style scoped>\n",
       "    .dataframe tbody tr th:only-of-type {\n",
       "        vertical-align: middle;\n",
       "    }\n",
       "\n",
       "    .dataframe tbody tr th {\n",
       "        vertical-align: top;\n",
       "    }\n",
       "\n",
       "    .dataframe thead th {\n",
       "        text-align: right;\n",
       "    }\n",
       "</style>\n",
       "<table border=\"1\" class=\"dataframe\">\n",
       "  <thead>\n",
       "    <tr style=\"text-align: right;\">\n",
       "      <th></th>\n",
       "      <th>A</th>\n",
       "      <th>B</th>\n",
       "      <th>C</th>\n",
       "      <th>D</th>\n",
       "      <th>f</th>\n",
       "    </tr>\n",
       "  </thead>\n",
       "  <tbody>\n",
       "    <tr>\n",
       "      <th>2013-01-01</th>\n",
       "      <td>NaN</td>\n",
       "      <td>NaN</td>\n",
       "      <td>NaN</td>\n",
       "      <td>NaN</td>\n",
       "      <td>NaN</td>\n",
       "    </tr>\n",
       "    <tr>\n",
       "      <th>2013-01-02</th>\n",
       "      <td>NaN</td>\n",
       "      <td>NaN</td>\n",
       "      <td>NaN</td>\n",
       "      <td>NaN</td>\n",
       "      <td>NaN</td>\n",
       "    </tr>\n",
       "    <tr>\n",
       "      <th>2013-01-03</th>\n",
       "      <td>-2.580742</td>\n",
       "      <td>-0.919983</td>\n",
       "      <td>1.600976</td>\n",
       "      <td>4.0</td>\n",
       "      <td>1.0</td>\n",
       "    </tr>\n",
       "    <tr>\n",
       "      <th>2013-01-04</th>\n",
       "      <td>-1.973043</td>\n",
       "      <td>-3.587041</td>\n",
       "      <td>-1.832138</td>\n",
       "      <td>2.0</td>\n",
       "      <td>0.0</td>\n",
       "    </tr>\n",
       "    <tr>\n",
       "      <th>2013-01-05</th>\n",
       "      <td>-2.660551</td>\n",
       "      <td>-4.889585</td>\n",
       "      <td>-4.618216</td>\n",
       "      <td>0.0</td>\n",
       "      <td>-1.0</td>\n",
       "    </tr>\n",
       "    <tr>\n",
       "      <th>2013-01-06</th>\n",
       "      <td>NaN</td>\n",
       "      <td>NaN</td>\n",
       "      <td>NaN</td>\n",
       "      <td>NaN</td>\n",
       "      <td>NaN</td>\n",
       "    </tr>\n",
       "  </tbody>\n",
       "</table>\n",
       "</div>"
      ],
      "text/plain": [
       "                   A         B         C    D    f\n",
       "2013-01-01       NaN       NaN       NaN  NaN  NaN\n",
       "2013-01-02       NaN       NaN       NaN  NaN  NaN\n",
       "2013-01-03 -2.580742 -0.919983  1.600976  4.0  1.0\n",
       "2013-01-04 -1.973043 -3.587041 -1.832138  2.0  0.0\n",
       "2013-01-05 -2.660551 -4.889585 -4.618216  0.0 -1.0\n",
       "2013-01-06       NaN       NaN       NaN  NaN  NaN"
      ]
     },
     "execution_count": 52,
     "metadata": {},
     "output_type": "execute_result"
    }
   ],
   "source": [
    "df.sub(s, axis='index')"
   ]
  },
  {
   "cell_type": "markdown",
   "id": "9436f317",
   "metadata": {},
   "source": [
    "### Apply (적용)\n",
    "> 데이터에 함수를 적용"
   ]
  },
  {
   "cell_type": "code",
   "execution_count": 53,
   "id": "f7154338",
   "metadata": {},
   "outputs": [
    {
     "data": {
      "text/html": [
       "<div>\n",
       "<style scoped>\n",
       "    .dataframe tbody tr th:only-of-type {\n",
       "        vertical-align: middle;\n",
       "    }\n",
       "\n",
       "    .dataframe tbody tr th {\n",
       "        vertical-align: top;\n",
       "    }\n",
       "\n",
       "    .dataframe thead th {\n",
       "        text-align: right;\n",
       "    }\n",
       "</style>\n",
       "<table border=\"1\" class=\"dataframe\">\n",
       "  <thead>\n",
       "    <tr style=\"text-align: right;\">\n",
       "      <th></th>\n",
       "      <th>A</th>\n",
       "      <th>B</th>\n",
       "      <th>C</th>\n",
       "      <th>D</th>\n",
       "      <th>f</th>\n",
       "    </tr>\n",
       "  </thead>\n",
       "  <tbody>\n",
       "    <tr>\n",
       "      <th>2013-01-01</th>\n",
       "      <td>0.000000</td>\n",
       "      <td>0.000000</td>\n",
       "      <td>-0.676452</td>\n",
       "      <td>5</td>\n",
       "      <td>NaN</td>\n",
       "    </tr>\n",
       "    <tr>\n",
       "      <th>2013-01-02</th>\n",
       "      <td>-0.257480</td>\n",
       "      <td>-0.100852</td>\n",
       "      <td>-1.460540</td>\n",
       "      <td>10</td>\n",
       "      <td>1.0</td>\n",
       "    </tr>\n",
       "    <tr>\n",
       "      <th>2013-01-03</th>\n",
       "      <td>-1.838222</td>\n",
       "      <td>-0.020836</td>\n",
       "      <td>1.140436</td>\n",
       "      <td>15</td>\n",
       "      <td>3.0</td>\n",
       "    </tr>\n",
       "    <tr>\n",
       "      <th>2013-01-04</th>\n",
       "      <td>-0.811265</td>\n",
       "      <td>-0.607876</td>\n",
       "      <td>2.308298</td>\n",
       "      <td>20</td>\n",
       "      <td>6.0</td>\n",
       "    </tr>\n",
       "    <tr>\n",
       "      <th>2013-01-05</th>\n",
       "      <td>1.528184</td>\n",
       "      <td>-0.497461</td>\n",
       "      <td>2.690082</td>\n",
       "      <td>25</td>\n",
       "      <td>10.0</td>\n",
       "    </tr>\n",
       "    <tr>\n",
       "      <th>2013-01-06</th>\n",
       "      <td>2.821455</td>\n",
       "      <td>0.358281</td>\n",
       "      <td>2.563637</td>\n",
       "      <td>30</td>\n",
       "      <td>15.0</td>\n",
       "    </tr>\n",
       "  </tbody>\n",
       "</table>\n",
       "</div>"
      ],
      "text/plain": [
       "                   A         B         C   D     f\n",
       "2013-01-01  0.000000  0.000000 -0.676452   5   NaN\n",
       "2013-01-02 -0.257480 -0.100852 -1.460540  10   1.0\n",
       "2013-01-03 -1.838222 -0.020836  1.140436  15   3.0\n",
       "2013-01-04 -0.811265 -0.607876  2.308298  20   6.0\n",
       "2013-01-05  1.528184 -0.497461  2.690082  25  10.0\n",
       "2013-01-06  2.821455  0.358281  2.563637  30  15.0"
      ]
     },
     "execution_count": 53,
     "metadata": {},
     "output_type": "execute_result"
    }
   ],
   "source": [
    "df.apply(np.cumsum)"
   ]
  },
  {
   "cell_type": "code",
   "execution_count": 54,
   "id": "0377218a",
   "metadata": {},
   "outputs": [
    {
     "data": {
      "text/plain": [
       "A    3.920192\n",
       "B    1.442783\n",
       "C    3.385065\n",
       "D    0.000000\n",
       "f    4.000000\n",
       "dtype: float64"
      ]
     },
     "execution_count": 54,
     "metadata": {},
     "output_type": "execute_result"
    }
   ],
   "source": [
    "df.apply(lambda x: x.max() - x.min())"
   ]
  },
  {
   "cell_type": "markdown",
   "id": "c7d04dc7",
   "metadata": {},
   "source": [
    "### Histogramming (히스토그래밍)\n",
    "> [Histogramming and Discretization (히스토그래밍과 이산화)](https://pandas.pydata.org/pandas-docs/stable/user_guide/basics.html) 참조"
   ]
  },
  {
   "cell_type": "code",
   "execution_count": 55,
   "id": "b9232c4e",
   "metadata": {},
   "outputs": [],
   "source": [
    "s = pd.Series(np.random.randint(0, 7, size=10))"
   ]
  },
  {
   "cell_type": "code",
   "execution_count": 56,
   "id": "e90dabea",
   "metadata": {},
   "outputs": [
    {
     "data": {
      "text/plain": [
       "0    5\n",
       "1    5\n",
       "2    6\n",
       "3    6\n",
       "4    0\n",
       "5    4\n",
       "6    0\n",
       "7    3\n",
       "8    4\n",
       "9    5\n",
       "dtype: int32"
      ]
     },
     "execution_count": 56,
     "metadata": {},
     "output_type": "execute_result"
    }
   ],
   "source": [
    "s"
   ]
  },
  {
   "cell_type": "code",
   "execution_count": 57,
   "id": "ff1be3ad",
   "metadata": {},
   "outputs": [
    {
     "data": {
      "text/plain": [
       "5    3\n",
       "6    2\n",
       "0    2\n",
       "4    2\n",
       "3    1\n",
       "dtype: int64"
      ]
     },
     "execution_count": 57,
     "metadata": {},
     "output_type": "execute_result"
    }
   ],
   "source": [
    "s.value_counts()"
   ]
  },
  {
   "cell_type": "markdown",
   "id": "9d81db5a",
   "metadata": {},
   "source": [
    "### String Methods (문자열 메소드)\n",
    ">Series는 문자열 처리 메소드 모음 (set)을 가지고 있다.\n",
    ">\n",
    ">이 모음은 배열의 각 요소를 쉽게 조작할 수 있도록 만들어주는 문자열의 속성에 포함되어 있습니다.\n",
    ">\n",
    ">문자열의 패턴 일치 확인은 기본적으로 정규 표현식을 사용, 몇몇의 경우 항상 정규 표현식을 사용함에 유의.\n",
    "\n",
    ">좀 더 자세한 내용은 [벡터화된 문자열 메소드](https://pandas.pydata.org/pandas-docs/stable/user_guide/text.html) 부분에서 확인할 수 있습니다."
   ]
  },
  {
   "cell_type": "code",
   "execution_count": 58,
   "id": "57982fbb",
   "metadata": {},
   "outputs": [],
   "source": [
    "s = pd.Series(['A', 'B', 'C', 'Aaba', 'Baca', np.nan, 'caba', 'dog', 'cat'])"
   ]
  },
  {
   "cell_type": "code",
   "execution_count": 59,
   "id": "ba0e0d3a",
   "metadata": {},
   "outputs": [
    {
     "data": {
      "text/plain": [
       "0       a\n",
       "1       b\n",
       "2       c\n",
       "3    aaba\n",
       "4    baca\n",
       "5     NaN\n",
       "6    caba\n",
       "7     dog\n",
       "8     cat\n",
       "dtype: object"
      ]
     },
     "execution_count": 59,
     "metadata": {},
     "output_type": "execute_result"
    }
   ],
   "source": [
    "s.str.lower()"
   ]
  },
  {
   "cell_type": "markdown",
   "id": "488c802c",
   "metadata": {},
   "source": [
    "## Merge (병합)\n",
    "### Concat (연결)\n",
    ">결합 (join) / 병합 (merge) 형태의 연산에 대한 인덱스, 관계 대수 기능을 위한 다양한 형태의 논리를 포함한 <u>Series, DataFrame, Panel</u> 객체를 손쉽게 결합할 수 있도록 하는 다양한 기능을 pandas 에서 제공\n",
    ">\n",
    ">[Merging](https://pandas.pydata.org/pandas-docs/stable/user_guide/merging.html) 참조.\n",
    ">\n",
    ">[concat()](https://pandas.pydata.org/pandas-docs/stable/reference/api/pandas.concat.html)으로 pandas 객체를 연결."
   ]
  },
  {
   "cell_type": "code",
   "execution_count": 60,
   "id": "6de56376",
   "metadata": {},
   "outputs": [],
   "source": [
    "df = pd.DataFrame(np.random.randn(10, 4))"
   ]
  },
  {
   "cell_type": "code",
   "execution_count": 61,
   "id": "56680f59",
   "metadata": {},
   "outputs": [
    {
     "data": {
      "text/html": [
       "<div>\n",
       "<style scoped>\n",
       "    .dataframe tbody tr th:only-of-type {\n",
       "        vertical-align: middle;\n",
       "    }\n",
       "\n",
       "    .dataframe tbody tr th {\n",
       "        vertical-align: top;\n",
       "    }\n",
       "\n",
       "    .dataframe thead th {\n",
       "        text-align: right;\n",
       "    }\n",
       "</style>\n",
       "<table border=\"1\" class=\"dataframe\">\n",
       "  <thead>\n",
       "    <tr style=\"text-align: right;\">\n",
       "      <th></th>\n",
       "      <th>0</th>\n",
       "      <th>1</th>\n",
       "      <th>2</th>\n",
       "      <th>3</th>\n",
       "    </tr>\n",
       "  </thead>\n",
       "  <tbody>\n",
       "    <tr>\n",
       "      <th>0</th>\n",
       "      <td>0.304719</td>\n",
       "      <td>0.003514</td>\n",
       "      <td>0.306091</td>\n",
       "      <td>-1.129754</td>\n",
       "    </tr>\n",
       "    <tr>\n",
       "      <th>1</th>\n",
       "      <td>-0.952811</td>\n",
       "      <td>0.715470</td>\n",
       "      <td>-1.107166</td>\n",
       "      <td>1.338748</td>\n",
       "    </tr>\n",
       "    <tr>\n",
       "      <th>2</th>\n",
       "      <td>-1.724219</td>\n",
       "      <td>-0.324601</td>\n",
       "      <td>2.282762</td>\n",
       "      <td>-0.651907</td>\n",
       "    </tr>\n",
       "    <tr>\n",
       "      <th>3</th>\n",
       "      <td>-0.165102</td>\n",
       "      <td>-0.210474</td>\n",
       "      <td>-0.651731</td>\n",
       "      <td>-1.125505</td>\n",
       "    </tr>\n",
       "    <tr>\n",
       "      <th>4</th>\n",
       "      <td>-1.386691</td>\n",
       "      <td>-0.667016</td>\n",
       "      <td>-0.835811</td>\n",
       "      <td>0.141024</td>\n",
       "    </tr>\n",
       "    <tr>\n",
       "      <th>5</th>\n",
       "      <td>-0.855057</td>\n",
       "      <td>-0.299879</td>\n",
       "      <td>1.422138</td>\n",
       "      <td>0.330176</td>\n",
       "    </tr>\n",
       "    <tr>\n",
       "      <th>6</th>\n",
       "      <td>-1.632346</td>\n",
       "      <td>0.255697</td>\n",
       "      <td>-0.162283</td>\n",
       "      <td>-0.341932</td>\n",
       "    </tr>\n",
       "    <tr>\n",
       "      <th>7</th>\n",
       "      <td>1.232764</td>\n",
       "      <td>-1.288877</td>\n",
       "      <td>1.255990</td>\n",
       "      <td>0.251345</td>\n",
       "    </tr>\n",
       "    <tr>\n",
       "      <th>8</th>\n",
       "      <td>-0.186698</td>\n",
       "      <td>1.142399</td>\n",
       "      <td>-0.680933</td>\n",
       "      <td>-0.344887</td>\n",
       "    </tr>\n",
       "    <tr>\n",
       "      <th>9</th>\n",
       "      <td>-0.241755</td>\n",
       "      <td>-0.753823</td>\n",
       "      <td>0.401576</td>\n",
       "      <td>-0.621226</td>\n",
       "    </tr>\n",
       "  </tbody>\n",
       "</table>\n",
       "</div>"
      ],
      "text/plain": [
       "          0         1         2         3\n",
       "0  0.304719  0.003514  0.306091 -1.129754\n",
       "1 -0.952811  0.715470 -1.107166  1.338748\n",
       "2 -1.724219 -0.324601  2.282762 -0.651907\n",
       "3 -0.165102 -0.210474 -0.651731 -1.125505\n",
       "4 -1.386691 -0.667016 -0.835811  0.141024\n",
       "5 -0.855057 -0.299879  1.422138  0.330176\n",
       "6 -1.632346  0.255697 -0.162283 -0.341932\n",
       "7  1.232764 -1.288877  1.255990  0.251345\n",
       "8 -0.186698  1.142399 -0.680933 -0.344887\n",
       "9 -0.241755 -0.753823  0.401576 -0.621226"
      ]
     },
     "execution_count": 61,
     "metadata": {},
     "output_type": "execute_result"
    }
   ],
   "source": [
    "df"
   ]
  },
  {
   "cell_type": "code",
   "execution_count": 62,
   "id": "87e32da0",
   "metadata": {},
   "outputs": [
    {
     "data": {
      "text/plain": [
       "[          0         1         2         3\n",
       " 0  0.304719  0.003514  0.306091 -1.129754\n",
       " 1 -0.952811  0.715470 -1.107166  1.338748\n",
       " 2 -1.724219 -0.324601  2.282762 -0.651907,\n",
       "           0         1         2         3\n",
       " 3 -0.165102 -0.210474 -0.651731 -1.125505\n",
       " 4 -1.386691 -0.667016 -0.835811  0.141024\n",
       " 5 -0.855057 -0.299879  1.422138  0.330176\n",
       " 6 -1.632346  0.255697 -0.162283 -0.341932,\n",
       "           0         1         2         3\n",
       " 7  1.232764 -1.288877  1.255990  0.251345\n",
       " 8 -0.186698  1.142399 -0.680933 -0.344887\n",
       " 9 -0.241755 -0.753823  0.401576 -0.621226]"
      ]
     },
     "execution_count": 62,
     "metadata": {},
     "output_type": "execute_result"
    }
   ],
   "source": [
    "pieces = [df[:3], df[3:7], df[7:]]\n",
    "pieces"
   ]
  },
  {
   "cell_type": "code",
   "execution_count": 63,
   "id": "9a8744f8",
   "metadata": {},
   "outputs": [
    {
     "data": {
      "text/html": [
       "<div>\n",
       "<style scoped>\n",
       "    .dataframe tbody tr th:only-of-type {\n",
       "        vertical-align: middle;\n",
       "    }\n",
       "\n",
       "    .dataframe tbody tr th {\n",
       "        vertical-align: top;\n",
       "    }\n",
       "\n",
       "    .dataframe thead th {\n",
       "        text-align: right;\n",
       "    }\n",
       "</style>\n",
       "<table border=\"1\" class=\"dataframe\">\n",
       "  <thead>\n",
       "    <tr style=\"text-align: right;\">\n",
       "      <th></th>\n",
       "      <th>0</th>\n",
       "      <th>1</th>\n",
       "      <th>2</th>\n",
       "      <th>3</th>\n",
       "    </tr>\n",
       "  </thead>\n",
       "  <tbody>\n",
       "    <tr>\n",
       "      <th>0</th>\n",
       "      <td>0.304719</td>\n",
       "      <td>0.003514</td>\n",
       "      <td>0.306091</td>\n",
       "      <td>-1.129754</td>\n",
       "    </tr>\n",
       "    <tr>\n",
       "      <th>1</th>\n",
       "      <td>-0.952811</td>\n",
       "      <td>0.715470</td>\n",
       "      <td>-1.107166</td>\n",
       "      <td>1.338748</td>\n",
       "    </tr>\n",
       "    <tr>\n",
       "      <th>2</th>\n",
       "      <td>-1.724219</td>\n",
       "      <td>-0.324601</td>\n",
       "      <td>2.282762</td>\n",
       "      <td>-0.651907</td>\n",
       "    </tr>\n",
       "    <tr>\n",
       "      <th>3</th>\n",
       "      <td>-0.165102</td>\n",
       "      <td>-0.210474</td>\n",
       "      <td>-0.651731</td>\n",
       "      <td>-1.125505</td>\n",
       "    </tr>\n",
       "    <tr>\n",
       "      <th>4</th>\n",
       "      <td>-1.386691</td>\n",
       "      <td>-0.667016</td>\n",
       "      <td>-0.835811</td>\n",
       "      <td>0.141024</td>\n",
       "    </tr>\n",
       "    <tr>\n",
       "      <th>5</th>\n",
       "      <td>-0.855057</td>\n",
       "      <td>-0.299879</td>\n",
       "      <td>1.422138</td>\n",
       "      <td>0.330176</td>\n",
       "    </tr>\n",
       "    <tr>\n",
       "      <th>6</th>\n",
       "      <td>-1.632346</td>\n",
       "      <td>0.255697</td>\n",
       "      <td>-0.162283</td>\n",
       "      <td>-0.341932</td>\n",
       "    </tr>\n",
       "    <tr>\n",
       "      <th>7</th>\n",
       "      <td>1.232764</td>\n",
       "      <td>-1.288877</td>\n",
       "      <td>1.255990</td>\n",
       "      <td>0.251345</td>\n",
       "    </tr>\n",
       "    <tr>\n",
       "      <th>8</th>\n",
       "      <td>-0.186698</td>\n",
       "      <td>1.142399</td>\n",
       "      <td>-0.680933</td>\n",
       "      <td>-0.344887</td>\n",
       "    </tr>\n",
       "    <tr>\n",
       "      <th>9</th>\n",
       "      <td>-0.241755</td>\n",
       "      <td>-0.753823</td>\n",
       "      <td>0.401576</td>\n",
       "      <td>-0.621226</td>\n",
       "    </tr>\n",
       "  </tbody>\n",
       "</table>\n",
       "</div>"
      ],
      "text/plain": [
       "          0         1         2         3\n",
       "0  0.304719  0.003514  0.306091 -1.129754\n",
       "1 -0.952811  0.715470 -1.107166  1.338748\n",
       "2 -1.724219 -0.324601  2.282762 -0.651907\n",
       "3 -0.165102 -0.210474 -0.651731 -1.125505\n",
       "4 -1.386691 -0.667016 -0.835811  0.141024\n",
       "5 -0.855057 -0.299879  1.422138  0.330176\n",
       "6 -1.632346  0.255697 -0.162283 -0.341932\n",
       "7  1.232764 -1.288877  1.255990  0.251345\n",
       "8 -0.186698  1.142399 -0.680933 -0.344887\n",
       "9 -0.241755 -0.753823  0.401576 -0.621226"
      ]
     },
     "execution_count": 63,
     "metadata": {},
     "output_type": "execute_result"
    }
   ],
   "source": [
    "pd.concat(pieces)"
   ]
  },
  {
   "cell_type": "markdown",
   "id": "6bf2357f",
   "metadata": {},
   "source": [
    "### join (결합)\n",
    "> <u>\"*SQL*\"</u> 방식으로 병합. [데이터베이스 스타일 결합](https://pandas.pydata.org/pandas-docs/stable/user_guide/merging.html) 참고."
   ]
  },
  {
   "cell_type": "code",
   "execution_count": 64,
   "id": "e722383b",
   "metadata": {},
   "outputs": [],
   "source": [
    "left = pd.DataFrame({'key' : ['foo', 'foo'], 'lval' : [1, 2]})\n",
    "right = pd.DataFrame({'key' : ['foo', 'foo'], 'rval' : [4, 5]})"
   ]
  },
  {
   "cell_type": "code",
   "execution_count": 65,
   "id": "811e4849",
   "metadata": {},
   "outputs": [
    {
     "data": {
      "text/html": [
       "<div>\n",
       "<style scoped>\n",
       "    .dataframe tbody tr th:only-of-type {\n",
       "        vertical-align: middle;\n",
       "    }\n",
       "\n",
       "    .dataframe tbody tr th {\n",
       "        vertical-align: top;\n",
       "    }\n",
       "\n",
       "    .dataframe thead th {\n",
       "        text-align: right;\n",
       "    }\n",
       "</style>\n",
       "<table border=\"1\" class=\"dataframe\">\n",
       "  <thead>\n",
       "    <tr style=\"text-align: right;\">\n",
       "      <th></th>\n",
       "      <th>key</th>\n",
       "      <th>lval</th>\n",
       "    </tr>\n",
       "  </thead>\n",
       "  <tbody>\n",
       "    <tr>\n",
       "      <th>0</th>\n",
       "      <td>foo</td>\n",
       "      <td>1</td>\n",
       "    </tr>\n",
       "    <tr>\n",
       "      <th>1</th>\n",
       "      <td>foo</td>\n",
       "      <td>2</td>\n",
       "    </tr>\n",
       "  </tbody>\n",
       "</table>\n",
       "</div>"
      ],
      "text/plain": [
       "   key  lval\n",
       "0  foo     1\n",
       "1  foo     2"
      ]
     },
     "execution_count": 65,
     "metadata": {},
     "output_type": "execute_result"
    }
   ],
   "source": [
    "left"
   ]
  },
  {
   "cell_type": "code",
   "execution_count": 66,
   "id": "1626f55e",
   "metadata": {},
   "outputs": [
    {
     "data": {
      "text/html": [
       "<div>\n",
       "<style scoped>\n",
       "    .dataframe tbody tr th:only-of-type {\n",
       "        vertical-align: middle;\n",
       "    }\n",
       "\n",
       "    .dataframe tbody tr th {\n",
       "        vertical-align: top;\n",
       "    }\n",
       "\n",
       "    .dataframe thead th {\n",
       "        text-align: right;\n",
       "    }\n",
       "</style>\n",
       "<table border=\"1\" class=\"dataframe\">\n",
       "  <thead>\n",
       "    <tr style=\"text-align: right;\">\n",
       "      <th></th>\n",
       "      <th>key</th>\n",
       "      <th>rval</th>\n",
       "    </tr>\n",
       "  </thead>\n",
       "  <tbody>\n",
       "    <tr>\n",
       "      <th>0</th>\n",
       "      <td>foo</td>\n",
       "      <td>4</td>\n",
       "    </tr>\n",
       "    <tr>\n",
       "      <th>1</th>\n",
       "      <td>foo</td>\n",
       "      <td>5</td>\n",
       "    </tr>\n",
       "  </tbody>\n",
       "</table>\n",
       "</div>"
      ],
      "text/plain": [
       "   key  rval\n",
       "0  foo     4\n",
       "1  foo     5"
      ]
     },
     "execution_count": 66,
     "metadata": {},
     "output_type": "execute_result"
    }
   ],
   "source": [
    "right"
   ]
  },
  {
   "cell_type": "code",
   "execution_count": 67,
   "id": "d796926f",
   "metadata": {},
   "outputs": [
    {
     "data": {
      "text/html": [
       "<div>\n",
       "<style scoped>\n",
       "    .dataframe tbody tr th:only-of-type {\n",
       "        vertical-align: middle;\n",
       "    }\n",
       "\n",
       "    .dataframe tbody tr th {\n",
       "        vertical-align: top;\n",
       "    }\n",
       "\n",
       "    .dataframe thead th {\n",
       "        text-align: right;\n",
       "    }\n",
       "</style>\n",
       "<table border=\"1\" class=\"dataframe\">\n",
       "  <thead>\n",
       "    <tr style=\"text-align: right;\">\n",
       "      <th></th>\n",
       "      <th>key</th>\n",
       "      <th>lval</th>\n",
       "      <th>rval</th>\n",
       "    </tr>\n",
       "  </thead>\n",
       "  <tbody>\n",
       "    <tr>\n",
       "      <th>0</th>\n",
       "      <td>foo</td>\n",
       "      <td>1</td>\n",
       "      <td>4</td>\n",
       "    </tr>\n",
       "    <tr>\n",
       "      <th>1</th>\n",
       "      <td>foo</td>\n",
       "      <td>1</td>\n",
       "      <td>5</td>\n",
       "    </tr>\n",
       "    <tr>\n",
       "      <th>2</th>\n",
       "      <td>foo</td>\n",
       "      <td>2</td>\n",
       "      <td>4</td>\n",
       "    </tr>\n",
       "    <tr>\n",
       "      <th>3</th>\n",
       "      <td>foo</td>\n",
       "      <td>2</td>\n",
       "      <td>5</td>\n",
       "    </tr>\n",
       "  </tbody>\n",
       "</table>\n",
       "</div>"
      ],
      "text/plain": [
       "   key  lval  rval\n",
       "0  foo     1     4\n",
       "1  foo     1     5\n",
       "2  foo     2     4\n",
       "3  foo     2     5"
      ]
     },
     "execution_count": 67,
     "metadata": {},
     "output_type": "execute_result"
    }
   ],
   "source": [
    "pd.merge(left, right, on='key')"
   ]
  },
  {
   "cell_type": "markdown",
   "id": "aa0fbecb",
   "metadata": {},
   "source": [
    "> 다른 ex)"
   ]
  },
  {
   "cell_type": "code",
   "execution_count": 68,
   "id": "c615ea10",
   "metadata": {},
   "outputs": [],
   "source": [
    "left = pd.DataFrame({'key' : ['foo', 'bar'], 'lval' : [1, 2]})\n",
    "right = pd.DataFrame({'key' : ['foo', 'bar'], 'rval' : [4, 5]})"
   ]
  },
  {
   "cell_type": "code",
   "execution_count": 69,
   "id": "1ed4202c",
   "metadata": {},
   "outputs": [
    {
     "data": {
      "text/html": [
       "<div>\n",
       "<style scoped>\n",
       "    .dataframe tbody tr th:only-of-type {\n",
       "        vertical-align: middle;\n",
       "    }\n",
       "\n",
       "    .dataframe tbody tr th {\n",
       "        vertical-align: top;\n",
       "    }\n",
       "\n",
       "    .dataframe thead th {\n",
       "        text-align: right;\n",
       "    }\n",
       "</style>\n",
       "<table border=\"1\" class=\"dataframe\">\n",
       "  <thead>\n",
       "    <tr style=\"text-align: right;\">\n",
       "      <th></th>\n",
       "      <th>key</th>\n",
       "      <th>lval</th>\n",
       "    </tr>\n",
       "  </thead>\n",
       "  <tbody>\n",
       "    <tr>\n",
       "      <th>0</th>\n",
       "      <td>foo</td>\n",
       "      <td>1</td>\n",
       "    </tr>\n",
       "    <tr>\n",
       "      <th>1</th>\n",
       "      <td>bar</td>\n",
       "      <td>2</td>\n",
       "    </tr>\n",
       "  </tbody>\n",
       "</table>\n",
       "</div>"
      ],
      "text/plain": [
       "   key  lval\n",
       "0  foo     1\n",
       "1  bar     2"
      ]
     },
     "execution_count": 69,
     "metadata": {},
     "output_type": "execute_result"
    }
   ],
   "source": [
    "left"
   ]
  },
  {
   "cell_type": "code",
   "execution_count": 70,
   "id": "d4ed6ed8",
   "metadata": {},
   "outputs": [
    {
     "data": {
      "text/html": [
       "<div>\n",
       "<style scoped>\n",
       "    .dataframe tbody tr th:only-of-type {\n",
       "        vertical-align: middle;\n",
       "    }\n",
       "\n",
       "    .dataframe tbody tr th {\n",
       "        vertical-align: top;\n",
       "    }\n",
       "\n",
       "    .dataframe thead th {\n",
       "        text-align: right;\n",
       "    }\n",
       "</style>\n",
       "<table border=\"1\" class=\"dataframe\">\n",
       "  <thead>\n",
       "    <tr style=\"text-align: right;\">\n",
       "      <th></th>\n",
       "      <th>key</th>\n",
       "      <th>rval</th>\n",
       "    </tr>\n",
       "  </thead>\n",
       "  <tbody>\n",
       "    <tr>\n",
       "      <th>0</th>\n",
       "      <td>foo</td>\n",
       "      <td>4</td>\n",
       "    </tr>\n",
       "    <tr>\n",
       "      <th>1</th>\n",
       "      <td>bar</td>\n",
       "      <td>5</td>\n",
       "    </tr>\n",
       "  </tbody>\n",
       "</table>\n",
       "</div>"
      ],
      "text/plain": [
       "   key  rval\n",
       "0  foo     4\n",
       "1  bar     5"
      ]
     },
     "execution_count": 70,
     "metadata": {},
     "output_type": "execute_result"
    }
   ],
   "source": [
    "right"
   ]
  },
  {
   "cell_type": "code",
   "execution_count": 71,
   "id": "ebf3e00e",
   "metadata": {},
   "outputs": [
    {
     "data": {
      "text/html": [
       "<div>\n",
       "<style scoped>\n",
       "    .dataframe tbody tr th:only-of-type {\n",
       "        vertical-align: middle;\n",
       "    }\n",
       "\n",
       "    .dataframe tbody tr th {\n",
       "        vertical-align: top;\n",
       "    }\n",
       "\n",
       "    .dataframe thead th {\n",
       "        text-align: right;\n",
       "    }\n",
       "</style>\n",
       "<table border=\"1\" class=\"dataframe\">\n",
       "  <thead>\n",
       "    <tr style=\"text-align: right;\">\n",
       "      <th></th>\n",
       "      <th>key</th>\n",
       "      <th>lval</th>\n",
       "      <th>rval</th>\n",
       "    </tr>\n",
       "  </thead>\n",
       "  <tbody>\n",
       "    <tr>\n",
       "      <th>0</th>\n",
       "      <td>foo</td>\n",
       "      <td>1</td>\n",
       "      <td>4</td>\n",
       "    </tr>\n",
       "    <tr>\n",
       "      <th>1</th>\n",
       "      <td>bar</td>\n",
       "      <td>2</td>\n",
       "      <td>5</td>\n",
       "    </tr>\n",
       "  </tbody>\n",
       "</table>\n",
       "</div>"
      ],
      "text/plain": [
       "   key  lval  rval\n",
       "0  foo     1     4\n",
       "1  bar     2     5"
      ]
     },
     "execution_count": 71,
     "metadata": {},
     "output_type": "execute_result"
    }
   ],
   "source": [
    "pd.merge(left, right, on='key')"
   ]
  },
  {
   "cell_type": "markdown",
   "id": "3bf073aa",
   "metadata": {},
   "source": [
    "### Append (추가)\n",
    "> 데이터프레임에 행을 추가합니다. [Appending](https://pandas.pydata.org/pandas-docs/stable/user_guide/merging.html) 참조."
   ]
  },
  {
   "cell_type": "code",
   "execution_count": 72,
   "id": "9a73590c",
   "metadata": {},
   "outputs": [],
   "source": [
    "df = pd.DataFrame(np.random.randn(8,4), columns=['A','B','C','D'])"
   ]
  },
  {
   "cell_type": "code",
   "execution_count": 73,
   "id": "d653fbc3",
   "metadata": {},
   "outputs": [
    {
     "data": {
      "text/html": [
       "<div>\n",
       "<style scoped>\n",
       "    .dataframe tbody tr th:only-of-type {\n",
       "        vertical-align: middle;\n",
       "    }\n",
       "\n",
       "    .dataframe tbody tr th {\n",
       "        vertical-align: top;\n",
       "    }\n",
       "\n",
       "    .dataframe thead th {\n",
       "        text-align: right;\n",
       "    }\n",
       "</style>\n",
       "<table border=\"1\" class=\"dataframe\">\n",
       "  <thead>\n",
       "    <tr style=\"text-align: right;\">\n",
       "      <th></th>\n",
       "      <th>A</th>\n",
       "      <th>B</th>\n",
       "      <th>C</th>\n",
       "      <th>D</th>\n",
       "    </tr>\n",
       "  </thead>\n",
       "  <tbody>\n",
       "    <tr>\n",
       "      <th>0</th>\n",
       "      <td>-0.325341</td>\n",
       "      <td>-1.958824</td>\n",
       "      <td>-0.045496</td>\n",
       "      <td>1.267608</td>\n",
       "    </tr>\n",
       "    <tr>\n",
       "      <th>1</th>\n",
       "      <td>1.643950</td>\n",
       "      <td>-1.047896</td>\n",
       "      <td>-1.006793</td>\n",
       "      <td>-0.343627</td>\n",
       "    </tr>\n",
       "    <tr>\n",
       "      <th>2</th>\n",
       "      <td>-0.169113</td>\n",
       "      <td>0.401731</td>\n",
       "      <td>1.222657</td>\n",
       "      <td>0.330091</td>\n",
       "    </tr>\n",
       "    <tr>\n",
       "      <th>3</th>\n",
       "      <td>2.134742</td>\n",
       "      <td>-0.049266</td>\n",
       "      <td>-0.204954</td>\n",
       "      <td>-1.956396</td>\n",
       "    </tr>\n",
       "    <tr>\n",
       "      <th>4</th>\n",
       "      <td>0.633707</td>\n",
       "      <td>-2.129758</td>\n",
       "      <td>2.197799</td>\n",
       "      <td>-1.145079</td>\n",
       "    </tr>\n",
       "    <tr>\n",
       "      <th>5</th>\n",
       "      <td>-0.779638</td>\n",
       "      <td>1.215200</td>\n",
       "      <td>-0.602158</td>\n",
       "      <td>-0.236067</td>\n",
       "    </tr>\n",
       "    <tr>\n",
       "      <th>6</th>\n",
       "      <td>-0.203648</td>\n",
       "      <td>0.771048</td>\n",
       "      <td>-0.361401</td>\n",
       "      <td>1.062034</td>\n",
       "    </tr>\n",
       "    <tr>\n",
       "      <th>7</th>\n",
       "      <td>-0.621182</td>\n",
       "      <td>0.564908</td>\n",
       "      <td>0.623154</td>\n",
       "      <td>0.707101</td>\n",
       "    </tr>\n",
       "  </tbody>\n",
       "</table>\n",
       "</div>"
      ],
      "text/plain": [
       "          A         B         C         D\n",
       "0 -0.325341 -1.958824 -0.045496  1.267608\n",
       "1  1.643950 -1.047896 -1.006793 -0.343627\n",
       "2 -0.169113  0.401731  1.222657  0.330091\n",
       "3  2.134742 -0.049266 -0.204954 -1.956396\n",
       "4  0.633707 -2.129758  2.197799 -1.145079\n",
       "5 -0.779638  1.215200 -0.602158 -0.236067\n",
       "6 -0.203648  0.771048 -0.361401  1.062034\n",
       "7 -0.621182  0.564908  0.623154  0.707101"
      ]
     },
     "execution_count": 73,
     "metadata": {},
     "output_type": "execute_result"
    }
   ],
   "source": [
    "df"
   ]
  },
  {
   "cell_type": "code",
   "execution_count": 74,
   "id": "4f9d64c3",
   "metadata": {},
   "outputs": [
    {
     "data": {
      "text/plain": [
       "A    2.134742\n",
       "B   -0.049266\n",
       "C   -0.204954\n",
       "D   -1.956396\n",
       "Name: 3, dtype: float64"
      ]
     },
     "execution_count": 74,
     "metadata": {},
     "output_type": "execute_result"
    }
   ],
   "source": [
    "s = df.loc[3]\n",
    "s"
   ]
  },
  {
   "cell_type": "code",
   "execution_count": 75,
   "id": "521c0337",
   "metadata": {},
   "outputs": [
    {
     "data": {
      "text/html": [
       "<div>\n",
       "<style scoped>\n",
       "    .dataframe tbody tr th:only-of-type {\n",
       "        vertical-align: middle;\n",
       "    }\n",
       "\n",
       "    .dataframe tbody tr th {\n",
       "        vertical-align: top;\n",
       "    }\n",
       "\n",
       "    .dataframe thead th {\n",
       "        text-align: right;\n",
       "    }\n",
       "</style>\n",
       "<table border=\"1\" class=\"dataframe\">\n",
       "  <thead>\n",
       "    <tr style=\"text-align: right;\">\n",
       "      <th></th>\n",
       "      <th>A</th>\n",
       "      <th>B</th>\n",
       "      <th>C</th>\n",
       "      <th>D</th>\n",
       "    </tr>\n",
       "  </thead>\n",
       "  <tbody>\n",
       "    <tr>\n",
       "      <th>0</th>\n",
       "      <td>-0.325341</td>\n",
       "      <td>-1.958824</td>\n",
       "      <td>-0.045496</td>\n",
       "      <td>1.267608</td>\n",
       "    </tr>\n",
       "    <tr>\n",
       "      <th>1</th>\n",
       "      <td>1.643950</td>\n",
       "      <td>-1.047896</td>\n",
       "      <td>-1.006793</td>\n",
       "      <td>-0.343627</td>\n",
       "    </tr>\n",
       "    <tr>\n",
       "      <th>2</th>\n",
       "      <td>-0.169113</td>\n",
       "      <td>0.401731</td>\n",
       "      <td>1.222657</td>\n",
       "      <td>0.330091</td>\n",
       "    </tr>\n",
       "    <tr>\n",
       "      <th>3</th>\n",
       "      <td>2.134742</td>\n",
       "      <td>-0.049266</td>\n",
       "      <td>-0.204954</td>\n",
       "      <td>-1.956396</td>\n",
       "    </tr>\n",
       "    <tr>\n",
       "      <th>4</th>\n",
       "      <td>0.633707</td>\n",
       "      <td>-2.129758</td>\n",
       "      <td>2.197799</td>\n",
       "      <td>-1.145079</td>\n",
       "    </tr>\n",
       "    <tr>\n",
       "      <th>5</th>\n",
       "      <td>-0.779638</td>\n",
       "      <td>1.215200</td>\n",
       "      <td>-0.602158</td>\n",
       "      <td>-0.236067</td>\n",
       "    </tr>\n",
       "    <tr>\n",
       "      <th>6</th>\n",
       "      <td>-0.203648</td>\n",
       "      <td>0.771048</td>\n",
       "      <td>-0.361401</td>\n",
       "      <td>1.062034</td>\n",
       "    </tr>\n",
       "    <tr>\n",
       "      <th>7</th>\n",
       "      <td>-0.621182</td>\n",
       "      <td>0.564908</td>\n",
       "      <td>0.623154</td>\n",
       "      <td>0.707101</td>\n",
       "    </tr>\n",
       "    <tr>\n",
       "      <th>8</th>\n",
       "      <td>2.134742</td>\n",
       "      <td>-0.049266</td>\n",
       "      <td>-0.204954</td>\n",
       "      <td>-1.956396</td>\n",
       "    </tr>\n",
       "  </tbody>\n",
       "</table>\n",
       "</div>"
      ],
      "text/plain": [
       "          A         B         C         D\n",
       "0 -0.325341 -1.958824 -0.045496  1.267608\n",
       "1  1.643950 -1.047896 -1.006793 -0.343627\n",
       "2 -0.169113  0.401731  1.222657  0.330091\n",
       "3  2.134742 -0.049266 -0.204954 -1.956396\n",
       "4  0.633707 -2.129758  2.197799 -1.145079\n",
       "5 -0.779638  1.215200 -0.602158 -0.236067\n",
       "6 -0.203648  0.771048 -0.361401  1.062034\n",
       "7 -0.621182  0.564908  0.623154  0.707101\n",
       "8  2.134742 -0.049266 -0.204954 -1.956396"
      ]
     },
     "execution_count": 75,
     "metadata": {},
     "output_type": "execute_result"
    }
   ],
   "source": [
    "df.append(s, ignore_index=True)"
   ]
  },
  {
   "cell_type": "markdown",
   "id": "20897027",
   "metadata": {},
   "source": [
    "## Grouping (그룹화)\n",
    "> 그룹화는 다음 단계 중 하나 이상을 포함하는 과정이다.\n",
    ">> 몇몇 기준에 따라 여러 그룹으로 데이터를 분할 (splitting)\n",
    ">>\n",
    ">>각 그룹에 독립적으로 함수를 적용 (applying)\n",
    ">>\n",
    ">>결과물들을 하나의 데이터 구조로 결합 (combining)\n",
    ">\n",
    "> [그룹화](https://pandas.pydata.org/pandas-docs/stable/user_guide/groupby.html) 참조"
   ]
  },
  {
   "cell_type": "code",
   "execution_count": 76,
   "id": "d05f040a",
   "metadata": {},
   "outputs": [],
   "source": [
    "df = pd.DataFrame(\n",
    "    {'A' : ['foo', 'bar', 'foo', 'bar', 'foo', 'bar', 'foo', 'foo'],\n",
    "     'B' : ['one', 'one', 'two', 'three', 'two', 'two', 'one', 'three'],\n",
    "     'C' : np.random.randn(8),\n",
    "     'D' : np.random.randn(8) })"
   ]
  },
  {
   "cell_type": "code",
   "execution_count": 77,
   "id": "3a1e4913",
   "metadata": {
    "scrolled": true
   },
   "outputs": [
    {
     "data": {
      "text/html": [
       "<div>\n",
       "<style scoped>\n",
       "    .dataframe tbody tr th:only-of-type {\n",
       "        vertical-align: middle;\n",
       "    }\n",
       "\n",
       "    .dataframe tbody tr th {\n",
       "        vertical-align: top;\n",
       "    }\n",
       "\n",
       "    .dataframe thead th {\n",
       "        text-align: right;\n",
       "    }\n",
       "</style>\n",
       "<table border=\"1\" class=\"dataframe\">\n",
       "  <thead>\n",
       "    <tr style=\"text-align: right;\">\n",
       "      <th></th>\n",
       "      <th>A</th>\n",
       "      <th>B</th>\n",
       "      <th>C</th>\n",
       "      <th>D</th>\n",
       "    </tr>\n",
       "  </thead>\n",
       "  <tbody>\n",
       "    <tr>\n",
       "      <th>0</th>\n",
       "      <td>foo</td>\n",
       "      <td>one</td>\n",
       "      <td>0.377180</td>\n",
       "      <td>0.728539</td>\n",
       "    </tr>\n",
       "    <tr>\n",
       "      <th>1</th>\n",
       "      <td>bar</td>\n",
       "      <td>one</td>\n",
       "      <td>-0.188997</td>\n",
       "      <td>-0.439058</td>\n",
       "    </tr>\n",
       "    <tr>\n",
       "      <th>2</th>\n",
       "      <td>foo</td>\n",
       "      <td>two</td>\n",
       "      <td>-0.288064</td>\n",
       "      <td>-1.622979</td>\n",
       "    </tr>\n",
       "    <tr>\n",
       "      <th>3</th>\n",
       "      <td>bar</td>\n",
       "      <td>three</td>\n",
       "      <td>1.279133</td>\n",
       "      <td>1.013023</td>\n",
       "    </tr>\n",
       "    <tr>\n",
       "      <th>4</th>\n",
       "      <td>foo</td>\n",
       "      <td>two</td>\n",
       "      <td>-0.290891</td>\n",
       "      <td>-1.419830</td>\n",
       "    </tr>\n",
       "    <tr>\n",
       "      <th>5</th>\n",
       "      <td>bar</td>\n",
       "      <td>two</td>\n",
       "      <td>1.216758</td>\n",
       "      <td>1.526045</td>\n",
       "    </tr>\n",
       "    <tr>\n",
       "      <th>6</th>\n",
       "      <td>foo</td>\n",
       "      <td>one</td>\n",
       "      <td>-1.173370</td>\n",
       "      <td>-1.022218</td>\n",
       "    </tr>\n",
       "    <tr>\n",
       "      <th>7</th>\n",
       "      <td>foo</td>\n",
       "      <td>three</td>\n",
       "      <td>-0.653563</td>\n",
       "      <td>0.546749</td>\n",
       "    </tr>\n",
       "  </tbody>\n",
       "</table>\n",
       "</div>"
      ],
      "text/plain": [
       "     A      B         C         D\n",
       "0  foo    one  0.377180  0.728539\n",
       "1  bar    one -0.188997 -0.439058\n",
       "2  foo    two -0.288064 -1.622979\n",
       "3  bar  three  1.279133  1.013023\n",
       "4  foo    two -0.290891 -1.419830\n",
       "5  bar    two  1.216758  1.526045\n",
       "6  foo    one -1.173370 -1.022218\n",
       "7  foo  three -0.653563  0.546749"
      ]
     },
     "execution_count": 77,
     "metadata": {},
     "output_type": "execute_result"
    }
   ],
   "source": [
    "df"
   ]
  },
  {
   "cell_type": "markdown",
   "id": "ef35c5ed",
   "metadata": {},
   "source": [
    "> 데이터프레임을 그룹, sum()"
   ]
  },
  {
   "cell_type": "code",
   "execution_count": 78,
   "id": "907870af",
   "metadata": {},
   "outputs": [
    {
     "data": {
      "text/html": [
       "<div>\n",
       "<style scoped>\n",
       "    .dataframe tbody tr th:only-of-type {\n",
       "        vertical-align: middle;\n",
       "    }\n",
       "\n",
       "    .dataframe tbody tr th {\n",
       "        vertical-align: top;\n",
       "    }\n",
       "\n",
       "    .dataframe thead th {\n",
       "        text-align: right;\n",
       "    }\n",
       "</style>\n",
       "<table border=\"1\" class=\"dataframe\">\n",
       "  <thead>\n",
       "    <tr style=\"text-align: right;\">\n",
       "      <th></th>\n",
       "      <th>C</th>\n",
       "      <th>D</th>\n",
       "    </tr>\n",
       "    <tr>\n",
       "      <th>A</th>\n",
       "      <th></th>\n",
       "      <th></th>\n",
       "    </tr>\n",
       "  </thead>\n",
       "  <tbody>\n",
       "    <tr>\n",
       "      <th>bar</th>\n",
       "      <td>2.306893</td>\n",
       "      <td>2.100011</td>\n",
       "    </tr>\n",
       "    <tr>\n",
       "      <th>foo</th>\n",
       "      <td>-2.028707</td>\n",
       "      <td>-2.789739</td>\n",
       "    </tr>\n",
       "  </tbody>\n",
       "</table>\n",
       "</div>"
      ],
      "text/plain": [
       "            C         D\n",
       "A                      \n",
       "bar  2.306893  2.100011\n",
       "foo -2.028707 -2.789739"
      ]
     },
     "execution_count": 78,
     "metadata": {},
     "output_type": "execute_result"
    }
   ],
   "source": [
    "df.groupby('A').sum()"
   ]
  },
  {
   "cell_type": "markdown",
   "id": "ab727a5c",
   "metadata": {},
   "source": [
    ">여러 열을 기준으로 그룹화하면 게층적 인덱스가 형성됨. 여기에도 sum()"
   ]
  },
  {
   "cell_type": "code",
   "execution_count": 79,
   "id": "2310e57c",
   "metadata": {},
   "outputs": [
    {
     "data": {
      "text/html": [
       "<div>\n",
       "<style scoped>\n",
       "    .dataframe tbody tr th:only-of-type {\n",
       "        vertical-align: middle;\n",
       "    }\n",
       "\n",
       "    .dataframe tbody tr th {\n",
       "        vertical-align: top;\n",
       "    }\n",
       "\n",
       "    .dataframe thead th {\n",
       "        text-align: right;\n",
       "    }\n",
       "</style>\n",
       "<table border=\"1\" class=\"dataframe\">\n",
       "  <thead>\n",
       "    <tr style=\"text-align: right;\">\n",
       "      <th></th>\n",
       "      <th></th>\n",
       "      <th>C</th>\n",
       "      <th>D</th>\n",
       "    </tr>\n",
       "    <tr>\n",
       "      <th>A</th>\n",
       "      <th>B</th>\n",
       "      <th></th>\n",
       "      <th></th>\n",
       "    </tr>\n",
       "  </thead>\n",
       "  <tbody>\n",
       "    <tr>\n",
       "      <th rowspan=\"3\" valign=\"top\">bar</th>\n",
       "      <th>one</th>\n",
       "      <td>-0.188997</td>\n",
       "      <td>-0.439058</td>\n",
       "    </tr>\n",
       "    <tr>\n",
       "      <th>three</th>\n",
       "      <td>1.279133</td>\n",
       "      <td>1.013023</td>\n",
       "    </tr>\n",
       "    <tr>\n",
       "      <th>two</th>\n",
       "      <td>1.216758</td>\n",
       "      <td>1.526045</td>\n",
       "    </tr>\n",
       "    <tr>\n",
       "      <th rowspan=\"3\" valign=\"top\">foo</th>\n",
       "      <th>one</th>\n",
       "      <td>-0.796189</td>\n",
       "      <td>-0.293680</td>\n",
       "    </tr>\n",
       "    <tr>\n",
       "      <th>three</th>\n",
       "      <td>-0.653563</td>\n",
       "      <td>0.546749</td>\n",
       "    </tr>\n",
       "    <tr>\n",
       "      <th>two</th>\n",
       "      <td>-0.578955</td>\n",
       "      <td>-3.042809</td>\n",
       "    </tr>\n",
       "  </tbody>\n",
       "</table>\n",
       "</div>"
      ],
      "text/plain": [
       "                  C         D\n",
       "A   B                        \n",
       "bar one   -0.188997 -0.439058\n",
       "    three  1.279133  1.013023\n",
       "    two    1.216758  1.526045\n",
       "foo one   -0.796189 -0.293680\n",
       "    three -0.653563  0.546749\n",
       "    two   -0.578955 -3.042809"
      ]
     },
     "execution_count": 79,
     "metadata": {},
     "output_type": "execute_result"
    }
   ],
   "source": [
    "df.groupby(['A','B']).sum()"
   ]
  },
  {
   "cell_type": "markdown",
   "id": "f298f530",
   "metadata": {},
   "source": [
    "## Reshaping (변형)\n",
    "> [계층적 인덱싱](https://pandas.pydata.org/pandas-docs/stable/user_guide/advanced.html) 및 [변형](https://pandas.pydata.org/pandas-docs/stable/user_guide/reshaping.html) 참조.\n",
    ">\n",
    "### Stack (스택)"
   ]
  },
  {
   "cell_type": "code",
   "execution_count": 80,
   "id": "e1c79b08",
   "metadata": {},
   "outputs": [
    {
     "data": {
      "text/plain": [
       "[('bar', 'one'),\n",
       " ('bar', 'two'),\n",
       " ('baz', 'one'),\n",
       " ('baz', 'two'),\n",
       " ('foo', 'one'),\n",
       " ('foo', 'two'),\n",
       " ('qux', 'one'),\n",
       " ('qux', 'two')]"
      ]
     },
     "execution_count": 80,
     "metadata": {},
     "output_type": "execute_result"
    }
   ],
   "source": [
    "tuples = list(zip(*[['bar', 'bar', 'baz', 'baz',\n",
    "                     'foo', 'foo', 'qux', 'qux'],\n",
    "                    ['one', 'two', 'one', 'two',\n",
    "                     'one', 'two', 'one', 'two']]))\n",
    "tuples"
   ]
  },
  {
   "cell_type": "code",
   "execution_count": 81,
   "id": "741be239",
   "metadata": {},
   "outputs": [
    {
     "data": {
      "text/plain": [
       "MultiIndex([('bar', 'one'),\n",
       "            ('bar', 'two'),\n",
       "            ('baz', 'one'),\n",
       "            ('baz', 'two'),\n",
       "            ('foo', 'one'),\n",
       "            ('foo', 'two'),\n",
       "            ('qux', 'one'),\n",
       "            ('qux', 'two')],\n",
       "           names=['first', 'second'])"
      ]
     },
     "execution_count": 81,
     "metadata": {},
     "output_type": "execute_result"
    }
   ],
   "source": [
    "index = pd.MultiIndex.from_tuples(tuples, names=['first', 'second'])\n",
    "index"
   ]
  },
  {
   "cell_type": "code",
   "execution_count": 82,
   "id": "7fdfbf0e",
   "metadata": {},
   "outputs": [
    {
     "data": {
      "text/html": [
       "<div>\n",
       "<style scoped>\n",
       "    .dataframe tbody tr th:only-of-type {\n",
       "        vertical-align: middle;\n",
       "    }\n",
       "\n",
       "    .dataframe tbody tr th {\n",
       "        vertical-align: top;\n",
       "    }\n",
       "\n",
       "    .dataframe thead th {\n",
       "        text-align: right;\n",
       "    }\n",
       "</style>\n",
       "<table border=\"1\" class=\"dataframe\">\n",
       "  <thead>\n",
       "    <tr style=\"text-align: right;\">\n",
       "      <th></th>\n",
       "      <th></th>\n",
       "      <th>A</th>\n",
       "      <th>B</th>\n",
       "    </tr>\n",
       "    <tr>\n",
       "      <th>first</th>\n",
       "      <th>second</th>\n",
       "      <th></th>\n",
       "      <th></th>\n",
       "    </tr>\n",
       "  </thead>\n",
       "  <tbody>\n",
       "    <tr>\n",
       "      <th rowspan=\"2\" valign=\"top\">bar</th>\n",
       "      <th>one</th>\n",
       "      <td>1.004020</td>\n",
       "      <td>-0.069292</td>\n",
       "    </tr>\n",
       "    <tr>\n",
       "      <th>two</th>\n",
       "      <td>0.757920</td>\n",
       "      <td>-1.628321</td>\n",
       "    </tr>\n",
       "    <tr>\n",
       "      <th rowspan=\"2\" valign=\"top\">baz</th>\n",
       "      <th>one</th>\n",
       "      <td>0.171576</td>\n",
       "      <td>1.188046</td>\n",
       "    </tr>\n",
       "    <tr>\n",
       "      <th>two</th>\n",
       "      <td>1.423206</td>\n",
       "      <td>0.083599</td>\n",
       "    </tr>\n",
       "    <tr>\n",
       "      <th rowspan=\"2\" valign=\"top\">foo</th>\n",
       "      <th>one</th>\n",
       "      <td>0.081555</td>\n",
       "      <td>-1.221909</td>\n",
       "    </tr>\n",
       "    <tr>\n",
       "      <th>two</th>\n",
       "      <td>-0.961248</td>\n",
       "      <td>0.373906</td>\n",
       "    </tr>\n",
       "    <tr>\n",
       "      <th rowspan=\"2\" valign=\"top\">qux</th>\n",
       "      <th>one</th>\n",
       "      <td>-0.031730</td>\n",
       "      <td>0.340119</td>\n",
       "    </tr>\n",
       "    <tr>\n",
       "      <th>two</th>\n",
       "      <td>0.644432</td>\n",
       "      <td>-0.666264</td>\n",
       "    </tr>\n",
       "  </tbody>\n",
       "</table>\n",
       "</div>"
      ],
      "text/plain": [
       "                     A         B\n",
       "first second                    \n",
       "bar   one     1.004020 -0.069292\n",
       "      two     0.757920 -1.628321\n",
       "baz   one     0.171576  1.188046\n",
       "      two     1.423206  0.083599\n",
       "foo   one     0.081555 -1.221909\n",
       "      two    -0.961248  0.373906\n",
       "qux   one    -0.031730  0.340119\n",
       "      two     0.644432 -0.666264"
      ]
     },
     "execution_count": 82,
     "metadata": {},
     "output_type": "execute_result"
    }
   ],
   "source": [
    "df = pd.DataFrame(np.random.randn(8, 2), index=index, columns=['A', 'B'])\n",
    "df"
   ]
  },
  {
   "cell_type": "code",
   "execution_count": 83,
   "id": "9cf0b2ee",
   "metadata": {},
   "outputs": [
    {
     "data": {
      "text/html": [
       "<div>\n",
       "<style scoped>\n",
       "    .dataframe tbody tr th:only-of-type {\n",
       "        vertical-align: middle;\n",
       "    }\n",
       "\n",
       "    .dataframe tbody tr th {\n",
       "        vertical-align: top;\n",
       "    }\n",
       "\n",
       "    .dataframe thead th {\n",
       "        text-align: right;\n",
       "    }\n",
       "</style>\n",
       "<table border=\"1\" class=\"dataframe\">\n",
       "  <thead>\n",
       "    <tr style=\"text-align: right;\">\n",
       "      <th></th>\n",
       "      <th></th>\n",
       "      <th>A</th>\n",
       "      <th>B</th>\n",
       "    </tr>\n",
       "    <tr>\n",
       "      <th>first</th>\n",
       "      <th>second</th>\n",
       "      <th></th>\n",
       "      <th></th>\n",
       "    </tr>\n",
       "  </thead>\n",
       "  <tbody>\n",
       "    <tr>\n",
       "      <th rowspan=\"2\" valign=\"top\">bar</th>\n",
       "      <th>one</th>\n",
       "      <td>1.004020</td>\n",
       "      <td>-0.069292</td>\n",
       "    </tr>\n",
       "    <tr>\n",
       "      <th>two</th>\n",
       "      <td>0.757920</td>\n",
       "      <td>-1.628321</td>\n",
       "    </tr>\n",
       "    <tr>\n",
       "      <th rowspan=\"2\" valign=\"top\">baz</th>\n",
       "      <th>one</th>\n",
       "      <td>0.171576</td>\n",
       "      <td>1.188046</td>\n",
       "    </tr>\n",
       "    <tr>\n",
       "      <th>two</th>\n",
       "      <td>1.423206</td>\n",
       "      <td>0.083599</td>\n",
       "    </tr>\n",
       "  </tbody>\n",
       "</table>\n",
       "</div>"
      ],
      "text/plain": [
       "                     A         B\n",
       "first second                    \n",
       "bar   one     1.004020 -0.069292\n",
       "      two     0.757920 -1.628321\n",
       "baz   one     0.171576  1.188046\n",
       "      two     1.423206  0.083599"
      ]
     },
     "execution_count": 83,
     "metadata": {},
     "output_type": "execute_result"
    }
   ],
   "source": [
    "df2 = df[:4]\n",
    "df2"
   ]
  },
  {
   "cell_type": "markdown",
   "id": "46d29b38",
   "metadata": {},
   "source": [
    "> [stack()](https://pandas.pydata.org/pandas-docs/stable/reference/api/pandas.DataFrame.stack.html) 메소드는 데이터프레임 열들의 계층을 “압축”합니다."
   ]
  },
  {
   "cell_type": "code",
   "execution_count": 84,
   "id": "7a487f2d",
   "metadata": {},
   "outputs": [
    {
     "data": {
      "text/plain": [
       "first  second   \n",
       "bar    one     A    1.004020\n",
       "               B   -0.069292\n",
       "       two     A    0.757920\n",
       "               B   -1.628321\n",
       "baz    one     A    0.171576\n",
       "               B    1.188046\n",
       "       two     A    1.423206\n",
       "               B    0.083599\n",
       "dtype: float64"
      ]
     },
     "execution_count": 84,
     "metadata": {},
     "output_type": "execute_result"
    }
   ],
   "source": [
    "stacked = df2.stack()\n",
    "stacked"
   ]
  },
  {
   "cell_type": "markdown",
   "id": "67458d16",
   "metadata": {},
   "source": [
    ">“Stack된” 데이터프레임 또는 (MultiIndex를 인덱스로 사용하는) Series인 경우,\n",
    ">\n",
    ">[stack()](https://pandas.pydata.org/pandas-docs/stable/reference/api/pandas.DataFrame.stack.html)의 역 연산은 [unstack()](https://pandas.pydata.org/pandas-docs/stable/reference/api/pandas.DataFrame.unstack.html)이며, 기본적으로 마지막 계층을 unstack합니다."
   ]
  },
  {
   "cell_type": "code",
   "execution_count": 85,
   "id": "3cb4b129",
   "metadata": {},
   "outputs": [
    {
     "data": {
      "text/html": [
       "<div>\n",
       "<style scoped>\n",
       "    .dataframe tbody tr th:only-of-type {\n",
       "        vertical-align: middle;\n",
       "    }\n",
       "\n",
       "    .dataframe tbody tr th {\n",
       "        vertical-align: top;\n",
       "    }\n",
       "\n",
       "    .dataframe thead th {\n",
       "        text-align: right;\n",
       "    }\n",
       "</style>\n",
       "<table border=\"1\" class=\"dataframe\">\n",
       "  <thead>\n",
       "    <tr style=\"text-align: right;\">\n",
       "      <th></th>\n",
       "      <th></th>\n",
       "      <th>A</th>\n",
       "      <th>B</th>\n",
       "    </tr>\n",
       "    <tr>\n",
       "      <th>first</th>\n",
       "      <th>second</th>\n",
       "      <th></th>\n",
       "      <th></th>\n",
       "    </tr>\n",
       "  </thead>\n",
       "  <tbody>\n",
       "    <tr>\n",
       "      <th rowspan=\"2\" valign=\"top\">bar</th>\n",
       "      <th>one</th>\n",
       "      <td>1.004020</td>\n",
       "      <td>-0.069292</td>\n",
       "    </tr>\n",
       "    <tr>\n",
       "      <th>two</th>\n",
       "      <td>0.757920</td>\n",
       "      <td>-1.628321</td>\n",
       "    </tr>\n",
       "    <tr>\n",
       "      <th rowspan=\"2\" valign=\"top\">baz</th>\n",
       "      <th>one</th>\n",
       "      <td>0.171576</td>\n",
       "      <td>1.188046</td>\n",
       "    </tr>\n",
       "    <tr>\n",
       "      <th>two</th>\n",
       "      <td>1.423206</td>\n",
       "      <td>0.083599</td>\n",
       "    </tr>\n",
       "  </tbody>\n",
       "</table>\n",
       "</div>"
      ],
      "text/plain": [
       "                     A         B\n",
       "first second                    \n",
       "bar   one     1.004020 -0.069292\n",
       "      two     0.757920 -1.628321\n",
       "baz   one     0.171576  1.188046\n",
       "      two     1.423206  0.083599"
      ]
     },
     "execution_count": 85,
     "metadata": {},
     "output_type": "execute_result"
    }
   ],
   "source": [
    "stacked.unstack()"
   ]
  },
  {
   "cell_type": "code",
   "execution_count": 86,
   "id": "3df3d1ea",
   "metadata": {},
   "outputs": [
    {
     "data": {
      "text/html": [
       "<div>\n",
       "<style scoped>\n",
       "    .dataframe tbody tr th:only-of-type {\n",
       "        vertical-align: middle;\n",
       "    }\n",
       "\n",
       "    .dataframe tbody tr th {\n",
       "        vertical-align: top;\n",
       "    }\n",
       "\n",
       "    .dataframe thead th {\n",
       "        text-align: right;\n",
       "    }\n",
       "</style>\n",
       "<table border=\"1\" class=\"dataframe\">\n",
       "  <thead>\n",
       "    <tr style=\"text-align: right;\">\n",
       "      <th></th>\n",
       "      <th>second</th>\n",
       "      <th>one</th>\n",
       "      <th>two</th>\n",
       "    </tr>\n",
       "    <tr>\n",
       "      <th>first</th>\n",
       "      <th></th>\n",
       "      <th></th>\n",
       "      <th></th>\n",
       "    </tr>\n",
       "  </thead>\n",
       "  <tbody>\n",
       "    <tr>\n",
       "      <th rowspan=\"2\" valign=\"top\">bar</th>\n",
       "      <th>A</th>\n",
       "      <td>1.004020</td>\n",
       "      <td>0.757920</td>\n",
       "    </tr>\n",
       "    <tr>\n",
       "      <th>B</th>\n",
       "      <td>-0.069292</td>\n",
       "      <td>-1.628321</td>\n",
       "    </tr>\n",
       "    <tr>\n",
       "      <th rowspan=\"2\" valign=\"top\">baz</th>\n",
       "      <th>A</th>\n",
       "      <td>0.171576</td>\n",
       "      <td>1.423206</td>\n",
       "    </tr>\n",
       "    <tr>\n",
       "      <th>B</th>\n",
       "      <td>1.188046</td>\n",
       "      <td>0.083599</td>\n",
       "    </tr>\n",
       "  </tbody>\n",
       "</table>\n",
       "</div>"
      ],
      "text/plain": [
       "second        one       two\n",
       "first                      \n",
       "bar   A  1.004020  0.757920\n",
       "      B -0.069292 -1.628321\n",
       "baz   A  0.171576  1.423206\n",
       "      B  1.188046  0.083599"
      ]
     },
     "execution_count": 86,
     "metadata": {},
     "output_type": "execute_result"
    }
   ],
   "source": [
    "stacked.unstack(1)"
   ]
  },
  {
   "cell_type": "code",
   "execution_count": 87,
   "id": "f4f46c0c",
   "metadata": {},
   "outputs": [
    {
     "data": {
      "text/html": [
       "<div>\n",
       "<style scoped>\n",
       "    .dataframe tbody tr th:only-of-type {\n",
       "        vertical-align: middle;\n",
       "    }\n",
       "\n",
       "    .dataframe tbody tr th {\n",
       "        vertical-align: top;\n",
       "    }\n",
       "\n",
       "    .dataframe thead th {\n",
       "        text-align: right;\n",
       "    }\n",
       "</style>\n",
       "<table border=\"1\" class=\"dataframe\">\n",
       "  <thead>\n",
       "    <tr style=\"text-align: right;\">\n",
       "      <th></th>\n",
       "      <th>first</th>\n",
       "      <th>bar</th>\n",
       "      <th>baz</th>\n",
       "    </tr>\n",
       "    <tr>\n",
       "      <th>second</th>\n",
       "      <th></th>\n",
       "      <th></th>\n",
       "      <th></th>\n",
       "    </tr>\n",
       "  </thead>\n",
       "  <tbody>\n",
       "    <tr>\n",
       "      <th rowspan=\"2\" valign=\"top\">one</th>\n",
       "      <th>A</th>\n",
       "      <td>1.004020</td>\n",
       "      <td>0.171576</td>\n",
       "    </tr>\n",
       "    <tr>\n",
       "      <th>B</th>\n",
       "      <td>-0.069292</td>\n",
       "      <td>1.188046</td>\n",
       "    </tr>\n",
       "    <tr>\n",
       "      <th rowspan=\"2\" valign=\"top\">two</th>\n",
       "      <th>A</th>\n",
       "      <td>0.757920</td>\n",
       "      <td>1.423206</td>\n",
       "    </tr>\n",
       "    <tr>\n",
       "      <th>B</th>\n",
       "      <td>-1.628321</td>\n",
       "      <td>0.083599</td>\n",
       "    </tr>\n",
       "  </tbody>\n",
       "</table>\n",
       "</div>"
      ],
      "text/plain": [
       "first          bar       baz\n",
       "second                      \n",
       "one    A  1.004020  0.171576\n",
       "       B -0.069292  1.188046\n",
       "two    A  0.757920  1.423206\n",
       "       B -1.628321  0.083599"
      ]
     },
     "execution_count": 87,
     "metadata": {},
     "output_type": "execute_result"
    }
   ],
   "source": [
    "stacked.unstack(0)"
   ]
  },
  {
   "cell_type": "markdown",
   "id": "b24788d8",
   "metadata": {},
   "source": [
    "### Pivot Tables (피봇 테이블)\n",
    "> [피봇 테이블](https://pandas.pydata.org/pandas-docs/stable/user_guide/reshaping.html) 부분을 참조하세요."
   ]
  },
  {
   "cell_type": "code",
   "execution_count": 88,
   "id": "3207b26d",
   "metadata": {},
   "outputs": [],
   "source": [
    "df = pd.DataFrame({'A' : ['one', 'one', 'two', 'three'] * 3,\n",
    "                   'B' : ['A', 'B', 'C'] * 4,\n",
    "                   'C' : ['foo', 'foo', 'foo', 'bar', 'bar', 'bar'] * 2,\n",
    "                   'D' : np.random.randn(12),\n",
    "                   'E' : np.random.randn(12)})"
   ]
  },
  {
   "cell_type": "code",
   "execution_count": 89,
   "id": "5868aa48",
   "metadata": {},
   "outputs": [
    {
     "data": {
      "text/html": [
       "<div>\n",
       "<style scoped>\n",
       "    .dataframe tbody tr th:only-of-type {\n",
       "        vertical-align: middle;\n",
       "    }\n",
       "\n",
       "    .dataframe tbody tr th {\n",
       "        vertical-align: top;\n",
       "    }\n",
       "\n",
       "    .dataframe thead th {\n",
       "        text-align: right;\n",
       "    }\n",
       "</style>\n",
       "<table border=\"1\" class=\"dataframe\">\n",
       "  <thead>\n",
       "    <tr style=\"text-align: right;\">\n",
       "      <th></th>\n",
       "      <th>A</th>\n",
       "      <th>B</th>\n",
       "      <th>C</th>\n",
       "      <th>D</th>\n",
       "      <th>E</th>\n",
       "    </tr>\n",
       "  </thead>\n",
       "  <tbody>\n",
       "    <tr>\n",
       "      <th>0</th>\n",
       "      <td>one</td>\n",
       "      <td>A</td>\n",
       "      <td>foo</td>\n",
       "      <td>1.801419</td>\n",
       "      <td>0.045803</td>\n",
       "    </tr>\n",
       "    <tr>\n",
       "      <th>1</th>\n",
       "      <td>one</td>\n",
       "      <td>B</td>\n",
       "      <td>foo</td>\n",
       "      <td>0.040948</td>\n",
       "      <td>-0.973926</td>\n",
       "    </tr>\n",
       "    <tr>\n",
       "      <th>2</th>\n",
       "      <td>two</td>\n",
       "      <td>C</td>\n",
       "      <td>foo</td>\n",
       "      <td>0.124113</td>\n",
       "      <td>-0.015929</td>\n",
       "    </tr>\n",
       "    <tr>\n",
       "      <th>3</th>\n",
       "      <td>three</td>\n",
       "      <td>A</td>\n",
       "      <td>bar</td>\n",
       "      <td>-0.659902</td>\n",
       "      <td>0.688914</td>\n",
       "    </tr>\n",
       "    <tr>\n",
       "      <th>4</th>\n",
       "      <td>one</td>\n",
       "      <td>B</td>\n",
       "      <td>bar</td>\n",
       "      <td>1.659207</td>\n",
       "      <td>0.668836</td>\n",
       "    </tr>\n",
       "    <tr>\n",
       "      <th>5</th>\n",
       "      <td>one</td>\n",
       "      <td>C</td>\n",
       "      <td>bar</td>\n",
       "      <td>-0.161224</td>\n",
       "      <td>1.318797</td>\n",
       "    </tr>\n",
       "    <tr>\n",
       "      <th>6</th>\n",
       "      <td>two</td>\n",
       "      <td>A</td>\n",
       "      <td>foo</td>\n",
       "      <td>-0.397792</td>\n",
       "      <td>-0.563962</td>\n",
       "    </tr>\n",
       "    <tr>\n",
       "      <th>7</th>\n",
       "      <td>three</td>\n",
       "      <td>B</td>\n",
       "      <td>foo</td>\n",
       "      <td>0.999141</td>\n",
       "      <td>2.089469</td>\n",
       "    </tr>\n",
       "    <tr>\n",
       "      <th>8</th>\n",
       "      <td>one</td>\n",
       "      <td>C</td>\n",
       "      <td>foo</td>\n",
       "      <td>-0.082879</td>\n",
       "      <td>-0.140857</td>\n",
       "    </tr>\n",
       "    <tr>\n",
       "      <th>9</th>\n",
       "      <td>one</td>\n",
       "      <td>A</td>\n",
       "      <td>bar</td>\n",
       "      <td>-1.115809</td>\n",
       "      <td>1.404361</td>\n",
       "    </tr>\n",
       "    <tr>\n",
       "      <th>10</th>\n",
       "      <td>two</td>\n",
       "      <td>B</td>\n",
       "      <td>bar</td>\n",
       "      <td>-0.598951</td>\n",
       "      <td>-0.729563</td>\n",
       "    </tr>\n",
       "    <tr>\n",
       "      <th>11</th>\n",
       "      <td>three</td>\n",
       "      <td>C</td>\n",
       "      <td>bar</td>\n",
       "      <td>0.096035</td>\n",
       "      <td>0.736209</td>\n",
       "    </tr>\n",
       "  </tbody>\n",
       "</table>\n",
       "</div>"
      ],
      "text/plain": [
       "        A  B    C         D         E\n",
       "0     one  A  foo  1.801419  0.045803\n",
       "1     one  B  foo  0.040948 -0.973926\n",
       "2     two  C  foo  0.124113 -0.015929\n",
       "3   three  A  bar -0.659902  0.688914\n",
       "4     one  B  bar  1.659207  0.668836\n",
       "5     one  C  bar -0.161224  1.318797\n",
       "6     two  A  foo -0.397792 -0.563962\n",
       "7   three  B  foo  0.999141  2.089469\n",
       "8     one  C  foo -0.082879 -0.140857\n",
       "9     one  A  bar -1.115809  1.404361\n",
       "10    two  B  bar -0.598951 -0.729563\n",
       "11  three  C  bar  0.096035  0.736209"
      ]
     },
     "execution_count": 89,
     "metadata": {},
     "output_type": "execute_result"
    }
   ],
   "source": [
    "df"
   ]
  },
  {
   "cell_type": "markdown",
   "id": "57d28ef7",
   "metadata": {},
   "source": [
    "> pivot table 생성"
   ]
  },
  {
   "cell_type": "code",
   "execution_count": 90,
   "id": "8b8f90c2",
   "metadata": {},
   "outputs": [
    {
     "data": {
      "text/html": [
       "<div>\n",
       "<style scoped>\n",
       "    .dataframe tbody tr th:only-of-type {\n",
       "        vertical-align: middle;\n",
       "    }\n",
       "\n",
       "    .dataframe tbody tr th {\n",
       "        vertical-align: top;\n",
       "    }\n",
       "\n",
       "    .dataframe thead th {\n",
       "        text-align: right;\n",
       "    }\n",
       "</style>\n",
       "<table border=\"1\" class=\"dataframe\">\n",
       "  <thead>\n",
       "    <tr style=\"text-align: right;\">\n",
       "      <th></th>\n",
       "      <th>C</th>\n",
       "      <th>bar</th>\n",
       "      <th>foo</th>\n",
       "    </tr>\n",
       "    <tr>\n",
       "      <th>A</th>\n",
       "      <th>B</th>\n",
       "      <th></th>\n",
       "      <th></th>\n",
       "    </tr>\n",
       "  </thead>\n",
       "  <tbody>\n",
       "    <tr>\n",
       "      <th rowspan=\"3\" valign=\"top\">one</th>\n",
       "      <th>A</th>\n",
       "      <td>-1.115809</td>\n",
       "      <td>1.801419</td>\n",
       "    </tr>\n",
       "    <tr>\n",
       "      <th>B</th>\n",
       "      <td>1.659207</td>\n",
       "      <td>0.040948</td>\n",
       "    </tr>\n",
       "    <tr>\n",
       "      <th>C</th>\n",
       "      <td>-0.161224</td>\n",
       "      <td>-0.082879</td>\n",
       "    </tr>\n",
       "    <tr>\n",
       "      <th rowspan=\"3\" valign=\"top\">three</th>\n",
       "      <th>A</th>\n",
       "      <td>-0.659902</td>\n",
       "      <td>NaN</td>\n",
       "    </tr>\n",
       "    <tr>\n",
       "      <th>B</th>\n",
       "      <td>NaN</td>\n",
       "      <td>0.999141</td>\n",
       "    </tr>\n",
       "    <tr>\n",
       "      <th>C</th>\n",
       "      <td>0.096035</td>\n",
       "      <td>NaN</td>\n",
       "    </tr>\n",
       "    <tr>\n",
       "      <th rowspan=\"3\" valign=\"top\">two</th>\n",
       "      <th>A</th>\n",
       "      <td>NaN</td>\n",
       "      <td>-0.397792</td>\n",
       "    </tr>\n",
       "    <tr>\n",
       "      <th>B</th>\n",
       "      <td>-0.598951</td>\n",
       "      <td>NaN</td>\n",
       "    </tr>\n",
       "    <tr>\n",
       "      <th>C</th>\n",
       "      <td>NaN</td>\n",
       "      <td>0.124113</td>\n",
       "    </tr>\n",
       "  </tbody>\n",
       "</table>\n",
       "</div>"
      ],
      "text/plain": [
       "C             bar       foo\n",
       "A     B                    \n",
       "one   A -1.115809  1.801419\n",
       "      B  1.659207  0.040948\n",
       "      C -0.161224 -0.082879\n",
       "three A -0.659902       NaN\n",
       "      B       NaN  0.999141\n",
       "      C  0.096035       NaN\n",
       "two   A       NaN -0.397792\n",
       "      B -0.598951       NaN\n",
       "      C       NaN  0.124113"
      ]
     },
     "execution_count": 90,
     "metadata": {},
     "output_type": "execute_result"
    }
   ],
   "source": [
    "pd.pivot_table(df, values='D', index=['A','B'], columns='C')"
   ]
  },
  {
   "cell_type": "markdown",
   "id": "c8eb85cd",
   "metadata": {},
   "source": [
    "## Time Series (시계열) (요건 좀... 모르겠...)\n",
    ">Pandas는 자주 일어나는 변환 (예시 : 5분마다 일어나는 데이터에 대한 2차 데이터 변환) 사이에 수행하는 리샘플링 연산을 위한 간단하고, 강력하며, 효율적인 함수를 제공합니다.\n",
    ">\n",
    ">이는 재무 (금융) 응용에서 매우 일반적이지만 이에 국한되지는 않습니다.\n",
    ">\n",
    ">[시계열](https://pandas.pydata.org/pandas-docs/stable/user_guide/timeseries.html) 부분을 참고."
   ]
  },
  {
   "cell_type": "code",
   "execution_count": 91,
   "id": "1e217494",
   "metadata": {
    "scrolled": true
   },
   "outputs": [
    {
     "data": {
      "text/plain": [
       "DatetimeIndex(['2012-01-01 00:00:00', '2012-01-01 00:00:01',\n",
       "               '2012-01-01 00:00:02', '2012-01-01 00:00:03',\n",
       "               '2012-01-01 00:00:04', '2012-01-01 00:00:05',\n",
       "               '2012-01-01 00:00:06', '2012-01-01 00:00:07',\n",
       "               '2012-01-01 00:00:08', '2012-01-01 00:00:09',\n",
       "               '2012-01-01 00:00:10', '2012-01-01 00:00:11',\n",
       "               '2012-01-01 00:00:12', '2012-01-01 00:00:13',\n",
       "               '2012-01-01 00:00:14', '2012-01-01 00:00:15',\n",
       "               '2012-01-01 00:00:16', '2012-01-01 00:00:17',\n",
       "               '2012-01-01 00:00:18', '2012-01-01 00:00:19',\n",
       "               '2012-01-01 00:00:20', '2012-01-01 00:00:21',\n",
       "               '2012-01-01 00:00:22', '2012-01-01 00:00:23',\n",
       "               '2012-01-01 00:00:24', '2012-01-01 00:00:25',\n",
       "               '2012-01-01 00:00:26', '2012-01-01 00:00:27',\n",
       "               '2012-01-01 00:00:28', '2012-01-01 00:00:29',\n",
       "               '2012-01-01 00:00:30', '2012-01-01 00:00:31',\n",
       "               '2012-01-01 00:00:32', '2012-01-01 00:00:33',\n",
       "               '2012-01-01 00:00:34', '2012-01-01 00:00:35',\n",
       "               '2012-01-01 00:00:36', '2012-01-01 00:00:37',\n",
       "               '2012-01-01 00:00:38', '2012-01-01 00:00:39',\n",
       "               '2012-01-01 00:00:40', '2012-01-01 00:00:41',\n",
       "               '2012-01-01 00:00:42', '2012-01-01 00:00:43',\n",
       "               '2012-01-01 00:00:44', '2012-01-01 00:00:45',\n",
       "               '2012-01-01 00:00:46', '2012-01-01 00:00:47',\n",
       "               '2012-01-01 00:00:48', '2012-01-01 00:00:49',\n",
       "               '2012-01-01 00:00:50', '2012-01-01 00:00:51',\n",
       "               '2012-01-01 00:00:52', '2012-01-01 00:00:53',\n",
       "               '2012-01-01 00:00:54', '2012-01-01 00:00:55',\n",
       "               '2012-01-01 00:00:56', '2012-01-01 00:00:57',\n",
       "               '2012-01-01 00:00:58', '2012-01-01 00:00:59',\n",
       "               '2012-01-01 00:01:00', '2012-01-01 00:01:01',\n",
       "               '2012-01-01 00:01:02', '2012-01-01 00:01:03',\n",
       "               '2012-01-01 00:01:04', '2012-01-01 00:01:05',\n",
       "               '2012-01-01 00:01:06', '2012-01-01 00:01:07',\n",
       "               '2012-01-01 00:01:08', '2012-01-01 00:01:09',\n",
       "               '2012-01-01 00:01:10', '2012-01-01 00:01:11',\n",
       "               '2012-01-01 00:01:12', '2012-01-01 00:01:13',\n",
       "               '2012-01-01 00:01:14', '2012-01-01 00:01:15',\n",
       "               '2012-01-01 00:01:16', '2012-01-01 00:01:17',\n",
       "               '2012-01-01 00:01:18', '2012-01-01 00:01:19',\n",
       "               '2012-01-01 00:01:20', '2012-01-01 00:01:21',\n",
       "               '2012-01-01 00:01:22', '2012-01-01 00:01:23',\n",
       "               '2012-01-01 00:01:24', '2012-01-01 00:01:25',\n",
       "               '2012-01-01 00:01:26', '2012-01-01 00:01:27',\n",
       "               '2012-01-01 00:01:28', '2012-01-01 00:01:29',\n",
       "               '2012-01-01 00:01:30', '2012-01-01 00:01:31',\n",
       "               '2012-01-01 00:01:32', '2012-01-01 00:01:33',\n",
       "               '2012-01-01 00:01:34', '2012-01-01 00:01:35',\n",
       "               '2012-01-01 00:01:36', '2012-01-01 00:01:37',\n",
       "               '2012-01-01 00:01:38', '2012-01-01 00:01:39'],\n",
       "              dtype='datetime64[ns]', freq='S')"
      ]
     },
     "execution_count": 91,
     "metadata": {},
     "output_type": "execute_result"
    }
   ],
   "source": [
    "rng = pd.date_range('1/1/2012', periods=100, freq='S')\n",
    "rng"
   ]
  },
  {
   "cell_type": "code",
   "execution_count": 92,
   "id": "9f660a8b",
   "metadata": {},
   "outputs": [],
   "source": [
    "ts = pd.Series(np.random.randint(0, 500, len(rng)), index=rng)"
   ]
  },
  {
   "cell_type": "code",
   "execution_count": 93,
   "id": "d894f101",
   "metadata": {},
   "outputs": [
    {
     "data": {
      "text/plain": [
       "2012-01-01 00:00:00    462\n",
       "2012-01-01 00:00:01    495\n",
       "2012-01-01 00:00:02     89\n",
       "2012-01-01 00:00:03    248\n",
       "2012-01-01 00:00:04    377\n",
       "                      ... \n",
       "2012-01-01 00:01:35    348\n",
       "2012-01-01 00:01:36    276\n",
       "2012-01-01 00:01:37    269\n",
       "2012-01-01 00:01:38    370\n",
       "2012-01-01 00:01:39    161\n",
       "Freq: S, Length: 100, dtype: int32"
      ]
     },
     "execution_count": 93,
     "metadata": {},
     "output_type": "execute_result"
    }
   ],
   "source": [
    "ts"
   ]
  },
  {
   "cell_type": "code",
   "execution_count": 94,
   "id": "0c15bc9f",
   "metadata": {},
   "outputs": [
    {
     "data": {
      "text/plain": [
       "2012-01-01    24319\n",
       "Freq: 5T, dtype: int32"
      ]
     },
     "execution_count": 94,
     "metadata": {},
     "output_type": "execute_result"
    }
   ],
   "source": [
    "ts.resample('5Min').sum()"
   ]
  },
  {
   "cell_type": "markdown",
   "id": "06f69ce4",
   "metadata": {},
   "source": [
    "> 시간대 표현"
   ]
  },
  {
   "cell_type": "code",
   "execution_count": 95,
   "id": "ba7425da",
   "metadata": {},
   "outputs": [],
   "source": [
    "rng = pd.date_range('3/6/2012 00:00', periods=5, freq='D')"
   ]
  },
  {
   "cell_type": "code",
   "execution_count": 96,
   "id": "c9152431",
   "metadata": {},
   "outputs": [
    {
     "data": {
      "text/plain": [
       "DatetimeIndex(['2012-03-06', '2012-03-07', '2012-03-08', '2012-03-09',\n",
       "               '2012-03-10'],\n",
       "              dtype='datetime64[ns]', freq='D')"
      ]
     },
     "execution_count": 96,
     "metadata": {},
     "output_type": "execute_result"
    }
   ],
   "source": [
    "rng"
   ]
  },
  {
   "cell_type": "code",
   "execution_count": 97,
   "id": "340981d2",
   "metadata": {},
   "outputs": [],
   "source": [
    "ts = pd.Series(np.random.randn(len(rng)), rng)"
   ]
  },
  {
   "cell_type": "code",
   "execution_count": 98,
   "id": "cc13949c",
   "metadata": {},
   "outputs": [
    {
     "data": {
      "text/plain": [
       "2012-03-06    0.320022\n",
       "2012-03-07   -1.892803\n",
       "2012-03-08   -0.428876\n",
       "2012-03-09   -0.889668\n",
       "2012-03-10    1.335654\n",
       "Freq: D, dtype: float64"
      ]
     },
     "execution_count": 98,
     "metadata": {},
     "output_type": "execute_result"
    }
   ],
   "source": [
    "ts"
   ]
  },
  {
   "cell_type": "code",
   "execution_count": 99,
   "id": "736b4c00",
   "metadata": {},
   "outputs": [
    {
     "data": {
      "text/plain": [
       "2012-03-06 00:00:00+00:00    0.320022\n",
       "2012-03-07 00:00:00+00:00   -1.892803\n",
       "2012-03-08 00:00:00+00:00   -0.428876\n",
       "2012-03-09 00:00:00+00:00   -0.889668\n",
       "2012-03-10 00:00:00+00:00    1.335654\n",
       "Freq: D, dtype: float64"
      ]
     },
     "execution_count": 99,
     "metadata": {},
     "output_type": "execute_result"
    }
   ],
   "source": [
    "ts_utc = ts.tz_localize('UTC')\n",
    "ts_utc"
   ]
  },
  {
   "cell_type": "markdown",
   "id": "75186bc5",
   "metadata": {},
   "source": [
    "> 다른 시간대 반환"
   ]
  },
  {
   "cell_type": "code",
   "execution_count": 100,
   "id": "92bf9da3",
   "metadata": {},
   "outputs": [
    {
     "data": {
      "text/plain": [
       "2012-03-05 19:00:00-05:00    0.320022\n",
       "2012-03-06 19:00:00-05:00   -1.892803\n",
       "2012-03-07 19:00:00-05:00   -0.428876\n",
       "2012-03-08 19:00:00-05:00   -0.889668\n",
       "2012-03-09 19:00:00-05:00    1.335654\n",
       "Freq: D, dtype: float64"
      ]
     },
     "execution_count": 100,
     "metadata": {},
     "output_type": "execute_result"
    }
   ],
   "source": [
    "ts_utc.tz_convert('US/Eastern')"
   ]
  },
  {
   "cell_type": "markdown",
   "id": "57ea98c8",
   "metadata": {},
   "source": [
    "> 시간 표현 ↔ 기간 표현으로 변환합니다."
   ]
  },
  {
   "cell_type": "code",
   "execution_count": 101,
   "id": "241553ad",
   "metadata": {},
   "outputs": [],
   "source": [
    "rng = pd.date_range('1/1/2012', periods=5, freq='M')"
   ]
  },
  {
   "cell_type": "code",
   "execution_count": 102,
   "id": "2a2c3ca7",
   "metadata": {},
   "outputs": [],
   "source": [
    "ts = pd.Series(np.random.randn(len(rng)), index=rng)"
   ]
  },
  {
   "cell_type": "code",
   "execution_count": 103,
   "id": "8b83997d",
   "metadata": {},
   "outputs": [
    {
     "data": {
      "text/plain": [
       "2012-01-31   -0.303403\n",
       "2012-02-29    0.259000\n",
       "2012-03-31    0.348480\n",
       "2012-04-30   -1.085448\n",
       "2012-05-31    0.104353\n",
       "Freq: M, dtype: float64"
      ]
     },
     "execution_count": 103,
     "metadata": {},
     "output_type": "execute_result"
    }
   ],
   "source": [
    "ts"
   ]
  },
  {
   "cell_type": "code",
   "execution_count": 104,
   "id": "31e5af87",
   "metadata": {},
   "outputs": [],
   "source": [
    "ps = ts.to_period()"
   ]
  },
  {
   "cell_type": "code",
   "execution_count": 105,
   "id": "57fdb2fd",
   "metadata": {},
   "outputs": [
    {
     "data": {
      "text/plain": [
       "2012-01   -0.303403\n",
       "2012-02    0.259000\n",
       "2012-03    0.348480\n",
       "2012-04   -1.085448\n",
       "2012-05    0.104353\n",
       "Freq: M, dtype: float64"
      ]
     },
     "execution_count": 105,
     "metadata": {},
     "output_type": "execute_result"
    }
   ],
   "source": [
    "ps"
   ]
  },
  {
   "cell_type": "code",
   "execution_count": 106,
   "id": "b63a5161",
   "metadata": {},
   "outputs": [
    {
     "data": {
      "text/plain": [
       "2012-01-01   -0.303403\n",
       "2012-02-01    0.259000\n",
       "2012-03-01    0.348480\n",
       "2012-04-01   -1.085448\n",
       "2012-05-01    0.104353\n",
       "Freq: MS, dtype: float64"
      ]
     },
     "execution_count": 106,
     "metadata": {},
     "output_type": "execute_result"
    }
   ],
   "source": [
    "ps.to_timestamp()"
   ]
  },
  {
   "cell_type": "markdown",
   "id": "3f942ebd",
   "metadata": {},
   "source": [
    ">기간 ↔ 시간 변환은 편리한 산술 기능들을 사용할 수 있도록 만들어줍니다.\n",
    ">\n",
    ">다음 예제에서, 우리는 11월에 끝나는 연말 결산의 분기별 빈도를 분기말 익월의 월말일 오전 9시로 변환합니다."
   ]
  },
  {
   "cell_type": "code",
   "execution_count": 107,
   "id": "060eeaac",
   "metadata": {},
   "outputs": [],
   "source": [
    "prng = pd.period_range('1990Q1', '2000Q4', freq='Q-NOV')"
   ]
  },
  {
   "cell_type": "code",
   "execution_count": 108,
   "id": "d67d3b22",
   "metadata": {},
   "outputs": [],
   "source": [
    "ts = pd.Series(np.random.randn(len(prng)), prng)"
   ]
  },
  {
   "cell_type": "code",
   "execution_count": 109,
   "id": "d2378136",
   "metadata": {},
   "outputs": [],
   "source": [
    "ts.index = (prng.asfreq('M', 'e') + 1).asfreq('H', 's') + 9"
   ]
  },
  {
   "cell_type": "code",
   "execution_count": 110,
   "id": "39e5767b",
   "metadata": {},
   "outputs": [
    {
     "data": {
      "text/plain": [
       "1990-03-01 09:00    0.007426\n",
       "1990-06-01 09:00   -0.885542\n",
       "1990-09-01 09:00   -0.211458\n",
       "1990-12-01 09:00    0.854950\n",
       "1991-03-01 09:00   -1.067597\n",
       "Freq: H, dtype: float64"
      ]
     },
     "execution_count": 110,
     "metadata": {},
     "output_type": "execute_result"
    }
   ],
   "source": [
    "ts.head()"
   ]
  },
  {
   "cell_type": "markdown",
   "id": "5efb88d3",
   "metadata": {},
   "source": [
    "## Categoricals (범주화)\n",
    "> **Pandas**는 데이터프레임 내에 범주형 데이터를 포함할 수 있습니다.\n",
    ">\n",
    ">[범주형 소개](https://pandas.pydata.org/pandas-docs/stable/user_guide/categorical.html) 와 [API 문서](https://pandas.pydata.org/pandas-docs/stable/reference/index.html) 부분을 참조하세요.\n",
    "\n"
   ]
  },
  {
   "cell_type": "code",
   "execution_count": 111,
   "id": "401c5430",
   "metadata": {
    "scrolled": false
   },
   "outputs": [
    {
     "data": {
      "text/plain": [
       "0    a\n",
       "1    b\n",
       "2    b\n",
       "3    a\n",
       "4    a\n",
       "5    e\n",
       "Name: grade, dtype: category\n",
       "Categories (3, object): ['a', 'b', 'e']"
      ]
     },
     "execution_count": 111,
     "metadata": {},
     "output_type": "execute_result"
    }
   ],
   "source": [
    "df = pd.DataFrame({'id':[1, 2, 3, 4, 5, 6], 'raw_grade':['a','b','b','a','a','e']})\n",
    "df['grade'] = df['raw_grade'].astype('category')\n",
    "df['grade']"
   ]
  },
  {
   "cell_type": "markdown",
   "id": "14a60fc0",
   "metadata": {},
   "source": [
    "> 범주에 더 의미 있는 이름을 붙이기(Series.cat.categories)  \n",
    "> ex) pd.Series.cat.categories"
   ]
  },
  {
   "cell_type": "code",
   "execution_count": 112,
   "id": "8124a88d",
   "metadata": {
    "scrolled": true
   },
   "outputs": [
    {
     "data": {
      "text/html": [
       "<div>\n",
       "<style scoped>\n",
       "    .dataframe tbody tr th:only-of-type {\n",
       "        vertical-align: middle;\n",
       "    }\n",
       "\n",
       "    .dataframe tbody tr th {\n",
       "        vertical-align: top;\n",
       "    }\n",
       "\n",
       "    .dataframe thead th {\n",
       "        text-align: right;\n",
       "    }\n",
       "</style>\n",
       "<table border=\"1\" class=\"dataframe\">\n",
       "  <thead>\n",
       "    <tr style=\"text-align: right;\">\n",
       "      <th></th>\n",
       "      <th>id</th>\n",
       "      <th>raw_grade</th>\n",
       "      <th>grade</th>\n",
       "    </tr>\n",
       "  </thead>\n",
       "  <tbody>\n",
       "    <tr>\n",
       "      <th>0</th>\n",
       "      <td>1</td>\n",
       "      <td>a</td>\n",
       "      <td>very good</td>\n",
       "    </tr>\n",
       "    <tr>\n",
       "      <th>1</th>\n",
       "      <td>2</td>\n",
       "      <td>b</td>\n",
       "      <td>good</td>\n",
       "    </tr>\n",
       "    <tr>\n",
       "      <th>2</th>\n",
       "      <td>3</td>\n",
       "      <td>b</td>\n",
       "      <td>good</td>\n",
       "    </tr>\n",
       "    <tr>\n",
       "      <th>3</th>\n",
       "      <td>4</td>\n",
       "      <td>a</td>\n",
       "      <td>very good</td>\n",
       "    </tr>\n",
       "    <tr>\n",
       "      <th>4</th>\n",
       "      <td>5</td>\n",
       "      <td>a</td>\n",
       "      <td>very good</td>\n",
       "    </tr>\n",
       "    <tr>\n",
       "      <th>5</th>\n",
       "      <td>6</td>\n",
       "      <td>e</td>\n",
       "      <td>very bad</td>\n",
       "    </tr>\n",
       "  </tbody>\n",
       "</table>\n",
       "</div>"
      ],
      "text/plain": [
       "   id raw_grade      grade\n",
       "0   1         a  very good\n",
       "1   2         b       good\n",
       "2   3         b       good\n",
       "3   4         a  very good\n",
       "4   5         a  very good\n",
       "5   6         e   very bad"
      ]
     },
     "execution_count": 112,
     "metadata": {},
     "output_type": "execute_result"
    }
   ],
   "source": [
    "df['grade'].cat.categories = ['very good','good','very bad']\n",
    "df"
   ]
  },
  {
   "cell_type": "markdown",
   "id": "533d3b84",
   "metadata": {},
   "source": [
    "> 범주의 순서를 바꿈과 동시에 누락된 범주 추가 (Series.cat에 속하는 메소드는 기본적으로 새로운 Series를 반환합니다)."
   ]
  },
  {
   "cell_type": "code",
   "execution_count": 113,
   "id": "842ad74b",
   "metadata": {},
   "outputs": [
    {
     "data": {
      "text/plain": [
       "0    very good\n",
       "1         good\n",
       "2         good\n",
       "3    very good\n",
       "4    very good\n",
       "5     very bad\n",
       "Name: grade, dtype: category\n",
       "Categories (5, object): ['very bad', 'bad', 'medium', 'good', 'very good']"
      ]
     },
     "execution_count": 113,
     "metadata": {},
     "output_type": "execute_result"
    }
   ],
   "source": [
    "df['grade'] = df['grade'].cat.set_categories([\"very bad\", \"bad\", \"medium\", \"good\", \"very good\"])\n",
    "df['grade']"
   ]
  },
  {
   "cell_type": "markdown",
   "id": "e8d2fd0f",
   "metadata": {},
   "source": [
    ">정렬은 사전 순서가 아닌, 해당 범주에서 지정된 순서대로 배열됨\n",
    ">\n",
    ">위에서 \"very bad\", \"bad\", \"medium\", \"good\", \"very good\"  순서로 기재되어 있기 때문에 정렬 결과도 그 순서를 따름"
   ]
  },
  {
   "cell_type": "code",
   "execution_count": 114,
   "id": "3c7485e5",
   "metadata": {},
   "outputs": [
    {
     "data": {
      "text/html": [
       "<div>\n",
       "<style scoped>\n",
       "    .dataframe tbody tr th:only-of-type {\n",
       "        vertical-align: middle;\n",
       "    }\n",
       "\n",
       "    .dataframe tbody tr th {\n",
       "        vertical-align: top;\n",
       "    }\n",
       "\n",
       "    .dataframe thead th {\n",
       "        text-align: right;\n",
       "    }\n",
       "</style>\n",
       "<table border=\"1\" class=\"dataframe\">\n",
       "  <thead>\n",
       "    <tr style=\"text-align: right;\">\n",
       "      <th></th>\n",
       "      <th>id</th>\n",
       "      <th>raw_grade</th>\n",
       "      <th>grade</th>\n",
       "    </tr>\n",
       "  </thead>\n",
       "  <tbody>\n",
       "    <tr>\n",
       "      <th>5</th>\n",
       "      <td>6</td>\n",
       "      <td>e</td>\n",
       "      <td>very bad</td>\n",
       "    </tr>\n",
       "    <tr>\n",
       "      <th>1</th>\n",
       "      <td>2</td>\n",
       "      <td>b</td>\n",
       "      <td>good</td>\n",
       "    </tr>\n",
       "    <tr>\n",
       "      <th>2</th>\n",
       "      <td>3</td>\n",
       "      <td>b</td>\n",
       "      <td>good</td>\n",
       "    </tr>\n",
       "    <tr>\n",
       "      <th>0</th>\n",
       "      <td>1</td>\n",
       "      <td>a</td>\n",
       "      <td>very good</td>\n",
       "    </tr>\n",
       "    <tr>\n",
       "      <th>3</th>\n",
       "      <td>4</td>\n",
       "      <td>a</td>\n",
       "      <td>very good</td>\n",
       "    </tr>\n",
       "    <tr>\n",
       "      <th>4</th>\n",
       "      <td>5</td>\n",
       "      <td>a</td>\n",
       "      <td>very good</td>\n",
       "    </tr>\n",
       "  </tbody>\n",
       "</table>\n",
       "</div>"
      ],
      "text/plain": [
       "   id raw_grade      grade\n",
       "5   6         e   very bad\n",
       "1   2         b       good\n",
       "2   3         b       good\n",
       "0   1         a  very good\n",
       "3   4         a  very good\n",
       "4   5         a  very good"
      ]
     },
     "execution_count": 114,
     "metadata": {},
     "output_type": "execute_result"
    }
   ],
   "source": [
    "df.sort_values(by='grade')"
   ]
  },
  {
   "cell_type": "markdown",
   "id": "9ba5631b",
   "metadata": {},
   "source": [
    "> 범주의 열을 기준으로 그룹화하면 빈 범주도 표시됨"
   ]
  },
  {
   "cell_type": "code",
   "execution_count": 115,
   "id": "c12c0563",
   "metadata": {},
   "outputs": [
    {
     "data": {
      "text/plain": [
       "grade\n",
       "very bad     1\n",
       "bad          0\n",
       "medium       0\n",
       "good         2\n",
       "very good    3\n",
       "dtype: int64"
      ]
     },
     "execution_count": 115,
     "metadata": {},
     "output_type": "execute_result"
    }
   ],
   "source": [
    "df.groupby('grade').size()"
   ]
  },
  {
   "cell_type": "markdown",
   "id": "9d14ed26",
   "metadata": {},
   "source": [
    "## Plotting (그래프)\n",
    "> [Plotting](https://pandas.pydata.org/pandas-docs/stable/user_guide/visualization.html) 참조"
   ]
  },
  {
   "cell_type": "code",
   "execution_count": 116,
   "id": "95013fb0",
   "metadata": {},
   "outputs": [],
   "source": [
    "import matplotlib.pyplot as plt"
   ]
  },
  {
   "cell_type": "code",
   "execution_count": 117,
   "id": "98c6fc48",
   "metadata": {},
   "outputs": [],
   "source": [
    "ts = pd.Series(np.random.randn(1000), index=pd.date_range('1/1/2000', periods=1000))"
   ]
  },
  {
   "cell_type": "code",
   "execution_count": 118,
   "id": "18fdecd0",
   "metadata": {},
   "outputs": [],
   "source": [
    "ts = ts.cumsum()"
   ]
  },
  {
   "cell_type": "code",
   "execution_count": 119,
   "id": "8720e20e",
   "metadata": {},
   "outputs": [
    {
     "data": {
      "image/png": "[encoded data removed]",
      "text/plain": [
       "<Figure size 640x480 with 1 Axes>"
      ]
     },
     "metadata": {},
     "output_type": "display_data"
    }
   ],
   "source": [
    "ts.plot()\n",
    "plt.show()"
   ]
  },
  {
   "cell_type": "markdown",
   "id": "512d23b9",
   "metadata": {},
   "source": [
    "> DataFrame 에서 [plot()](https://pandas.pydata.org/pandas-docs/stable/reference/api/pandas.DataFrame.plot.html) 메소도는 라벨이 존재하는 모든 열을 그릴 때 편리함."
   ]
  },
  {
   "cell_type": "code",
   "execution_count": 120,
   "id": "a12eaabb",
   "metadata": {},
   "outputs": [],
   "source": [
    "df = pd.DataFrame(np.random.randn(1000, 4), index=ts.index,\n",
    "                  columns=['A','B','C','D'])"
   ]
  },
  {
   "cell_type": "code",
   "execution_count": 121,
   "id": "54892085",
   "metadata": {},
   "outputs": [],
   "source": [
    "df = df.cumsum()"
   ]
  },
  {
   "cell_type": "code",
   "execution_count": 122,
   "id": "f61409bb",
   "metadata": {},
   "outputs": [
    {
     "data": {
      "text/plain": [
       "<Figure size 640x480 with 0 Axes>"
      ]
     },
     "metadata": {},
     "output_type": "display_data"
    },
    {
     "data": {
      "image/png": "[encoded data removed]",
      "text/plain": [
       "<Figure size 640x480 with 1 Axes>"
      ]
     },
     "metadata": {},
     "output_type": "display_data"
    }
   ],
   "source": [
    "plt.figure(); df.plot(); plt.legend(loc='best')\n",
    "plt.show()"
   ]
  },
  {
   "cell_type": "markdown",
   "id": "fd370ea0",
   "metadata": {},
   "source": [
    "## Getting Data In / Out (데이터 입/출력)"
   ]
  },
  {
   "cell_type": "markdown",
   "id": "088c1fdb",
   "metadata": {},
   "source": [
    "> [CSV](https://pandas.pydata.org/pandas-docs/stable/user_guide/io.html) 파일에 읽고 쓰기"
   ]
  },
  {
   "cell_type": "code",
   "execution_count": 123,
   "id": "40c792d3",
   "metadata": {
    "scrolled": true
   },
   "outputs": [
    {
     "data": {
      "text/html": [
       "<div>\n",
       "<style scoped>\n",
       "    .dataframe tbody tr th:only-of-type {\n",
       "        vertical-align: middle;\n",
       "    }\n",
       "\n",
       "    .dataframe tbody tr th {\n",
       "        vertical-align: top;\n",
       "    }\n",
       "\n",
       "    .dataframe thead th {\n",
       "        text-align: right;\n",
       "    }\n",
       "</style>\n",
       "<table border=\"1\" class=\"dataframe\">\n",
       "  <thead>\n",
       "    <tr style=\"text-align: right;\">\n",
       "      <th></th>\n",
       "      <th>Unnamed: 0</th>\n",
       "      <th>A</th>\n",
       "      <th>B</th>\n",
       "      <th>C</th>\n",
       "      <th>D</th>\n",
       "    </tr>\n",
       "  </thead>\n",
       "  <tbody>\n",
       "    <tr>\n",
       "      <th>0</th>\n",
       "      <td>2000-01-01</td>\n",
       "      <td>-0.287729</td>\n",
       "      <td>-0.149232</td>\n",
       "      <td>-0.854338</td>\n",
       "      <td>-0.855327</td>\n",
       "    </tr>\n",
       "    <tr>\n",
       "      <th>1</th>\n",
       "      <td>2000-01-02</td>\n",
       "      <td>-0.663085</td>\n",
       "      <td>0.169475</td>\n",
       "      <td>0.090234</td>\n",
       "      <td>2.328347</td>\n",
       "    </tr>\n",
       "    <tr>\n",
       "      <th>2</th>\n",
       "      <td>2000-01-03</td>\n",
       "      <td>-0.948974</td>\n",
       "      <td>0.398880</td>\n",
       "      <td>-0.543869</td>\n",
       "      <td>0.665340</td>\n",
       "    </tr>\n",
       "    <tr>\n",
       "      <th>3</th>\n",
       "      <td>2000-01-04</td>\n",
       "      <td>-0.199690</td>\n",
       "      <td>1.129308</td>\n",
       "      <td>0.818797</td>\n",
       "      <td>1.157163</td>\n",
       "    </tr>\n",
       "    <tr>\n",
       "      <th>4</th>\n",
       "      <td>2000-01-05</td>\n",
       "      <td>1.103093</td>\n",
       "      <td>2.301665</td>\n",
       "      <td>-1.148351</td>\n",
       "      <td>1.141130</td>\n",
       "    </tr>\n",
       "    <tr>\n",
       "      <th>...</th>\n",
       "      <td>...</td>\n",
       "      <td>...</td>\n",
       "      <td>...</td>\n",
       "      <td>...</td>\n",
       "      <td>...</td>\n",
       "    </tr>\n",
       "    <tr>\n",
       "      <th>995</th>\n",
       "      <td>2002-09-22</td>\n",
       "      <td>19.511552</td>\n",
       "      <td>-3.175656</td>\n",
       "      <td>7.465219</td>\n",
       "      <td>9.870809</td>\n",
       "    </tr>\n",
       "    <tr>\n",
       "      <th>996</th>\n",
       "      <td>2002-09-23</td>\n",
       "      <td>19.358876</td>\n",
       "      <td>-1.970459</td>\n",
       "      <td>7.746118</td>\n",
       "      <td>11.436110</td>\n",
       "    </tr>\n",
       "    <tr>\n",
       "      <th>997</th>\n",
       "      <td>2002-09-24</td>\n",
       "      <td>19.009094</td>\n",
       "      <td>-1.437883</td>\n",
       "      <td>6.931270</td>\n",
       "      <td>13.160051</td>\n",
       "    </tr>\n",
       "    <tr>\n",
       "      <th>998</th>\n",
       "      <td>2002-09-25</td>\n",
       "      <td>20.950439</td>\n",
       "      <td>0.275998</td>\n",
       "      <td>6.730712</td>\n",
       "      <td>12.287240</td>\n",
       "    </tr>\n",
       "    <tr>\n",
       "      <th>999</th>\n",
       "      <td>2002-09-26</td>\n",
       "      <td>21.469260</td>\n",
       "      <td>0.607508</td>\n",
       "      <td>6.562587</td>\n",
       "      <td>14.675881</td>\n",
       "    </tr>\n",
       "  </tbody>\n",
       "</table>\n",
       "<p>1000 rows × 5 columns</p>\n",
       "</div>"
      ],
      "text/plain": [
       "     Unnamed: 0          A         B         C          D\n",
       "0    2000-01-01  -0.287729 -0.149232 -0.854338  -0.855327\n",
       "1    2000-01-02  -0.663085  0.169475  0.090234   2.328347\n",
       "2    2000-01-03  -0.948974  0.398880 -0.543869   0.665340\n",
       "3    2000-01-04  -0.199690  1.129308  0.818797   1.157163\n",
       "4    2000-01-05   1.103093  2.301665 -1.148351   1.141130\n",
       "..          ...        ...       ...       ...        ...\n",
       "995  2002-09-22  19.511552 -3.175656  7.465219   9.870809\n",
       "996  2002-09-23  19.358876 -1.970459  7.746118  11.436110\n",
       "997  2002-09-24  19.009094 -1.437883  6.931270  13.160051\n",
       "998  2002-09-25  20.950439  0.275998  6.730712  12.287240\n",
       "999  2002-09-26  21.469260  0.607508  6.562587  14.675881\n",
       "\n",
       "[1000 rows x 5 columns]"
      ]
     },
     "execution_count": 123,
     "metadata": {},
     "output_type": "execute_result"
    }
   ],
   "source": [
    "df.to_csv('foo.csv')\n",
    "pd.read_csv('foo.csv')"
   ]
  },
  {
   "cell_type": "markdown",
   "id": "b92b1413",
   "metadata": {},
   "source": [
    "> HDF5\n",
    ">\n",
    "> HDF5 Store에 읽고 쓰기"
   ]
  },
  {
   "cell_type": "code",
   "execution_count": 124,
   "id": "a4acbfc5",
   "metadata": {},
   "outputs": [
    {
     "data": {
      "text/html": [
       "<div>\n",
       "<style scoped>\n",
       "    .dataframe tbody tr th:only-of-type {\n",
       "        vertical-align: middle;\n",
       "    }\n",
       "\n",
       "    .dataframe tbody tr th {\n",
       "        vertical-align: top;\n",
       "    }\n",
       "\n",
       "    .dataframe thead th {\n",
       "        text-align: right;\n",
       "    }\n",
       "</style>\n",
       "<table border=\"1\" class=\"dataframe\">\n",
       "  <thead>\n",
       "    <tr style=\"text-align: right;\">\n",
       "      <th></th>\n",
       "      <th>A</th>\n",
       "      <th>B</th>\n",
       "      <th>C</th>\n",
       "      <th>D</th>\n",
       "    </tr>\n",
       "  </thead>\n",
       "  <tbody>\n",
       "    <tr>\n",
       "      <th>2000-01-01</th>\n",
       "      <td>-0.287729</td>\n",
       "      <td>-0.149232</td>\n",
       "      <td>-0.854338</td>\n",
       "      <td>-0.855327</td>\n",
       "    </tr>\n",
       "    <tr>\n",
       "      <th>2000-01-02</th>\n",
       "      <td>-0.663085</td>\n",
       "      <td>0.169475</td>\n",
       "      <td>0.090234</td>\n",
       "      <td>2.328347</td>\n",
       "    </tr>\n",
       "    <tr>\n",
       "      <th>2000-01-03</th>\n",
       "      <td>-0.948974</td>\n",
       "      <td>0.398880</td>\n",
       "      <td>-0.543869</td>\n",
       "      <td>0.665340</td>\n",
       "    </tr>\n",
       "    <tr>\n",
       "      <th>2000-01-04</th>\n",
       "      <td>-0.199690</td>\n",
       "      <td>1.129308</td>\n",
       "      <td>0.818797</td>\n",
       "      <td>1.157163</td>\n",
       "    </tr>\n",
       "    <tr>\n",
       "      <th>2000-01-05</th>\n",
       "      <td>1.103093</td>\n",
       "      <td>2.301665</td>\n",
       "      <td>-1.148351</td>\n",
       "      <td>1.141130</td>\n",
       "    </tr>\n",
       "    <tr>\n",
       "      <th>...</th>\n",
       "      <td>...</td>\n",
       "      <td>...</td>\n",
       "      <td>...</td>\n",
       "      <td>...</td>\n",
       "    </tr>\n",
       "    <tr>\n",
       "      <th>2002-09-22</th>\n",
       "      <td>19.511552</td>\n",
       "      <td>-3.175656</td>\n",
       "      <td>7.465219</td>\n",
       "      <td>9.870809</td>\n",
       "    </tr>\n",
       "    <tr>\n",
       "      <th>2002-09-23</th>\n",
       "      <td>19.358876</td>\n",
       "      <td>-1.970459</td>\n",
       "      <td>7.746118</td>\n",
       "      <td>11.436110</td>\n",
       "    </tr>\n",
       "    <tr>\n",
       "      <th>2002-09-24</th>\n",
       "      <td>19.009094</td>\n",
       "      <td>-1.437883</td>\n",
       "      <td>6.931270</td>\n",
       "      <td>13.160051</td>\n",
       "    </tr>\n",
       "    <tr>\n",
       "      <th>2002-09-25</th>\n",
       "      <td>20.950439</td>\n",
       "      <td>0.275998</td>\n",
       "      <td>6.730712</td>\n",
       "      <td>12.287240</td>\n",
       "    </tr>\n",
       "    <tr>\n",
       "      <th>2002-09-26</th>\n",
       "      <td>21.469260</td>\n",
       "      <td>0.607508</td>\n",
       "      <td>6.562587</td>\n",
       "      <td>14.675881</td>\n",
       "    </tr>\n",
       "  </tbody>\n",
       "</table>\n",
       "<p>1000 rows × 4 columns</p>\n",
       "</div>"
      ],
      "text/plain": [
       "                    A         B         C          D\n",
       "2000-01-01  -0.287729 -0.149232 -0.854338  -0.855327\n",
       "2000-01-02  -0.663085  0.169475  0.090234   2.328347\n",
       "2000-01-03  -0.948974  0.398880 -0.543869   0.665340\n",
       "2000-01-04  -0.199690  1.129308  0.818797   1.157163\n",
       "2000-01-05   1.103093  2.301665 -1.148351   1.141130\n",
       "...               ...       ...       ...        ...\n",
       "2002-09-22  19.511552 -3.175656  7.465219   9.870809\n",
       "2002-09-23  19.358876 -1.970459  7.746118  11.436110\n",
       "2002-09-24  19.009094 -1.437883  6.931270  13.160051\n",
       "2002-09-25  20.950439  0.275998  6.730712  12.287240\n",
       "2002-09-26  21.469260  0.607508  6.562587  14.675881\n",
       "\n",
       "[1000 rows x 4 columns]"
      ]
     },
     "execution_count": 124,
     "metadata": {},
     "output_type": "execute_result"
    }
   ],
   "source": [
    "df.to_hdf('foo.h5','df')\n",
    "pd.read_hdf('foo.h5','df')"
   ]
  },
  {
   "cell_type": "markdown",
   "id": "c69278cf",
   "metadata": {},
   "source": [
    "> Excel 에 읽고 쓰기"
   ]
  },
  {
   "cell_type": "code",
   "execution_count": 125,
   "id": "ea2dc83d",
   "metadata": {
    "scrolled": false
   },
   "outputs": [
    {
     "data": {
      "text/html": [
       "<div>\n",
       "<style scoped>\n",
       "    .dataframe tbody tr th:only-of-type {\n",
       "        vertical-align: middle;\n",
       "    }\n",
       "\n",
       "    .dataframe tbody tr th {\n",
       "        vertical-align: top;\n",
       "    }\n",
       "\n",
       "    .dataframe thead th {\n",
       "        text-align: right;\n",
       "    }\n",
       "</style>\n",
       "<table border=\"1\" class=\"dataframe\">\n",
       "  <thead>\n",
       "    <tr style=\"text-align: right;\">\n",
       "      <th></th>\n",
       "      <th>Unnamed: 0</th>\n",
       "      <th>A</th>\n",
       "      <th>B</th>\n",
       "      <th>C</th>\n",
       "      <th>D</th>\n",
       "    </tr>\n",
       "  </thead>\n",
       "  <tbody>\n",
       "    <tr>\n",
       "      <th>0</th>\n",
       "      <td>2000-01-01</td>\n",
       "      <td>-0.287729</td>\n",
       "      <td>-0.149232</td>\n",
       "      <td>-0.854338</td>\n",
       "      <td>-0.855327</td>\n",
       "    </tr>\n",
       "    <tr>\n",
       "      <th>1</th>\n",
       "      <td>2000-01-02</td>\n",
       "      <td>-0.663085</td>\n",
       "      <td>0.169475</td>\n",
       "      <td>0.090234</td>\n",
       "      <td>2.328347</td>\n",
       "    </tr>\n",
       "    <tr>\n",
       "      <th>2</th>\n",
       "      <td>2000-01-03</td>\n",
       "      <td>-0.948974</td>\n",
       "      <td>0.398880</td>\n",
       "      <td>-0.543869</td>\n",
       "      <td>0.665340</td>\n",
       "    </tr>\n",
       "    <tr>\n",
       "      <th>3</th>\n",
       "      <td>2000-01-04</td>\n",
       "      <td>-0.199690</td>\n",
       "      <td>1.129308</td>\n",
       "      <td>0.818797</td>\n",
       "      <td>1.157163</td>\n",
       "    </tr>\n",
       "    <tr>\n",
       "      <th>4</th>\n",
       "      <td>2000-01-05</td>\n",
       "      <td>1.103093</td>\n",
       "      <td>2.301665</td>\n",
       "      <td>-1.148351</td>\n",
       "      <td>1.141130</td>\n",
       "    </tr>\n",
       "    <tr>\n",
       "      <th>...</th>\n",
       "      <td>...</td>\n",
       "      <td>...</td>\n",
       "      <td>...</td>\n",
       "      <td>...</td>\n",
       "      <td>...</td>\n",
       "    </tr>\n",
       "    <tr>\n",
       "      <th>995</th>\n",
       "      <td>2002-09-22</td>\n",
       "      <td>19.511552</td>\n",
       "      <td>-3.175656</td>\n",
       "      <td>7.465219</td>\n",
       "      <td>9.870809</td>\n",
       "    </tr>\n",
       "    <tr>\n",
       "      <th>996</th>\n",
       "      <td>2002-09-23</td>\n",
       "      <td>19.358876</td>\n",
       "      <td>-1.970459</td>\n",
       "      <td>7.746118</td>\n",
       "      <td>11.436110</td>\n",
       "    </tr>\n",
       "    <tr>\n",
       "      <th>997</th>\n",
       "      <td>2002-09-24</td>\n",
       "      <td>19.009094</td>\n",
       "      <td>-1.437883</td>\n",
       "      <td>6.931270</td>\n",
       "      <td>13.160051</td>\n",
       "    </tr>\n",
       "    <tr>\n",
       "      <th>998</th>\n",
       "      <td>2002-09-25</td>\n",
       "      <td>20.950439</td>\n",
       "      <td>0.275998</td>\n",
       "      <td>6.730712</td>\n",
       "      <td>12.287240</td>\n",
       "    </tr>\n",
       "    <tr>\n",
       "      <th>999</th>\n",
       "      <td>2002-09-26</td>\n",
       "      <td>21.469260</td>\n",
       "      <td>0.607508</td>\n",
       "      <td>6.562587</td>\n",
       "      <td>14.675881</td>\n",
       "    </tr>\n",
       "  </tbody>\n",
       "</table>\n",
       "<p>1000 rows × 5 columns</p>\n",
       "</div>"
      ],
      "text/plain": [
       "    Unnamed: 0          A         B         C          D\n",
       "0   2000-01-01  -0.287729 -0.149232 -0.854338  -0.855327\n",
       "1   2000-01-02  -0.663085  0.169475  0.090234   2.328347\n",
       "2   2000-01-03  -0.948974  0.398880 -0.543869   0.665340\n",
       "3   2000-01-04  -0.199690  1.129308  0.818797   1.157163\n",
       "4   2000-01-05   1.103093  2.301665 -1.148351   1.141130\n",
       "..         ...        ...       ...       ...        ...\n",
       "995 2002-09-22  19.511552 -3.175656  7.465219   9.870809\n",
       "996 2002-09-23  19.358876 -1.970459  7.746118  11.436110\n",
       "997 2002-09-24  19.009094 -1.437883  6.931270  13.160051\n",
       "998 2002-09-25  20.950439  0.275998  6.730712  12.287240\n",
       "999 2002-09-26  21.469260  0.607508  6.562587  14.675881\n",
       "\n",
       "[1000 rows x 5 columns]"
      ]
     },
     "execution_count": 125,
     "metadata": {},
     "output_type": "execute_result"
    }
   ],
   "source": [
    "df.to_excel('foo.xlsx', sheet_name='Sheet1')\n",
    "pd.read_excel('foo.xlsx', 'Sheet1', index_col=None, na_values=['NA'])"
   ]
  },
  {
   "cell_type": "markdown",
   "id": "61a0c783",
   "metadata": {},
   "source": [
    "## Gotchas (잡았다?)\n",
    "> 연산 수행 시 다음과 같은 예외 상활을 볼 수도 있다."
   ]
  },
  {
   "cell_type": "code",
   "execution_count": 126,
   "id": "e8cbf979",
   "metadata": {
    "scrolled": true
   },
   "outputs": [
    {
     "ename": "ValueError",
     "evalue": "The truth value of a Series is ambiguous. Use a.empty, a.bool(), a.item(), a.any() or a.all().",
     "output_type": "error",
     "traceback": [
      "\u001b[1;31m---------------------------------------------------------------------------\u001b[0m",
      "\u001b[1;31mValueError\u001b[0m                                Traceback (most recent call last)",
      "\u001b[1;32m<ipython-input-126-e23b6e887fca>\u001b[0m in \u001b[0;36m<module>\u001b[1;34m\u001b[0m\n\u001b[1;32m----> 1\u001b[1;33m \u001b[1;32mif\u001b[0m \u001b[0mpd\u001b[0m\u001b[1;33m.\u001b[0m\u001b[0mSeries\u001b[0m\u001b[1;33m(\u001b[0m\u001b[1;33m[\u001b[0m\u001b[1;32mFalse\u001b[0m\u001b[1;33m,\u001b[0m \u001b[1;32mTrue\u001b[0m\u001b[1;33m,\u001b[0m \u001b[1;32mFalse\u001b[0m\u001b[1;33m]\u001b[0m\u001b[1;33m)\u001b[0m\u001b[1;33m:\u001b[0m\u001b[1;33m\u001b[0m\u001b[1;33m\u001b[0m\u001b[0m\n\u001b[0m\u001b[0;32m      2\u001b[0m     \u001b[0mprint\u001b[0m\u001b[1;33m(\u001b[0m\u001b[1;34m'I was true'\u001b[0m\u001b[1;33m)\u001b[0m\u001b[1;33m\u001b[0m\u001b[1;33m\u001b[0m\u001b[0m\n",
      "\u001b[1;32m~\\anaconda3\\lib\\site-packages\\pandas\\core\\generic.py\u001b[0m in \u001b[0;36m__nonzero__\u001b[1;34m(self)\u001b[0m\n\u001b[0;32m   1535\u001b[0m     \u001b[1;33m@\u001b[0m\u001b[0mfinal\u001b[0m\u001b[1;33m\u001b[0m\u001b[1;33m\u001b[0m\u001b[0m\n\u001b[0;32m   1536\u001b[0m     \u001b[1;32mdef\u001b[0m \u001b[0m__nonzero__\u001b[0m\u001b[1;33m(\u001b[0m\u001b[0mself\u001b[0m\u001b[1;33m)\u001b[0m\u001b[1;33m:\u001b[0m\u001b[1;33m\u001b[0m\u001b[1;33m\u001b[0m\u001b[0m\n\u001b[1;32m-> 1537\u001b[1;33m         raise ValueError(\n\u001b[0m\u001b[0;32m   1538\u001b[0m             \u001b[1;34mf\"The truth value of a {type(self).__name__} is ambiguous. \"\u001b[0m\u001b[1;33m\u001b[0m\u001b[1;33m\u001b[0m\u001b[0m\n\u001b[0;32m   1539\u001b[0m             \u001b[1;34m\"Use a.empty, a.bool(), a.item(), a.any() or a.all().\"\u001b[0m\u001b[1;33m\u001b[0m\u001b[1;33m\u001b[0m\u001b[0m\n",
      "\u001b[1;31mValueError\u001b[0m: The truth value of a Series is ambiguous. Use a.empty, a.bool(), a.item(), a.any() or a.all()."
     ]
    }
   ],
   "source": [
    "if pd.Series([False, True, False]):\n",
    "    print('I was true')"
   ]
  },
  {
   "cell_type": "markdown",
   "id": "a997a687",
   "metadata": {},
   "source": [
    ">이러한 경우에는 any(), all(), empty 등을 사용해서 무엇을 원하는지를 선택 (반영)해주어야 한다."
   ]
  },
  {
   "cell_type": "code",
   "execution_count": 127,
   "id": "c3872d91",
   "metadata": {},
   "outputs": [
    {
     "name": "stdout",
     "output_type": "stream",
     "text": [
      "I was true\n"
     ]
    }
   ],
   "source": [
    "if pd.Series([False, True, False])is not None:\n",
    "    print('I was true')"
   ]
  },
  {
   "cell_type": "markdown",
   "id": "df1ed241",
   "metadata": {},
   "source": [
    ">위에 대한 설명과 자세한 내용은 [비교](https://pandas.pydata.org/pandas-docs/stable/user_guide/basics.html) 부분을 참조하세요.\n",
    ">\n",
    ">[Gotchas](https://pandas.pydata.org/pandas-docs/stable/user_guide/gotchas.html) 부분도 참조하세요."
   ]
  },
  {
   "cell_type": "markdown",
   "id": "7f2de27f",
   "metadata": {},
   "source": [
    "> 본자료는 데잇걸즈2 사이트를 보고 타이핑한것임.\n",
    ">\n",
    "> 저작권 걸려있..."
   ]
  }
 ],
 "metadata": {
  "kernelspec": {
   "display_name": "Python 3",
   "language": "python",
   "name": "python3"
  },
  "language_info": {
   "codemirror_mode": {
    "name": "ipython",
    "version": 3
   },
   "file_extension": ".py",
   "mimetype": "text/x-python",
   "name": "python",
   "nbconvert_exporter": "python",
   "pygments_lexer": "ipython3",
   "version": "3.8.8"
  },
  "toc": {
   "base_numbering": 1,
   "nav_menu": {},
   "number_sections": true,
   "sideBar": true,
   "skip_h1_title": false,
   "title_cell": "Table of Contents",
   "title_sidebar": "Contents",
   "toc_cell": false,
   "toc_position": {},
   "toc_section_display": true,
   "toc_window_display": false
  }
 },
 "nbformat": 4,
 "nbformat_minor": 5
}
