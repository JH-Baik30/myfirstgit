{
 "cells": [
  {
   "cell_type": "markdown",
   "id": "f7d16df6",
   "metadata": {},
   "source": [
    "<img src=\"https://raw.githubusercontent.com/dataitgirls2/10minutes2pandas/master/_layouts/og_image_trsp.png\" width=\"60%\">\n",
    "\n",
    ">[Pandas 10분 완성](https://dataitgirls2.github.io/10minutes2pandas/)\n",
    "  > 1. Object Creation (객체 생성)\n",
    "  > 2. Viewing Data (데이터 확인하기)\n",
    "  > 3. Selection (선택)\n",
    "  > 4. Missing Data (결측치)\n",
    "  > 5. Operation (연산)\n",
    "  > 6. Merge (병합)\n",
    "  > 7. Grouping (그룹화)\n",
    "  > 8. Reshaping (변형)\n",
    "  > 9. Time Series (시계열)\n",
    "  > 10. Categoricals (범주화)\n",
    "  > 11. Plotting (그래프)\n",
    "  > 12. Getting Data In / Out (데이터 입 / 출력)\n",
    "  > 13. Gotchas (잡았다!)"
   ]
  },
  {
   "cell_type": "code",
   "execution_count": 1,
   "id": "94e0976c",
   "metadata": {},
   "outputs": [],
   "source": [
    "import pandas as pd\n",
    "import numpy as np\n",
    "import matplotlib.pyplot as plt"
   ]
  },
  {
   "cell_type": "markdown",
   "id": "430b25ef",
   "metadata": {},
   "source": [
    "## Object Creation (객체 생성)\n",
    "> *[데이터 구조 소개 섹션](https://pandas.pydata.org/pandas-docs/stable/user_guide/dsintro.html) 을 참조*</br>\n",
    ">Pandas는 값을 가지고 있는 리스트를 통해 Series를 만들고, 정수로 만들어진 인덱스를 기본값으로 불러올 것입니다."
   ]
  },
  {
   "cell_type": "code",
   "execution_count": 2,
   "id": "5896fe6e",
   "metadata": {
    "scrolled": true
   },
   "outputs": [
    {
     "data": {
      "text/plain": [
       "0    1.0\n",
       "1    3.0\n",
       "2    5.0\n",
       "3    NaN\n",
       "4    6.0\n",
       "5    8.0\n",
       "dtype: float64"
      ]
     },
     "execution_count": 2,
     "metadata": {},
     "output_type": "execute_result"
    }
   ],
   "source": [
    "s = pd.Series([1, 3, 5,np.nan, 6, 8])\n",
    "s"
   ]
  },
  {
   "cell_type": "markdown",
   "id": "b8240ac0",
   "metadata": {},
   "source": [
    ">datetime 인덱스와 레이블이 있는 열을 가지고 있는 numpy 배열을 전달하여 데이터프레임을 만듭니다."
   ]
  },
  {
   "cell_type": "code",
   "execution_count": 3,
   "id": "ee3f0b08",
   "metadata": {},
   "outputs": [
    {
     "data": {
      "text/plain": [
       "DatetimeIndex(['2013-01-01', '2013-01-02', '2013-01-03', '2013-01-04',\n",
       "               '2013-01-05', '2013-01-06'],\n",
       "              dtype='datetime64[ns]', freq='D')"
      ]
     },
     "execution_count": 3,
     "metadata": {},
     "output_type": "execute_result"
    }
   ],
   "source": [
    "dates = pd.date_range('20130101', periods=6)\n",
    "dates"
   ]
  },
  {
   "cell_type": "code",
   "execution_count": 4,
   "id": "eb8d399a",
   "metadata": {},
   "outputs": [
    {
     "data": {
      "text/html": [
       "<div>\n",
       "<style scoped>\n",
       "    .dataframe tbody tr th:only-of-type {\n",
       "        vertical-align: middle;\n",
       "    }\n",
       "\n",
       "    .dataframe tbody tr th {\n",
       "        vertical-align: top;\n",
       "    }\n",
       "\n",
       "    .dataframe thead th {\n",
       "        text-align: right;\n",
       "    }\n",
       "</style>\n",
       "<table border=\"1\" class=\"dataframe\">\n",
       "  <thead>\n",
       "    <tr style=\"text-align: right;\">\n",
       "      <th></th>\n",
       "      <th>A</th>\n",
       "      <th>B</th>\n",
       "      <th>C</th>\n",
       "      <th>D</th>\n",
       "    </tr>\n",
       "  </thead>\n",
       "  <tbody>\n",
       "    <tr>\n",
       "      <th>2013-01-01</th>\n",
       "      <td>-1.215793</td>\n",
       "      <td>-1.388198</td>\n",
       "      <td>-0.398252</td>\n",
       "      <td>1.477181</td>\n",
       "    </tr>\n",
       "    <tr>\n",
       "      <th>2013-01-02</th>\n",
       "      <td>-0.840594</td>\n",
       "      <td>0.606626</td>\n",
       "      <td>1.069531</td>\n",
       "      <td>0.320595</td>\n",
       "    </tr>\n",
       "    <tr>\n",
       "      <th>2013-01-03</th>\n",
       "      <td>0.893776</td>\n",
       "      <td>0.658321</td>\n",
       "      <td>1.243710</td>\n",
       "      <td>-0.729858</td>\n",
       "    </tr>\n",
       "    <tr>\n",
       "      <th>2013-01-04</th>\n",
       "      <td>-0.404943</td>\n",
       "      <td>-1.319855</td>\n",
       "      <td>-0.155648</td>\n",
       "      <td>-2.401771</td>\n",
       "    </tr>\n",
       "    <tr>\n",
       "      <th>2013-01-05</th>\n",
       "      <td>0.663559</td>\n",
       "      <td>0.383396</td>\n",
       "      <td>-0.299668</td>\n",
       "      <td>0.303964</td>\n",
       "    </tr>\n",
       "    <tr>\n",
       "      <th>2013-01-06</th>\n",
       "      <td>-0.047130</td>\n",
       "      <td>0.190586</td>\n",
       "      <td>-0.174484</td>\n",
       "      <td>1.184288</td>\n",
       "    </tr>\n",
       "  </tbody>\n",
       "</table>\n",
       "</div>"
      ],
      "text/plain": [
       "                   A         B         C         D\n",
       "2013-01-01 -1.215793 -1.388198 -0.398252  1.477181\n",
       "2013-01-02 -0.840594  0.606626  1.069531  0.320595\n",
       "2013-01-03  0.893776  0.658321  1.243710 -0.729858\n",
       "2013-01-04 -0.404943 -1.319855 -0.155648 -2.401771\n",
       "2013-01-05  0.663559  0.383396 -0.299668  0.303964\n",
       "2013-01-06 -0.047130  0.190586 -0.174484  1.184288"
      ]
     },
     "execution_count": 4,
     "metadata": {},
     "output_type": "execute_result"
    }
   ],
   "source": [
    "df = pd.DataFrame(np.random.randn(6,4), index=dates, columns=list('ABCD'))\n",
    "df"
   ]
  },
  {
   "cell_type": "markdown",
   "id": "6da5f2e4",
   "metadata": {},
   "source": [
    "> Series와 같은 것으로 변환될 수 있는 객체들의 dict로 구성된 데이터프레임을 만듭니다."
   ]
  },
  {
   "cell_type": "code",
   "execution_count": 5,
   "id": "e21203a8",
   "metadata": {},
   "outputs": [
    {
     "data": {
      "text/html": [
       "<div>\n",
       "<style scoped>\n",
       "    .dataframe tbody tr th:only-of-type {\n",
       "        vertical-align: middle;\n",
       "    }\n",
       "\n",
       "    .dataframe tbody tr th {\n",
       "        vertical-align: top;\n",
       "    }\n",
       "\n",
       "    .dataframe thead th {\n",
       "        text-align: right;\n",
       "    }\n",
       "</style>\n",
       "<table border=\"1\" class=\"dataframe\">\n",
       "  <thead>\n",
       "    <tr style=\"text-align: right;\">\n",
       "      <th></th>\n",
       "      <th>A</th>\n",
       "      <th>B</th>\n",
       "      <th>C</th>\n",
       "      <th>D</th>\n",
       "      <th>E</th>\n",
       "      <th>F</th>\n",
       "    </tr>\n",
       "  </thead>\n",
       "  <tbody>\n",
       "    <tr>\n",
       "      <th>0</th>\n",
       "      <td>1.0</td>\n",
       "      <td>2013-01-02</td>\n",
       "      <td>1.0</td>\n",
       "      <td>3</td>\n",
       "      <td>test</td>\n",
       "      <td>foo</td>\n",
       "    </tr>\n",
       "    <tr>\n",
       "      <th>1</th>\n",
       "      <td>1.0</td>\n",
       "      <td>2013-01-02</td>\n",
       "      <td>1.0</td>\n",
       "      <td>3</td>\n",
       "      <td>train</td>\n",
       "      <td>foo</td>\n",
       "    </tr>\n",
       "    <tr>\n",
       "      <th>2</th>\n",
       "      <td>1.0</td>\n",
       "      <td>2013-01-02</td>\n",
       "      <td>1.0</td>\n",
       "      <td>3</td>\n",
       "      <td>test</td>\n",
       "      <td>foo</td>\n",
       "    </tr>\n",
       "    <tr>\n",
       "      <th>3</th>\n",
       "      <td>1.0</td>\n",
       "      <td>2013-01-02</td>\n",
       "      <td>1.0</td>\n",
       "      <td>3</td>\n",
       "      <td>train</td>\n",
       "      <td>foo</td>\n",
       "    </tr>\n",
       "  </tbody>\n",
       "</table>\n",
       "</div>"
      ],
      "text/plain": [
       "     A          B    C  D      E    F\n",
       "0  1.0 2013-01-02  1.0  3   test  foo\n",
       "1  1.0 2013-01-02  1.0  3  train  foo\n",
       "2  1.0 2013-01-02  1.0  3   test  foo\n",
       "3  1.0 2013-01-02  1.0  3  train  foo"
      ]
     },
     "execution_count": 5,
     "metadata": {},
     "output_type": "execute_result"
    }
   ],
   "source": [
    "df2 = pd.DataFrame({'A' : 1.,\n",
    "                    'B' : pd.Timestamp('20130102'),\n",
    "                    'C' : pd.Series(1, index=list(range(4)), dtype='float32'),\n",
    "                    'D' : np.array([3]  * 4, dtype='int32'),\n",
    "                    'E' : pd.Categorical(['test', 'train', 'test', 'train']),\n",
    "                    'F' : 'foo' })\n",
    "df2"
   ]
  },
  {
   "cell_type": "code",
   "execution_count": 6,
   "id": "2f28ad5e",
   "metadata": {},
   "outputs": [
    {
     "data": {
      "text/plain": [
       "A           float64\n",
       "B    datetime64[ns]\n",
       "C           float32\n",
       "D             int32\n",
       "E          category\n",
       "F            object\n",
       "dtype: object"
      ]
     },
     "execution_count": 6,
     "metadata": {},
     "output_type": "execute_result"
    }
   ],
   "source": [
    "df2.dtypes"
   ]
  },
  {
   "cell_type": "markdown",
   "id": "f8720545",
   "metadata": {},
   "source": [
    "## Viewing Data (데이터 확인하기)\n",
    ">[Basic Section](https://pandas.pydata.org/pandas-docs/stable/user_guide/basics.html)을 참조"
   ]
  },
  {
   "cell_type": "code",
   "execution_count": 7,
   "id": "dfa6ffd7",
   "metadata": {},
   "outputs": [
    {
     "data": {
      "text/html": [
       "<div>\n",
       "<style scoped>\n",
       "    .dataframe tbody tr th:only-of-type {\n",
       "        vertical-align: middle;\n",
       "    }\n",
       "\n",
       "    .dataframe tbody tr th {\n",
       "        vertical-align: top;\n",
       "    }\n",
       "\n",
       "    .dataframe thead th {\n",
       "        text-align: right;\n",
       "    }\n",
       "</style>\n",
       "<table border=\"1\" class=\"dataframe\">\n",
       "  <thead>\n",
       "    <tr style=\"text-align: right;\">\n",
       "      <th></th>\n",
       "      <th>A</th>\n",
       "      <th>B</th>\n",
       "      <th>C</th>\n",
       "      <th>D</th>\n",
       "    </tr>\n",
       "  </thead>\n",
       "  <tbody>\n",
       "    <tr>\n",
       "      <th>2013-01-01</th>\n",
       "      <td>-1.215793</td>\n",
       "      <td>-1.388198</td>\n",
       "      <td>-0.398252</td>\n",
       "      <td>1.477181</td>\n",
       "    </tr>\n",
       "    <tr>\n",
       "      <th>2013-01-02</th>\n",
       "      <td>-0.840594</td>\n",
       "      <td>0.606626</td>\n",
       "      <td>1.069531</td>\n",
       "      <td>0.320595</td>\n",
       "    </tr>\n",
       "    <tr>\n",
       "      <th>2013-01-03</th>\n",
       "      <td>0.893776</td>\n",
       "      <td>0.658321</td>\n",
       "      <td>1.243710</td>\n",
       "      <td>-0.729858</td>\n",
       "    </tr>\n",
       "    <tr>\n",
       "      <th>2013-01-04</th>\n",
       "      <td>-0.404943</td>\n",
       "      <td>-1.319855</td>\n",
       "      <td>-0.155648</td>\n",
       "      <td>-2.401771</td>\n",
       "    </tr>\n",
       "    <tr>\n",
       "      <th>2013-01-05</th>\n",
       "      <td>0.663559</td>\n",
       "      <td>0.383396</td>\n",
       "      <td>-0.299668</td>\n",
       "      <td>0.303964</td>\n",
       "    </tr>\n",
       "  </tbody>\n",
       "</table>\n",
       "</div>"
      ],
      "text/plain": [
       "                   A         B         C         D\n",
       "2013-01-01 -1.215793 -1.388198 -0.398252  1.477181\n",
       "2013-01-02 -0.840594  0.606626  1.069531  0.320595\n",
       "2013-01-03  0.893776  0.658321  1.243710 -0.729858\n",
       "2013-01-04 -0.404943 -1.319855 -0.155648 -2.401771\n",
       "2013-01-05  0.663559  0.383396 -0.299668  0.303964"
      ]
     },
     "execution_count": 7,
     "metadata": {},
     "output_type": "execute_result"
    }
   ],
   "source": [
    "df.head()"
   ]
  },
  {
   "cell_type": "code",
   "execution_count": 8,
   "id": "266b46be",
   "metadata": {},
   "outputs": [
    {
     "data": {
      "text/html": [
       "<div>\n",
       "<style scoped>\n",
       "    .dataframe tbody tr th:only-of-type {\n",
       "        vertical-align: middle;\n",
       "    }\n",
       "\n",
       "    .dataframe tbody tr th {\n",
       "        vertical-align: top;\n",
       "    }\n",
       "\n",
       "    .dataframe thead th {\n",
       "        text-align: right;\n",
       "    }\n",
       "</style>\n",
       "<table border=\"1\" class=\"dataframe\">\n",
       "  <thead>\n",
       "    <tr style=\"text-align: right;\">\n",
       "      <th></th>\n",
       "      <th>A</th>\n",
       "      <th>B</th>\n",
       "      <th>C</th>\n",
       "      <th>D</th>\n",
       "    </tr>\n",
       "  </thead>\n",
       "  <tbody>\n",
       "    <tr>\n",
       "      <th>2013-01-02</th>\n",
       "      <td>-0.840594</td>\n",
       "      <td>0.606626</td>\n",
       "      <td>1.069531</td>\n",
       "      <td>0.320595</td>\n",
       "    </tr>\n",
       "    <tr>\n",
       "      <th>2013-01-03</th>\n",
       "      <td>0.893776</td>\n",
       "      <td>0.658321</td>\n",
       "      <td>1.243710</td>\n",
       "      <td>-0.729858</td>\n",
       "    </tr>\n",
       "    <tr>\n",
       "      <th>2013-01-04</th>\n",
       "      <td>-0.404943</td>\n",
       "      <td>-1.319855</td>\n",
       "      <td>-0.155648</td>\n",
       "      <td>-2.401771</td>\n",
       "    </tr>\n",
       "    <tr>\n",
       "      <th>2013-01-05</th>\n",
       "      <td>0.663559</td>\n",
       "      <td>0.383396</td>\n",
       "      <td>-0.299668</td>\n",
       "      <td>0.303964</td>\n",
       "    </tr>\n",
       "    <tr>\n",
       "      <th>2013-01-06</th>\n",
       "      <td>-0.047130</td>\n",
       "      <td>0.190586</td>\n",
       "      <td>-0.174484</td>\n",
       "      <td>1.184288</td>\n",
       "    </tr>\n",
       "  </tbody>\n",
       "</table>\n",
       "</div>"
      ],
      "text/plain": [
       "                   A         B         C         D\n",
       "2013-01-02 -0.840594  0.606626  1.069531  0.320595\n",
       "2013-01-03  0.893776  0.658321  1.243710 -0.729858\n",
       "2013-01-04 -0.404943 -1.319855 -0.155648 -2.401771\n",
       "2013-01-05  0.663559  0.383396 -0.299668  0.303964\n",
       "2013-01-06 -0.047130  0.190586 -0.174484  1.184288"
      ]
     },
     "execution_count": 8,
     "metadata": {},
     "output_type": "execute_result"
    }
   ],
   "source": [
    "df.tail()"
   ]
  },
  {
   "cell_type": "code",
   "execution_count": 9,
   "id": "7d208c38",
   "metadata": {},
   "outputs": [
    {
     "data": {
      "text/plain": [
       "DatetimeIndex(['2013-01-01', '2013-01-02', '2013-01-03', '2013-01-04',\n",
       "               '2013-01-05', '2013-01-06'],\n",
       "              dtype='datetime64[ns]', freq='D')"
      ]
     },
     "execution_count": 9,
     "metadata": {},
     "output_type": "execute_result"
    }
   ],
   "source": [
    "df.index"
   ]
  },
  {
   "cell_type": "code",
   "execution_count": 10,
   "id": "4737d220",
   "metadata": {},
   "outputs": [
    {
     "data": {
      "text/plain": [
       "Index(['A', 'B', 'C', 'D'], dtype='object')"
      ]
     },
     "execution_count": 10,
     "metadata": {},
     "output_type": "execute_result"
    }
   ],
   "source": [
    "df.columns"
   ]
  },
  {
   "cell_type": "code",
   "execution_count": 11,
   "id": "85d194f5",
   "metadata": {
    "scrolled": true
   },
   "outputs": [
    {
     "data": {
      "text/plain": [
       "array([[-1.21579272, -1.38819787, -0.39825174,  1.47718078],\n",
       "       [-0.84059446,  0.60662617,  1.06953106,  0.3205947 ],\n",
       "       [ 0.8937758 ,  0.65832119,  1.24371021, -0.72985814],\n",
       "       [-0.40494276, -1.31985489, -0.15564785, -2.40177109],\n",
       "       [ 0.66355931,  0.38339641, -0.29966786,  0.30396394],\n",
       "       [-0.04712969,  0.19058579, -0.17448384,  1.1842883 ]])"
      ]
     },
     "execution_count": 11,
     "metadata": {},
     "output_type": "execute_result"
    }
   ],
   "source": [
    "df.values"
   ]
  },
  {
   "cell_type": "code",
   "execution_count": 12,
   "id": "cd738b88",
   "metadata": {},
   "outputs": [
    {
     "data": {
      "text/html": [
       "<div>\n",
       "<style scoped>\n",
       "    .dataframe tbody tr th:only-of-type {\n",
       "        vertical-align: middle;\n",
       "    }\n",
       "\n",
       "    .dataframe tbody tr th {\n",
       "        vertical-align: top;\n",
       "    }\n",
       "\n",
       "    .dataframe thead th {\n",
       "        text-align: right;\n",
       "    }\n",
       "</style>\n",
       "<table border=\"1\" class=\"dataframe\">\n",
       "  <thead>\n",
       "    <tr style=\"text-align: right;\">\n",
       "      <th></th>\n",
       "      <th>A</th>\n",
       "      <th>B</th>\n",
       "      <th>C</th>\n",
       "      <th>D</th>\n",
       "    </tr>\n",
       "  </thead>\n",
       "  <tbody>\n",
       "    <tr>\n",
       "      <th>count</th>\n",
       "      <td>6.000000</td>\n",
       "      <td>6.000000</td>\n",
       "      <td>6.000000</td>\n",
       "      <td>6.000000</td>\n",
       "    </tr>\n",
       "    <tr>\n",
       "      <th>mean</th>\n",
       "      <td>-0.158521</td>\n",
       "      <td>-0.144854</td>\n",
       "      <td>0.214198</td>\n",
       "      <td>0.025733</td>\n",
       "    </tr>\n",
       "    <tr>\n",
       "      <th>std</th>\n",
       "      <td>0.829376</td>\n",
       "      <td>0.951621</td>\n",
       "      <td>0.737360</td>\n",
       "      <td>1.419648</td>\n",
       "    </tr>\n",
       "    <tr>\n",
       "      <th>min</th>\n",
       "      <td>-1.215793</td>\n",
       "      <td>-1.388198</td>\n",
       "      <td>-0.398252</td>\n",
       "      <td>-2.401771</td>\n",
       "    </tr>\n",
       "    <tr>\n",
       "      <th>25%</th>\n",
       "      <td>-0.731682</td>\n",
       "      <td>-0.942245</td>\n",
       "      <td>-0.268372</td>\n",
       "      <td>-0.471403</td>\n",
       "    </tr>\n",
       "    <tr>\n",
       "      <th>50%</th>\n",
       "      <td>-0.226036</td>\n",
       "      <td>0.286991</td>\n",
       "      <td>-0.165066</td>\n",
       "      <td>0.312279</td>\n",
       "    </tr>\n",
       "    <tr>\n",
       "      <th>75%</th>\n",
       "      <td>0.485887</td>\n",
       "      <td>0.550819</td>\n",
       "      <td>0.763236</td>\n",
       "      <td>0.968365</td>\n",
       "    </tr>\n",
       "    <tr>\n",
       "      <th>max</th>\n",
       "      <td>0.893776</td>\n",
       "      <td>0.658321</td>\n",
       "      <td>1.243710</td>\n",
       "      <td>1.477181</td>\n",
       "    </tr>\n",
       "  </tbody>\n",
       "</table>\n",
       "</div>"
      ],
      "text/plain": [
       "              A         B         C         D\n",
       "count  6.000000  6.000000  6.000000  6.000000\n",
       "mean  -0.158521 -0.144854  0.214198  0.025733\n",
       "std    0.829376  0.951621  0.737360  1.419648\n",
       "min   -1.215793 -1.388198 -0.398252 -2.401771\n",
       "25%   -0.731682 -0.942245 -0.268372 -0.471403\n",
       "50%   -0.226036  0.286991 -0.165066  0.312279\n",
       "75%    0.485887  0.550819  0.763236  0.968365\n",
       "max    0.893776  0.658321  1.243710  1.477181"
      ]
     },
     "execution_count": 12,
     "metadata": {},
     "output_type": "execute_result"
    }
   ],
   "source": [
    "df.describe()"
   ]
  },
  {
   "cell_type": "markdown",
   "id": "c7c2e05d",
   "metadata": {},
   "source": [
    "> 행 과 열 전치."
   ]
  },
  {
   "cell_type": "code",
   "execution_count": 13,
   "id": "b1c07747",
   "metadata": {
    "scrolled": true
   },
   "outputs": [
    {
     "data": {
      "text/html": [
       "<div>\n",
       "<style scoped>\n",
       "    .dataframe tbody tr th:only-of-type {\n",
       "        vertical-align: middle;\n",
       "    }\n",
       "\n",
       "    .dataframe tbody tr th {\n",
       "        vertical-align: top;\n",
       "    }\n",
       "\n",
       "    .dataframe thead th {\n",
       "        text-align: right;\n",
       "    }\n",
       "</style>\n",
       "<table border=\"1\" class=\"dataframe\">\n",
       "  <thead>\n",
       "    <tr style=\"text-align: right;\">\n",
       "      <th></th>\n",
       "      <th>2013-01-01</th>\n",
       "      <th>2013-01-02</th>\n",
       "      <th>2013-01-03</th>\n",
       "      <th>2013-01-04</th>\n",
       "      <th>2013-01-05</th>\n",
       "      <th>2013-01-06</th>\n",
       "    </tr>\n",
       "  </thead>\n",
       "  <tbody>\n",
       "    <tr>\n",
       "      <th>A</th>\n",
       "      <td>-1.215793</td>\n",
       "      <td>-0.840594</td>\n",
       "      <td>0.893776</td>\n",
       "      <td>-0.404943</td>\n",
       "      <td>0.663559</td>\n",
       "      <td>-0.047130</td>\n",
       "    </tr>\n",
       "    <tr>\n",
       "      <th>B</th>\n",
       "      <td>-1.388198</td>\n",
       "      <td>0.606626</td>\n",
       "      <td>0.658321</td>\n",
       "      <td>-1.319855</td>\n",
       "      <td>0.383396</td>\n",
       "      <td>0.190586</td>\n",
       "    </tr>\n",
       "    <tr>\n",
       "      <th>C</th>\n",
       "      <td>-0.398252</td>\n",
       "      <td>1.069531</td>\n",
       "      <td>1.243710</td>\n",
       "      <td>-0.155648</td>\n",
       "      <td>-0.299668</td>\n",
       "      <td>-0.174484</td>\n",
       "    </tr>\n",
       "    <tr>\n",
       "      <th>D</th>\n",
       "      <td>1.477181</td>\n",
       "      <td>0.320595</td>\n",
       "      <td>-0.729858</td>\n",
       "      <td>-2.401771</td>\n",
       "      <td>0.303964</td>\n",
       "      <td>1.184288</td>\n",
       "    </tr>\n",
       "  </tbody>\n",
       "</table>\n",
       "</div>"
      ],
      "text/plain": [
       "   2013-01-01  2013-01-02  2013-01-03  2013-01-04  2013-01-05  2013-01-06\n",
       "A   -1.215793   -0.840594    0.893776   -0.404943    0.663559   -0.047130\n",
       "B   -1.388198    0.606626    0.658321   -1.319855    0.383396    0.190586\n",
       "C   -0.398252    1.069531    1.243710   -0.155648   -0.299668   -0.174484\n",
       "D    1.477181    0.320595   -0.729858   -2.401771    0.303964    1.184288"
      ]
     },
     "execution_count": 13,
     "metadata": {},
     "output_type": "execute_result"
    }
   ],
   "source": [
    "df.T"
   ]
  },
  {
   "cell_type": "markdown",
   "id": "68b91c3e",
   "metadata": {},
   "source": [
    "> 축 별 정렬"
   ]
  },
  {
   "cell_type": "code",
   "execution_count": 14,
   "id": "d8b713ce",
   "metadata": {},
   "outputs": [
    {
     "data": {
      "text/html": [
       "<div>\n",
       "<style scoped>\n",
       "    .dataframe tbody tr th:only-of-type {\n",
       "        vertical-align: middle;\n",
       "    }\n",
       "\n",
       "    .dataframe tbody tr th {\n",
       "        vertical-align: top;\n",
       "    }\n",
       "\n",
       "    .dataframe thead th {\n",
       "        text-align: right;\n",
       "    }\n",
       "</style>\n",
       "<table border=\"1\" class=\"dataframe\">\n",
       "  <thead>\n",
       "    <tr style=\"text-align: right;\">\n",
       "      <th></th>\n",
       "      <th>D</th>\n",
       "      <th>C</th>\n",
       "      <th>B</th>\n",
       "      <th>A</th>\n",
       "    </tr>\n",
       "  </thead>\n",
       "  <tbody>\n",
       "    <tr>\n",
       "      <th>2013-01-01</th>\n",
       "      <td>1.477181</td>\n",
       "      <td>-0.398252</td>\n",
       "      <td>-1.388198</td>\n",
       "      <td>-1.215793</td>\n",
       "    </tr>\n",
       "    <tr>\n",
       "      <th>2013-01-02</th>\n",
       "      <td>0.320595</td>\n",
       "      <td>1.069531</td>\n",
       "      <td>0.606626</td>\n",
       "      <td>-0.840594</td>\n",
       "    </tr>\n",
       "    <tr>\n",
       "      <th>2013-01-03</th>\n",
       "      <td>-0.729858</td>\n",
       "      <td>1.243710</td>\n",
       "      <td>0.658321</td>\n",
       "      <td>0.893776</td>\n",
       "    </tr>\n",
       "    <tr>\n",
       "      <th>2013-01-04</th>\n",
       "      <td>-2.401771</td>\n",
       "      <td>-0.155648</td>\n",
       "      <td>-1.319855</td>\n",
       "      <td>-0.404943</td>\n",
       "    </tr>\n",
       "    <tr>\n",
       "      <th>2013-01-05</th>\n",
       "      <td>0.303964</td>\n",
       "      <td>-0.299668</td>\n",
       "      <td>0.383396</td>\n",
       "      <td>0.663559</td>\n",
       "    </tr>\n",
       "    <tr>\n",
       "      <th>2013-01-06</th>\n",
       "      <td>1.184288</td>\n",
       "      <td>-0.174484</td>\n",
       "      <td>0.190586</td>\n",
       "      <td>-0.047130</td>\n",
       "    </tr>\n",
       "  </tbody>\n",
       "</table>\n",
       "</div>"
      ],
      "text/plain": [
       "                   D         C         B         A\n",
       "2013-01-01  1.477181 -0.398252 -1.388198 -1.215793\n",
       "2013-01-02  0.320595  1.069531  0.606626 -0.840594\n",
       "2013-01-03 -0.729858  1.243710  0.658321  0.893776\n",
       "2013-01-04 -2.401771 -0.155648 -1.319855 -0.404943\n",
       "2013-01-05  0.303964 -0.299668  0.383396  0.663559\n",
       "2013-01-06  1.184288 -0.174484  0.190586 -0.047130"
      ]
     },
     "execution_count": 14,
     "metadata": {},
     "output_type": "execute_result"
    }
   ],
   "source": [
    "df.sort_index(axis=1, ascending=False)"
   ]
  },
  {
   "cell_type": "markdown",
   "id": "6b087637",
   "metadata": {},
   "source": [
    "> 값 별 정렬"
   ]
  },
  {
   "cell_type": "code",
   "execution_count": 15,
   "id": "fddd16b9",
   "metadata": {},
   "outputs": [
    {
     "data": {
      "text/html": [
       "<div>\n",
       "<style scoped>\n",
       "    .dataframe tbody tr th:only-of-type {\n",
       "        vertical-align: middle;\n",
       "    }\n",
       "\n",
       "    .dataframe tbody tr th {\n",
       "        vertical-align: top;\n",
       "    }\n",
       "\n",
       "    .dataframe thead th {\n",
       "        text-align: right;\n",
       "    }\n",
       "</style>\n",
       "<table border=\"1\" class=\"dataframe\">\n",
       "  <thead>\n",
       "    <tr style=\"text-align: right;\">\n",
       "      <th></th>\n",
       "      <th>A</th>\n",
       "      <th>B</th>\n",
       "      <th>C</th>\n",
       "      <th>D</th>\n",
       "    </tr>\n",
       "  </thead>\n",
       "  <tbody>\n",
       "    <tr>\n",
       "      <th>2013-01-01</th>\n",
       "      <td>-1.215793</td>\n",
       "      <td>-1.388198</td>\n",
       "      <td>-0.398252</td>\n",
       "      <td>1.477181</td>\n",
       "    </tr>\n",
       "    <tr>\n",
       "      <th>2013-01-04</th>\n",
       "      <td>-0.404943</td>\n",
       "      <td>-1.319855</td>\n",
       "      <td>-0.155648</td>\n",
       "      <td>-2.401771</td>\n",
       "    </tr>\n",
       "    <tr>\n",
       "      <th>2013-01-06</th>\n",
       "      <td>-0.047130</td>\n",
       "      <td>0.190586</td>\n",
       "      <td>-0.174484</td>\n",
       "      <td>1.184288</td>\n",
       "    </tr>\n",
       "    <tr>\n",
       "      <th>2013-01-05</th>\n",
       "      <td>0.663559</td>\n",
       "      <td>0.383396</td>\n",
       "      <td>-0.299668</td>\n",
       "      <td>0.303964</td>\n",
       "    </tr>\n",
       "    <tr>\n",
       "      <th>2013-01-02</th>\n",
       "      <td>-0.840594</td>\n",
       "      <td>0.606626</td>\n",
       "      <td>1.069531</td>\n",
       "      <td>0.320595</td>\n",
       "    </tr>\n",
       "    <tr>\n",
       "      <th>2013-01-03</th>\n",
       "      <td>0.893776</td>\n",
       "      <td>0.658321</td>\n",
       "      <td>1.243710</td>\n",
       "      <td>-0.729858</td>\n",
       "    </tr>\n",
       "  </tbody>\n",
       "</table>\n",
       "</div>"
      ],
      "text/plain": [
       "                   A         B         C         D\n",
       "2013-01-01 -1.215793 -1.388198 -0.398252  1.477181\n",
       "2013-01-04 -0.404943 -1.319855 -0.155648 -2.401771\n",
       "2013-01-06 -0.047130  0.190586 -0.174484  1.184288\n",
       "2013-01-05  0.663559  0.383396 -0.299668  0.303964\n",
       "2013-01-02 -0.840594  0.606626  1.069531  0.320595\n",
       "2013-01-03  0.893776  0.658321  1.243710 -0.729858"
      ]
     },
     "execution_count": 15,
     "metadata": {},
     "output_type": "execute_result"
    }
   ],
   "source": [
    "df.sort_values(by='B')"
   ]
  },
  {
   "cell_type": "markdown",
   "id": "001b23a6",
   "metadata": {},
   "source": [
    "## Selection (선택)\n",
    "> 주석 (Note) : 선택과 설정을 위한 Python / Numpy의 표준화된 표현들이 직관적이며, 코드 작성을 위한 양방향 작업에 유용하지만 우리는 Pandas에 최적화된 데이터 접근 방법인 .at, .iat, .loc 및 .iloc 을 추천</br>\n",
    "> *[데이터 인덱싱 및 선택](https://pandas.pydata.org/pandas-docs/stable/user_guide/indexing.html) 문서와 [다중 인덱싱 / 심화 인덱싱 문서](https://pandas.pydata.org/pandas-docs/stable/user_guide/advanced.html)를 참조*"
   ]
  },
  {
   "cell_type": "markdown",
   "id": "c634bef8",
   "metadata": {},
   "source": [
    "### Getting (데이터 얻기)\n",
    "> df.A 와 동일한 Series를 생성하는 단일의 열 선택"
   ]
  },
  {
   "cell_type": "code",
   "execution_count": 16,
   "id": "945c928e",
   "metadata": {},
   "outputs": [
    {
     "data": {
      "text/plain": [
       "2013-01-01   -1.215793\n",
       "2013-01-02   -0.840594\n",
       "2013-01-03    0.893776\n",
       "2013-01-04   -0.404943\n",
       "2013-01-05    0.663559\n",
       "2013-01-06   -0.047130\n",
       "Freq: D, Name: A, dtype: float64"
      ]
     },
     "execution_count": 16,
     "metadata": {},
     "output_type": "execute_result"
    }
   ],
   "source": [
    "df['A']"
   ]
  },
  {
   "cell_type": "markdown",
   "id": "5fb969d9",
   "metadata": {},
   "source": [
    "> row indexing"
   ]
  },
  {
   "cell_type": "code",
   "execution_count": 17,
   "id": "de32718e",
   "metadata": {},
   "outputs": [
    {
     "data": {
      "text/html": [
       "<div>\n",
       "<style scoped>\n",
       "    .dataframe tbody tr th:only-of-type {\n",
       "        vertical-align: middle;\n",
       "    }\n",
       "\n",
       "    .dataframe tbody tr th {\n",
       "        vertical-align: top;\n",
       "    }\n",
       "\n",
       "    .dataframe thead th {\n",
       "        text-align: right;\n",
       "    }\n",
       "</style>\n",
       "<table border=\"1\" class=\"dataframe\">\n",
       "  <thead>\n",
       "    <tr style=\"text-align: right;\">\n",
       "      <th></th>\n",
       "      <th>A</th>\n",
       "      <th>B</th>\n",
       "      <th>C</th>\n",
       "      <th>D</th>\n",
       "    </tr>\n",
       "  </thead>\n",
       "  <tbody>\n",
       "    <tr>\n",
       "      <th>2013-01-01</th>\n",
       "      <td>-1.215793</td>\n",
       "      <td>-1.388198</td>\n",
       "      <td>-0.398252</td>\n",
       "      <td>1.477181</td>\n",
       "    </tr>\n",
       "    <tr>\n",
       "      <th>2013-01-02</th>\n",
       "      <td>-0.840594</td>\n",
       "      <td>0.606626</td>\n",
       "      <td>1.069531</td>\n",
       "      <td>0.320595</td>\n",
       "    </tr>\n",
       "    <tr>\n",
       "      <th>2013-01-03</th>\n",
       "      <td>0.893776</td>\n",
       "      <td>0.658321</td>\n",
       "      <td>1.243710</td>\n",
       "      <td>-0.729858</td>\n",
       "    </tr>\n",
       "  </tbody>\n",
       "</table>\n",
       "</div>"
      ],
      "text/plain": [
       "                   A         B         C         D\n",
       "2013-01-01 -1.215793 -1.388198 -0.398252  1.477181\n",
       "2013-01-02 -0.840594  0.606626  1.069531  0.320595\n",
       "2013-01-03  0.893776  0.658321  1.243710 -0.729858"
      ]
     },
     "execution_count": 17,
     "metadata": {},
     "output_type": "execute_result"
    }
   ],
   "source": [
    "df[0:3]"
   ]
  },
  {
   "cell_type": "code",
   "execution_count": 18,
   "id": "e4f8a542",
   "metadata": {},
   "outputs": [
    {
     "data": {
      "text/html": [
       "<div>\n",
       "<style scoped>\n",
       "    .dataframe tbody tr th:only-of-type {\n",
       "        vertical-align: middle;\n",
       "    }\n",
       "\n",
       "    .dataframe tbody tr th {\n",
       "        vertical-align: top;\n",
       "    }\n",
       "\n",
       "    .dataframe thead th {\n",
       "        text-align: right;\n",
       "    }\n",
       "</style>\n",
       "<table border=\"1\" class=\"dataframe\">\n",
       "  <thead>\n",
       "    <tr style=\"text-align: right;\">\n",
       "      <th></th>\n",
       "      <th>A</th>\n",
       "      <th>B</th>\n",
       "      <th>C</th>\n",
       "      <th>D</th>\n",
       "    </tr>\n",
       "  </thead>\n",
       "  <tbody>\n",
       "    <tr>\n",
       "      <th>2013-01-02</th>\n",
       "      <td>-0.840594</td>\n",
       "      <td>0.606626</td>\n",
       "      <td>1.069531</td>\n",
       "      <td>0.320595</td>\n",
       "    </tr>\n",
       "    <tr>\n",
       "      <th>2013-01-03</th>\n",
       "      <td>0.893776</td>\n",
       "      <td>0.658321</td>\n",
       "      <td>1.243710</td>\n",
       "      <td>-0.729858</td>\n",
       "    </tr>\n",
       "    <tr>\n",
       "      <th>2013-01-04</th>\n",
       "      <td>-0.404943</td>\n",
       "      <td>-1.319855</td>\n",
       "      <td>-0.155648</td>\n",
       "      <td>-2.401771</td>\n",
       "    </tr>\n",
       "  </tbody>\n",
       "</table>\n",
       "</div>"
      ],
      "text/plain": [
       "                   A         B         C         D\n",
       "2013-01-02 -0.840594  0.606626  1.069531  0.320595\n",
       "2013-01-03  0.893776  0.658321  1.243710 -0.729858\n",
       "2013-01-04 -0.404943 -1.319855 -0.155648 -2.401771"
      ]
     },
     "execution_count": 18,
     "metadata": {},
     "output_type": "execute_result"
    }
   ],
   "source": [
    "df['20130102':'20130104']"
   ]
  },
  {
   "cell_type": "markdown",
   "id": "23bb6ce8",
   "metadata": {},
   "source": [
    "### Selection by Label (Label 을 통한 선택) loc[]\n",
    "> *[Label을 통한 선택](https://pandas.pydata.org/pandas-docs/stable/user_guide/indexing.html) 참조* </br>\n",
    "> loc indexing (dates는 위에서 row 인덱스로 지정)"
   ]
  },
  {
   "cell_type": "code",
   "execution_count": 19,
   "id": "f269abd8",
   "metadata": {
    "scrolled": true
   },
   "outputs": [
    {
     "data": {
      "text/plain": [
       "A   -1.215793\n",
       "B   -1.388198\n",
       "C   -0.398252\n",
       "D    1.477181\n",
       "Name: 2013-01-01 00:00:00, dtype: float64"
      ]
     },
     "execution_count": 19,
     "metadata": {},
     "output_type": "execute_result"
    }
   ],
   "source": [
    "df.loc[dates[0]]"
   ]
  },
  {
   "cell_type": "markdown",
   "id": "995aea0c",
   "metadata": {},
   "source": [
    "> loc 라벨을 사용하여 다중 column 가져오기"
   ]
  },
  {
   "cell_type": "code",
   "execution_count": 20,
   "id": "42b36a2f",
   "metadata": {},
   "outputs": [
    {
     "data": {
      "text/html": [
       "<div>\n",
       "<style scoped>\n",
       "    .dataframe tbody tr th:only-of-type {\n",
       "        vertical-align: middle;\n",
       "    }\n",
       "\n",
       "    .dataframe tbody tr th {\n",
       "        vertical-align: top;\n",
       "    }\n",
       "\n",
       "    .dataframe thead th {\n",
       "        text-align: right;\n",
       "    }\n",
       "</style>\n",
       "<table border=\"1\" class=\"dataframe\">\n",
       "  <thead>\n",
       "    <tr style=\"text-align: right;\">\n",
       "      <th></th>\n",
       "      <th>A</th>\n",
       "      <th>B</th>\n",
       "    </tr>\n",
       "  </thead>\n",
       "  <tbody>\n",
       "    <tr>\n",
       "      <th>2013-01-01</th>\n",
       "      <td>-1.215793</td>\n",
       "      <td>-1.388198</td>\n",
       "    </tr>\n",
       "    <tr>\n",
       "      <th>2013-01-02</th>\n",
       "      <td>-0.840594</td>\n",
       "      <td>0.606626</td>\n",
       "    </tr>\n",
       "    <tr>\n",
       "      <th>2013-01-03</th>\n",
       "      <td>0.893776</td>\n",
       "      <td>0.658321</td>\n",
       "    </tr>\n",
       "    <tr>\n",
       "      <th>2013-01-04</th>\n",
       "      <td>-0.404943</td>\n",
       "      <td>-1.319855</td>\n",
       "    </tr>\n",
       "    <tr>\n",
       "      <th>2013-01-05</th>\n",
       "      <td>0.663559</td>\n",
       "      <td>0.383396</td>\n",
       "    </tr>\n",
       "    <tr>\n",
       "      <th>2013-01-06</th>\n",
       "      <td>-0.047130</td>\n",
       "      <td>0.190586</td>\n",
       "    </tr>\n",
       "  </tbody>\n",
       "</table>\n",
       "</div>"
      ],
      "text/plain": [
       "                   A         B\n",
       "2013-01-01 -1.215793 -1.388198\n",
       "2013-01-02 -0.840594  0.606626\n",
       "2013-01-03  0.893776  0.658321\n",
       "2013-01-04 -0.404943 -1.319855\n",
       "2013-01-05  0.663559  0.383396\n",
       "2013-01-06 -0.047130  0.190586"
      ]
     },
     "execution_count": 20,
     "metadata": {},
     "output_type": "execute_result"
    }
   ],
   "source": [
    "df.loc[:, ['A', 'B']]"
   ]
  },
  {
   "cell_type": "markdown",
   "id": "f7c0bdaa",
   "metadata": {},
   "source": [
    "> row 는 인덱싱 column 은 지정하는 형식 (test. 2번째줄의 결과는 같다.)"
   ]
  },
  {
   "cell_type": "code",
   "execution_count": 21,
   "id": "729a9f3b",
   "metadata": {},
   "outputs": [
    {
     "data": {
      "text/html": [
       "<div>\n",
       "<style scoped>\n",
       "    .dataframe tbody tr th:only-of-type {\n",
       "        vertical-align: middle;\n",
       "    }\n",
       "\n",
       "    .dataframe tbody tr th {\n",
       "        vertical-align: top;\n",
       "    }\n",
       "\n",
       "    .dataframe thead th {\n",
       "        text-align: right;\n",
       "    }\n",
       "</style>\n",
       "<table border=\"1\" class=\"dataframe\">\n",
       "  <thead>\n",
       "    <tr style=\"text-align: right;\">\n",
       "      <th></th>\n",
       "      <th>A</th>\n",
       "      <th>B</th>\n",
       "    </tr>\n",
       "  </thead>\n",
       "  <tbody>\n",
       "    <tr>\n",
       "      <th>2013-01-02</th>\n",
       "      <td>-0.840594</td>\n",
       "      <td>0.606626</td>\n",
       "    </tr>\n",
       "    <tr>\n",
       "      <th>2013-01-03</th>\n",
       "      <td>0.893776</td>\n",
       "      <td>0.658321</td>\n",
       "    </tr>\n",
       "    <tr>\n",
       "      <th>2013-01-04</th>\n",
       "      <td>-0.404943</td>\n",
       "      <td>-1.319855</td>\n",
       "    </tr>\n",
       "  </tbody>\n",
       "</table>\n",
       "</div>"
      ],
      "text/plain": [
       "                   A         B\n",
       "2013-01-02 -0.840594  0.606626\n",
       "2013-01-03  0.893776  0.658321\n",
       "2013-01-04 -0.404943 -1.319855"
      ]
     },
     "execution_count": 21,
     "metadata": {},
     "output_type": "execute_result"
    }
   ],
   "source": [
    "df.loc['20130102' : '20130104', ['A', 'B']]\n",
    "# df.loc['20130102' : '20130104', 'A' : 'B']"
   ]
  },
  {
   "cell_type": "markdown",
   "id": "1c6740bd",
   "metadata": {},
   "source": [
    "> 반환되는 객체의 차원를 줄입니다. (type = pandas.core.series.Series)"
   ]
  },
  {
   "cell_type": "code",
   "execution_count": 22,
   "id": "496d4625",
   "metadata": {
    "scrolled": true
   },
   "outputs": [
    {
     "data": {
      "text/plain": [
       "A   -0.840594\n",
       "B    0.606626\n",
       "Name: 2013-01-02 00:00:00, dtype: float64"
      ]
     },
     "execution_count": 22,
     "metadata": {},
     "output_type": "execute_result"
    }
   ],
   "source": [
    "df.loc['20130102',['A','B']]"
   ]
  },
  {
   "cell_type": "markdown",
   "id": "e9019305",
   "metadata": {},
   "source": [
    "> 특정 행열의 스칼라 값을 가져온다."
   ]
  },
  {
   "cell_type": "code",
   "execution_count": 23,
   "id": "bcadc591",
   "metadata": {},
   "outputs": [
    {
     "data": {
      "text/plain": [
       "-1.215792718505012"
      ]
     },
     "execution_count": 23,
     "metadata": {},
     "output_type": "execute_result"
    }
   ],
   "source": [
    "df.loc[dates[0],'A']"
   ]
  },
  {
   "cell_type": "markdown",
   "id": "8e176b18",
   "metadata": {},
   "source": [
    "> 스칼라 값만 가져오는 방법 (loc와 비슷함, <u>\"*at*\"</u> if you only need to get or set a single value in a DataFrame\n",
    "or Series.)"
   ]
  },
  {
   "cell_type": "code",
   "execution_count": 24,
   "id": "592c693e",
   "metadata": {},
   "outputs": [],
   "source": [
    "df.at[dates[0], 'A']\n",
    "df.at?"
   ]
  },
  {
   "cell_type": "markdown",
   "id": "08a7af8f",
   "metadata": {},
   "source": [
    "### Selection by Position (위치로 선택하기) iloc[]\n",
    "> *자세한 내용은 [위치로 선택하기](https://pandas.pydata.org/pandas-docs/stable/user_guide/indexing.html)를 참고* </br>\n",
    "> index로 위치 선택"
   ]
  },
  {
   "cell_type": "code",
   "execution_count": 25,
   "id": "52182fff",
   "metadata": {
    "scrolled": true
   },
   "outputs": [
    {
     "data": {
      "text/plain": [
       "A   -0.404943\n",
       "B   -1.319855\n",
       "C   -0.155648\n",
       "D   -2.401771\n",
       "Name: 2013-01-04 00:00:00, dtype: float64"
      ]
     },
     "execution_count": 25,
     "metadata": {},
     "output_type": "execute_result"
    }
   ],
   "source": [
    "df.iloc[3]"
   ]
  },
  {
   "cell_type": "markdown",
   "id": "78ebc5fe",
   "metadata": {},
   "source": [
    "> numpy / python과 유사하게 slicing"
   ]
  },
  {
   "cell_type": "code",
   "execution_count": 26,
   "id": "150fd6b6",
   "metadata": {},
   "outputs": [
    {
     "data": {
      "text/html": [
       "<div>\n",
       "<style scoped>\n",
       "    .dataframe tbody tr th:only-of-type {\n",
       "        vertical-align: middle;\n",
       "    }\n",
       "\n",
       "    .dataframe tbody tr th {\n",
       "        vertical-align: top;\n",
       "    }\n",
       "\n",
       "    .dataframe thead th {\n",
       "        text-align: right;\n",
       "    }\n",
       "</style>\n",
       "<table border=\"1\" class=\"dataframe\">\n",
       "  <thead>\n",
       "    <tr style=\"text-align: right;\">\n",
       "      <th></th>\n",
       "      <th>A</th>\n",
       "      <th>B</th>\n",
       "    </tr>\n",
       "  </thead>\n",
       "  <tbody>\n",
       "    <tr>\n",
       "      <th>2013-01-04</th>\n",
       "      <td>-0.404943</td>\n",
       "      <td>-1.319855</td>\n",
       "    </tr>\n",
       "    <tr>\n",
       "      <th>2013-01-05</th>\n",
       "      <td>0.663559</td>\n",
       "      <td>0.383396</td>\n",
       "    </tr>\n",
       "  </tbody>\n",
       "</table>\n",
       "</div>"
      ],
      "text/plain": [
       "                   A         B\n",
       "2013-01-04 -0.404943 -1.319855\n",
       "2013-01-05  0.663559  0.383396"
      ]
     },
     "execution_count": 26,
     "metadata": {},
     "output_type": "execute_result"
    }
   ],
   "source": [
    "df.iloc[3:5,0:2]"
   ]
  },
  {
   "cell_type": "markdown",
   "id": "2d5aec21",
   "metadata": {},
   "source": [
    "> 리스트형태로 원하는 행과 열만 뽑니다. (numpy / python의 스타일)"
   ]
  },
  {
   "cell_type": "code",
   "execution_count": 27,
   "id": "3e2a2afd",
   "metadata": {},
   "outputs": [
    {
     "data": {
      "text/html": [
       "<div>\n",
       "<style scoped>\n",
       "    .dataframe tbody tr th:only-of-type {\n",
       "        vertical-align: middle;\n",
       "    }\n",
       "\n",
       "    .dataframe tbody tr th {\n",
       "        vertical-align: top;\n",
       "    }\n",
       "\n",
       "    .dataframe thead th {\n",
       "        text-align: right;\n",
       "    }\n",
       "</style>\n",
       "<table border=\"1\" class=\"dataframe\">\n",
       "  <thead>\n",
       "    <tr style=\"text-align: right;\">\n",
       "      <th></th>\n",
       "      <th>A</th>\n",
       "      <th>C</th>\n",
       "    </tr>\n",
       "  </thead>\n",
       "  <tbody>\n",
       "    <tr>\n",
       "      <th>2013-01-02</th>\n",
       "      <td>-0.840594</td>\n",
       "      <td>1.069531</td>\n",
       "    </tr>\n",
       "    <tr>\n",
       "      <th>2013-01-03</th>\n",
       "      <td>0.893776</td>\n",
       "      <td>1.243710</td>\n",
       "    </tr>\n",
       "    <tr>\n",
       "      <th>2013-01-05</th>\n",
       "      <td>0.663559</td>\n",
       "      <td>-0.299668</td>\n",
       "    </tr>\n",
       "  </tbody>\n",
       "</table>\n",
       "</div>"
      ],
      "text/plain": [
       "                   A         C\n",
       "2013-01-02 -0.840594  1.069531\n",
       "2013-01-03  0.893776  1.243710\n",
       "2013-01-05  0.663559 -0.299668"
      ]
     },
     "execution_count": 27,
     "metadata": {},
     "output_type": "execute_result"
    }
   ],
   "source": [
    "df.iloc[[1,2,4],[0,2]]"
   ]
  },
  {
   "cell_type": "markdown",
   "id": "2b8165cc",
   "metadata": {},
   "source": [
    "> 명시적으로 행으로 나누기"
   ]
  },
  {
   "cell_type": "code",
   "execution_count": 28,
   "id": "66569c0c",
   "metadata": {},
   "outputs": [
    {
     "data": {
      "text/html": [
       "<div>\n",
       "<style scoped>\n",
       "    .dataframe tbody tr th:only-of-type {\n",
       "        vertical-align: middle;\n",
       "    }\n",
       "\n",
       "    .dataframe tbody tr th {\n",
       "        vertical-align: top;\n",
       "    }\n",
       "\n",
       "    .dataframe thead th {\n",
       "        text-align: right;\n",
       "    }\n",
       "</style>\n",
       "<table border=\"1\" class=\"dataframe\">\n",
       "  <thead>\n",
       "    <tr style=\"text-align: right;\">\n",
       "      <th></th>\n",
       "      <th>A</th>\n",
       "      <th>B</th>\n",
       "      <th>C</th>\n",
       "      <th>D</th>\n",
       "    </tr>\n",
       "  </thead>\n",
       "  <tbody>\n",
       "    <tr>\n",
       "      <th>2013-01-02</th>\n",
       "      <td>-0.840594</td>\n",
       "      <td>0.606626</td>\n",
       "      <td>1.069531</td>\n",
       "      <td>0.320595</td>\n",
       "    </tr>\n",
       "    <tr>\n",
       "      <th>2013-01-03</th>\n",
       "      <td>0.893776</td>\n",
       "      <td>0.658321</td>\n",
       "      <td>1.243710</td>\n",
       "      <td>-0.729858</td>\n",
       "    </tr>\n",
       "  </tbody>\n",
       "</table>\n",
       "</div>"
      ],
      "text/plain": [
       "                   A         B         C         D\n",
       "2013-01-02 -0.840594  0.606626  1.069531  0.320595\n",
       "2013-01-03  0.893776  0.658321  1.243710 -0.729858"
      ]
     },
     "execution_count": 28,
     "metadata": {},
     "output_type": "execute_result"
    }
   ],
   "source": [
    "df.iloc[1:3,:]"
   ]
  },
  {
   "cell_type": "markdown",
   "id": "58df9481",
   "metadata": {},
   "source": [
    "> 명시적으로 열로 나누기"
   ]
  },
  {
   "cell_type": "code",
   "execution_count": 29,
   "id": "59356688",
   "metadata": {},
   "outputs": [
    {
     "data": {
      "text/html": [
       "<div>\n",
       "<style scoped>\n",
       "    .dataframe tbody tr th:only-of-type {\n",
       "        vertical-align: middle;\n",
       "    }\n",
       "\n",
       "    .dataframe tbody tr th {\n",
       "        vertical-align: top;\n",
       "    }\n",
       "\n",
       "    .dataframe thead th {\n",
       "        text-align: right;\n",
       "    }\n",
       "</style>\n",
       "<table border=\"1\" class=\"dataframe\">\n",
       "  <thead>\n",
       "    <tr style=\"text-align: right;\">\n",
       "      <th></th>\n",
       "      <th>B</th>\n",
       "      <th>C</th>\n",
       "    </tr>\n",
       "  </thead>\n",
       "  <tbody>\n",
       "    <tr>\n",
       "      <th>2013-01-01</th>\n",
       "      <td>-1.388198</td>\n",
       "      <td>-0.398252</td>\n",
       "    </tr>\n",
       "    <tr>\n",
       "      <th>2013-01-02</th>\n",
       "      <td>0.606626</td>\n",
       "      <td>1.069531</td>\n",
       "    </tr>\n",
       "    <tr>\n",
       "      <th>2013-01-03</th>\n",
       "      <td>0.658321</td>\n",
       "      <td>1.243710</td>\n",
       "    </tr>\n",
       "    <tr>\n",
       "      <th>2013-01-04</th>\n",
       "      <td>-1.319855</td>\n",
       "      <td>-0.155648</td>\n",
       "    </tr>\n",
       "    <tr>\n",
       "      <th>2013-01-05</th>\n",
       "      <td>0.383396</td>\n",
       "      <td>-0.299668</td>\n",
       "    </tr>\n",
       "    <tr>\n",
       "      <th>2013-01-06</th>\n",
       "      <td>0.190586</td>\n",
       "      <td>-0.174484</td>\n",
       "    </tr>\n",
       "  </tbody>\n",
       "</table>\n",
       "</div>"
      ],
      "text/plain": [
       "                   B         C\n",
       "2013-01-01 -1.388198 -0.398252\n",
       "2013-01-02  0.606626  1.069531\n",
       "2013-01-03  0.658321  1.243710\n",
       "2013-01-04 -1.319855 -0.155648\n",
       "2013-01-05  0.383396 -0.299668\n",
       "2013-01-06  0.190586 -0.174484"
      ]
     },
     "execution_count": 29,
     "metadata": {},
     "output_type": "execute_result"
    }
   ],
   "source": [
    "df.iloc[:,1:3]"
   ]
  },
  {
   "cell_type": "markdown",
   "id": "1833facd",
   "metadata": {},
   "source": [
    "> 명시적으로 특정(스칼라) 값을 얻을때"
   ]
  },
  {
   "cell_type": "code",
   "execution_count": 30,
   "id": "c4911232",
   "metadata": {},
   "outputs": [
    {
     "data": {
      "text/plain": [
       "0.6066261731899044"
      ]
     },
     "execution_count": 30,
     "metadata": {},
     "output_type": "execute_result"
    }
   ],
   "source": [
    "df.iloc[1,1]"
   ]
  },
  {
   "cell_type": "markdown",
   "id": "b791207d",
   "metadata": {},
   "source": [
    "> 스칼라 값을 빠르게 얻는 방법입니다 (위의 방식과 동일합니다)."
   ]
  },
  {
   "cell_type": "code",
   "execution_count": 31,
   "id": "f77bb880",
   "metadata": {},
   "outputs": [
    {
     "data": {
      "text/plain": [
       "0.6066261731899044"
      ]
     },
     "execution_count": 31,
     "metadata": {},
     "output_type": "execute_result"
    }
   ],
   "source": [
    "df.iat[1,1]"
   ]
  },
  {
   "cell_type": "markdown",
   "id": "f90a6ebd",
   "metadata": {},
   "source": [
    "### Boolean Indexing\n",
    ">데이터를 선택하기 위해 특정 열의 값을 기준으로 사용"
   ]
  },
  {
   "cell_type": "code",
   "execution_count": 32,
   "id": "2e8b79db",
   "metadata": {},
   "outputs": [
    {
     "data": {
      "text/html": [
       "<div>\n",
       "<style scoped>\n",
       "    .dataframe tbody tr th:only-of-type {\n",
       "        vertical-align: middle;\n",
       "    }\n",
       "\n",
       "    .dataframe tbody tr th {\n",
       "        vertical-align: top;\n",
       "    }\n",
       "\n",
       "    .dataframe thead th {\n",
       "        text-align: right;\n",
       "    }\n",
       "</style>\n",
       "<table border=\"1\" class=\"dataframe\">\n",
       "  <thead>\n",
       "    <tr style=\"text-align: right;\">\n",
       "      <th></th>\n",
       "      <th>A</th>\n",
       "      <th>B</th>\n",
       "      <th>C</th>\n",
       "      <th>D</th>\n",
       "    </tr>\n",
       "  </thead>\n",
       "  <tbody>\n",
       "    <tr>\n",
       "      <th>2013-01-03</th>\n",
       "      <td>0.893776</td>\n",
       "      <td>0.658321</td>\n",
       "      <td>1.243710</td>\n",
       "      <td>-0.729858</td>\n",
       "    </tr>\n",
       "    <tr>\n",
       "      <th>2013-01-05</th>\n",
       "      <td>0.663559</td>\n",
       "      <td>0.383396</td>\n",
       "      <td>-0.299668</td>\n",
       "      <td>0.303964</td>\n",
       "    </tr>\n",
       "  </tbody>\n",
       "</table>\n",
       "</div>"
      ],
      "text/plain": [
       "                   A         B         C         D\n",
       "2013-01-03  0.893776  0.658321  1.243710 -0.729858\n",
       "2013-01-05  0.663559  0.383396 -0.299668  0.303964"
      ]
     },
     "execution_count": 32,
     "metadata": {},
     "output_type": "execute_result"
    }
   ],
   "source": [
    "df[df.A > 0]"
   ]
  },
  {
   "cell_type": "markdown",
   "id": "d5198979",
   "metadata": {},
   "source": [
    "> Boolean 조건을 충족하는 DataFrame 에서 값을 선택"
   ]
  },
  {
   "cell_type": "code",
   "execution_count": 33,
   "id": "e7bfa0f1",
   "metadata": {},
   "outputs": [
    {
     "data": {
      "text/html": [
       "<div>\n",
       "<style scoped>\n",
       "    .dataframe tbody tr th:only-of-type {\n",
       "        vertical-align: middle;\n",
       "    }\n",
       "\n",
       "    .dataframe tbody tr th {\n",
       "        vertical-align: top;\n",
       "    }\n",
       "\n",
       "    .dataframe thead th {\n",
       "        text-align: right;\n",
       "    }\n",
       "</style>\n",
       "<table border=\"1\" class=\"dataframe\">\n",
       "  <thead>\n",
       "    <tr style=\"text-align: right;\">\n",
       "      <th></th>\n",
       "      <th>A</th>\n",
       "      <th>B</th>\n",
       "      <th>C</th>\n",
       "      <th>D</th>\n",
       "    </tr>\n",
       "  </thead>\n",
       "  <tbody>\n",
       "    <tr>\n",
       "      <th>2013-01-01</th>\n",
       "      <td>NaN</td>\n",
       "      <td>NaN</td>\n",
       "      <td>NaN</td>\n",
       "      <td>1.477181</td>\n",
       "    </tr>\n",
       "    <tr>\n",
       "      <th>2013-01-02</th>\n",
       "      <td>NaN</td>\n",
       "      <td>0.606626</td>\n",
       "      <td>1.069531</td>\n",
       "      <td>0.320595</td>\n",
       "    </tr>\n",
       "    <tr>\n",
       "      <th>2013-01-03</th>\n",
       "      <td>0.893776</td>\n",
       "      <td>0.658321</td>\n",
       "      <td>1.243710</td>\n",
       "      <td>NaN</td>\n",
       "    </tr>\n",
       "    <tr>\n",
       "      <th>2013-01-04</th>\n",
       "      <td>NaN</td>\n",
       "      <td>NaN</td>\n",
       "      <td>NaN</td>\n",
       "      <td>NaN</td>\n",
       "    </tr>\n",
       "    <tr>\n",
       "      <th>2013-01-05</th>\n",
       "      <td>0.663559</td>\n",
       "      <td>0.383396</td>\n",
       "      <td>NaN</td>\n",
       "      <td>0.303964</td>\n",
       "    </tr>\n",
       "    <tr>\n",
       "      <th>2013-01-06</th>\n",
       "      <td>NaN</td>\n",
       "      <td>0.190586</td>\n",
       "      <td>NaN</td>\n",
       "      <td>1.184288</td>\n",
       "    </tr>\n",
       "  </tbody>\n",
       "</table>\n",
       "</div>"
      ],
      "text/plain": [
       "                   A         B         C         D\n",
       "2013-01-01       NaN       NaN       NaN  1.477181\n",
       "2013-01-02       NaN  0.606626  1.069531  0.320595\n",
       "2013-01-03  0.893776  0.658321  1.243710       NaN\n",
       "2013-01-04       NaN       NaN       NaN       NaN\n",
       "2013-01-05  0.663559  0.383396       NaN  0.303964\n",
       "2013-01-06       NaN  0.190586       NaN  1.184288"
      ]
     },
     "execution_count": 33,
     "metadata": {},
     "output_type": "execute_result"
    }
   ],
   "source": [
    "df[df > 0]"
   ]
  },
  {
   "cell_type": "markdown",
   "id": "e17bf40b",
   "metadata": {},
   "source": [
    "> isin() 필터링을 위한 메소드"
   ]
  },
  {
   "cell_type": "code",
   "execution_count": 34,
   "id": "0755ea68",
   "metadata": {},
   "outputs": [],
   "source": [
    "df2 = df.copy()"
   ]
  },
  {
   "cell_type": "code",
   "execution_count": 35,
   "id": "7a0245ad",
   "metadata": {},
   "outputs": [
    {
     "data": {
      "text/html": [
       "<div>\n",
       "<style scoped>\n",
       "    .dataframe tbody tr th:only-of-type {\n",
       "        vertical-align: middle;\n",
       "    }\n",
       "\n",
       "    .dataframe tbody tr th {\n",
       "        vertical-align: top;\n",
       "    }\n",
       "\n",
       "    .dataframe thead th {\n",
       "        text-align: right;\n",
       "    }\n",
       "</style>\n",
       "<table border=\"1\" class=\"dataframe\">\n",
       "  <thead>\n",
       "    <tr style=\"text-align: right;\">\n",
       "      <th></th>\n",
       "      <th>A</th>\n",
       "      <th>B</th>\n",
       "      <th>C</th>\n",
       "      <th>D</th>\n",
       "      <th>E</th>\n",
       "    </tr>\n",
       "  </thead>\n",
       "  <tbody>\n",
       "    <tr>\n",
       "      <th>2013-01-01</th>\n",
       "      <td>-1.215793</td>\n",
       "      <td>-1.388198</td>\n",
       "      <td>-0.398252</td>\n",
       "      <td>1.477181</td>\n",
       "      <td>one</td>\n",
       "    </tr>\n",
       "    <tr>\n",
       "      <th>2013-01-02</th>\n",
       "      <td>-0.840594</td>\n",
       "      <td>0.606626</td>\n",
       "      <td>1.069531</td>\n",
       "      <td>0.320595</td>\n",
       "      <td>one</td>\n",
       "    </tr>\n",
       "    <tr>\n",
       "      <th>2013-01-03</th>\n",
       "      <td>0.893776</td>\n",
       "      <td>0.658321</td>\n",
       "      <td>1.243710</td>\n",
       "      <td>-0.729858</td>\n",
       "      <td>two</td>\n",
       "    </tr>\n",
       "    <tr>\n",
       "      <th>2013-01-04</th>\n",
       "      <td>-0.404943</td>\n",
       "      <td>-1.319855</td>\n",
       "      <td>-0.155648</td>\n",
       "      <td>-2.401771</td>\n",
       "      <td>three</td>\n",
       "    </tr>\n",
       "    <tr>\n",
       "      <th>2013-01-05</th>\n",
       "      <td>0.663559</td>\n",
       "      <td>0.383396</td>\n",
       "      <td>-0.299668</td>\n",
       "      <td>0.303964</td>\n",
       "      <td>four</td>\n",
       "    </tr>\n",
       "    <tr>\n",
       "      <th>2013-01-06</th>\n",
       "      <td>-0.047130</td>\n",
       "      <td>0.190586</td>\n",
       "      <td>-0.174484</td>\n",
       "      <td>1.184288</td>\n",
       "      <td>three</td>\n",
       "    </tr>\n",
       "  </tbody>\n",
       "</table>\n",
       "</div>"
      ],
      "text/plain": [
       "                   A         B         C         D      E\n",
       "2013-01-01 -1.215793 -1.388198 -0.398252  1.477181    one\n",
       "2013-01-02 -0.840594  0.606626  1.069531  0.320595    one\n",
       "2013-01-03  0.893776  0.658321  1.243710 -0.729858    two\n",
       "2013-01-04 -0.404943 -1.319855 -0.155648 -2.401771  three\n",
       "2013-01-05  0.663559  0.383396 -0.299668  0.303964   four\n",
       "2013-01-06 -0.047130  0.190586 -0.174484  1.184288  three"
      ]
     },
     "execution_count": 35,
     "metadata": {},
     "output_type": "execute_result"
    }
   ],
   "source": [
    "df2['E'] = ['one', 'one', 'two', 'three', 'four', 'three']\n",
    "df2"
   ]
  },
  {
   "cell_type": "code",
   "execution_count": 36,
   "id": "aadf600b",
   "metadata": {},
   "outputs": [
    {
     "data": {
      "text/html": [
       "<div>\n",
       "<style scoped>\n",
       "    .dataframe tbody tr th:only-of-type {\n",
       "        vertical-align: middle;\n",
       "    }\n",
       "\n",
       "    .dataframe tbody tr th {\n",
       "        vertical-align: top;\n",
       "    }\n",
       "\n",
       "    .dataframe thead th {\n",
       "        text-align: right;\n",
       "    }\n",
       "</style>\n",
       "<table border=\"1\" class=\"dataframe\">\n",
       "  <thead>\n",
       "    <tr style=\"text-align: right;\">\n",
       "      <th></th>\n",
       "      <th>A</th>\n",
       "      <th>B</th>\n",
       "      <th>C</th>\n",
       "      <th>D</th>\n",
       "      <th>E</th>\n",
       "    </tr>\n",
       "  </thead>\n",
       "  <tbody>\n",
       "    <tr>\n",
       "      <th>2013-01-03</th>\n",
       "      <td>0.893776</td>\n",
       "      <td>0.658321</td>\n",
       "      <td>1.243710</td>\n",
       "      <td>-0.729858</td>\n",
       "      <td>two</td>\n",
       "    </tr>\n",
       "    <tr>\n",
       "      <th>2013-01-05</th>\n",
       "      <td>0.663559</td>\n",
       "      <td>0.383396</td>\n",
       "      <td>-0.299668</td>\n",
       "      <td>0.303964</td>\n",
       "      <td>four</td>\n",
       "    </tr>\n",
       "  </tbody>\n",
       "</table>\n",
       "</div>"
      ],
      "text/plain": [
       "                   A         B         C         D     E\n",
       "2013-01-03  0.893776  0.658321  1.243710 -0.729858   two\n",
       "2013-01-05  0.663559  0.383396 -0.299668  0.303964  four"
      ]
     },
     "execution_count": 36,
     "metadata": {},
     "output_type": "execute_result"
    }
   ],
   "source": [
    "df2[df2['E'].isin(['two', 'four'])]"
   ]
  },
  {
   "cell_type": "markdown",
   "id": "3fe3806a",
   "metadata": {},
   "source": [
    "### Setting (설정)\n",
    "> 새 열을 설정하면 데이터가 인덱스 별로 자동 정렬됩니다."
   ]
  },
  {
   "cell_type": "code",
   "execution_count": 37,
   "id": "c1c9c3dd",
   "metadata": {},
   "outputs": [
    {
     "data": {
      "text/plain": [
       "2013-01-02    1\n",
       "2013-01-03    2\n",
       "2013-01-04    3\n",
       "2013-01-05    4\n",
       "2013-01-06    5\n",
       "2013-01-07    6\n",
       "Freq: D, dtype: int64"
      ]
     },
     "execution_count": 37,
     "metadata": {},
     "output_type": "execute_result"
    }
   ],
   "source": [
    "s1 = pd.Series([1, 2, 3, 4, 5, 6], index=pd.date_range('20130102', periods=6))\n",
    "s1"
   ]
  },
  {
   "cell_type": "code",
   "execution_count": 38,
   "id": "886555f1",
   "metadata": {},
   "outputs": [],
   "source": [
    "df['f'] = s1"
   ]
  },
  {
   "cell_type": "markdown",
   "id": "3098919c",
   "metadata": {},
   "source": [
    "> 라벨로 값 설정 (0 행 A 열 값을 0으로)"
   ]
  },
  {
   "cell_type": "code",
   "execution_count": 39,
   "id": "270eff84",
   "metadata": {},
   "outputs": [],
   "source": [
    "df.at[dates[0], 'A'] = 0"
   ]
  },
  {
   "cell_type": "markdown",
   "id": "1423c1e3",
   "metadata": {},
   "source": [
    "> 위치로 값 설정"
   ]
  },
  {
   "cell_type": "code",
   "execution_count": 40,
   "id": "7a9fc32f",
   "metadata": {},
   "outputs": [],
   "source": [
    "df.iat[0, 1] = 0"
   ]
  },
  {
   "cell_type": "markdown",
   "id": "d633e83f",
   "metadata": {},
   "source": [
    "> Numpy 배열을 사용하여 값 설정"
   ]
  },
  {
   "cell_type": "code",
   "execution_count": 41,
   "id": "e74cef6a",
   "metadata": {},
   "outputs": [
    {
     "data": {
      "text/html": [
       "<div>\n",
       "<style scoped>\n",
       "    .dataframe tbody tr th:only-of-type {\n",
       "        vertical-align: middle;\n",
       "    }\n",
       "\n",
       "    .dataframe tbody tr th {\n",
       "        vertical-align: top;\n",
       "    }\n",
       "\n",
       "    .dataframe thead th {\n",
       "        text-align: right;\n",
       "    }\n",
       "</style>\n",
       "<table border=\"1\" class=\"dataframe\">\n",
       "  <thead>\n",
       "    <tr style=\"text-align: right;\">\n",
       "      <th></th>\n",
       "      <th>A</th>\n",
       "      <th>B</th>\n",
       "      <th>C</th>\n",
       "      <th>D</th>\n",
       "      <th>f</th>\n",
       "    </tr>\n",
       "  </thead>\n",
       "  <tbody>\n",
       "    <tr>\n",
       "      <th>2013-01-01</th>\n",
       "      <td>0.000000</td>\n",
       "      <td>0.000000</td>\n",
       "      <td>-0.398252</td>\n",
       "      <td>5</td>\n",
       "      <td>NaN</td>\n",
       "    </tr>\n",
       "    <tr>\n",
       "      <th>2013-01-02</th>\n",
       "      <td>-0.840594</td>\n",
       "      <td>0.606626</td>\n",
       "      <td>1.069531</td>\n",
       "      <td>5</td>\n",
       "      <td>1.0</td>\n",
       "    </tr>\n",
       "    <tr>\n",
       "      <th>2013-01-03</th>\n",
       "      <td>0.893776</td>\n",
       "      <td>0.658321</td>\n",
       "      <td>1.243710</td>\n",
       "      <td>5</td>\n",
       "      <td>2.0</td>\n",
       "    </tr>\n",
       "    <tr>\n",
       "      <th>2013-01-04</th>\n",
       "      <td>-0.404943</td>\n",
       "      <td>-1.319855</td>\n",
       "      <td>-0.155648</td>\n",
       "      <td>5</td>\n",
       "      <td>3.0</td>\n",
       "    </tr>\n",
       "    <tr>\n",
       "      <th>2013-01-05</th>\n",
       "      <td>0.663559</td>\n",
       "      <td>0.383396</td>\n",
       "      <td>-0.299668</td>\n",
       "      <td>5</td>\n",
       "      <td>4.0</td>\n",
       "    </tr>\n",
       "    <tr>\n",
       "      <th>2013-01-06</th>\n",
       "      <td>-0.047130</td>\n",
       "      <td>0.190586</td>\n",
       "      <td>-0.174484</td>\n",
       "      <td>5</td>\n",
       "      <td>5.0</td>\n",
       "    </tr>\n",
       "  </tbody>\n",
       "</table>\n",
       "</div>"
      ],
      "text/plain": [
       "                   A         B         C  D    f\n",
       "2013-01-01  0.000000  0.000000 -0.398252  5  NaN\n",
       "2013-01-02 -0.840594  0.606626  1.069531  5  1.0\n",
       "2013-01-03  0.893776  0.658321  1.243710  5  2.0\n",
       "2013-01-04 -0.404943 -1.319855 -0.155648  5  3.0\n",
       "2013-01-05  0.663559  0.383396 -0.299668  5  4.0\n",
       "2013-01-06 -0.047130  0.190586 -0.174484  5  5.0"
      ]
     },
     "execution_count": 41,
     "metadata": {},
     "output_type": "execute_result"
    }
   ],
   "source": [
    "df.loc[:, 'D'] = np.array([5] * len(df))\n",
    "df"
   ]
  },
  {
   "cell_type": "markdown",
   "id": "4b523ec5",
   "metadata": {},
   "source": [
    "> where 연산을 설정"
   ]
  },
  {
   "cell_type": "code",
   "execution_count": 42,
   "id": "9e5afab8",
   "metadata": {},
   "outputs": [
    {
     "data": {
      "text/html": [
       "<div>\n",
       "<style scoped>\n",
       "    .dataframe tbody tr th:only-of-type {\n",
       "        vertical-align: middle;\n",
       "    }\n",
       "\n",
       "    .dataframe tbody tr th {\n",
       "        vertical-align: top;\n",
       "    }\n",
       "\n",
       "    .dataframe thead th {\n",
       "        text-align: right;\n",
       "    }\n",
       "</style>\n",
       "<table border=\"1\" class=\"dataframe\">\n",
       "  <thead>\n",
       "    <tr style=\"text-align: right;\">\n",
       "      <th></th>\n",
       "      <th>A</th>\n",
       "      <th>B</th>\n",
       "      <th>C</th>\n",
       "      <th>D</th>\n",
       "      <th>f</th>\n",
       "    </tr>\n",
       "  </thead>\n",
       "  <tbody>\n",
       "    <tr>\n",
       "      <th>2013-01-01</th>\n",
       "      <td>0.000000</td>\n",
       "      <td>0.000000</td>\n",
       "      <td>-0.398252</td>\n",
       "      <td>-5</td>\n",
       "      <td>NaN</td>\n",
       "    </tr>\n",
       "    <tr>\n",
       "      <th>2013-01-02</th>\n",
       "      <td>-0.840594</td>\n",
       "      <td>-0.606626</td>\n",
       "      <td>-1.069531</td>\n",
       "      <td>-5</td>\n",
       "      <td>-1.0</td>\n",
       "    </tr>\n",
       "    <tr>\n",
       "      <th>2013-01-03</th>\n",
       "      <td>-0.893776</td>\n",
       "      <td>-0.658321</td>\n",
       "      <td>-1.243710</td>\n",
       "      <td>-5</td>\n",
       "      <td>-2.0</td>\n",
       "    </tr>\n",
       "    <tr>\n",
       "      <th>2013-01-04</th>\n",
       "      <td>-0.404943</td>\n",
       "      <td>-1.319855</td>\n",
       "      <td>-0.155648</td>\n",
       "      <td>-5</td>\n",
       "      <td>-3.0</td>\n",
       "    </tr>\n",
       "    <tr>\n",
       "      <th>2013-01-05</th>\n",
       "      <td>-0.663559</td>\n",
       "      <td>-0.383396</td>\n",
       "      <td>-0.299668</td>\n",
       "      <td>-5</td>\n",
       "      <td>-4.0</td>\n",
       "    </tr>\n",
       "    <tr>\n",
       "      <th>2013-01-06</th>\n",
       "      <td>-0.047130</td>\n",
       "      <td>-0.190586</td>\n",
       "      <td>-0.174484</td>\n",
       "      <td>-5</td>\n",
       "      <td>-5.0</td>\n",
       "    </tr>\n",
       "  </tbody>\n",
       "</table>\n",
       "</div>"
      ],
      "text/plain": [
       "                   A         B         C  D    f\n",
       "2013-01-01  0.000000  0.000000 -0.398252 -5  NaN\n",
       "2013-01-02 -0.840594 -0.606626 -1.069531 -5 -1.0\n",
       "2013-01-03 -0.893776 -0.658321 -1.243710 -5 -2.0\n",
       "2013-01-04 -0.404943 -1.319855 -0.155648 -5 -3.0\n",
       "2013-01-05 -0.663559 -0.383396 -0.299668 -5 -4.0\n",
       "2013-01-06 -0.047130 -0.190586 -0.174484 -5 -5.0"
      ]
     },
     "execution_count": 42,
     "metadata": {},
     "output_type": "execute_result"
    }
   ],
   "source": [
    "df2 = df.copy()\n",
    "df2[df2 > 0] = -df2\n",
    "df2"
   ]
  },
  {
   "cell_type": "markdown",
   "id": "38b9b98a",
   "metadata": {},
   "source": [
    "## Missing Data (결측치)\n",
    "> Pandas는 결측치를 표현하기 위해 주로 np.nan 값을 사용 </br>\n",
    "> 이 방법은 기본 설정값이지만 계산에는 포함되지 않는다. [Missing data section](https://pandas.pydata.org/pandas-docs/stable/user_guide/missing_data.html)을 참조\n",
    "\n",
    ">Reindexing으로 지정된 축 상의 인덱스를 변경 / 추가 / 삭제 할 수 있다.</br>\n",
    ">Reindexing은 데이터의 복사본을 반환"
   ]
  },
  {
   "cell_type": "code",
   "execution_count": 43,
   "id": "d24dba98",
   "metadata": {},
   "outputs": [],
   "source": [
    "df1 = df.reindex(index=dates[0:4], columns=list(df.columns) + ['E'])"
   ]
  },
  {
   "cell_type": "code",
   "execution_count": 44,
   "id": "25abf188",
   "metadata": {},
   "outputs": [],
   "source": [
    "df1.loc[dates[0]:dates[1], 'E'] = 1"
   ]
  },
  {
   "cell_type": "code",
   "execution_count": 45,
   "id": "bce5a4b0",
   "metadata": {
    "scrolled": true
   },
   "outputs": [
    {
     "data": {
      "text/html": [
       "<div>\n",
       "<style scoped>\n",
       "    .dataframe tbody tr th:only-of-type {\n",
       "        vertical-align: middle;\n",
       "    }\n",
       "\n",
       "    .dataframe tbody tr th {\n",
       "        vertical-align: top;\n",
       "    }\n",
       "\n",
       "    .dataframe thead th {\n",
       "        text-align: right;\n",
       "    }\n",
       "</style>\n",
       "<table border=\"1\" class=\"dataframe\">\n",
       "  <thead>\n",
       "    <tr style=\"text-align: right;\">\n",
       "      <th></th>\n",
       "      <th>A</th>\n",
       "      <th>B</th>\n",
       "      <th>C</th>\n",
       "      <th>D</th>\n",
       "      <th>f</th>\n",
       "      <th>E</th>\n",
       "    </tr>\n",
       "  </thead>\n",
       "  <tbody>\n",
       "    <tr>\n",
       "      <th>2013-01-01</th>\n",
       "      <td>0.000000</td>\n",
       "      <td>0.000000</td>\n",
       "      <td>-0.398252</td>\n",
       "      <td>5</td>\n",
       "      <td>NaN</td>\n",
       "      <td>1.0</td>\n",
       "    </tr>\n",
       "    <tr>\n",
       "      <th>2013-01-02</th>\n",
       "      <td>-0.840594</td>\n",
       "      <td>0.606626</td>\n",
       "      <td>1.069531</td>\n",
       "      <td>5</td>\n",
       "      <td>1.0</td>\n",
       "      <td>1.0</td>\n",
       "    </tr>\n",
       "    <tr>\n",
       "      <th>2013-01-03</th>\n",
       "      <td>0.893776</td>\n",
       "      <td>0.658321</td>\n",
       "      <td>1.243710</td>\n",
       "      <td>5</td>\n",
       "      <td>2.0</td>\n",
       "      <td>NaN</td>\n",
       "    </tr>\n",
       "    <tr>\n",
       "      <th>2013-01-04</th>\n",
       "      <td>-0.404943</td>\n",
       "      <td>-1.319855</td>\n",
       "      <td>-0.155648</td>\n",
       "      <td>5</td>\n",
       "      <td>3.0</td>\n",
       "      <td>NaN</td>\n",
       "    </tr>\n",
       "  </tbody>\n",
       "</table>\n",
       "</div>"
      ],
      "text/plain": [
       "                   A         B         C  D    f    E\n",
       "2013-01-01  0.000000  0.000000 -0.398252  5  NaN  1.0\n",
       "2013-01-02 -0.840594  0.606626  1.069531  5  1.0  1.0\n",
       "2013-01-03  0.893776  0.658321  1.243710  5  2.0  NaN\n",
       "2013-01-04 -0.404943 -1.319855 -0.155648  5  3.0  NaN"
      ]
     },
     "execution_count": 45,
     "metadata": {},
     "output_type": "execute_result"
    }
   ],
   "source": [
    "df1"
   ]
  },
  {
   "cell_type": "markdown",
   "id": "fd14d3ad",
   "metadata": {},
   "source": [
    "> 결측치를 가지고 있는 행 삭제"
   ]
  },
  {
   "cell_type": "code",
   "execution_count": 46,
   "id": "b1904b35",
   "metadata": {},
   "outputs": [
    {
     "data": {
      "text/html": [
       "<div>\n",
       "<style scoped>\n",
       "    .dataframe tbody tr th:only-of-type {\n",
       "        vertical-align: middle;\n",
       "    }\n",
       "\n",
       "    .dataframe tbody tr th {\n",
       "        vertical-align: top;\n",
       "    }\n",
       "\n",
       "    .dataframe thead th {\n",
       "        text-align: right;\n",
       "    }\n",
       "</style>\n",
       "<table border=\"1\" class=\"dataframe\">\n",
       "  <thead>\n",
       "    <tr style=\"text-align: right;\">\n",
       "      <th></th>\n",
       "      <th>A</th>\n",
       "      <th>B</th>\n",
       "      <th>C</th>\n",
       "      <th>D</th>\n",
       "      <th>f</th>\n",
       "      <th>E</th>\n",
       "    </tr>\n",
       "  </thead>\n",
       "  <tbody>\n",
       "    <tr>\n",
       "      <th>2013-01-02</th>\n",
       "      <td>-0.840594</td>\n",
       "      <td>0.606626</td>\n",
       "      <td>1.069531</td>\n",
       "      <td>5</td>\n",
       "      <td>1.0</td>\n",
       "      <td>1.0</td>\n",
       "    </tr>\n",
       "  </tbody>\n",
       "</table>\n",
       "</div>"
      ],
      "text/plain": [
       "                   A         B         C  D    f    E\n",
       "2013-01-02 -0.840594  0.606626  1.069531  5  1.0  1.0"
      ]
     },
     "execution_count": 46,
     "metadata": {},
     "output_type": "execute_result"
    }
   ],
   "source": [
    "df1.dropna(how='any')"
   ]
  },
  {
   "cell_type": "markdown",
   "id": "f48a32a3",
   "metadata": {},
   "source": [
    "> 결측치 채워넣기"
   ]
  },
  {
   "cell_type": "code",
   "execution_count": 47,
   "id": "bd33b409",
   "metadata": {},
   "outputs": [
    {
     "data": {
      "text/html": [
       "<div>\n",
       "<style scoped>\n",
       "    .dataframe tbody tr th:only-of-type {\n",
       "        vertical-align: middle;\n",
       "    }\n",
       "\n",
       "    .dataframe tbody tr th {\n",
       "        vertical-align: top;\n",
       "    }\n",
       "\n",
       "    .dataframe thead th {\n",
       "        text-align: right;\n",
       "    }\n",
       "</style>\n",
       "<table border=\"1\" class=\"dataframe\">\n",
       "  <thead>\n",
       "    <tr style=\"text-align: right;\">\n",
       "      <th></th>\n",
       "      <th>A</th>\n",
       "      <th>B</th>\n",
       "      <th>C</th>\n",
       "      <th>D</th>\n",
       "      <th>f</th>\n",
       "      <th>E</th>\n",
       "    </tr>\n",
       "  </thead>\n",
       "  <tbody>\n",
       "    <tr>\n",
       "      <th>2013-01-01</th>\n",
       "      <td>0.000000</td>\n",
       "      <td>0.000000</td>\n",
       "      <td>-0.398252</td>\n",
       "      <td>5</td>\n",
       "      <td>5.0</td>\n",
       "      <td>1.0</td>\n",
       "    </tr>\n",
       "    <tr>\n",
       "      <th>2013-01-02</th>\n",
       "      <td>-0.840594</td>\n",
       "      <td>0.606626</td>\n",
       "      <td>1.069531</td>\n",
       "      <td>5</td>\n",
       "      <td>1.0</td>\n",
       "      <td>1.0</td>\n",
       "    </tr>\n",
       "    <tr>\n",
       "      <th>2013-01-03</th>\n",
       "      <td>0.893776</td>\n",
       "      <td>0.658321</td>\n",
       "      <td>1.243710</td>\n",
       "      <td>5</td>\n",
       "      <td>2.0</td>\n",
       "      <td>5.0</td>\n",
       "    </tr>\n",
       "    <tr>\n",
       "      <th>2013-01-04</th>\n",
       "      <td>-0.404943</td>\n",
       "      <td>-1.319855</td>\n",
       "      <td>-0.155648</td>\n",
       "      <td>5</td>\n",
       "      <td>3.0</td>\n",
       "      <td>5.0</td>\n",
       "    </tr>\n",
       "  </tbody>\n",
       "</table>\n",
       "</div>"
      ],
      "text/plain": [
       "                   A         B         C  D    f    E\n",
       "2013-01-01  0.000000  0.000000 -0.398252  5  5.0  1.0\n",
       "2013-01-02 -0.840594  0.606626  1.069531  5  1.0  1.0\n",
       "2013-01-03  0.893776  0.658321  1.243710  5  2.0  5.0\n",
       "2013-01-04 -0.404943 -1.319855 -0.155648  5  3.0  5.0"
      ]
     },
     "execution_count": 47,
     "metadata": {},
     "output_type": "execute_result"
    }
   ],
   "source": [
    "df1.fillna(value=5)"
   ]
  },
  {
   "cell_type": "markdown",
   "id": "62baff17",
   "metadata": {},
   "source": [
    "> NaN 값을 boolean을 통해 표시 </br>\n",
    "> <u>\"*isna()*\"</u> 값이 있는 데이터는 False, NAN인 값은 True 로 표시"
   ]
  },
  {
   "cell_type": "code",
   "execution_count": 48,
   "id": "dcf2d2b3",
   "metadata": {},
   "outputs": [
    {
     "data": {
      "text/html": [
       "<div>\n",
       "<style scoped>\n",
       "    .dataframe tbody tr th:only-of-type {\n",
       "        vertical-align: middle;\n",
       "    }\n",
       "\n",
       "    .dataframe tbody tr th {\n",
       "        vertical-align: top;\n",
       "    }\n",
       "\n",
       "    .dataframe thead th {\n",
       "        text-align: right;\n",
       "    }\n",
       "</style>\n",
       "<table border=\"1\" class=\"dataframe\">\n",
       "  <thead>\n",
       "    <tr style=\"text-align: right;\">\n",
       "      <th></th>\n",
       "      <th>A</th>\n",
       "      <th>B</th>\n",
       "      <th>C</th>\n",
       "      <th>D</th>\n",
       "      <th>f</th>\n",
       "      <th>E</th>\n",
       "    </tr>\n",
       "  </thead>\n",
       "  <tbody>\n",
       "    <tr>\n",
       "      <th>2013-01-01</th>\n",
       "      <td>False</td>\n",
       "      <td>False</td>\n",
       "      <td>False</td>\n",
       "      <td>False</td>\n",
       "      <td>True</td>\n",
       "      <td>False</td>\n",
       "    </tr>\n",
       "    <tr>\n",
       "      <th>2013-01-02</th>\n",
       "      <td>False</td>\n",
       "      <td>False</td>\n",
       "      <td>False</td>\n",
       "      <td>False</td>\n",
       "      <td>False</td>\n",
       "      <td>False</td>\n",
       "    </tr>\n",
       "    <tr>\n",
       "      <th>2013-01-03</th>\n",
       "      <td>False</td>\n",
       "      <td>False</td>\n",
       "      <td>False</td>\n",
       "      <td>False</td>\n",
       "      <td>False</td>\n",
       "      <td>True</td>\n",
       "    </tr>\n",
       "    <tr>\n",
       "      <th>2013-01-04</th>\n",
       "      <td>False</td>\n",
       "      <td>False</td>\n",
       "      <td>False</td>\n",
       "      <td>False</td>\n",
       "      <td>False</td>\n",
       "      <td>True</td>\n",
       "    </tr>\n",
       "  </tbody>\n",
       "</table>\n",
       "</div>"
      ],
      "text/plain": [
       "                A      B      C      D      f      E\n",
       "2013-01-01  False  False  False  False   True  False\n",
       "2013-01-02  False  False  False  False  False  False\n",
       "2013-01-03  False  False  False  False  False   True\n",
       "2013-01-04  False  False  False  False  False   True"
      ]
     },
     "execution_count": 48,
     "metadata": {},
     "output_type": "execute_result"
    }
   ],
   "source": [
    "pd.isna(df1)"
   ]
  },
  {
   "cell_type": "markdown",
   "id": "1a573a6f",
   "metadata": {},
   "source": [
    "## Operation (연산)\n",
    "> [이진 (Binary) 연산의 기본섹션](https://pandas.pydata.org/pandas-docs/stable/user_guide/basics.html) 참조"
   ]
  },
  {
   "cell_type": "markdown",
   "id": "2480d691",
   "metadata": {},
   "source": [
    "### Stats (통계)\n",
    "> 일반적으로 결측치를 제외한 후 연산 </br>\n",
    "> 기술통계를 수행한다. </br>\n",
    "\n",
    "> <u>\"*mean()*\"</u> 기본은 columns"
   ]
  },
  {
   "cell_type": "code",
   "execution_count": 49,
   "id": "8af56908",
   "metadata": {},
   "outputs": [
    {
     "data": {
      "text/plain": [
       "A    0.044111\n",
       "B    0.086512\n",
       "C    0.214198\n",
       "D    5.000000\n",
       "f    3.000000\n",
       "dtype: float64"
      ]
     },
     "execution_count": 49,
     "metadata": {},
     "output_type": "execute_result"
    }
   ],
   "source": [
    "df.mean()"
   ]
  },
  {
   "cell_type": "markdown",
   "id": "af7361b3",
   "metadata": {},
   "source": [
    "> rows 축"
   ]
  },
  {
   "cell_type": "code",
   "execution_count": 50,
   "id": "0b0b699e",
   "metadata": {},
   "outputs": [
    {
     "data": {
      "text/plain": [
       "2013-01-01    1.150437\n",
       "2013-01-02    1.367113\n",
       "2013-01-03    1.959161\n",
       "2013-01-04    1.223911\n",
       "2013-01-05    1.949458\n",
       "2013-01-06    1.993794\n",
       "Freq: D, dtype: float64"
      ]
     },
     "execution_count": 50,
     "metadata": {},
     "output_type": "execute_result"
    }
   ],
   "source": [
    "df.mean(1)"
   ]
  },
  {
   "cell_type": "markdown",
   "id": "61c3e767",
   "metadata": {},
   "source": [
    "정렬이 필요하며, 차원이 다른 객체로 연산해보겠습니다. 또한, pandas는 지정된 차원을 따라 자동으로 브로드 캐스팅됩니다.\n",
    "\n",
    "역자 주 : broadcast란 numpy에서 유래한 용어로, n차원이나 스칼라 값으로 연산을 수행할 때 도출되는 결과의 규칙을 설명하는 것을 의미합니다."
   ]
  },
  {
   "cell_type": "code",
   "execution_count": null,
   "id": "a2f82127",
   "metadata": {},
   "outputs": [],
   "source": []
  },
  {
   "cell_type": "code",
   "execution_count": null,
   "id": "004b6fb7",
   "metadata": {},
   "outputs": [],
   "source": []
  },
  {
   "cell_type": "code",
   "execution_count": null,
   "id": "5ed564c0",
   "metadata": {},
   "outputs": [],
   "source": []
  },
  {
   "cell_type": "code",
   "execution_count": null,
   "id": "842ad74b",
   "metadata": {},
   "outputs": [],
   "source": []
  },
  {
   "cell_type": "code",
   "execution_count": null,
   "id": "faf0a145",
   "metadata": {},
   "outputs": [],
   "source": []
  },
  {
   "cell_type": "code",
   "execution_count": null,
   "id": "177f173b",
   "metadata": {},
   "outputs": [],
   "source": []
  }
 ],
 "metadata": {
  "kernelspec": {
   "display_name": "Python 3",
   "language": "python",
   "name": "python3"
  },
  "language_info": {
   "codemirror_mode": {
    "name": "ipython",
    "version": 3
   },
   "file_extension": ".py",
   "mimetype": "text/x-python",
   "name": "python",
   "nbconvert_exporter": "python",
   "pygments_lexer": "ipython3",
   "version": "3.8.8"
  },
  "toc": {
   "base_numbering": 1,
   "nav_menu": {},
   "number_sections": true,
   "sideBar": true,
   "skip_h1_title": false,
   "title_cell": "Table of Contents",
   "title_sidebar": "Contents",
   "toc_cell": false,
   "toc_position": {},
   "toc_section_display": true,
   "toc_window_display": false
  }
 },
 "nbformat": 4,
 "nbformat_minor": 5
}
