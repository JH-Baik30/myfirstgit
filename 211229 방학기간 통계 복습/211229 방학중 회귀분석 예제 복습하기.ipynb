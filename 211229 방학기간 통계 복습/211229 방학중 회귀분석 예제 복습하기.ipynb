{
 "cells": [
  {
   "cell_type": "markdown",
   "id": "519f59e7",
   "metadata": {},
   "source": [
    "### 회귀분석 연습하기"
   ]
  },
  {
   "cell_type": "code",
   "execution_count": 1,
   "id": "5231b474",
   "metadata": {},
   "outputs": [],
   "source": [
    "import pandas as pd"
   ]
  },
  {
   "cell_type": "code",
   "execution_count": 2,
   "id": "1ccdfd41",
   "metadata": {},
   "outputs": [],
   "source": [
    "height = [170, 168, 177, 181, 172, 171, 169, 175, 174, 178, 170, 167, 177, 182, 173, 171, 170, 179, 175, 177, 186, 166, 183, 168]\n",
    "weight = [70, 66, 73, 77, 74, 73, 69, 79, 77, 80, 74, 68, 71, 76, 78, 72, 68, 79, 77, 81, 84, 73, 78, 69]"
   ]
  },
  {
   "cell_type": "markdown",
   "id": "234063bb",
   "metadata": {},
   "source": [
    "* 교재와 다른방식으로 DataFrame 만듦"
   ]
  },
  {
   "cell_type": "code",
   "execution_count": 3,
   "id": "d3c5c9a3",
   "metadata": {
    "scrolled": true
   },
   "outputs": [],
   "source": [
    "body = pd.DataFrame([height, weight], index=['height', ' weight']).T"
   ]
  },
  {
   "cell_type": "code",
   "execution_count": 4,
   "id": "53c16dc6",
   "metadata": {},
   "outputs": [
    {
     "data": {
      "text/html": [
       "<div>\n",
       "<style scoped>\n",
       "    .dataframe tbody tr th:only-of-type {\n",
       "        vertical-align: middle;\n",
       "    }\n",
       "\n",
       "    .dataframe tbody tr th {\n",
       "        vertical-align: top;\n",
       "    }\n",
       "\n",
       "    .dataframe thead th {\n",
       "        text-align: right;\n",
       "    }\n",
       "</style>\n",
       "<table border=\"1\" class=\"dataframe\">\n",
       "  <thead>\n",
       "    <tr style=\"text-align: right;\">\n",
       "      <th></th>\n",
       "      <th>height</th>\n",
       "      <th>weight</th>\n",
       "    </tr>\n",
       "  </thead>\n",
       "  <tbody>\n",
       "    <tr>\n",
       "      <th>19</th>\n",
       "      <td>177</td>\n",
       "      <td>81</td>\n",
       "    </tr>\n",
       "    <tr>\n",
       "      <th>20</th>\n",
       "      <td>186</td>\n",
       "      <td>84</td>\n",
       "    </tr>\n",
       "    <tr>\n",
       "      <th>21</th>\n",
       "      <td>166</td>\n",
       "      <td>73</td>\n",
       "    </tr>\n",
       "    <tr>\n",
       "      <th>22</th>\n",
       "      <td>183</td>\n",
       "      <td>78</td>\n",
       "    </tr>\n",
       "    <tr>\n",
       "      <th>23</th>\n",
       "      <td>168</td>\n",
       "      <td>69</td>\n",
       "    </tr>\n",
       "  </tbody>\n",
       "</table>\n",
       "</div>"
      ],
      "text/plain": [
       "    height   weight\n",
       "19     177       81\n",
       "20     186       84\n",
       "21     166       73\n",
       "22     183       78\n",
       "23     168       69"
      ]
     },
     "execution_count": 4,
     "metadata": {},
     "output_type": "execute_result"
    }
   ],
   "source": [
    "body.tail()"
   ]
  },
  {
   "cell_type": "code",
   "execution_count": 5,
   "id": "1cda3cba",
   "metadata": {},
   "outputs": [],
   "source": [
    "import statsmodels.api as sm"
   ]
  },
  {
   "cell_type": "code",
   "execution_count": 6,
   "id": "8aa6bf5b",
   "metadata": {
    "scrolled": false
   },
   "outputs": [
    {
     "data": {
      "text/html": [
       "<table class=\"simpletable\">\n",
       "<caption>OLS Regression Results</caption>\n",
       "<tr>\n",
       "  <th>Dep. Variable:</th>         <td>weight</td>      <th>  R-squared:         </th> <td>   0.589</td>\n",
       "</tr>\n",
       "<tr>\n",
       "  <th>Model:</th>                   <td>OLS</td>       <th>  Adj. R-squared:    </th> <td>   0.571</td>\n",
       "</tr>\n",
       "<tr>\n",
       "  <th>Method:</th>             <td>Least Squares</td>  <th>  F-statistic:       </th> <td>   31.57</td>\n",
       "</tr>\n",
       "<tr>\n",
       "  <th>Date:</th>             <td>Wed, 29 Dec 2021</td> <th>  Prob (F-statistic):</th> <td>1.20e-05</td>\n",
       "</tr>\n",
       "<tr>\n",
       "  <th>Time:</th>                 <td>12:38:15</td>     <th>  Log-Likelihood:    </th> <td> -60.095</td>\n",
       "</tr>\n",
       "<tr>\n",
       "  <th>No. Observations:</th>      <td>    24</td>      <th>  AIC:               </th> <td>   124.2</td>\n",
       "</tr>\n",
       "<tr>\n",
       "  <th>Df Residuals:</th>          <td>    22</td>      <th>  BIC:               </th> <td>   126.5</td>\n",
       "</tr>\n",
       "<tr>\n",
       "  <th>Df Model:</th>              <td>     1</td>      <th>                     </th>     <td> </td>   \n",
       "</tr>\n",
       "<tr>\n",
       "  <th>Covariance Type:</th>      <td>nonrobust</td>    <th>                     </th>     <td> </td>   \n",
       "</tr>\n",
       "</table>\n",
       "<table class=\"simpletable\">\n",
       "<tr>\n",
       "      <td></td>         <th>coef</th>     <th>std err</th>      <th>t</th>      <th>P>|t|</th>  <th>[0.025</th>    <th>0.975]</th>  \n",
       "</tr>\n",
       "<tr>\n",
       "  <th>Intercept</th> <td>  -40.8238</td> <td>   20.520</td> <td>   -1.989</td> <td> 0.059</td> <td>  -83.381</td> <td>    1.733</td>\n",
       "</tr>\n",
       "<tr>\n",
       "  <th>height</th>    <td>    0.6618</td> <td>    0.118</td> <td>    5.619</td> <td> 0.000</td> <td>    0.418</td> <td>    0.906</td>\n",
       "</tr>\n",
       "</table>\n",
       "<table class=\"simpletable\">\n",
       "<tr>\n",
       "  <th>Omnibus:</th>       <td> 4.339</td> <th>  Durbin-Watson:     </th> <td>   1.332</td>\n",
       "</tr>\n",
       "<tr>\n",
       "  <th>Prob(Omnibus):</th> <td> 0.114</td> <th>  Jarque-Bera (JB):  </th> <td>   1.533</td>\n",
       "</tr>\n",
       "<tr>\n",
       "  <th>Skew:</th>          <td>-0.036</td> <th>  Prob(JB):          </th> <td>   0.465</td>\n",
       "</tr>\n",
       "<tr>\n",
       "  <th>Kurtosis:</th>      <td> 1.764</td> <th>  Cond. No.          </th> <td>5.67e+03</td>\n",
       "</tr>\n",
       "</table><br/><br/>Notes:<br/>[1] Standard Errors assume that the covariance matrix of the errors is correctly specified.<br/>[2] The condition number is large, 5.67e+03. This might indicate that there are<br/>strong multicollinearity or other numerical problems."
      ],
      "text/plain": [
       "<class 'statsmodels.iolib.summary.Summary'>\n",
       "\"\"\"\n",
       "                            OLS Regression Results                            \n",
       "==============================================================================\n",
       "Dep. Variable:                 weight   R-squared:                       0.589\n",
       "Model:                            OLS   Adj. R-squared:                  0.571\n",
       "Method:                 Least Squares   F-statistic:                     31.57\n",
       "Date:                Wed, 29 Dec 2021   Prob (F-statistic):           1.20e-05\n",
       "Time:                        12:38:15   Log-Likelihood:                -60.095\n",
       "No. Observations:                  24   AIC:                             124.2\n",
       "Df Residuals:                      22   BIC:                             126.5\n",
       "Df Model:                           1                                         \n",
       "Covariance Type:            nonrobust                                         \n",
       "==============================================================================\n",
       "                 coef    std err          t      P>|t|      [0.025      0.975]\n",
       "------------------------------------------------------------------------------\n",
       "Intercept    -40.8238     20.520     -1.989      0.059     -83.381       1.733\n",
       "height         0.6618      0.118      5.619      0.000       0.418       0.906\n",
       "==============================================================================\n",
       "Omnibus:                        4.339   Durbin-Watson:                   1.332\n",
       "Prob(Omnibus):                  0.114   Jarque-Bera (JB):                1.533\n",
       "Skew:                          -0.036   Prob(JB):                        0.465\n",
       "Kurtosis:                       1.764   Cond. No.                     5.67e+03\n",
       "==============================================================================\n",
       "\n",
       "Notes:\n",
       "[1] Standard Errors assume that the covariance matrix of the errors is correctly specified.\n",
       "[2] The condition number is large, 5.67e+03. This might indicate that there are\n",
       "strong multicollinearity or other numerical problems.\n",
       "\"\"\""
      ]
     },
     "execution_count": 6,
     "metadata": {},
     "output_type": "execute_result"
    }
   ],
   "source": [
    "reg = sm.OLS.from_formula('weight ~ height', body).fit()\n",
    "reg.summary()"
   ]
  },
  {
   "cell_type": "markdown",
   "id": "8546cffa",
   "metadata": {},
   "source": [
    "### 실습1 1만명의 키와 몸무게 정보\n",
    ">키가 몸무게에 영향을 주지 몸무게가 키에 영향을 주지 않으므로\n",
    ">\n",
    ">몸무게를 종속변수, 키를 독립변수로 두고 회귀분석 실행"
   ]
  },
  {
   "cell_type": "code",
   "execution_count": 7,
   "id": "288efaa0",
   "metadata": {},
   "outputs": [],
   "source": [
    "import statsmodels.formula.api as smf\n",
    "import matplotlib.pyplot as plt"
   ]
  },
  {
   "cell_type": "code",
   "execution_count": 8,
   "id": "7aadf591",
   "metadata": {},
   "outputs": [
    {
     "data": {
      "text/html": [
       "<table class=\"simpletable\">\n",
       "<caption>OLS Regression Results</caption>\n",
       "<tr>\n",
       "  <th>Dep. Variable:</th>         <td>Weight1</td>     <th>  R-squared:         </th> <td>   0.854</td> \n",
       "</tr>\n",
       "<tr>\n",
       "  <th>Model:</th>                   <td>OLS</td>       <th>  Adj. R-squared:    </th> <td>   0.854</td> \n",
       "</tr>\n",
       "<tr>\n",
       "  <th>Method:</th>             <td>Least Squares</td>  <th>  F-statistic:       </th> <td>5.846e+04</td>\n",
       "</tr>\n",
       "<tr>\n",
       "  <th>Date:</th>             <td>Wed, 29 Dec 2021</td> <th>  Prob (F-statistic):</th>  <td>  0.00</td>  \n",
       "</tr>\n",
       "<tr>\n",
       "  <th>Time:</th>                 <td>12:38:17</td>     <th>  Log-Likelihood:    </th> <td> -31361.</td> \n",
       "</tr>\n",
       "<tr>\n",
       "  <th>No. Observations:</th>      <td> 10000</td>      <th>  AIC:               </th> <td>6.273e+04</td>\n",
       "</tr>\n",
       "<tr>\n",
       "  <th>Df Residuals:</th>          <td>  9998</td>      <th>  BIC:               </th> <td>6.274e+04</td>\n",
       "</tr>\n",
       "<tr>\n",
       "  <th>Df Model:</th>              <td>     1</td>      <th>                     </th>     <td> </td>    \n",
       "</tr>\n",
       "<tr>\n",
       "  <th>Covariance Type:</th>      <td>nonrobust</td>    <th>                     </th>     <td> </td>    \n",
       "</tr>\n",
       "</table>\n",
       "<table class=\"simpletable\">\n",
       "<tr>\n",
       "      <td></td>         <th>coef</th>     <th>std err</th>      <th>t</th>      <th>P>|t|</th>  <th>[0.025</th>    <th>0.975]</th>  \n",
       "</tr>\n",
       "<tr>\n",
       "  <th>Intercept</th> <td> -158.8027</td> <td>    0.959</td> <td> -165.558</td> <td> 0.000</td> <td> -160.683</td> <td> -156.922</td>\n",
       "</tr>\n",
       "<tr>\n",
       "  <th>Height1</th>   <td>    1.3776</td> <td>    0.006</td> <td>  241.793</td> <td> 0.000</td> <td>    1.366</td> <td>    1.389</td>\n",
       "</tr>\n",
       "</table>\n",
       "<table class=\"simpletable\">\n",
       "<tr>\n",
       "  <th>Omnibus:</th>       <td> 1.492</td> <th>  Durbin-Watson:     </th> <td>   1.681</td>\n",
       "</tr>\n",
       "<tr>\n",
       "  <th>Prob(Omnibus):</th> <td> 0.474</td> <th>  Jarque-Bera (JB):  </th> <td>   1.495</td>\n",
       "</tr>\n",
       "<tr>\n",
       "  <th>Skew:</th>          <td> 0.030</td> <th>  Prob(JB):          </th> <td>   0.473</td>\n",
       "</tr>\n",
       "<tr>\n",
       "  <th>Kurtosis:</th>      <td> 2.996</td> <th>  Cond. No.          </th> <td>2.90e+03</td>\n",
       "</tr>\n",
       "</table><br/><br/>Notes:<br/>[1] Standard Errors assume that the covariance matrix of the errors is correctly specified.<br/>[2] The condition number is large, 2.9e+03. This might indicate that there are<br/>strong multicollinearity or other numerical problems."
      ],
      "text/plain": [
       "<class 'statsmodels.iolib.summary.Summary'>\n",
       "\"\"\"\n",
       "                            OLS Regression Results                            \n",
       "==============================================================================\n",
       "Dep. Variable:                Weight1   R-squared:                       0.854\n",
       "Model:                            OLS   Adj. R-squared:                  0.854\n",
       "Method:                 Least Squares   F-statistic:                 5.846e+04\n",
       "Date:                Wed, 29 Dec 2021   Prob (F-statistic):               0.00\n",
       "Time:                        12:38:17   Log-Likelihood:                -31361.\n",
       "No. Observations:               10000   AIC:                         6.273e+04\n",
       "Df Residuals:                    9998   BIC:                         6.274e+04\n",
       "Df Model:                           1                                         \n",
       "Covariance Type:            nonrobust                                         \n",
       "==============================================================================\n",
       "                 coef    std err          t      P>|t|      [0.025      0.975]\n",
       "------------------------------------------------------------------------------\n",
       "Intercept   -158.8027      0.959   -165.558      0.000    -160.683    -156.922\n",
       "Height1        1.3776      0.006    241.793      0.000       1.366       1.389\n",
       "==============================================================================\n",
       "Omnibus:                        1.492   Durbin-Watson:                   1.681\n",
       "Prob(Omnibus):                  0.474   Jarque-Bera (JB):                1.495\n",
       "Skew:                           0.030   Prob(JB):                        0.473\n",
       "Kurtosis:                       2.996   Cond. No.                     2.90e+03\n",
       "==============================================================================\n",
       "\n",
       "Notes:\n",
       "[1] Standard Errors assume that the covariance matrix of the errors is correctly specified.\n",
       "[2] The condition number is large, 2.9e+03. This might indicate that there are\n",
       "strong multicollinearity or other numerical problems.\n",
       "\"\"\""
      ]
     },
     "execution_count": 8,
     "metadata": {},
     "output_type": "execute_result"
    }
   ],
   "source": [
    "data = pd.read_excel('211206 회귀분석 예제 실습/data/weight-height.xlsx')\n",
    "model = smf.ols(formula='Weight1~Height1', data=data).fit()   # formula=, data= 안스려면 같이 안써줘야함.\n",
    "model.summary()"
   ]
  },
  {
   "cell_type": "markdown",
   "id": "e6b032d7",
   "metadata": {},
   "source": [
    "* 회귀분석 결과 산점도 그리기"
   ]
  },
  {
   "cell_type": "code",
   "execution_count": 9,
   "id": "748a056f",
   "metadata": {},
   "outputs": [],
   "source": [
    "# height = data['Height1'].to_list()   # 교재내용은 이런식으로 열을 리스트로 만들어서\n",
    "# weight = data['Weight1'].to_list()   # 다시 DataFram을 만듦\n",
    "body = data[['Height1','Weight1']]     # 교재와 다르게 컬럼만 빼옴\n",
    "body.columns = ['키','몸무게']         # 이것도 의미 읎는 짓인게 아래처럼 data에서 컬럼만 빼와도 됨."
   ]
  },
  {
   "cell_type": "code",
   "execution_count": 10,
   "id": "ece22cee",
   "metadata": {},
   "outputs": [
    {
     "data": {
      "text/html": [
       "<div>\n",
       "<style scoped>\n",
       "    .dataframe tbody tr th:only-of-type {\n",
       "        vertical-align: middle;\n",
       "    }\n",
       "\n",
       "    .dataframe tbody tr th {\n",
       "        vertical-align: top;\n",
       "    }\n",
       "\n",
       "    .dataframe thead th {\n",
       "        text-align: right;\n",
       "    }\n",
       "</style>\n",
       "<table border=\"1\" class=\"dataframe\">\n",
       "  <thead>\n",
       "    <tr style=\"text-align: right;\">\n",
       "      <th></th>\n",
       "      <th>키</th>\n",
       "      <th>몸무게</th>\n",
       "    </tr>\n",
       "  </thead>\n",
       "  <tbody>\n",
       "    <tr>\n",
       "      <th>0</th>\n",
       "      <td>187</td>\n",
       "      <td>109</td>\n",
       "    </tr>\n",
       "    <tr>\n",
       "      <th>1</th>\n",
       "      <td>174</td>\n",
       "      <td>73</td>\n",
       "    </tr>\n",
       "    <tr>\n",
       "      <th>2</th>\n",
       "      <td>188</td>\n",
       "      <td>96</td>\n",
       "    </tr>\n",
       "    <tr>\n",
       "      <th>3</th>\n",
       "      <td>182</td>\n",
       "      <td>99</td>\n",
       "    </tr>\n",
       "    <tr>\n",
       "      <th>4</th>\n",
       "      <td>177</td>\n",
       "      <td>93</td>\n",
       "    </tr>\n",
       "  </tbody>\n",
       "</table>\n",
       "</div>"
      ],
      "text/plain": [
       "     키  몸무게\n",
       "0  187  109\n",
       "1  174   73\n",
       "2  188   96\n",
       "3  182   99\n",
       "4  177   93"
      ]
     },
     "execution_count": 10,
     "metadata": {},
     "output_type": "execute_result"
    }
   ],
   "source": [
    "body.head()"
   ]
  },
  {
   "cell_type": "code",
   "execution_count": 11,
   "id": "07106116",
   "metadata": {
    "scrolled": false
   },
   "outputs": [
    {
     "data": {
      "image/png": "[encoded data removed]",
      "text/plain": [
       "<Figure size 640x480 with 1 Axes>"
      ]
     },
     "metadata": {},
     "output_type": "display_data"
    }
   ],
   "source": [
    "plt.scatter(data['Height1'], data['Weight1'])\n",
    "# plt.scatter(body['키'], body['몸무게'])\n",
    "plt.xlabel('Height')\n",
    "plt.ylabel('Weight')\n",
    "plt.show()"
   ]
  },
  {
   "cell_type": "markdown",
   "id": "02253bb6",
   "metadata": {},
   "source": [
    "### 실습2 Toluca Company dataset 로 실습"
   ]
  },
  {
   "cell_type": "code",
   "execution_count": 12,
   "id": "b1a7a55d",
   "metadata": {},
   "outputs": [],
   "source": [
    "import matplotlib\n",
    "from statsmodels.formula.api import ols"
   ]
  },
  {
   "cell_type": "code",
   "execution_count": 13,
   "id": "e4a57cc8",
   "metadata": {},
   "outputs": [
    {
     "data": {
      "text/html": [
       "<div>\n",
       "<style scoped>\n",
       "    .dataframe tbody tr th:only-of-type {\n",
       "        vertical-align: middle;\n",
       "    }\n",
       "\n",
       "    .dataframe tbody tr th {\n",
       "        vertical-align: top;\n",
       "    }\n",
       "\n",
       "    .dataframe thead th {\n",
       "        text-align: right;\n",
       "    }\n",
       "</style>\n",
       "<table border=\"1\" class=\"dataframe\">\n",
       "  <thead>\n",
       "    <tr style=\"text-align: right;\">\n",
       "      <th></th>\n",
       "      <th>Lot_size</th>\n",
       "      <th>Work_hours</th>\n",
       "    </tr>\n",
       "  </thead>\n",
       "  <tbody>\n",
       "    <tr>\n",
       "      <th>0</th>\n",
       "      <td>80</td>\n",
       "      <td>399</td>\n",
       "    </tr>\n",
       "    <tr>\n",
       "      <th>1</th>\n",
       "      <td>30</td>\n",
       "      <td>121</td>\n",
       "    </tr>\n",
       "    <tr>\n",
       "      <th>2</th>\n",
       "      <td>50</td>\n",
       "      <td>221</td>\n",
       "    </tr>\n",
       "    <tr>\n",
       "      <th>3</th>\n",
       "      <td>90</td>\n",
       "      <td>376</td>\n",
       "    </tr>\n",
       "    <tr>\n",
       "      <th>4</th>\n",
       "      <td>70</td>\n",
       "      <td>361</td>\n",
       "    </tr>\n",
       "  </tbody>\n",
       "</table>\n",
       "</div>"
      ],
      "text/plain": [
       "   Lot_size  Work_hours\n",
       "0        80         399\n",
       "1        30         121\n",
       "2        50         221\n",
       "3        90         376\n",
       "4        70         361"
      ]
     },
     "execution_count": 13,
     "metadata": {},
     "output_type": "execute_result"
    }
   ],
   "source": [
    "df = pd.read_csv('211206 회귀분석 예제 실습/data/toluca_company_dataset.csv')\n",
    "df.head()"
   ]
  },
  {
   "cell_type": "markdown",
   "id": "ae621d88",
   "metadata": {},
   "source": [
    "* 산점도로 시각화하여 데이터 분포 확인"
   ]
  },
  {
   "cell_type": "code",
   "execution_count": 14,
   "id": "274893f1",
   "metadata": {
    "scrolled": false
   },
   "outputs": [
    {
     "data": {
      "image/png": "[encoded data removed]",
      "text/plain": [
       "<Figure size 500x500 with 1 Axes>"
      ]
     },
     "metadata": {},
     "output_type": "display_data"
    }
   ],
   "source": [
    "fig = plt.figure(figsize=(5,5))\n",
    "fig.set_facecolor('white')\n",
    "\n",
    "font_size = 10\n",
    "plt.scatter(df['Lot_size'], df['Work_hours'])\n",
    "plt.xlabel('Lot Size', fontsize=font_size)\n",
    "plt.ylabel('Work hours', fontsize=font_size)\n",
    "plt.show()"
   ]
  },
  {
   "cell_type": "markdown",
   "id": "af11104a",
   "metadata": {},
   "source": [
    "* 회귀분석모델 적합 결과 확인\n",
    "\n",
    "> statsmodels 라이브러리의 summary 함수로 회귀분석모델 적합 결과 요약 확인"
   ]
  },
  {
   "cell_type": "code",
   "execution_count": 15,
   "id": "84e9bb16",
   "metadata": {},
   "outputs": [
    {
     "data": {
      "text/html": [
       "<table class=\"simpletable\">\n",
       "<caption>OLS Regression Results</caption>\n",
       "<tr>\n",
       "  <th>Dep. Variable:</th>       <td>Work_hours</td>    <th>  R-squared:         </th> <td>   0.822</td>\n",
       "</tr>\n",
       "<tr>\n",
       "  <th>Model:</th>                   <td>OLS</td>       <th>  Adj. R-squared:    </th> <td>   0.814</td>\n",
       "</tr>\n",
       "<tr>\n",
       "  <th>Method:</th>             <td>Least Squares</td>  <th>  F-statistic:       </th> <td>   105.9</td>\n",
       "</tr>\n",
       "<tr>\n",
       "  <th>Date:</th>             <td>Wed, 29 Dec 2021</td> <th>  Prob (F-statistic):</th> <td>4.45e-10</td>\n",
       "</tr>\n",
       "<tr>\n",
       "  <th>Time:</th>                 <td>12:38:18</td>     <th>  Log-Likelihood:    </th> <td> -131.64</td>\n",
       "</tr>\n",
       "<tr>\n",
       "  <th>No. Observations:</th>      <td>    25</td>      <th>  AIC:               </th> <td>   267.3</td>\n",
       "</tr>\n",
       "<tr>\n",
       "  <th>Df Residuals:</th>          <td>    23</td>      <th>  BIC:               </th> <td>   269.7</td>\n",
       "</tr>\n",
       "<tr>\n",
       "  <th>Df Model:</th>              <td>     1</td>      <th>                     </th>     <td> </td>   \n",
       "</tr>\n",
       "<tr>\n",
       "  <th>Covariance Type:</th>      <td>nonrobust</td>    <th>                     </th>     <td> </td>   \n",
       "</tr>\n",
       "</table>\n",
       "<table class=\"simpletable\">\n",
       "<tr>\n",
       "      <td></td>         <th>coef</th>     <th>std err</th>      <th>t</th>      <th>P>|t|</th>  <th>[0.025</th>    <th>0.975]</th>  \n",
       "</tr>\n",
       "<tr>\n",
       "  <th>Intercept</th> <td>   62.3659</td> <td>   26.177</td> <td>    2.382</td> <td> 0.026</td> <td>    8.214</td> <td>  116.518</td>\n",
       "</tr>\n",
       "<tr>\n",
       "  <th>Lot_size</th>  <td>    3.5702</td> <td>    0.347</td> <td>   10.290</td> <td> 0.000</td> <td>    2.852</td> <td>    4.288</td>\n",
       "</tr>\n",
       "</table>\n",
       "<table class=\"simpletable\">\n",
       "<tr>\n",
       "  <th>Omnibus:</th>       <td> 0.608</td> <th>  Durbin-Watson:     </th> <td>   1.432</td>\n",
       "</tr>\n",
       "<tr>\n",
       "  <th>Prob(Omnibus):</th> <td> 0.738</td> <th>  Jarque-Bera (JB):  </th> <td>   0.684</td>\n",
       "</tr>\n",
       "<tr>\n",
       "  <th>Skew:</th>          <td> 0.298</td> <th>  Prob(JB):          </th> <td>   0.710</td>\n",
       "</tr>\n",
       "<tr>\n",
       "  <th>Kurtosis:</th>      <td> 2.450</td> <th>  Cond. No.          </th> <td>    202.</td>\n",
       "</tr>\n",
       "</table><br/><br/>Notes:<br/>[1] Standard Errors assume that the covariance matrix of the errors is correctly specified."
      ],
      "text/plain": [
       "<class 'statsmodels.iolib.summary.Summary'>\n",
       "\"\"\"\n",
       "                            OLS Regression Results                            \n",
       "==============================================================================\n",
       "Dep. Variable:             Work_hours   R-squared:                       0.822\n",
       "Model:                            OLS   Adj. R-squared:                  0.814\n",
       "Method:                 Least Squares   F-statistic:                     105.9\n",
       "Date:                Wed, 29 Dec 2021   Prob (F-statistic):           4.45e-10\n",
       "Time:                        12:38:18   Log-Likelihood:                -131.64\n",
       "No. Observations:                  25   AIC:                             267.3\n",
       "Df Residuals:                      23   BIC:                             269.7\n",
       "Df Model:                           1                                         \n",
       "Covariance Type:            nonrobust                                         \n",
       "==============================================================================\n",
       "                 coef    std err          t      P>|t|      [0.025      0.975]\n",
       "------------------------------------------------------------------------------\n",
       "Intercept     62.3659     26.177      2.382      0.026       8.214     116.518\n",
       "Lot_size       3.5702      0.347     10.290      0.000       2.852       4.288\n",
       "==============================================================================\n",
       "Omnibus:                        0.608   Durbin-Watson:                   1.432\n",
       "Prob(Omnibus):                  0.738   Jarque-Bera (JB):                0.684\n",
       "Skew:                           0.298   Prob(JB):                        0.710\n",
       "Kurtosis:                       2.450   Cond. No.                         202.\n",
       "==============================================================================\n",
       "\n",
       "Notes:\n",
       "[1] Standard Errors assume that the covariance matrix of the errors is correctly specified.\n",
       "\"\"\""
      ]
     },
     "execution_count": 15,
     "metadata": {},
     "output_type": "execute_result"
    }
   ],
   "source": [
    "fit = ols('Work_hours~Lot_size', df).fit()\n",
    "fit.summary()"
   ]
  },
  {
   "cell_type": "code",
   "execution_count": 16,
   "id": "5c1c815c",
   "metadata": {},
   "outputs": [
    {
     "name": "stdout",
     "output_type": "stream",
     "text": [
      "62.36585858585873\n",
      "3.5702020202020197\n"
     ]
    }
   ],
   "source": [
    "print(fit.params.Intercept)   # 절편\n",
    "print(fit.params.Lot_size)    # 기울기"
   ]
  },
  {
   "cell_type": "markdown",
   "id": "010e0cf0",
   "metadata": {},
   "source": [
    "* 작업시간 추정치 구하기"
   ]
  },
  {
   "cell_type": "code",
   "execution_count": 17,
   "id": "049fb5c9",
   "metadata": {
    "scrolled": true
   },
   "outputs": [
    {
     "data": {
      "text/plain": [
       "0     347.982020\n",
       "1     169.471919\n",
       "2     240.875960\n",
       "3     383.684040\n",
       "4     312.280000\n",
       "5     276.577980\n",
       "6     490.790101\n",
       "7     347.982020\n",
       "8     419.386061\n",
       "9     240.875960\n",
       "10    205.173939\n",
       "11    312.280000\n",
       "12    383.684040\n",
       "13    133.769899\n",
       "14    455.088081\n",
       "15    419.386061\n",
       "16    169.471919\n",
       "17    240.875960\n",
       "18    383.684040\n",
       "19    455.088081\n",
       "20    169.471919\n",
       "21    383.684040\n",
       "22    205.173939\n",
       "23    347.982020\n",
       "24    312.280000\n",
       "dtype: float64"
      ]
     },
     "execution_count": 17,
     "metadata": {},
     "output_type": "execute_result"
    }
   ],
   "source": [
    "fit.fittedvalues"
   ]
  },
  {
   "cell_type": "markdown",
   "id": "ab368945",
   "metadata": {},
   "source": [
    "* 잔차 구하기\n",
    "\n",
    ">모델 검증에 필요한 잔차를 resid 필드를 이용하여 구함"
   ]
  },
  {
   "cell_type": "code",
   "execution_count": 18,
   "id": "8a5cb711",
   "metadata": {
    "scrolled": true
   },
   "outputs": [
    {
     "data": {
      "text/plain": [
       "0      51.017980\n",
       "1     -48.471919\n",
       "2     -19.875960\n",
       "3      -7.684040\n",
       "4      48.720000\n",
       "5     -52.577980\n",
       "6      55.209899\n",
       "7       4.017980\n",
       "8     -66.386061\n",
       "9     -83.875960\n",
       "10    -45.173939\n",
       "11    -60.280000\n",
       "12      5.315960\n",
       "13    -20.769899\n",
       "14    -20.088081\n",
       "15      0.613939\n",
       "16     42.528081\n",
       "17     27.124040\n",
       "18     -6.684040\n",
       "19    -34.088081\n",
       "20    103.528081\n",
       "21     84.315960\n",
       "22     38.826061\n",
       "23     -5.982020\n",
       "24     10.720000\n",
       "dtype: float64"
      ]
     },
     "execution_count": 18,
     "metadata": {},
     "output_type": "execute_result"
    }
   ],
   "source": [
    "fit.resid"
   ]
  },
  {
   "cell_type": "markdown",
   "id": "9ec1fe3c",
   "metadata": {},
   "source": [
    "* 새로운 제품 크기에 대한 작업시간의 예측값 구하기"
   ]
  },
  {
   "cell_type": "code",
   "execution_count": 19,
   "id": "e5ac8199",
   "metadata": {},
   "outputs": [
    {
     "data": {
      "text/plain": [
       "0    347.98202\n",
       "dtype: float64"
      ]
     },
     "execution_count": 19,
     "metadata": {},
     "output_type": "execute_result"
    }
   ],
   "source": [
    "fit.predict(exog=dict(Lot_size=[80]))"
   ]
  },
  {
   "cell_type": "markdown",
   "id": "d4a83146",
   "metadata": {},
   "source": [
    "* 회귀직선 시각화"
   ]
  },
  {
   "cell_type": "code",
   "execution_count": 20,
   "id": "fee65f27",
   "metadata": {},
   "outputs": [
    {
     "data": {
      "image/png": "[encoded data removed]",
      "text/plain": [
       "<Figure size 600x600 with 1 Axes>"
      ]
     },
     "metadata": {},
     "output_type": "display_data"
    }
   ],
   "source": [
    "fig = plt.figure(figsize=(6,6))\n",
    "fig.set_facecolor('white')\n",
    "\n",
    "font_size = 10\n",
    "plt.scatter(df['Lot_size'], df['Work_hours'])\n",
    "plt.plot(df['Lot_size'], fit.fittedvalues, color='red')\n",
    "\n",
    "plt.xlabel('Lot Size', fontsize=font_size)\n",
    "plt.ylabel('Work Hours', fontsize=font_size)\n",
    "plt.show()"
   ]
  },
  {
   "cell_type": "markdown",
   "id": "d1681573",
   "metadata": {},
   "source": [
    "* 회귀분석 모델의 적합성을 확인하기 위해 잔차도 시각화\n",
    "* 잔차도 <u>Residual Plot</u>"
   ]
  },
  {
   "cell_type": "code",
   "execution_count": 21,
   "id": "051f2655",
   "metadata": {
    "scrolled": false
   },
   "outputs": [
    {
     "data": {
      "image/png": "[encoded data removed]",
      "text/plain": [
       "<Figure size 500x500 with 1 Axes>"
      ]
     },
     "metadata": {},
     "output_type": "display_data"
    }
   ],
   "source": [
    "fig = plt.figure(figsize=(5,5))\n",
    "fig.set_facecolor('white')\n",
    "font_size = 10\n",
    "\n",
    "plt.scatter(df['Lot_size'], fit.resid)\n",
    "\n",
    "plt.xlabel('Lot Size', fontsize=font_size)\n",
    "plt.ylabel('Residual')\n",
    "plt.show()"
   ]
  },
  {
   "cell_type": "markdown",
   "id": "7b87b5fb",
   "metadata": {},
   "source": [
    "* 잔차도에서 특별한 패턴이 보이지는 않는다."
   ]
  },
  {
   "cell_type": "markdown",
   "id": "dc16873f",
   "metadata": {},
   "source": [
    "### scikit-learn 을 이용한 회귀분석"
   ]
  },
  {
   "cell_type": "code",
   "execution_count": 22,
   "id": "5022cf95",
   "metadata": {},
   "outputs": [],
   "source": [
    "from sklearn.linear_model import LinearRegression"
   ]
  },
  {
   "cell_type": "code",
   "execution_count": 23,
   "id": "4c3f82e1",
   "metadata": {},
   "outputs": [],
   "source": [
    "x = df['Lot_size'].values.reshape(-1,1)  # 차원증가\n",
    "y = df['Work_hours']\n",
    "\n",
    "fit = LinearRegression().fit(x,y)        # 단순선형회귀모형 적합"
   ]
  },
  {
   "cell_type": "code",
   "execution_count": 24,
   "id": "edbf5475",
   "metadata": {},
   "outputs": [
    {
     "name": "stdout",
     "output_type": "stream",
     "text": [
      "62.365858585858575\n",
      "[3.57020202]\n"
     ]
    }
   ],
   "source": [
    "print(fit.intercept_)  # 절편\n",
    "print(fit.coef_)       # 기울기"
   ]
  },
  {
   "cell_type": "markdown",
   "id": "12357f87",
   "metadata": {},
   "source": [
    "* 작업시간과 추정값 출력\n",
    "\n",
    "> statsmodels 에서는 fittedvalues 로 학습 데이터의 설명 변수에 대응하는 작업시간의 추정값을 구할수있으나,\n",
    ">\n",
    "> sklearn에서는 predict 함수를 사용해야한다."
   ]
  },
  {
   "cell_type": "code",
   "execution_count": 30,
   "id": "a042b4c2",
   "metadata": {
    "scrolled": true
   },
   "outputs": [
    {
     "data": {
      "text/plain": [
       "array([347.9820202 , 169.47191919, 240.8759596 , 383.6840404 ,\n",
       "       312.28      , 276.5779798 , 490.79010101, 347.9820202 ,\n",
       "       419.38606061, 240.8759596 , 205.17393939, 312.28      ,\n",
       "       383.6840404 , 133.76989899, 455.08808081, 419.38606061,\n",
       "       169.47191919, 240.8759596 , 383.6840404 , 455.08808081,\n",
       "       169.47191919, 383.6840404 , 205.17393939, 347.9820202 ,\n",
       "       312.28      ])"
      ]
     },
     "execution_count": 30,
     "metadata": {},
     "output_type": "execute_result"
    }
   ],
   "source": [
    "fit.predict(x)"
   ]
  },
  {
   "cell_type": "markdown",
   "id": "451d69d5",
   "metadata": {},
   "source": [
    "* 잔차"
   ]
  },
  {
   "cell_type": "code",
   "execution_count": 32,
   "id": "1147e957",
   "metadata": {
    "scrolled": true
   },
   "outputs": [
    {
     "data": {
      "text/plain": [
       "0      51.017980\n",
       "1     -48.471919\n",
       "2     -19.875960\n",
       "3      -7.684040\n",
       "4      48.720000\n",
       "5     -52.577980\n",
       "6      55.209899\n",
       "7       4.017980\n",
       "8     -66.386061\n",
       "9     -83.875960\n",
       "10    -45.173939\n",
       "11    -60.280000\n",
       "12      5.315960\n",
       "13    -20.769899\n",
       "14    -20.088081\n",
       "15      0.613939\n",
       "16     42.528081\n",
       "17     27.124040\n",
       "18     -6.684040\n",
       "19    -34.088081\n",
       "20    103.528081\n",
       "21     84.315960\n",
       "22     38.826061\n",
       "23     -5.982020\n",
       "24     10.720000\n",
       "Name: Work_hours, dtype: float64"
      ]
     },
     "execution_count": 32,
     "metadata": {},
     "output_type": "execute_result"
    }
   ],
   "source": [
    "residual = y - fit.predict(x)\n",
    "residual"
   ]
  },
  {
   "cell_type": "markdown",
   "id": "71c7776c",
   "metadata": {},
   "source": [
    "* 예측값 개산을 위해 predict함수에 이중 [[ ]] 로 값을 넘겨준다."
   ]
  },
  {
   "cell_type": "code",
   "execution_count": null,
   "id": "7c78fc65",
   "metadata": {},
   "outputs": [],
   "source": [
    "fit.predict([[80]])"
   ]
  },
  {
   "cell_type": "code",
   "execution_count": null,
   "id": "5be883fb",
   "metadata": {},
   "outputs": [],
   "source": []
  },
  {
   "cell_type": "code",
   "execution_count": null,
   "id": "8fed5ff6",
   "metadata": {},
   "outputs": [],
   "source": []
  },
  {
   "cell_type": "code",
   "execution_count": null,
   "id": "a0bf41d5",
   "metadata": {},
   "outputs": [],
   "source": []
  },
  {
   "cell_type": "code",
   "execution_count": null,
   "id": "e9cfa760",
   "metadata": {},
   "outputs": [],
   "source": []
  },
  {
   "cell_type": "code",
   "execution_count": null,
   "id": "ba6be268",
   "metadata": {},
   "outputs": [],
   "source": []
  },
  {
   "cell_type": "code",
   "execution_count": null,
   "id": "8a500391",
   "metadata": {},
   "outputs": [],
   "source": []
  },
  {
   "cell_type": "code",
   "execution_count": null,
   "id": "53783189",
   "metadata": {},
   "outputs": [],
   "source": []
  },
  {
   "cell_type": "code",
   "execution_count": null,
   "id": "3eb1948a",
   "metadata": {},
   "outputs": [],
   "source": []
  },
  {
   "cell_type": "code",
   "execution_count": null,
   "id": "f064e97b",
   "metadata": {},
   "outputs": [],
   "source": []
  },
  {
   "cell_type": "code",
   "execution_count": null,
   "id": "85ccb1e2",
   "metadata": {},
   "outputs": [],
   "source": []
  },
  {
   "cell_type": "code",
   "execution_count": null,
   "id": "4b3b9aa4",
   "metadata": {},
   "outputs": [],
   "source": []
  }
 ],
 "metadata": {
  "kernelspec": {
   "display_name": "Python 3",
   "language": "python",
   "name": "python3"
  },
  "language_info": {
   "codemirror_mode": {
    "name": "ipython",
    "version": 3
   },
   "file_extension": ".py",
   "mimetype": "text/x-python",
   "name": "python",
   "nbconvert_exporter": "python",
   "pygments_lexer": "ipython3",
   "version": "3.8.8"
  }
 },
 "nbformat": 4,
 "nbformat_minor": 5
}
