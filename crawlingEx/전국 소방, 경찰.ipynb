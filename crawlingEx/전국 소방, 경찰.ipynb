{
 "cells": [
  {
   "cell_type": "code",
   "execution_count": 1,
   "id": "09d9e876",
   "metadata": {},
   "outputs": [],
   "source": [
    "import pandas as pd\n",
    "import matplotlib.pyplot as plt\n",
    "import seaborn as sns\n",
    "sns.set(font='malgun gothic')"
   ]
  },
  {
   "cell_type": "code",
   "execution_count": 2,
   "id": "ddf87ffe",
   "metadata": {
    "scrolled": true
   },
   "outputs": [],
   "source": [
    "fire119 = pd.read_csv('data/전국 소방서 현황(2018.11.28).csv', encoding='cp949', engine='python')\n",
    "safe119 = pd.read_csv('data/전국 119안전센터 현황(2018.11.28).csv', encoding='cp949', engine='python')\n",
    "police112 = pd.read_csv('data/경찰청_경찰관서 위치, 주소 현황_20210924.csv', encoding='cp949', engine='python')"
   ]
  },
  {
   "cell_type": "markdown",
   "id": "6e56e95e",
   "metadata": {},
   "source": [
    "### 여기 부터 소방서 주소정제 시작"
   ]
  },
  {
   "cell_type": "code",
   "execution_count": 3,
   "id": "ddaa46c6",
   "metadata": {},
   "outputs": [],
   "source": [
    "li = ['서울특별시','서울특별시','부산광역시','부산광역시','인천광역시','인천광역시','광주광역시','대전광역시',\n",
    "      '울산광역시','세종특별자치시','경기도','충청북도','충청남도','전라북도','전라남도','경상북도','경상남도',\n",
    "      '제주특별자치도','제주특별자치도','제주특별자치도']"
   ]
  },
  {
   "cell_type": "code",
   "execution_count": null,
   "id": "85b58c26",
   "metadata": {},
   "outputs": [],
   "source": [
    "fire119"
   ]
  },
  {
   "cell_type": "code",
   "execution_count": 4,
   "id": "6ac5a20c",
   "metadata": {
    "scrolled": true
   },
   "outputs": [],
   "source": [
    "fire119_addr = []\n",
    "for i in fire119['주소']:\n",
    "    fire119_addr.append(str(i).split(\" \"))"
   ]
  },
  {
   "cell_type": "code",
   "execution_count": null,
   "id": "2a709680",
   "metadata": {},
   "outputs": [],
   "source": [
    "fire119_addr"
   ]
  },
  {
   "cell_type": "code",
   "execution_count": 5,
   "id": "cc481c29",
   "metadata": {
    "scrolled": true
   },
   "outputs": [
    {
     "data": {
      "text/plain": [
       "['서울특별시 종로구 종로1길 28(수송동)',\n",
       " '서울특별시 중구 퇴계로 394(무학동)',\n",
       " '서울특별시 광진구 광나루로 480(구의동)',\n",
       " '서울특별시 용산구 한강대로 167(한강로2가)',\n",
       " '서울특별시 동대문구 장한로 34(장안동)',\n",
       " '서울특별시 중랑구 신내로 183(신내동)',\n",
       " '서울특별시 영등포구 문래로 197(영등포동4가)',\n",
       " '서울특별시 성북구 종암로 27길 3(종암동)',\n",
       " '서울특별시 강북구 보건소길 2(번동)',\n",
       " '서울특별시 도봉구 도봉로 666(방학동)',\n",
       " '서울특별시 노원구 한글비석로 1길 8(하계동)',\n",
       " '서울특별시 은평구 통일로 962(진관동)',\n",
       " '서울특별시 서대문구 연희로 182(연희동)',\n",
       " '서울특별시 마포구 창전로 76(신수동)',\n",
       " '서울특별시 강남구 테헤란로 629(삼성동)',\n",
       " '서울특별시 서초구 사평대로 67(반포동)',\n",
       " '서울특별시 관악구 관악로 97(봉천동)',\n",
       " '서울특별시 동작구 여의대방로16길 55(신대방동)',\n",
       " '서울특별시 강서구 양천로 550(등촌동)',\n",
       " '서울특별시 양천구 목동서로 180(목동)',\n",
       " '서울특별시 강동구 성내로 39(성내동)',\n",
       " '서울특별시 송파구 오금로51길 56(마천동)',\n",
       " '서울특별시 구로구 경인로 408(고척동)',\n",
       " '서울특별시 성동구 살곶이길 331(행당동)',\n",
       " '부산광역시 중구 중앙대로 110(중앙동4가)',\n",
       " '부산광역시 동구 범일로 115(범일동)',\n",
       " '부산광역시 연제구 고분로 216(연산동)',\n",
       " '부산광역시 사상구 삼덕로 17(삼락동)',\n",
       " '부산광역시 사하구 장평로 270(신평동)',\n",
       " '부산광역시 해운대구 해운대해변로 106(우동)',\n",
       " '부산광역시 금정구 중앙대로 1789(부곡동)',\n",
       " '부산광역시 수영구 광일로 64(광안동)',\n",
       " '부산광역시 강서구 녹산산단361로 9(송정동)',\n",
       " '부산광역시 기장군 정관면 용수로 7',\n",
       " '부산광역시 영도구 해양로 297(동삼동)',\n",
       " '대구광역시 중구 달구벌대로 1926',\n",
       " '대구광역시 동구 동대구로 507',\n",
       " '대구광역시 서구 달서천로 186',\n",
       " '대구광역시 북구 칠성남로 112',\n",
       " '대구광역시 수성구 청호로 87',\n",
       " '대구광역시 달서구 학산로 75 ',\n",
       " '대구광역시 달성군 현풍면 비슬로 480',\n",
       " '대구광역시 달성군 다사읍 달구벌대로 920',\n",
       " '인천광역시 중구 인중로 204(항동)',\n",
       " '인천광역시 부평구 부평대로 324(갈산동)',\n",
       " '인천광역시 남동구 인주대로 714(구월동)',\n",
       " '인천광역시 서구 서곶로 292(심곡동)',\n",
       " '인천광역시 남동구 남동서로 208(고잔동)',\n",
       " '인천광역시 계양구 장제로 774(계산동)',\n",
       " '인천광역시 남구 인하로 190(주안동)',\n",
       " '인천광역시 강화군 강화읍 남문로 23번길 11',\n",
       " '인천광역시 중구 공항서로 512번길 464(운서동)',\n",
       " '인천광역시 연수구 송도동 208-1',\n",
       " '광주광역시 동구 제봉로 210(대인동)',\n",
       " '광주광역시 서구 화운로 197(화정동)',\n",
       " '광주광역시 남구 송암로58번길 13(송하동)',\n",
       " '광주광역시 북구 서하로 290(오치동)',\n",
       " '광주광역시 광산구 하남산단1번로 13(하남동)',\n",
       " '대전광역시 동구 태전로 134',\n",
       " '대전광역시 서구 갈마중로 15',\n",
       " '대전광역시 대덕구 계족로 682',\n",
       " '대전광역시 유성구 대덕대로 516',\n",
       " '대전광역시 서구 북부서로 67',\n",
       " '울산광역시 중구 종가로 205',\n",
       " '울산광역시 남구 삼산중로 149',\n",
       " '울산광역시 동구 꽃바위2가길 9',\n",
       " '울산광역시 울주군 온산읍 덕신로 232',\n",
       " '세종특별자치시 조치원읍 세종로 2439',\n",
       " '세종특별자치시 어진동 610',\n",
       " '경기도 수원시 장안구 정자천로 189번길 12 ',\n",
       " '경기도 성남시 수정구 제일로 111',\n",
       " '경기도 성남시 분당구 양현로 14',\n",
       " '경기도 부천시 원미구 신흥로 115 ',\n",
       " '경기도 안양시 동안구 동안로 82 ',\n",
       " '경기도 안산시 단원구 화랑로 407',\n",
       " '경기도 용인시 처인구 명지로 75',\n",
       " '경기도 평택시 남부문예회관앞길 11',\n",
       " '경기도 평택시 경기대로 1637 ',\n",
       " '경기도 광명시 금하로 472',\n",
       " '경기도 시흥시 정왕중앙로 64',\n",
       " '경기도 군포시 당산로 310',\n",
       " '경기도 화성시 향남읍 향남로 399',\n",
       " '경기도 이천시 경충대로 2739',\n",
       " '경기도 김포시 감암로 111',\n",
       " '경기도 광주시 초월읍 무들로 112',\n",
       " '경기도 안성시 미양로 855',\n",
       " '경기도 하남시 시청길 52',\n",
       " '경기도 의왕시 오봉로 9',\n",
       " '경기도 오산시 청학로 67',\n",
       " '경기도 여주시 우암로 110 ',\n",
       " '경기도 양평군 양평읍 경강로 2047',\n",
       " '경기도 과천시 통영길 8',\n",
       " '경기도 고양시 덕양구 고양대로 1342',\n",
       " '경기도 고양시 일산동구 중앙로 1325',\n",
       " '경기도 의정부시 의정로 48 ',\n",
       " '경기도 남양주시 평내로 25 ',\n",
       " '경기도 파주시 파주읍 통일로1564',\n",
       " '경기도 구리시 아차산로 487번길 46',\n",
       " '경기도 포천시 군내면 호국로 1538',\n",
       " '경기도 양주시 백석읍 꿈나무로 156',\n",
       " '경기도 동두천시 지행로 6(지행동)',\n",
       " '경기도 가평군 가평읍 가화로36',\n",
       " '경기도 연천군 전곡읍 평화로 892',\n",
       " '강원도 춘천시 후석로 446',\n",
       " '강원도 원주시 남원로 487',\n",
       " '강원도 강릉시 선수촌로 64-28(홍제동)',\n",
       " '강원도 동해시 천곡로 120',\n",
       " '강원도 태백시 태백로 1120',\n",
       " '강원도 속초시 미시령로 3226',\n",
       " '강원도 삼척시 봉황로 101',\n",
       " '강원도 홍천군 홍천읍 공작산로 99',\n",
       " '강원도 횡성군 횡성읍 문예로 157',\n",
       " '강원도 영월군 영월읍 영월로 1863',\n",
       " '강원도 평창군 평창읍 살구실길 10',\n",
       " '강원도 정선군 정선읍 녹송로 27',\n",
       " '강원도 철원군 갈말읍 태봉로 1504',\n",
       " '강원도 인제군 인제읍 비봉로 44번길 71',\n",
       " '강원도 고성군 간성읍 수성로 37-11',\n",
       " '강원도 양양군 양양읍 남대천로 33',\n",
       " '충청북도 청주시 상당구 영운로 61',\n",
       " '충청북도 청주시 흥덕구 풍산로 64',\n",
       " '충청북도 충주시 도매시장4길 9번',\n",
       " '충청북도 제천시 신죽하로 2164',\n",
       " '충청북도 보은군 보은읍 남부로 4415',\n",
       " '충청북도 옥천군 옥천읍 중앙로 132',\n",
       " '충청북도 영동군 영동읍 영동황간로 174',\n",
       " '충청북도 증평군 충청대로 1789',\n",
       " '충청북도 진천군 진천읍 진광로 93',\n",
       " '충청북도 괴산군 괴산읍 괴강로 69',\n",
       " '충청북도 단양군 단양읍 별곡리 산28-4',\n",
       " '충청북도 음성군 금왕읍 응천서길 11',\n",
       " '충청남도 천안시 동남구 천안대로 580',\n",
       " '충청남도 천안시 서북구 직산읍 4산단 2길 32번지',\n",
       " '충청남도 공주시 봉황로 134',\n",
       " '충청남도 보령시 대천로 122',\n",
       " '충청남도 아산시 문화로 293 ',\n",
       " '충청남도 서산시 호수공원14로 26-4',\n",
       " '충청남도 논산시 대학로 17 ',\n",
       " '충청남도 계룡시 두마면 사계로 46',\n",
       " '충청남도 당진시 역천로 838',\n",
       " '충청남도 금산군 금산읍 삼풍로 2',\n",
       " '충청남도 부여군 규암면 계백로 17',\n",
       " '충청남도 서천군 장항읍 장항로 37',\n",
       " '충청남도 청양군 청양읍 충절로 1187',\n",
       " '충청남도 홍성군 홍성읍 충절로 741 ',\n",
       " '충청남도 예산군 오가면 오가중앙로 111',\n",
       " '충청남도 태안군 태안읍 동백로 100 ',\n",
       " '전라남도 전주시 덕진구 백제대로 611',\n",
       " '전라남도 전주시 완산구 거마평로 73',\n",
       " '전라남도 군산시 번영로 308 ',\n",
       " '전라남도 익산시 무왕로 1338',\n",
       " '전라남도 정읍시 서부산업도로 507-3',\n",
       " '전라남도 남원시 요천로 1965',\n",
       " '전라남도 김제시 벽성로 278',\n",
       " '전라남도 고창군 고창읍 녹두로 1294',\n",
       " '전라남도 부안군 행안면 변산로 86',\n",
       " '전라남도 장수군 장계면 육십령로 136',\n",
       " '전라남도 목포시 삼향천로 110',\n",
       " '전라남도 여수시 망마로 20',\n",
       " '전라남도 순천시 서면 삼산로 281',\n",
       " '전라남도 나주시 예향로 4201',\n",
       " '전라남도 광양시 중마중앙로 109',\n",
       " '전라남도 담양군 담양읍 추성로 1232',\n",
       " '전라남도 고흥군 풍양면 고흥로 1330',\n",
       " '전라남도 보성군 벌교읍 녹색로 5247',\n",
       " '전라남도 화순군 화순읍 학포로 2750',\n",
       " '전라남도 강진군 군동면 중앙로 223',\n",
       " '전라남도 해남군 해남읍 교육청길 82',\n",
       " '전라남도 영암군 삼호읍 나불로 192',\n",
       " '전라남도 무안군 무안읍 공항골 133-9',\n",
       " '전라남도 함평군 대동면 학동로386',\n",
       " '전라남도 영광군 영광읍 함영로 3508',\n",
       " '경상북도 포항시 북구 중앙로 332',\n",
       " '경상북도 포항시 남구 동해안로 5890',\n",
       " '경상북도 경주시 알천남로 276',\n",
       " '경상북도 김천시 황산로 67',\n",
       " '경상북도 안동시 육사로 301',\n",
       " '경상북도 구미시 수출대로 112',\n",
       " '경상북도 영주시 문수면 적서로 448번길 17',\n",
       " '경상북도 영천시 호국로 187',\n",
       " '경상북도 상주시 상산로 322',\n",
       " '경상북도 문경시 중앙로 305',\n",
       " '경상북도 경산시 김유신로 12',\n",
       " '경상북도 의성군 봉양면 경북대로 4741',\n",
       " '경상북도 영덕군 영덕읍 경동로 8401',\n",
       " '경상북도 청도군 청도읍 중앙로 192-34',\n",
       " '경상북도 고령군 고령읍 벽화길 18',\n",
       " '경상북도 성주군 성주읍 주산로 193',\n",
       " '경상북도 칠곡군 기산면 칠곡대로 1216',\n",
       " '경상북도 울진군 울진읍 울진북로 508',\n",
       " '경상남도 진주시 동진로 249',\n",
       " '경상남도 통영시 광도면 죽림4로 49',\n",
       " '경상남도 사천시 남일로 29',\n",
       " '경상남도 김해시 김해대로 2507',\n",
       " '경상남도 김해시 장유로 341',\n",
       " '경상남도 밀양시 밀양대로 1760',\n",
       " '경상남도 거제시 진목로 1',\n",
       " '경상남도 양산시 물금읍 황산로 719',\n",
       " '경상남도 의령군 의령읍 남산로 7-12',\n",
       " '경상남도 함안군 가야읍 선왕길 59',\n",
       " '경상남도 창녕군 대지면 우포2로 1097',\n",
       " '경상남도 고성군 고성읍 남해안대로 2670',\n",
       " '경상남도 남해군 남해읍 스포츠로 81',\n",
       " '경상남도 하동군 금성면 금성로 15',\n",
       " '경상남도 산청군 산청읍 물안실로 8',\n",
       " '경상남도 함양군 함양읍 함양로 1179',\n",
       " '경상남도 거창군 거창읍 거함대로 3324',\n",
       " '경상남도 합천군 합천읍 인덕로 2453',\n",
       " '제주특별자치도 제주시 중앙로 342(이도이동)',\n",
       " '제주특별자치도 서귀포시 동홍로 31(동홍동)',\n",
       " '제주특별자치도 제주시 한림읍 한림중앙로 150',\n",
       " '제주특별자치도 서귀포시 성산읍 일주동로 4120번길 7',\n",
       " '경상남도 창원시 진해구 백구로 72',\n",
       " '경상남도 창원시 의창구 상남로 165',\n",
       " '경상남도 창원시 마산합포구 제2부두로 55']"
      ]
     },
     "execution_count": 5,
     "metadata": {},
     "output_type": "execute_result"
    }
   ],
   "source": [
    "fire119_all_repl = []\n",
    "for i in range(len(fire119_addr)):\n",
    "    for j in range(len(li)):\n",
    "        if fire119_addr[i][0][0] == li[j][0]:\n",
    "            if fire119_addr[i][0][1] == li[j][1]:\n",
    "                fire119_addr[i][0] = li[j]\n",
    "            elif fire119_addr[i][0][1] == li[j][2]:\n",
    "                fire119_addr[i][0] = li[j]\n",
    "                break\n",
    "    fire119_all_repl.append(' '.join(fire119_addr[i]))\n",
    "fire119_all_repl"
   ]
  },
  {
   "cell_type": "code",
   "execution_count": 6,
   "id": "5944cbe1",
   "metadata": {},
   "outputs": [],
   "source": [
    "fire119['주소(정)'] = fire119_all_repl"
   ]
  },
  {
   "cell_type": "code",
   "execution_count": null,
   "id": "8415a69c",
   "metadata": {},
   "outputs": [],
   "source": [
    "fire119.to_csv('data/fire119.csv', encoding='cp949', index=False)"
   ]
  },
  {
   "cell_type": "markdown",
   "id": "4ad293b0",
   "metadata": {},
   "source": [
    "### 여기까지 소방서 주소정제 끝"
   ]
  },
  {
   "cell_type": "markdown",
   "id": "ee6eb96d",
   "metadata": {},
   "source": [
    "### folium 을 이용한 지도화"
   ]
  },
  {
   "cell_type": "markdown",
   "id": "095e567e",
   "metadata": {},
   "source": [
    "* 변수 재활용을 위한 삭제"
   ]
  },
  {
   "cell_type": "code",
   "execution_count": 7,
   "id": "2480c7cf",
   "metadata": {},
   "outputs": [],
   "source": [
    "del fire119_addr\n",
    "del fire119_all_repl"
   ]
  },
  {
   "cell_type": "code",
   "execution_count": 8,
   "id": "37eca4f5",
   "metadata": {
    "scrolled": true
   },
   "outputs": [],
   "source": [
    "fire119_addr = pd.DataFrame(fire119['주소(정)'].apply(lambda x : x.split()[:2]).tolist(), columns=('시도','군구'))"
   ]
  },
  {
   "cell_type": "code",
   "execution_count": null,
   "id": "e6a99684",
   "metadata": {
    "scrolled": true
   },
   "outputs": [],
   "source": [
    "fire119_addr"
   ]
  },
  {
   "cell_type": "markdown",
   "id": "eb20a63e",
   "metadata": {},
   "source": [
    "* 나눠놓은 시도와 군구를 시도군구 컬럼으로 만들어서 병합\n",
    "* count 컬럼을 만들고 값을 0으로 놓는다."
   ]
  },
  {
   "cell_type": "code",
   "execution_count": 9,
   "id": "12379017",
   "metadata": {
    "scrolled": true
   },
   "outputs": [],
   "source": [
    "fire119_addr['시도군구'] = fire119_addr.apply(lambda x : x['시도']+' '+x['군구'], axis=1)\n",
    "fire119_addr['count'] = 0"
   ]
  },
  {
   "cell_type": "code",
   "execution_count": 10,
   "id": "c7a7c9c1",
   "metadata": {},
   "outputs": [],
   "source": [
    "fire119_group = pd.DataFrame(fire119_addr.groupby(['시도','군구','시도군구'], as_index=False).count())"
   ]
  },
  {
   "cell_type": "code",
   "execution_count": 11,
   "id": "a81b1a6c",
   "metadata": {},
   "outputs": [
    {
     "data": {
      "text/html": [
       "<div>\n",
       "<style scoped>\n",
       "    .dataframe tbody tr th:only-of-type {\n",
       "        vertical-align: middle;\n",
       "    }\n",
       "\n",
       "    .dataframe tbody tr th {\n",
       "        vertical-align: top;\n",
       "    }\n",
       "\n",
       "    .dataframe thead th {\n",
       "        text-align: right;\n",
       "    }\n",
       "</style>\n",
       "<table border=\"1\" class=\"dataframe\">\n",
       "  <thead>\n",
       "    <tr style=\"text-align: right;\">\n",
       "      <th></th>\n",
       "      <th>시도</th>\n",
       "      <th>군구</th>\n",
       "      <th>count</th>\n",
       "    </tr>\n",
       "    <tr>\n",
       "      <th>시도군구</th>\n",
       "      <th></th>\n",
       "      <th></th>\n",
       "      <th></th>\n",
       "    </tr>\n",
       "  </thead>\n",
       "  <tbody>\n",
       "    <tr>\n",
       "      <th>강원도 강릉시</th>\n",
       "      <td>강원도</td>\n",
       "      <td>강릉시</td>\n",
       "      <td>1</td>\n",
       "    </tr>\n",
       "    <tr>\n",
       "      <th>강원도 고성군</th>\n",
       "      <td>강원도</td>\n",
       "      <td>고성군</td>\n",
       "      <td>1</td>\n",
       "    </tr>\n",
       "    <tr>\n",
       "      <th>강원도 동해시</th>\n",
       "      <td>강원도</td>\n",
       "      <td>동해시</td>\n",
       "      <td>1</td>\n",
       "    </tr>\n",
       "    <tr>\n",
       "      <th>강원도 삼척시</th>\n",
       "      <td>강원도</td>\n",
       "      <td>삼척시</td>\n",
       "      <td>1</td>\n",
       "    </tr>\n",
       "    <tr>\n",
       "      <th>강원도 속초시</th>\n",
       "      <td>강원도</td>\n",
       "      <td>속초시</td>\n",
       "      <td>1</td>\n",
       "    </tr>\n",
       "    <tr>\n",
       "      <th>...</th>\n",
       "      <td>...</td>\n",
       "      <td>...</td>\n",
       "      <td>...</td>\n",
       "    </tr>\n",
       "    <tr>\n",
       "      <th>충청북도 제천시</th>\n",
       "      <td>충청북도</td>\n",
       "      <td>제천시</td>\n",
       "      <td>1</td>\n",
       "    </tr>\n",
       "    <tr>\n",
       "      <th>충청북도 증평군</th>\n",
       "      <td>충청북도</td>\n",
       "      <td>증평군</td>\n",
       "      <td>1</td>\n",
       "    </tr>\n",
       "    <tr>\n",
       "      <th>충청북도 진천군</th>\n",
       "      <td>충청북도</td>\n",
       "      <td>진천군</td>\n",
       "      <td>1</td>\n",
       "    </tr>\n",
       "    <tr>\n",
       "      <th>충청북도 청주시</th>\n",
       "      <td>충청북도</td>\n",
       "      <td>청주시</td>\n",
       "      <td>2</td>\n",
       "    </tr>\n",
       "    <tr>\n",
       "      <th>충청북도 충주시</th>\n",
       "      <td>충청북도</td>\n",
       "      <td>충주시</td>\n",
       "      <td>1</td>\n",
       "    </tr>\n",
       "  </tbody>\n",
       "</table>\n",
       "<p>199 rows × 3 columns</p>\n",
       "</div>"
      ],
      "text/plain": [
       "            시도   군구  count\n",
       "시도군구                      \n",
       "강원도 강릉시    강원도  강릉시      1\n",
       "강원도 고성군    강원도  고성군      1\n",
       "강원도 동해시    강원도  동해시      1\n",
       "강원도 삼척시    강원도  삼척시      1\n",
       "강원도 속초시    강원도  속초시      1\n",
       "...        ...  ...    ...\n",
       "충청북도 제천시  충청북도  제천시      1\n",
       "충청북도 증평군  충청북도  증평군      1\n",
       "충청북도 진천군  충청북도  진천군      1\n",
       "충청북도 청주시  충청북도  청주시      2\n",
       "충청북도 충주시  충청북도  충주시      1\n",
       "\n",
       "[199 rows x 3 columns]"
      ]
     },
     "execution_count": 11,
     "metadata": {},
     "output_type": "execute_result"
    }
   ],
   "source": [
    "fire119_group.set_index('시도군구')"
   ]
  },
  {
   "cell_type": "code",
   "execution_count": 17,
   "id": "24a8643d",
   "metadata": {},
   "outputs": [
    {
     "data": {
      "text/plain": [
       "경기도        31\n",
       "서울특별시      24\n",
       "전라남도       24\n",
       "경상남도       18\n",
       "경상북도       17\n",
       "강원도        16\n",
       "충청남도       15\n",
       "부산광역시      11\n",
       "충청북도       11\n",
       "인천광역시       8\n",
       "대구광역시       7\n",
       "광주광역시       5\n",
       "대전광역시       4\n",
       "울산광역시       4\n",
       "세종특별자치시     2\n",
       "제주특별자치도     2\n",
       "Name: 시도, dtype: int64"
      ]
     },
     "execution_count": 17,
     "metadata": {},
     "output_type": "execute_result"
    }
   ],
   "source": [
    "fire119_group['시도'].value_counts()"
   ]
  },
  {
   "cell_type": "code",
   "execution_count": null,
   "id": "eb1ad25d",
   "metadata": {},
   "outputs": [],
   "source": []
  },
  {
   "cell_type": "code",
   "execution_count": null,
   "id": "d1f9dfff",
   "metadata": {},
   "outputs": [],
   "source": []
  },
  {
   "cell_type": "code",
   "execution_count": null,
   "id": "75b1bcaa",
   "metadata": {},
   "outputs": [],
   "source": []
  },
  {
   "cell_type": "code",
   "execution_count": null,
   "id": "78aed3af",
   "metadata": {},
   "outputs": [],
   "source": []
  },
  {
   "cell_type": "code",
   "execution_count": null,
   "id": "688fd095",
   "metadata": {},
   "outputs": [],
   "source": []
  },
  {
   "cell_type": "markdown",
   "id": "6aa316d1",
   "metadata": {},
   "source": [
    "### 여기부터 119안전센터 주소정제 시작"
   ]
  },
  {
   "cell_type": "code",
   "execution_count": null,
   "id": "bb5b54df",
   "metadata": {},
   "outputs": [],
   "source": [
    "safe119.head()"
   ]
  },
  {
   "cell_type": "code",
   "execution_count": null,
   "id": "5dcc4d09",
   "metadata": {
    "scrolled": true
   },
   "outputs": [],
   "source": [
    "safe119_addr = []\n",
    "for i in safe119['주소']:\n",
    "    safe119_addr.append(str(i).split(\" \"))"
   ]
  },
  {
   "cell_type": "code",
   "execution_count": null,
   "id": "1c0d3957",
   "metadata": {},
   "outputs": [],
   "source": [
    "for i in safe119_addr:\n",
    "    if i[0] == '수원시' : i.insert(0, '경기도')\n",
    "    elif i[0] == '성남시' : i.insert(0, '경기도')\n",
    "    elif i[0] == '파주시' : i.insert(0, '경기도')\n",
    "    elif i[0] == '양주시' : i.insert(0, '경기도')\n",
    "    elif i[0] == '가평군' : i.insert(0, '경기도')\n",
    "    elif i[0] == '충북' : i[0] = '충청북도'\n",
    "    elif i[0] == '증평군' : i.insert(0, '충청북도')\n",
    "    elif i[0] == '충남' : i[0] = '충청남도'\n",
    "    elif i[0] == '전북' : i[0] = '전라북도'\n",
    "    elif i[0] == '전남' : i[0] = '전라남도'\n",
    "    elif i[0] == '완도군' : i.insert(0, '전라남도')\n",
    "    elif i[0] == '함평군' : i.insert(0, '전라남도')\n",
    "    elif i[0] == '경남' : i[0] = '경상남도'"
   ]
  },
  {
   "cell_type": "code",
   "execution_count": null,
   "id": "eeb24f3c",
   "metadata": {},
   "outputs": [],
   "source": [
    "safe119_addr"
   ]
  },
  {
   "cell_type": "code",
   "execution_count": null,
   "id": "83fb9cb1",
   "metadata": {},
   "outputs": [],
   "source": [
    "safe119_all_repl = []\n",
    "for i in range(len(safe119_addr)):\n",
    "    safe119_all_repl.append(' '.join(safe119_addr[i]))\n",
    "safe119_all_repl"
   ]
  },
  {
   "cell_type": "code",
   "execution_count": null,
   "id": "a82faab7",
   "metadata": {},
   "outputs": [],
   "source": [
    "safe119['주소(정)'] = pd.DataFrame(safe119_all_repl)"
   ]
  },
  {
   "cell_type": "code",
   "execution_count": null,
   "id": "ba5d8441",
   "metadata": {},
   "outputs": [],
   "source": [
    "safe119.head()"
   ]
  },
  {
   "cell_type": "code",
   "execution_count": null,
   "id": "4ce8d0c6",
   "metadata": {},
   "outputs": [],
   "source": [
    "safe119.to_csv('safe119.csv', encoding='cp949', index=False)"
   ]
  },
  {
   "cell_type": "markdown",
   "id": "bf2828ce",
   "metadata": {},
   "source": [
    "### 여기까지 119안전센터 주소 정제끝"
   ]
  },
  {
   "cell_type": "code",
   "execution_count": null,
   "id": "e212e9c3",
   "metadata": {},
   "outputs": [],
   "source": [
    "del safe119_addr\n",
    "del safe119_all_repl"
   ]
  },
  {
   "cell_type": "code",
   "execution_count": null,
   "id": "e4aab1a3",
   "metadata": {},
   "outputs": [],
   "source": [
    "safe119_addr = pd.DataFrame(safe119['주소'].apply(lambda y : y.split()[:2]).tolist(), columns=('시도','군구')"
   ]
  },
  {
   "cell_type": "code",
   "execution_count": null,
   "id": "b43d2554",
   "metadata": {},
   "outputs": [],
   "source": []
  },
  {
   "cell_type": "code",
   "execution_count": null,
   "id": "80f11a07",
   "metadata": {},
   "outputs": [],
   "source": []
  },
  {
   "cell_type": "code",
   "execution_count": null,
   "id": "99dc7e71",
   "metadata": {},
   "outputs": [],
   "source": []
  },
  {
   "cell_type": "code",
   "execution_count": null,
   "id": "e52f1c73",
   "metadata": {},
   "outputs": [],
   "source": []
  },
  {
   "cell_type": "code",
   "execution_count": null,
   "id": "ca7c1976",
   "metadata": {},
   "outputs": [],
   "source": []
  },
  {
   "cell_type": "code",
   "execution_count": null,
   "id": "a9173b00",
   "metadata": {},
   "outputs": [],
   "source": []
  },
  {
   "cell_type": "markdown",
   "id": "d71ea792",
   "metadata": {},
   "source": [
    "### 여기부터 경찰관서"
   ]
  },
  {
   "cell_type": "code",
   "execution_count": null,
   "id": "0d76fdd7",
   "metadata": {
    "scrolled": false
   },
   "outputs": [],
   "source": [
    "police112.head()"
   ]
  },
  {
   "cell_type": "code",
   "execution_count": null,
   "id": "9cfc58a2",
   "metadata": {
    "scrolled": true
   },
   "outputs": [],
   "source": [
    "police112_addr = []\n",
    "for i in police112['주소']:\n",
    "    police112_addr.append(str(i).split(\" \"))"
   ]
  },
  {
   "cell_type": "code",
   "execution_count": null,
   "id": "906f7c02",
   "metadata": {},
   "outputs": [],
   "source": [
    "police112_addr"
   ]
  },
  {
   "cell_type": "code",
   "execution_count": null,
   "id": "207a32dc",
   "metadata": {},
   "outputs": [],
   "source": [
    "police112_addr_repl = []\n",
    "for i in range(len(police112_addr)):\n",
    "    for j in range(len(li)):\n",
    "        if police112_addr[i][0][0] == li[j][0]:\n",
    "            if police112_addr[i][0][1] == li[j][1]:\n",
    "                police112_addr[i][0] = li[j]\n",
    "            elif police112_addr[i][0][1] == li[j][2]:\n",
    "                police112_addr[i][0] = li[j]\n",
    "                break\n",
    "    police112_addr_repl.append(' '.join(police112_addr[i]))\n",
    "police112_addr_repl"
   ]
  },
  {
   "cell_type": "code",
   "execution_count": null,
   "id": "335c21e5",
   "metadata": {
    "scrolled": true
   },
   "outputs": [],
   "source": [
    "police112['주소(정)'] = pd.DataFrame(police112_addr_repl)"
   ]
  },
  {
   "cell_type": "code",
   "execution_count": null,
   "id": "867de5a3",
   "metadata": {
    "scrolled": true
   },
   "outputs": [],
   "source": [
    "police112.head()"
   ]
  },
  {
   "cell_type": "code",
   "execution_count": null,
   "id": "1b2ebfe5",
   "metadata": {},
   "outputs": [],
   "source": [
    "police112.to_csv('police112.csv', encoding='cp949', index=False)"
   ]
  }
 ],
 "metadata": {
  "kernelspec": {
   "display_name": "Python 3",
   "language": "python",
   "name": "python3"
  },
  "language_info": {
   "codemirror_mode": {
    "name": "ipython",
    "version": 3
   },
   "file_extension": ".py",
   "mimetype": "text/x-python",
   "name": "python",
   "nbconvert_exporter": "python",
   "pygments_lexer": "ipython3",
   "version": "3.8.8"
  }
 },
 "nbformat": 4,
 "nbformat_minor": 5
}
