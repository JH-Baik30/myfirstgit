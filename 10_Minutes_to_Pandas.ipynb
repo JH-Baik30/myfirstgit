{
 "cells": [
  {
   "cell_type": "markdown",
   "id": "f7d16df6",
   "metadata": {},
   "source": [
    "# [Pandas 10분 완성](https://dataitgirls2.github.io/10minutes2pandas/)"
   ]
  },
  {
   "cell_type": "code",
   "execution_count": 3,
   "id": "94e0976c",
   "metadata": {},
   "outputs": [],
   "source": [
    "import pandas as pd\n",
    "import numpy as np\n",
    "import matplotlib.pyplot as plt"
   ]
  },
  {
   "cell_type": "markdown",
   "id": "430b25ef",
   "metadata": {},
   "source": [
    "# 1. Object Creation (객체 생성)\n",
    "* [데이터 구조 소개 섹션](https://pandas.pydata.org/pandas-docs/stable/user_guide/dsintro.html) 을 참조\n",
    "* Pandas는 값을 가지고 있는 리스트를 통해 Series를 만들고, 정수로 만들어진 인덱스를 기본값으로 불러올 것입니다."
   ]
  },
  {
   "cell_type": "code",
   "execution_count": 4,
   "id": "5896fe6e",
   "metadata": {
    "scrolled": true
   },
   "outputs": [
    {
     "data": {
      "text/plain": [
       "0    1.0\n",
       "1    3.0\n",
       "2    5.0\n",
       "3    NaN\n",
       "4    6.0\n",
       "5    8.0\n",
       "dtype: float64"
      ]
     },
     "execution_count": 4,
     "metadata": {},
     "output_type": "execute_result"
    }
   ],
   "source": [
    "s = pd.Series([1, 3, 5,np.nan, 6, 8])\n",
    "s"
   ]
  },
  {
   "cell_type": "markdown",
   "id": "b8240ac0",
   "metadata": {},
   "source": [
    "* datetime 인덱스와 레이블이 있는 열을 가지고 있는 numpy 배열을 전달하여 데이터프레임을 만듭니다."
   ]
  },
  {
   "cell_type": "code",
   "execution_count": 5,
   "id": "ee3f0b08",
   "metadata": {},
   "outputs": [
    {
     "data": {
      "text/plain": [
       "DatetimeIndex(['2013-01-01', '2013-01-02', '2013-01-03', '2013-01-04',\n",
       "               '2013-01-05', '2013-01-06'],\n",
       "              dtype='datetime64[ns]', freq='D')"
      ]
     },
     "execution_count": 5,
     "metadata": {},
     "output_type": "execute_result"
    }
   ],
   "source": [
    "dates = pd.date_range('20130101', periods=6)\n",
    "dates"
   ]
  },
  {
   "cell_type": "code",
   "execution_count": 6,
   "id": "eb8d399a",
   "metadata": {},
   "outputs": [
    {
     "data": {
      "text/html": [
       "<div>\n",
       "<style scoped>\n",
       "    .dataframe tbody tr th:only-of-type {\n",
       "        vertical-align: middle;\n",
       "    }\n",
       "\n",
       "    .dataframe tbody tr th {\n",
       "        vertical-align: top;\n",
       "    }\n",
       "\n",
       "    .dataframe thead th {\n",
       "        text-align: right;\n",
       "    }\n",
       "</style>\n",
       "<table border=\"1\" class=\"dataframe\">\n",
       "  <thead>\n",
       "    <tr style=\"text-align: right;\">\n",
       "      <th></th>\n",
       "      <th>A</th>\n",
       "      <th>B</th>\n",
       "      <th>C</th>\n",
       "      <th>D</th>\n",
       "    </tr>\n",
       "  </thead>\n",
       "  <tbody>\n",
       "    <tr>\n",
       "      <th>2013-01-01</th>\n",
       "      <td>0.354597</td>\n",
       "      <td>-1.177537</td>\n",
       "      <td>1.044465</td>\n",
       "      <td>-0.827949</td>\n",
       "    </tr>\n",
       "    <tr>\n",
       "      <th>2013-01-02</th>\n",
       "      <td>0.044465</td>\n",
       "      <td>-0.196376</td>\n",
       "      <td>1.704628</td>\n",
       "      <td>-0.155759</td>\n",
       "    </tr>\n",
       "    <tr>\n",
       "      <th>2013-01-03</th>\n",
       "      <td>1.611715</td>\n",
       "      <td>0.570023</td>\n",
       "      <td>-0.695172</td>\n",
       "      <td>0.700136</td>\n",
       "    </tr>\n",
       "    <tr>\n",
       "      <th>2013-01-04</th>\n",
       "      <td>-0.520892</td>\n",
       "      <td>1.541614</td>\n",
       "      <td>-0.775921</td>\n",
       "      <td>-1.201509</td>\n",
       "    </tr>\n",
       "    <tr>\n",
       "      <th>2013-01-05</th>\n",
       "      <td>-2.102299</td>\n",
       "      <td>0.431392</td>\n",
       "      <td>0.185523</td>\n",
       "      <td>2.351049</td>\n",
       "    </tr>\n",
       "    <tr>\n",
       "      <th>2013-01-06</th>\n",
       "      <td>-0.071998</td>\n",
       "      <td>-1.685459</td>\n",
       "      <td>-0.482766</td>\n",
       "      <td>0.735897</td>\n",
       "    </tr>\n",
       "  </tbody>\n",
       "</table>\n",
       "</div>"
      ],
      "text/plain": [
       "                   A         B         C         D\n",
       "2013-01-01  0.354597 -1.177537  1.044465 -0.827949\n",
       "2013-01-02  0.044465 -0.196376  1.704628 -0.155759\n",
       "2013-01-03  1.611715  0.570023 -0.695172  0.700136\n",
       "2013-01-04 -0.520892  1.541614 -0.775921 -1.201509\n",
       "2013-01-05 -2.102299  0.431392  0.185523  2.351049\n",
       "2013-01-06 -0.071998 -1.685459 -0.482766  0.735897"
      ]
     },
     "execution_count": 6,
     "metadata": {},
     "output_type": "execute_result"
    }
   ],
   "source": [
    "df = pd.DataFrame(np.random.randn(6,4), index=dates, columns=list('ABCD'))\n",
    "df"
   ]
  },
  {
   "cell_type": "markdown",
   "id": "6da5f2e4",
   "metadata": {},
   "source": [
    "* Series와 같은 것으로 변환될 수 있는 객체들의 dict로 구성된 데이터프레임을 만듭니다."
   ]
  },
  {
   "cell_type": "code",
   "execution_count": 16,
   "id": "e21203a8",
   "metadata": {},
   "outputs": [
    {
     "data": {
      "text/html": [
       "<div>\n",
       "<style scoped>\n",
       "    .dataframe tbody tr th:only-of-type {\n",
       "        vertical-align: middle;\n",
       "    }\n",
       "\n",
       "    .dataframe tbody tr th {\n",
       "        vertical-align: top;\n",
       "    }\n",
       "\n",
       "    .dataframe thead th {\n",
       "        text-align: right;\n",
       "    }\n",
       "</style>\n",
       "<table border=\"1\" class=\"dataframe\">\n",
       "  <thead>\n",
       "    <tr style=\"text-align: right;\">\n",
       "      <th></th>\n",
       "      <th>A</th>\n",
       "      <th>B</th>\n",
       "      <th>C</th>\n",
       "      <th>D</th>\n",
       "      <th>E</th>\n",
       "      <th>F</th>\n",
       "    </tr>\n",
       "  </thead>\n",
       "  <tbody>\n",
       "    <tr>\n",
       "      <th>0</th>\n",
       "      <td>1.0</td>\n",
       "      <td>2013-01-02</td>\n",
       "      <td>1.0</td>\n",
       "      <td>3</td>\n",
       "      <td>test</td>\n",
       "      <td>foo</td>\n",
       "    </tr>\n",
       "    <tr>\n",
       "      <th>1</th>\n",
       "      <td>1.0</td>\n",
       "      <td>2013-01-02</td>\n",
       "      <td>1.0</td>\n",
       "      <td>3</td>\n",
       "      <td>train</td>\n",
       "      <td>foo</td>\n",
       "    </tr>\n",
       "    <tr>\n",
       "      <th>2</th>\n",
       "      <td>1.0</td>\n",
       "      <td>2013-01-02</td>\n",
       "      <td>1.0</td>\n",
       "      <td>3</td>\n",
       "      <td>test</td>\n",
       "      <td>foo</td>\n",
       "    </tr>\n",
       "    <tr>\n",
       "      <th>3</th>\n",
       "      <td>1.0</td>\n",
       "      <td>2013-01-02</td>\n",
       "      <td>1.0</td>\n",
       "      <td>3</td>\n",
       "      <td>train</td>\n",
       "      <td>foo</td>\n",
       "    </tr>\n",
       "  </tbody>\n",
       "</table>\n",
       "</div>"
      ],
      "text/plain": [
       "     A          B    C  D      E    F\n",
       "0  1.0 2013-01-02  1.0  3   test  foo\n",
       "1  1.0 2013-01-02  1.0  3  train  foo\n",
       "2  1.0 2013-01-02  1.0  3   test  foo\n",
       "3  1.0 2013-01-02  1.0  3  train  foo"
      ]
     },
     "execution_count": 16,
     "metadata": {},
     "output_type": "execute_result"
    }
   ],
   "source": [
    "df2 = pd.DataFrame({'A' : 1.,\n",
    "                    'B' : pd.Timestamp('20130102'),\n",
    "                    'C' : pd.Series(1, index=list(range(4)), dtype='float32'),\n",
    "                    'D' : np.array([3]  * 4, dtype='int32'),\n",
    "                    'E' : pd.Categorical(['test', 'train', 'test', 'train']),\n",
    "                    'F' : 'foo' })\n",
    "df2"
   ]
  },
  {
   "cell_type": "code",
   "execution_count": 25,
   "id": "2f28ad5e",
   "metadata": {},
   "outputs": [
    {
     "data": {
      "text/plain": [
       "A           float64\n",
       "B    datetime64[ns]\n",
       "C           float32\n",
       "D             int32\n",
       "E          category\n",
       "F            object\n",
       "dtype: object"
      ]
     },
     "execution_count": 25,
     "metadata": {},
     "output_type": "execute_result"
    }
   ],
   "source": [
    "df2.dtypes"
   ]
  },
  {
   "cell_type": "markdown",
   "id": "f8720545",
   "metadata": {},
   "source": [
    "# 2. Viewing Data (데이터 확인하기)\n",
    "* [Basic Section](https://pandas.pydata.org/pandas-docs/stable/user_guide/basics.html)을 참조"
   ]
  },
  {
   "cell_type": "code",
   "execution_count": 26,
   "id": "dfa6ffd7",
   "metadata": {},
   "outputs": [
    {
     "data": {
      "text/html": [
       "<div>\n",
       "<style scoped>\n",
       "    .dataframe tbody tr th:only-of-type {\n",
       "        vertical-align: middle;\n",
       "    }\n",
       "\n",
       "    .dataframe tbody tr th {\n",
       "        vertical-align: top;\n",
       "    }\n",
       "\n",
       "    .dataframe thead th {\n",
       "        text-align: right;\n",
       "    }\n",
       "</style>\n",
       "<table border=\"1\" class=\"dataframe\">\n",
       "  <thead>\n",
       "    <tr style=\"text-align: right;\">\n",
       "      <th></th>\n",
       "      <th>A</th>\n",
       "      <th>B</th>\n",
       "      <th>C</th>\n",
       "      <th>D</th>\n",
       "    </tr>\n",
       "  </thead>\n",
       "  <tbody>\n",
       "    <tr>\n",
       "      <th>2013-01-01</th>\n",
       "      <td>0.354597</td>\n",
       "      <td>-1.177537</td>\n",
       "      <td>1.044465</td>\n",
       "      <td>-0.827949</td>\n",
       "    </tr>\n",
       "    <tr>\n",
       "      <th>2013-01-02</th>\n",
       "      <td>0.044465</td>\n",
       "      <td>-0.196376</td>\n",
       "      <td>1.704628</td>\n",
       "      <td>-0.155759</td>\n",
       "    </tr>\n",
       "    <tr>\n",
       "      <th>2013-01-03</th>\n",
       "      <td>1.611715</td>\n",
       "      <td>0.570023</td>\n",
       "      <td>-0.695172</td>\n",
       "      <td>0.700136</td>\n",
       "    </tr>\n",
       "    <tr>\n",
       "      <th>2013-01-04</th>\n",
       "      <td>-0.520892</td>\n",
       "      <td>1.541614</td>\n",
       "      <td>-0.775921</td>\n",
       "      <td>-1.201509</td>\n",
       "    </tr>\n",
       "    <tr>\n",
       "      <th>2013-01-05</th>\n",
       "      <td>-2.102299</td>\n",
       "      <td>0.431392</td>\n",
       "      <td>0.185523</td>\n",
       "      <td>2.351049</td>\n",
       "    </tr>\n",
       "  </tbody>\n",
       "</table>\n",
       "</div>"
      ],
      "text/plain": [
       "                   A         B         C         D\n",
       "2013-01-01  0.354597 -1.177537  1.044465 -0.827949\n",
       "2013-01-02  0.044465 -0.196376  1.704628 -0.155759\n",
       "2013-01-03  1.611715  0.570023 -0.695172  0.700136\n",
       "2013-01-04 -0.520892  1.541614 -0.775921 -1.201509\n",
       "2013-01-05 -2.102299  0.431392  0.185523  2.351049"
      ]
     },
     "execution_count": 26,
     "metadata": {},
     "output_type": "execute_result"
    }
   ],
   "source": [
    "df.head()"
   ]
  },
  {
   "cell_type": "code",
   "execution_count": 27,
   "id": "266b46be",
   "metadata": {},
   "outputs": [
    {
     "data": {
      "text/html": [
       "<div>\n",
       "<style scoped>\n",
       "    .dataframe tbody tr th:only-of-type {\n",
       "        vertical-align: middle;\n",
       "    }\n",
       "\n",
       "    .dataframe tbody tr th {\n",
       "        vertical-align: top;\n",
       "    }\n",
       "\n",
       "    .dataframe thead th {\n",
       "        text-align: right;\n",
       "    }\n",
       "</style>\n",
       "<table border=\"1\" class=\"dataframe\">\n",
       "  <thead>\n",
       "    <tr style=\"text-align: right;\">\n",
       "      <th></th>\n",
       "      <th>A</th>\n",
       "      <th>B</th>\n",
       "      <th>C</th>\n",
       "      <th>D</th>\n",
       "    </tr>\n",
       "  </thead>\n",
       "  <tbody>\n",
       "    <tr>\n",
       "      <th>2013-01-02</th>\n",
       "      <td>0.044465</td>\n",
       "      <td>-0.196376</td>\n",
       "      <td>1.704628</td>\n",
       "      <td>-0.155759</td>\n",
       "    </tr>\n",
       "    <tr>\n",
       "      <th>2013-01-03</th>\n",
       "      <td>1.611715</td>\n",
       "      <td>0.570023</td>\n",
       "      <td>-0.695172</td>\n",
       "      <td>0.700136</td>\n",
       "    </tr>\n",
       "    <tr>\n",
       "      <th>2013-01-04</th>\n",
       "      <td>-0.520892</td>\n",
       "      <td>1.541614</td>\n",
       "      <td>-0.775921</td>\n",
       "      <td>-1.201509</td>\n",
       "    </tr>\n",
       "    <tr>\n",
       "      <th>2013-01-05</th>\n",
       "      <td>-2.102299</td>\n",
       "      <td>0.431392</td>\n",
       "      <td>0.185523</td>\n",
       "      <td>2.351049</td>\n",
       "    </tr>\n",
       "    <tr>\n",
       "      <th>2013-01-06</th>\n",
       "      <td>-0.071998</td>\n",
       "      <td>-1.685459</td>\n",
       "      <td>-0.482766</td>\n",
       "      <td>0.735897</td>\n",
       "    </tr>\n",
       "  </tbody>\n",
       "</table>\n",
       "</div>"
      ],
      "text/plain": [
       "                   A         B         C         D\n",
       "2013-01-02  0.044465 -0.196376  1.704628 -0.155759\n",
       "2013-01-03  1.611715  0.570023 -0.695172  0.700136\n",
       "2013-01-04 -0.520892  1.541614 -0.775921 -1.201509\n",
       "2013-01-05 -2.102299  0.431392  0.185523  2.351049\n",
       "2013-01-06 -0.071998 -1.685459 -0.482766  0.735897"
      ]
     },
     "execution_count": 27,
     "metadata": {},
     "output_type": "execute_result"
    }
   ],
   "source": [
    "df.tail()"
   ]
  },
  {
   "cell_type": "code",
   "execution_count": 28,
   "id": "7d208c38",
   "metadata": {},
   "outputs": [
    {
     "data": {
      "text/plain": [
       "DatetimeIndex(['2013-01-01', '2013-01-02', '2013-01-03', '2013-01-04',\n",
       "               '2013-01-05', '2013-01-06'],\n",
       "              dtype='datetime64[ns]', freq='D')"
      ]
     },
     "execution_count": 28,
     "metadata": {},
     "output_type": "execute_result"
    }
   ],
   "source": [
    "df.index"
   ]
  },
  {
   "cell_type": "code",
   "execution_count": 29,
   "id": "4737d220",
   "metadata": {},
   "outputs": [
    {
     "data": {
      "text/plain": [
       "Index(['A', 'B', 'C', 'D'], dtype='object')"
      ]
     },
     "execution_count": 29,
     "metadata": {},
     "output_type": "execute_result"
    }
   ],
   "source": [
    "df.columns"
   ]
  },
  {
   "cell_type": "code",
   "execution_count": 30,
   "id": "85d194f5",
   "metadata": {},
   "outputs": [
    {
     "data": {
      "text/plain": [
       "array([[ 0.35459675, -1.17753657,  1.04446507, -0.82794887],\n",
       "       [ 0.04446469, -0.19637628,  1.70462824, -0.15575855],\n",
       "       [ 1.6117154 ,  0.57002289, -0.69517247,  0.70013554],\n",
       "       [-0.5208921 ,  1.5416138 , -0.77592064, -1.2015088 ],\n",
       "       [-2.10229879,  0.4313924 ,  0.18552308,  2.35104924],\n",
       "       [-0.07199841, -1.68545871, -0.48276597,  0.73589686]])"
      ]
     },
     "execution_count": 30,
     "metadata": {},
     "output_type": "execute_result"
    }
   ],
   "source": [
    "df.values"
   ]
  },
  {
   "cell_type": "code",
   "execution_count": 31,
   "id": "cd738b88",
   "metadata": {},
   "outputs": [
    {
     "data": {
      "text/html": [
       "<div>\n",
       "<style scoped>\n",
       "    .dataframe tbody tr th:only-of-type {\n",
       "        vertical-align: middle;\n",
       "    }\n",
       "\n",
       "    .dataframe tbody tr th {\n",
       "        vertical-align: top;\n",
       "    }\n",
       "\n",
       "    .dataframe thead th {\n",
       "        text-align: right;\n",
       "    }\n",
       "</style>\n",
       "<table border=\"1\" class=\"dataframe\">\n",
       "  <thead>\n",
       "    <tr style=\"text-align: right;\">\n",
       "      <th></th>\n",
       "      <th>A</th>\n",
       "      <th>B</th>\n",
       "      <th>C</th>\n",
       "      <th>D</th>\n",
       "    </tr>\n",
       "  </thead>\n",
       "  <tbody>\n",
       "    <tr>\n",
       "      <th>count</th>\n",
       "      <td>6.000000</td>\n",
       "      <td>6.000000</td>\n",
       "      <td>6.000000</td>\n",
       "      <td>6.000000</td>\n",
       "    </tr>\n",
       "    <tr>\n",
       "      <th>mean</th>\n",
       "      <td>-0.114069</td>\n",
       "      <td>-0.086057</td>\n",
       "      <td>0.163460</td>\n",
       "      <td>0.266978</td>\n",
       "    </tr>\n",
       "    <tr>\n",
       "      <th>std</th>\n",
       "      <td>1.211895</td>\n",
       "      <td>1.192400</td>\n",
       "      <td>1.018739</td>\n",
       "      <td>1.287236</td>\n",
       "    </tr>\n",
       "    <tr>\n",
       "      <th>min</th>\n",
       "      <td>-2.102299</td>\n",
       "      <td>-1.685459</td>\n",
       "      <td>-0.775921</td>\n",
       "      <td>-1.201509</td>\n",
       "    </tr>\n",
       "    <tr>\n",
       "      <th>25%</th>\n",
       "      <td>-0.408669</td>\n",
       "      <td>-0.932247</td>\n",
       "      <td>-0.642071</td>\n",
       "      <td>-0.659901</td>\n",
       "    </tr>\n",
       "    <tr>\n",
       "      <th>50%</th>\n",
       "      <td>-0.013767</td>\n",
       "      <td>0.117508</td>\n",
       "      <td>-0.148621</td>\n",
       "      <td>0.272188</td>\n",
       "    </tr>\n",
       "    <tr>\n",
       "      <th>75%</th>\n",
       "      <td>0.277064</td>\n",
       "      <td>0.535365</td>\n",
       "      <td>0.829730</td>\n",
       "      <td>0.726957</td>\n",
       "    </tr>\n",
       "    <tr>\n",
       "      <th>max</th>\n",
       "      <td>1.611715</td>\n",
       "      <td>1.541614</td>\n",
       "      <td>1.704628</td>\n",
       "      <td>2.351049</td>\n",
       "    </tr>\n",
       "  </tbody>\n",
       "</table>\n",
       "</div>"
      ],
      "text/plain": [
       "              A         B         C         D\n",
       "count  6.000000  6.000000  6.000000  6.000000\n",
       "mean  -0.114069 -0.086057  0.163460  0.266978\n",
       "std    1.211895  1.192400  1.018739  1.287236\n",
       "min   -2.102299 -1.685459 -0.775921 -1.201509\n",
       "25%   -0.408669 -0.932247 -0.642071 -0.659901\n",
       "50%   -0.013767  0.117508 -0.148621  0.272188\n",
       "75%    0.277064  0.535365  0.829730  0.726957\n",
       "max    1.611715  1.541614  1.704628  2.351049"
      ]
     },
     "execution_count": 31,
     "metadata": {},
     "output_type": "execute_result"
    }
   ],
   "source": [
    "df.describe()"
   ]
  },
  {
   "cell_type": "markdown",
   "id": "c7c2e05d",
   "metadata": {},
   "source": [
    "* 행 과 열 전치."
   ]
  },
  {
   "cell_type": "code",
   "execution_count": 32,
   "id": "b1c07747",
   "metadata": {},
   "outputs": [
    {
     "data": {
      "text/html": [
       "<div>\n",
       "<style scoped>\n",
       "    .dataframe tbody tr th:only-of-type {\n",
       "        vertical-align: middle;\n",
       "    }\n",
       "\n",
       "    .dataframe tbody tr th {\n",
       "        vertical-align: top;\n",
       "    }\n",
       "\n",
       "    .dataframe thead th {\n",
       "        text-align: right;\n",
       "    }\n",
       "</style>\n",
       "<table border=\"1\" class=\"dataframe\">\n",
       "  <thead>\n",
       "    <tr style=\"text-align: right;\">\n",
       "      <th></th>\n",
       "      <th>2013-01-01</th>\n",
       "      <th>2013-01-02</th>\n",
       "      <th>2013-01-03</th>\n",
       "      <th>2013-01-04</th>\n",
       "      <th>2013-01-05</th>\n",
       "      <th>2013-01-06</th>\n",
       "    </tr>\n",
       "  </thead>\n",
       "  <tbody>\n",
       "    <tr>\n",
       "      <th>A</th>\n",
       "      <td>0.354597</td>\n",
       "      <td>0.044465</td>\n",
       "      <td>1.611715</td>\n",
       "      <td>-0.520892</td>\n",
       "      <td>-2.102299</td>\n",
       "      <td>-0.071998</td>\n",
       "    </tr>\n",
       "    <tr>\n",
       "      <th>B</th>\n",
       "      <td>-1.177537</td>\n",
       "      <td>-0.196376</td>\n",
       "      <td>0.570023</td>\n",
       "      <td>1.541614</td>\n",
       "      <td>0.431392</td>\n",
       "      <td>-1.685459</td>\n",
       "    </tr>\n",
       "    <tr>\n",
       "      <th>C</th>\n",
       "      <td>1.044465</td>\n",
       "      <td>1.704628</td>\n",
       "      <td>-0.695172</td>\n",
       "      <td>-0.775921</td>\n",
       "      <td>0.185523</td>\n",
       "      <td>-0.482766</td>\n",
       "    </tr>\n",
       "    <tr>\n",
       "      <th>D</th>\n",
       "      <td>-0.827949</td>\n",
       "      <td>-0.155759</td>\n",
       "      <td>0.700136</td>\n",
       "      <td>-1.201509</td>\n",
       "      <td>2.351049</td>\n",
       "      <td>0.735897</td>\n",
       "    </tr>\n",
       "  </tbody>\n",
       "</table>\n",
       "</div>"
      ],
      "text/plain": [
       "   2013-01-01  2013-01-02  2013-01-03  2013-01-04  2013-01-05  2013-01-06\n",
       "A    0.354597    0.044465    1.611715   -0.520892   -2.102299   -0.071998\n",
       "B   -1.177537   -0.196376    0.570023    1.541614    0.431392   -1.685459\n",
       "C    1.044465    1.704628   -0.695172   -0.775921    0.185523   -0.482766\n",
       "D   -0.827949   -0.155759    0.700136   -1.201509    2.351049    0.735897"
      ]
     },
     "execution_count": 32,
     "metadata": {},
     "output_type": "execute_result"
    }
   ],
   "source": [
    "df.T"
   ]
  },
  {
   "cell_type": "markdown",
   "id": "68b91c3e",
   "metadata": {},
   "source": [
    "* 축 별 정렬"
   ]
  },
  {
   "cell_type": "code",
   "execution_count": 47,
   "id": "d8b713ce",
   "metadata": {},
   "outputs": [
    {
     "data": {
      "text/html": [
       "<div>\n",
       "<style scoped>\n",
       "    .dataframe tbody tr th:only-of-type {\n",
       "        vertical-align: middle;\n",
       "    }\n",
       "\n",
       "    .dataframe tbody tr th {\n",
       "        vertical-align: top;\n",
       "    }\n",
       "\n",
       "    .dataframe thead th {\n",
       "        text-align: right;\n",
       "    }\n",
       "</style>\n",
       "<table border=\"1\" class=\"dataframe\">\n",
       "  <thead>\n",
       "    <tr style=\"text-align: right;\">\n",
       "      <th></th>\n",
       "      <th>D</th>\n",
       "      <th>C</th>\n",
       "      <th>B</th>\n",
       "      <th>A</th>\n",
       "    </tr>\n",
       "  </thead>\n",
       "  <tbody>\n",
       "    <tr>\n",
       "      <th>2013-01-01</th>\n",
       "      <td>-0.827949</td>\n",
       "      <td>1.044465</td>\n",
       "      <td>-1.177537</td>\n",
       "      <td>0.354597</td>\n",
       "    </tr>\n",
       "    <tr>\n",
       "      <th>2013-01-02</th>\n",
       "      <td>-0.155759</td>\n",
       "      <td>1.704628</td>\n",
       "      <td>-0.196376</td>\n",
       "      <td>0.044465</td>\n",
       "    </tr>\n",
       "    <tr>\n",
       "      <th>2013-01-03</th>\n",
       "      <td>0.700136</td>\n",
       "      <td>-0.695172</td>\n",
       "      <td>0.570023</td>\n",
       "      <td>1.611715</td>\n",
       "    </tr>\n",
       "    <tr>\n",
       "      <th>2013-01-04</th>\n",
       "      <td>-1.201509</td>\n",
       "      <td>-0.775921</td>\n",
       "      <td>1.541614</td>\n",
       "      <td>-0.520892</td>\n",
       "    </tr>\n",
       "    <tr>\n",
       "      <th>2013-01-05</th>\n",
       "      <td>2.351049</td>\n",
       "      <td>0.185523</td>\n",
       "      <td>0.431392</td>\n",
       "      <td>-2.102299</td>\n",
       "    </tr>\n",
       "    <tr>\n",
       "      <th>2013-01-06</th>\n",
       "      <td>0.735897</td>\n",
       "      <td>-0.482766</td>\n",
       "      <td>-1.685459</td>\n",
       "      <td>-0.071998</td>\n",
       "    </tr>\n",
       "  </tbody>\n",
       "</table>\n",
       "</div>"
      ],
      "text/plain": [
       "                   D         C         B         A\n",
       "2013-01-01 -0.827949  1.044465 -1.177537  0.354597\n",
       "2013-01-02 -0.155759  1.704628 -0.196376  0.044465\n",
       "2013-01-03  0.700136 -0.695172  0.570023  1.611715\n",
       "2013-01-04 -1.201509 -0.775921  1.541614 -0.520892\n",
       "2013-01-05  2.351049  0.185523  0.431392 -2.102299\n",
       "2013-01-06  0.735897 -0.482766 -1.685459 -0.071998"
      ]
     },
     "execution_count": 47,
     "metadata": {},
     "output_type": "execute_result"
    }
   ],
   "source": [
    "df.sort_index(axis=1, ascending=False)"
   ]
  },
  {
   "cell_type": "markdown",
   "id": "6b087637",
   "metadata": {},
   "source": [
    "* 값 별 정렬"
   ]
  },
  {
   "cell_type": "code",
   "execution_count": 46,
   "id": "fddd16b9",
   "metadata": {},
   "outputs": [
    {
     "data": {
      "text/html": [
       "<div>\n",
       "<style scoped>\n",
       "    .dataframe tbody tr th:only-of-type {\n",
       "        vertical-align: middle;\n",
       "    }\n",
       "\n",
       "    .dataframe tbody tr th {\n",
       "        vertical-align: top;\n",
       "    }\n",
       "\n",
       "    .dataframe thead th {\n",
       "        text-align: right;\n",
       "    }\n",
       "</style>\n",
       "<table border=\"1\" class=\"dataframe\">\n",
       "  <thead>\n",
       "    <tr style=\"text-align: right;\">\n",
       "      <th></th>\n",
       "      <th>A</th>\n",
       "      <th>B</th>\n",
       "      <th>C</th>\n",
       "      <th>D</th>\n",
       "    </tr>\n",
       "  </thead>\n",
       "  <tbody>\n",
       "    <tr>\n",
       "      <th>2013-01-06</th>\n",
       "      <td>-0.071998</td>\n",
       "      <td>-1.685459</td>\n",
       "      <td>-0.482766</td>\n",
       "      <td>0.735897</td>\n",
       "    </tr>\n",
       "    <tr>\n",
       "      <th>2013-01-01</th>\n",
       "      <td>0.354597</td>\n",
       "      <td>-1.177537</td>\n",
       "      <td>1.044465</td>\n",
       "      <td>-0.827949</td>\n",
       "    </tr>\n",
       "    <tr>\n",
       "      <th>2013-01-02</th>\n",
       "      <td>0.044465</td>\n",
       "      <td>-0.196376</td>\n",
       "      <td>1.704628</td>\n",
       "      <td>-0.155759</td>\n",
       "    </tr>\n",
       "    <tr>\n",
       "      <th>2013-01-05</th>\n",
       "      <td>-2.102299</td>\n",
       "      <td>0.431392</td>\n",
       "      <td>0.185523</td>\n",
       "      <td>2.351049</td>\n",
       "    </tr>\n",
       "    <tr>\n",
       "      <th>2013-01-03</th>\n",
       "      <td>1.611715</td>\n",
       "      <td>0.570023</td>\n",
       "      <td>-0.695172</td>\n",
       "      <td>0.700136</td>\n",
       "    </tr>\n",
       "    <tr>\n",
       "      <th>2013-01-04</th>\n",
       "      <td>-0.520892</td>\n",
       "      <td>1.541614</td>\n",
       "      <td>-0.775921</td>\n",
       "      <td>-1.201509</td>\n",
       "    </tr>\n",
       "  </tbody>\n",
       "</table>\n",
       "</div>"
      ],
      "text/plain": [
       "                   A         B         C         D\n",
       "2013-01-06 -0.071998 -1.685459 -0.482766  0.735897\n",
       "2013-01-01  0.354597 -1.177537  1.044465 -0.827949\n",
       "2013-01-02  0.044465 -0.196376  1.704628 -0.155759\n",
       "2013-01-05 -2.102299  0.431392  0.185523  2.351049\n",
       "2013-01-03  1.611715  0.570023 -0.695172  0.700136\n",
       "2013-01-04 -0.520892  1.541614 -0.775921 -1.201509"
      ]
     },
     "execution_count": 46,
     "metadata": {},
     "output_type": "execute_result"
    }
   ],
   "source": [
    "df.sort_values(by='B')"
   ]
  },
  {
   "cell_type": "markdown",
   "id": "001b23a6",
   "metadata": {},
   "source": [
    "# 3. Selection (선택)\n",
    "* 주석 (Note) : 선택과 설정을 위한 Python / Numpy의 표준화된 표현들이 직관적이며, 코드 작성을 위한 양방향 작업에 유용하지만 우리는 Pandas에 최적화된 데이터 접근 방법인 .at, .iat, .loc 및 .iloc 을 추천합니다.\n",
    "\n",
    "* [데이터 인덱싱 및 선택](https://pandas.pydata.org/pandas-docs/stable/user_guide/indexing.html) 문서와 [다중 인덱싱 / 심화 인덱싱 문서](https://pandas.pydata.org/pandas-docs/stable/user_guide/advanced.html)를 참조하세요."
   ]
  },
  {
   "cell_type": "markdown",
   "id": "c634bef8",
   "metadata": {},
   "source": [
    "### Getting (데이터 얻기)\n",
    "* df.A 와 동일한 Series를 생성하는 단일 열을 선택합니다."
   ]
  },
  {
   "cell_type": "code",
   "execution_count": 48,
   "id": "945c928e",
   "metadata": {},
   "outputs": [
    {
     "data": {
      "text/plain": [
       "2013-01-01    0.354597\n",
       "2013-01-02    0.044465\n",
       "2013-01-03    1.611715\n",
       "2013-01-04   -0.520892\n",
       "2013-01-05   -2.102299\n",
       "2013-01-06   -0.071998\n",
       "Freq: D, Name: A, dtype: float64"
      ]
     },
     "execution_count": 48,
     "metadata": {},
     "output_type": "execute_result"
    }
   ],
   "source": [
    "df['A']"
   ]
  },
  {
   "cell_type": "markdown",
   "id": "5fb969d9",
   "metadata": {},
   "source": [
    "* 행을 분할하는 [ ]를 통해 선택합니다."
   ]
  },
  {
   "cell_type": "code",
   "execution_count": 49,
   "id": "de32718e",
   "metadata": {},
   "outputs": [
    {
     "data": {
      "text/html": [
       "<div>\n",
       "<style scoped>\n",
       "    .dataframe tbody tr th:only-of-type {\n",
       "        vertical-align: middle;\n",
       "    }\n",
       "\n",
       "    .dataframe tbody tr th {\n",
       "        vertical-align: top;\n",
       "    }\n",
       "\n",
       "    .dataframe thead th {\n",
       "        text-align: right;\n",
       "    }\n",
       "</style>\n",
       "<table border=\"1\" class=\"dataframe\">\n",
       "  <thead>\n",
       "    <tr style=\"text-align: right;\">\n",
       "      <th></th>\n",
       "      <th>A</th>\n",
       "      <th>B</th>\n",
       "      <th>C</th>\n",
       "      <th>D</th>\n",
       "    </tr>\n",
       "  </thead>\n",
       "  <tbody>\n",
       "    <tr>\n",
       "      <th>2013-01-01</th>\n",
       "      <td>0.354597</td>\n",
       "      <td>-1.177537</td>\n",
       "      <td>1.044465</td>\n",
       "      <td>-0.827949</td>\n",
       "    </tr>\n",
       "    <tr>\n",
       "      <th>2013-01-02</th>\n",
       "      <td>0.044465</td>\n",
       "      <td>-0.196376</td>\n",
       "      <td>1.704628</td>\n",
       "      <td>-0.155759</td>\n",
       "    </tr>\n",
       "    <tr>\n",
       "      <th>2013-01-03</th>\n",
       "      <td>1.611715</td>\n",
       "      <td>0.570023</td>\n",
       "      <td>-0.695172</td>\n",
       "      <td>0.700136</td>\n",
       "    </tr>\n",
       "  </tbody>\n",
       "</table>\n",
       "</div>"
      ],
      "text/plain": [
       "                   A         B         C         D\n",
       "2013-01-01  0.354597 -1.177537  1.044465 -0.827949\n",
       "2013-01-02  0.044465 -0.196376  1.704628 -0.155759\n",
       "2013-01-03  1.611715  0.570023 -0.695172  0.700136"
      ]
     },
     "execution_count": 49,
     "metadata": {},
     "output_type": "execute_result"
    }
   ],
   "source": [
    "df[0:3]"
   ]
  },
  {
   "cell_type": "code",
   "execution_count": 50,
   "id": "e4f8a542",
   "metadata": {},
   "outputs": [
    {
     "data": {
      "text/html": [
       "<div>\n",
       "<style scoped>\n",
       "    .dataframe tbody tr th:only-of-type {\n",
       "        vertical-align: middle;\n",
       "    }\n",
       "\n",
       "    .dataframe tbody tr th {\n",
       "        vertical-align: top;\n",
       "    }\n",
       "\n",
       "    .dataframe thead th {\n",
       "        text-align: right;\n",
       "    }\n",
       "</style>\n",
       "<table border=\"1\" class=\"dataframe\">\n",
       "  <thead>\n",
       "    <tr style=\"text-align: right;\">\n",
       "      <th></th>\n",
       "      <th>A</th>\n",
       "      <th>B</th>\n",
       "      <th>C</th>\n",
       "      <th>D</th>\n",
       "    </tr>\n",
       "  </thead>\n",
       "  <tbody>\n",
       "    <tr>\n",
       "      <th>2013-01-02</th>\n",
       "      <td>0.044465</td>\n",
       "      <td>-0.196376</td>\n",
       "      <td>1.704628</td>\n",
       "      <td>-0.155759</td>\n",
       "    </tr>\n",
       "    <tr>\n",
       "      <th>2013-01-03</th>\n",
       "      <td>1.611715</td>\n",
       "      <td>0.570023</td>\n",
       "      <td>-0.695172</td>\n",
       "      <td>0.700136</td>\n",
       "    </tr>\n",
       "    <tr>\n",
       "      <th>2013-01-04</th>\n",
       "      <td>-0.520892</td>\n",
       "      <td>1.541614</td>\n",
       "      <td>-0.775921</td>\n",
       "      <td>-1.201509</td>\n",
       "    </tr>\n",
       "  </tbody>\n",
       "</table>\n",
       "</div>"
      ],
      "text/plain": [
       "                   A         B         C         D\n",
       "2013-01-02  0.044465 -0.196376  1.704628 -0.155759\n",
       "2013-01-03  1.611715  0.570023 -0.695172  0.700136\n",
       "2013-01-04 -0.520892  1.541614 -0.775921 -1.201509"
      ]
     },
     "execution_count": 50,
     "metadata": {},
     "output_type": "execute_result"
    }
   ],
   "source": [
    "df['20130102':'20130104']"
   ]
  },
  {
   "cell_type": "markdown",
   "id": "23bb6ce8",
   "metadata": {},
   "source": [
    "### Selection by Label (Label 을 통한 선택)\n",
    "* [Label을 통한 선택](https://pandas.pydata.org/pandas-docs/stable/user_guide/indexing.html)에서 더 많은 내용을 확인하세요."
   ]
  },
  {
   "cell_type": "markdown",
   "id": "7b04a388",
   "metadata": {},
   "source": [
    "* 라벨을 사용하여 횡단면을 얻습니다."
   ]
  },
  {
   "cell_type": "code",
   "execution_count": 51,
   "id": "f269abd8",
   "metadata": {},
   "outputs": [
    {
     "data": {
      "text/plain": [
       "A    0.354597\n",
       "B   -1.177537\n",
       "C    1.044465\n",
       "D   -0.827949\n",
       "Name: 2013-01-01 00:00:00, dtype: float64"
      ]
     },
     "execution_count": 51,
     "metadata": {},
     "output_type": "execute_result"
    }
   ],
   "source": [
    "df.loc[dates[0]]"
   ]
  },
  {
   "cell_type": "markdown",
   "id": "995aea0c",
   "metadata": {},
   "source": [
    "* 라벨을 사용하여 여러 축(의 데이터)를 얻습니다."
   ]
  },
  {
   "cell_type": "code",
   "execution_count": 52,
   "id": "42b36a2f",
   "metadata": {},
   "outputs": [
    {
     "data": {
      "text/html": [
       "<div>\n",
       "<style scoped>\n",
       "    .dataframe tbody tr th:only-of-type {\n",
       "        vertical-align: middle;\n",
       "    }\n",
       "\n",
       "    .dataframe tbody tr th {\n",
       "        vertical-align: top;\n",
       "    }\n",
       "\n",
       "    .dataframe thead th {\n",
       "        text-align: right;\n",
       "    }\n",
       "</style>\n",
       "<table border=\"1\" class=\"dataframe\">\n",
       "  <thead>\n",
       "    <tr style=\"text-align: right;\">\n",
       "      <th></th>\n",
       "      <th>A</th>\n",
       "      <th>B</th>\n",
       "    </tr>\n",
       "  </thead>\n",
       "  <tbody>\n",
       "    <tr>\n",
       "      <th>2013-01-01</th>\n",
       "      <td>0.354597</td>\n",
       "      <td>-1.177537</td>\n",
       "    </tr>\n",
       "    <tr>\n",
       "      <th>2013-01-02</th>\n",
       "      <td>0.044465</td>\n",
       "      <td>-0.196376</td>\n",
       "    </tr>\n",
       "    <tr>\n",
       "      <th>2013-01-03</th>\n",
       "      <td>1.611715</td>\n",
       "      <td>0.570023</td>\n",
       "    </tr>\n",
       "    <tr>\n",
       "      <th>2013-01-04</th>\n",
       "      <td>-0.520892</td>\n",
       "      <td>1.541614</td>\n",
       "    </tr>\n",
       "    <tr>\n",
       "      <th>2013-01-05</th>\n",
       "      <td>-2.102299</td>\n",
       "      <td>0.431392</td>\n",
       "    </tr>\n",
       "    <tr>\n",
       "      <th>2013-01-06</th>\n",
       "      <td>-0.071998</td>\n",
       "      <td>-1.685459</td>\n",
       "    </tr>\n",
       "  </tbody>\n",
       "</table>\n",
       "</div>"
      ],
      "text/plain": [
       "                   A         B\n",
       "2013-01-01  0.354597 -1.177537\n",
       "2013-01-02  0.044465 -0.196376\n",
       "2013-01-03  1.611715  0.570023\n",
       "2013-01-04 -0.520892  1.541614\n",
       "2013-01-05 -2.102299  0.431392\n",
       "2013-01-06 -0.071998 -1.685459"
      ]
     },
     "execution_count": 52,
     "metadata": {},
     "output_type": "execute_result"
    }
   ],
   "source": [
    "df.loc[:, ['A', 'B']]"
   ]
  },
  {
   "cell_type": "markdown",
   "id": "f7c0bdaa",
   "metadata": {},
   "source": [
    "* 양쪽 종단점을 포함한 라벨 슬라이싱을 봅니다. (code 2줄은 같은 값 출력)"
   ]
  },
  {
   "cell_type": "code",
   "execution_count": 54,
   "id": "729a9f3b",
   "metadata": {},
   "outputs": [
    {
     "data": {
      "text/html": [
       "<div>\n",
       "<style scoped>\n",
       "    .dataframe tbody tr th:only-of-type {\n",
       "        vertical-align: middle;\n",
       "    }\n",
       "\n",
       "    .dataframe tbody tr th {\n",
       "        vertical-align: top;\n",
       "    }\n",
       "\n",
       "    .dataframe thead th {\n",
       "        text-align: right;\n",
       "    }\n",
       "</style>\n",
       "<table border=\"1\" class=\"dataframe\">\n",
       "  <thead>\n",
       "    <tr style=\"text-align: right;\">\n",
       "      <th></th>\n",
       "      <th>A</th>\n",
       "      <th>B</th>\n",
       "    </tr>\n",
       "  </thead>\n",
       "  <tbody>\n",
       "    <tr>\n",
       "      <th>2013-01-02</th>\n",
       "      <td>0.044465</td>\n",
       "      <td>-0.196376</td>\n",
       "    </tr>\n",
       "    <tr>\n",
       "      <th>2013-01-03</th>\n",
       "      <td>1.611715</td>\n",
       "      <td>0.570023</td>\n",
       "    </tr>\n",
       "    <tr>\n",
       "      <th>2013-01-04</th>\n",
       "      <td>-0.520892</td>\n",
       "      <td>1.541614</td>\n",
       "    </tr>\n",
       "  </tbody>\n",
       "</table>\n",
       "</div>"
      ],
      "text/plain": [
       "                   A         B\n",
       "2013-01-02  0.044465 -0.196376\n",
       "2013-01-03  1.611715  0.570023\n",
       "2013-01-04 -0.520892  1.541614"
      ]
     },
     "execution_count": 54,
     "metadata": {},
     "output_type": "execute_result"
    }
   ],
   "source": [
    "df.loc['20130102' : '20130104', ['A', 'B']]\n",
    "# df.loc['20130102' : '20130104', 'A' : 'B']"
   ]
  },
  {
   "cell_type": "markdown",
   "id": "1c6740bd",
   "metadata": {},
   "source": [
    "* 반환되는 객체의 차원를 줄입니다."
   ]
  },
  {
   "cell_type": "code",
   "execution_count": 55,
   "id": "496d4625",
   "metadata": {},
   "outputs": [
    {
     "data": {
      "text/plain": [
       "A    0.044465\n",
       "B   -0.196376\n",
       "Name: 2013-01-02 00:00:00, dtype: float64"
      ]
     },
     "execution_count": 55,
     "metadata": {},
     "output_type": "execute_result"
    }
   ],
   "source": [
    "df.loc['20130102',['A','B']]"
   ]
  },
  {
   "cell_type": "markdown",
   "id": "e9019305",
   "metadata": {},
   "source": [
    "* 스칼라 값을 얻습니다."
   ]
  },
  {
   "cell_type": "code",
   "execution_count": 56,
   "id": "bcadc591",
   "metadata": {},
   "outputs": [
    {
     "data": {
      "text/plain": [
       "0.35459675136496255"
      ]
     },
     "execution_count": 56,
     "metadata": {},
     "output_type": "execute_result"
    }
   ],
   "source": [
    "df.loc[dates[0],'A']"
   ]
  },
  {
   "cell_type": "markdown",
   "id": "8e176b18",
   "metadata": {},
   "source": [
    "* 스칼라 값을 더 빠르게 구하는 방법입니다 (앞선 메소드와 동일합니다)."
   ]
  },
  {
   "cell_type": "code",
   "execution_count": 57,
   "id": "592c693e",
   "metadata": {},
   "outputs": [
    {
     "data": {
      "text/plain": [
       "0.35459675136496255"
      ]
     },
     "execution_count": 57,
     "metadata": {},
     "output_type": "execute_result"
    }
   ],
   "source": [
    "df.at[dates[0], 'A']"
   ]
  },
  {
   "cell_type": "markdown",
   "id": "08a7af8f",
   "metadata": {},
   "source": [
    "### Selection by Position (위치로 선택하기)\n",
    "* 자세한 내용은 [위치로 선택하기](https://pandas.pydata.org/pandas-docs/stable/user_guide/indexing.html)를 참고"
   ]
  },
  {
   "cell_type": "markdown",
   "id": "798b4f88",
   "metadata": {},
   "source": [
    "* 넘겨받은 정수의 위치를 기준으로 선택"
   ]
  },
  {
   "cell_type": "code",
   "execution_count": 58,
   "id": "52182fff",
   "metadata": {},
   "outputs": [
    {
     "data": {
      "text/plain": [
       "A   -0.520892\n",
       "B    1.541614\n",
       "C   -0.775921\n",
       "D   -1.201509\n",
       "Name: 2013-01-04 00:00:00, dtype: float64"
      ]
     },
     "execution_count": 58,
     "metadata": {},
     "output_type": "execute_result"
    }
   ],
   "source": [
    "df.iloc[3]"
   ]
  },
  {
   "cell_type": "markdown",
   "id": "78ebc5fe",
   "metadata": {},
   "source": [
    "* 정수로 표기된 슬라이스들을 통해, numpy / python과 유사하게 작동합니다."
   ]
  },
  {
   "cell_type": "code",
   "execution_count": 60,
   "id": "150fd6b6",
   "metadata": {},
   "outputs": [
    {
     "data": {
      "text/html": [
       "<div>\n",
       "<style scoped>\n",
       "    .dataframe tbody tr th:only-of-type {\n",
       "        vertical-align: middle;\n",
       "    }\n",
       "\n",
       "    .dataframe tbody tr th {\n",
       "        vertical-align: top;\n",
       "    }\n",
       "\n",
       "    .dataframe thead th {\n",
       "        text-align: right;\n",
       "    }\n",
       "</style>\n",
       "<table border=\"1\" class=\"dataframe\">\n",
       "  <thead>\n",
       "    <tr style=\"text-align: right;\">\n",
       "      <th></th>\n",
       "      <th>A</th>\n",
       "      <th>B</th>\n",
       "    </tr>\n",
       "  </thead>\n",
       "  <tbody>\n",
       "    <tr>\n",
       "      <th>2013-01-04</th>\n",
       "      <td>-0.520892</td>\n",
       "      <td>1.541614</td>\n",
       "    </tr>\n",
       "    <tr>\n",
       "      <th>2013-01-05</th>\n",
       "      <td>-2.102299</td>\n",
       "      <td>0.431392</td>\n",
       "    </tr>\n",
       "  </tbody>\n",
       "</table>\n",
       "</div>"
      ],
      "text/plain": [
       "                   A         B\n",
       "2013-01-04 -0.520892  1.541614\n",
       "2013-01-05 -2.102299  0.431392"
      ]
     },
     "execution_count": 60,
     "metadata": {},
     "output_type": "execute_result"
    }
   ],
   "source": [
    "df.iloc[3:5,0:2]"
   ]
  },
  {
   "cell_type": "markdown",
   "id": "2d5aec21",
   "metadata": {},
   "source": [
    "* 정수로 표기된 위치값의 리스트들을 통해, numpy / python의 스타일과 유사해집니다."
   ]
  },
  {
   "cell_type": "code",
   "execution_count": 61,
   "id": "3e2a2afd",
   "metadata": {},
   "outputs": [
    {
     "data": {
      "text/html": [
       "<div>\n",
       "<style scoped>\n",
       "    .dataframe tbody tr th:only-of-type {\n",
       "        vertical-align: middle;\n",
       "    }\n",
       "\n",
       "    .dataframe tbody tr th {\n",
       "        vertical-align: top;\n",
       "    }\n",
       "\n",
       "    .dataframe thead th {\n",
       "        text-align: right;\n",
       "    }\n",
       "</style>\n",
       "<table border=\"1\" class=\"dataframe\">\n",
       "  <thead>\n",
       "    <tr style=\"text-align: right;\">\n",
       "      <th></th>\n",
       "      <th>A</th>\n",
       "      <th>C</th>\n",
       "    </tr>\n",
       "  </thead>\n",
       "  <tbody>\n",
       "    <tr>\n",
       "      <th>2013-01-02</th>\n",
       "      <td>0.044465</td>\n",
       "      <td>1.704628</td>\n",
       "    </tr>\n",
       "    <tr>\n",
       "      <th>2013-01-03</th>\n",
       "      <td>1.611715</td>\n",
       "      <td>-0.695172</td>\n",
       "    </tr>\n",
       "    <tr>\n",
       "      <th>2013-01-05</th>\n",
       "      <td>-2.102299</td>\n",
       "      <td>0.185523</td>\n",
       "    </tr>\n",
       "  </tbody>\n",
       "</table>\n",
       "</div>"
      ],
      "text/plain": [
       "                   A         C\n",
       "2013-01-02  0.044465  1.704628\n",
       "2013-01-03  1.611715 -0.695172\n",
       "2013-01-05 -2.102299  0.185523"
      ]
     },
     "execution_count": 61,
     "metadata": {},
     "output_type": "execute_result"
    }
   ],
   "source": [
    "df.iloc[[1,2,4],[0,2]]"
   ]
  },
  {
   "cell_type": "markdown",
   "id": "2b8165cc",
   "metadata": {},
   "source": [
    "* 명시적으로 행을 나누고자 하는 경우입니다."
   ]
  },
  {
   "cell_type": "code",
   "execution_count": 62,
   "id": "66569c0c",
   "metadata": {},
   "outputs": [
    {
     "data": {
      "text/html": [
       "<div>\n",
       "<style scoped>\n",
       "    .dataframe tbody tr th:only-of-type {\n",
       "        vertical-align: middle;\n",
       "    }\n",
       "\n",
       "    .dataframe tbody tr th {\n",
       "        vertical-align: top;\n",
       "    }\n",
       "\n",
       "    .dataframe thead th {\n",
       "        text-align: right;\n",
       "    }\n",
       "</style>\n",
       "<table border=\"1\" class=\"dataframe\">\n",
       "  <thead>\n",
       "    <tr style=\"text-align: right;\">\n",
       "      <th></th>\n",
       "      <th>A</th>\n",
       "      <th>B</th>\n",
       "      <th>C</th>\n",
       "      <th>D</th>\n",
       "    </tr>\n",
       "  </thead>\n",
       "  <tbody>\n",
       "    <tr>\n",
       "      <th>2013-01-02</th>\n",
       "      <td>0.044465</td>\n",
       "      <td>-0.196376</td>\n",
       "      <td>1.704628</td>\n",
       "      <td>-0.155759</td>\n",
       "    </tr>\n",
       "    <tr>\n",
       "      <th>2013-01-03</th>\n",
       "      <td>1.611715</td>\n",
       "      <td>0.570023</td>\n",
       "      <td>-0.695172</td>\n",
       "      <td>0.700136</td>\n",
       "    </tr>\n",
       "  </tbody>\n",
       "</table>\n",
       "</div>"
      ],
      "text/plain": [
       "                   A         B         C         D\n",
       "2013-01-02  0.044465 -0.196376  1.704628 -0.155759\n",
       "2013-01-03  1.611715  0.570023 -0.695172  0.700136"
      ]
     },
     "execution_count": 62,
     "metadata": {},
     "output_type": "execute_result"
    }
   ],
   "source": [
    "df.iloc[1:3,:]"
   ]
  },
  {
   "cell_type": "markdown",
   "id": "58df9481",
   "metadata": {},
   "source": [
    "* 명시적으로 열을 나누고자 하는 경우입니다."
   ]
  },
  {
   "cell_type": "code",
   "execution_count": 63,
   "id": "59356688",
   "metadata": {},
   "outputs": [
    {
     "data": {
      "text/html": [
       "<div>\n",
       "<style scoped>\n",
       "    .dataframe tbody tr th:only-of-type {\n",
       "        vertical-align: middle;\n",
       "    }\n",
       "\n",
       "    .dataframe tbody tr th {\n",
       "        vertical-align: top;\n",
       "    }\n",
       "\n",
       "    .dataframe thead th {\n",
       "        text-align: right;\n",
       "    }\n",
       "</style>\n",
       "<table border=\"1\" class=\"dataframe\">\n",
       "  <thead>\n",
       "    <tr style=\"text-align: right;\">\n",
       "      <th></th>\n",
       "      <th>B</th>\n",
       "      <th>C</th>\n",
       "    </tr>\n",
       "  </thead>\n",
       "  <tbody>\n",
       "    <tr>\n",
       "      <th>2013-01-01</th>\n",
       "      <td>-1.177537</td>\n",
       "      <td>1.044465</td>\n",
       "    </tr>\n",
       "    <tr>\n",
       "      <th>2013-01-02</th>\n",
       "      <td>-0.196376</td>\n",
       "      <td>1.704628</td>\n",
       "    </tr>\n",
       "    <tr>\n",
       "      <th>2013-01-03</th>\n",
       "      <td>0.570023</td>\n",
       "      <td>-0.695172</td>\n",
       "    </tr>\n",
       "    <tr>\n",
       "      <th>2013-01-04</th>\n",
       "      <td>1.541614</td>\n",
       "      <td>-0.775921</td>\n",
       "    </tr>\n",
       "    <tr>\n",
       "      <th>2013-01-05</th>\n",
       "      <td>0.431392</td>\n",
       "      <td>0.185523</td>\n",
       "    </tr>\n",
       "    <tr>\n",
       "      <th>2013-01-06</th>\n",
       "      <td>-1.685459</td>\n",
       "      <td>-0.482766</td>\n",
       "    </tr>\n",
       "  </tbody>\n",
       "</table>\n",
       "</div>"
      ],
      "text/plain": [
       "                   B         C\n",
       "2013-01-01 -1.177537  1.044465\n",
       "2013-01-02 -0.196376  1.704628\n",
       "2013-01-03  0.570023 -0.695172\n",
       "2013-01-04  1.541614 -0.775921\n",
       "2013-01-05  0.431392  0.185523\n",
       "2013-01-06 -1.685459 -0.482766"
      ]
     },
     "execution_count": 63,
     "metadata": {},
     "output_type": "execute_result"
    }
   ],
   "source": [
    "df.iloc[:,1:3]"
   ]
  },
  {
   "cell_type": "markdown",
   "id": "1833facd",
   "metadata": {},
   "source": [
    "* 명시적으로 (특정한) 값을 얻고자 하는 경우입니다."
   ]
  },
  {
   "cell_type": "code",
   "execution_count": null,
   "id": "c4911232",
   "metadata": {},
   "outputs": [],
   "source": []
  },
  {
   "cell_type": "markdown",
   "id": "b791207d",
   "metadata": {},
   "source": [
    "* 스칼라 값을 빠르게 얻는 방법입니다 (위의 방식과 동일합니다)."
   ]
  },
  {
   "cell_type": "code",
   "execution_count": null,
   "id": "f77bb880",
   "metadata": {},
   "outputs": [],
   "source": []
  },
  {
   "cell_type": "markdown",
   "id": "f90a6ebd",
   "metadata": {},
   "source": [
    "### Boolean Indexing\n",
    "* 데이터를 선택하기 위해 단일 열의 값을 사용합니다."
   ]
  },
  {
   "cell_type": "code",
   "execution_count": null,
   "id": "2e8b79db",
   "metadata": {},
   "outputs": [],
   "source": []
  },
  {
   "cell_type": "code",
   "execution_count": null,
   "id": "cb70717f",
   "metadata": {},
   "outputs": [],
   "source": []
  },
  {
   "cell_type": "code",
   "execution_count": null,
   "id": "e7bfa0f1",
   "metadata": {},
   "outputs": [],
   "source": []
  },
  {
   "cell_type": "code",
   "execution_count": null,
   "id": "1a739ab2",
   "metadata": {},
   "outputs": [],
   "source": []
  },
  {
   "cell_type": "code",
   "execution_count": null,
   "id": "4d5e38e2",
   "metadata": {},
   "outputs": [],
   "source": []
  },
  {
   "cell_type": "code",
   "execution_count": null,
   "id": "57da227a",
   "metadata": {},
   "outputs": [],
   "source": []
  },
  {
   "cell_type": "code",
   "execution_count": null,
   "id": "604f2263",
   "metadata": {},
   "outputs": [],
   "source": []
  },
  {
   "cell_type": "code",
   "execution_count": null,
   "id": "faf0a145",
   "metadata": {},
   "outputs": [],
   "source": []
  },
  {
   "cell_type": "code",
   "execution_count": null,
   "id": "177f173b",
   "metadata": {},
   "outputs": [],
   "source": []
  }
 ],
 "metadata": {
  "kernelspec": {
   "display_name": "Python 3",
   "language": "python",
   "name": "python3"
  },
  "language_info": {
   "codemirror_mode": {
    "name": "ipython",
    "version": 3
   },
   "file_extension": ".py",
   "mimetype": "text/x-python",
   "name": "python",
   "nbconvert_exporter": "python",
   "pygments_lexer": "ipython3",
   "version": "3.8.8"
  }
 },
 "nbformat": 4,
 "nbformat_minor": 5
}
