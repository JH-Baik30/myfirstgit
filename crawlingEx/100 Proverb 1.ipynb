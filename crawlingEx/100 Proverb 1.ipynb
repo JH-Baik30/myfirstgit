{
 "cells": [
  {
   "cell_type": "code",
   "execution_count": 1,
   "id": "75519b07",
   "metadata": {},
   "outputs": [],
   "source": [
    "import numpy as np\n",
    "import pandas as pd\n",
    "import requests\n",
    "from bs4 import BeautifulSoup"
   ]
  },
  {
   "cell_type": "code",
   "execution_count": 2,
   "id": "3bfed946",
   "metadata": {},
   "outputs": [],
   "source": [
    "url = 'https://100senmaru.com/yumei-8kpzhxbp/'"
   ]
  },
  {
   "cell_type": "code",
   "execution_count": 3,
   "id": "ca581f71",
   "metadata": {},
   "outputs": [],
   "source": [
    "response = requests.get(url)\n",
    "soup = BeautifulSoup(response.text, 'html.parser')"
   ]
  },
  {
   "cell_type": "markdown",
   "id": "eabb27ba",
   "metadata": {},
   "source": [
    "> html 구조가 쉬워보여서 금방 할 줄알았는데, 이건 아니네... 1~20까지 한 태그, 21~40까지 한 태그........ ㄱ-\n",
    ">\n",
    "> get_text() 했다가 낭패. 별 짓 다해보다가 br 태를 p 태그로 바꿔서 구분짓는걸로... 그러기 위해서 str로 바꿀 수 빡에 없었고."
   ]
  },
  {
   "cell_type": "code",
   "execution_count": 37,
   "id": "cbb86ca5",
   "metadata": {
    "collapsed": true
   },
   "outputs": [
    {
     "data": {
      "text/plain": [
       "'<p>有名なことわざを100個、有名順に並べました。</p> <p>1.<a href=\"https://100senmaru.com/nanakoro-57cz9d2h/\">七転び八起き（ななころびやおき）</a><p>\\n【意味】何度失敗してもめげず、奮起して頑張ること。<p>\\n2.<a href=\"https://100senmaru.com/mitsugon-sw2hzswz/\">三つ子の魂百まで（みつごのたましいひゃくまで）</a><p>\\n【意味】幼い時の性格は、年をとっても変わらないということ。<p>\\n3.<a href=\"https://100senmaru.com/sonaeare-y6baw6is/\">備えあれば憂いなし（そなえあればうれいなし）</a><p>\\n【意味】日頃から準備をしていれば、万一の事が起こっても心配することはないということ。<p>\\n4.<a href=\"https://100senmaru.com/nemimini-f427fuwa/\">寝耳に水（ねみみにみず）</a><p>\\n【意味】不意の出来事や知らせに驚き慌てるたとえ。<p>\\n5.<a href=\"https://100senmaru.com/koukaisa-2062b2v7/\">後悔先に立たず（こうかいさきにたたず）</a><p>\\n【意味】事が終わった後でいくら悔やんでも、手遅れで取り返しはつかない。<p>\\n6.<a href=\"https://100senmaru.com/nasakeha-ibpnjvpx/\">情けは人の為ならず（なさけはひとのためならず）</a><p>\\n【意味】人に情けをかけることは、相手のみならず、巡り巡ってやがて自分にも良い形で返ってくるという意味。<p>\\n7.<a href=\"https://100senmaru.com/hayaokih-za0qvrcc/\">早起きは三文の徳（はやおきはさんもんのとく）</a><p>\\n【意味】早起きは何かしら良いことがあるということわざ。<p>\\n8.<a href=\"https://100senmaru.com/norennni-h7ghjewf/\">暖簾に腕押し（のれんにうでおし）</a><p>\\n【意味】手ごたえや張り合いのないこと。<p>\\n9.<a href=\"https://100senmaru.com/tanakara-ezn4t0x5/\">棚から牡丹餅（たなからぼたもち）</a><p>\\n【意味】労せずして思いがけない幸運を得ること。<p>\\n10.<a href=\"https://100senmaru.com/hyakubun-uunq12vj/\">百聞は一見にしかず（ひゃくぶんはいっけんにしかず）</a><p>\\n【意味】人から何回も話を聞くより、直接見てしまったほうがよいこと。<p>\\n11.<a href=\"https://100senmaru.com/tatsutor-3882ywzj/\">立つ鳥跡を濁さず（たつとりあとをにごさず）</a><p>\\n【意味】立ち去る者は、きれいに後始末すべきであるという意味。<p>\\n12.<a href=\"https://100senmaru.com/aunnnoko-5xh4dtga/\">阿吽の呼吸（あうんのこきゅう）</a><p>\\n【意味】互いの微妙な気持ちや調子のこと。また、それがぴったり合うこと。<p>\\n13.<a href=\"https://100senmaru.com/kazegafu-3z5t4ao8/\">風が吹けば桶屋が儲かる（かぜがふけばおけやがもうかる）</a><p>\\n【意味】一つの事件が、めぐりめぐって意外なところに影響が出る<p>\\n14.<a href=\"https://100senmaru.com/donnguri-hwjmxwgh/\">どんぐりの背比べ（どんぐりのせいくらべ）</a><p>\\n【意味】どれもこれも平凡で、秀でたものがいないこと。<p>\\n15.<a href=\"https://100senmaru.com/miirator-ezvvhn10/\">ミイラ取りがミイラになる（みいらとりがみいらになる）</a><p>\\n【意味】人を連れ戻しに行った者が、先方に留まって帰ってこないこと。<p>\\n16.<a href=\"https://100senmaru.com/sannninn-kxotbcxz/\">三人寄れば文殊の知恵（さんにんよればもんじゅのちえ）</a><p>\\n【意味】凡人でも三人集まって相談すれば、よい知恵がでるものだという意味。<p>\\n17.<a href=\"https://100senmaru.com/hetanoyo-s2l81okd/\">下手の横好き（へたのよこずき）</a><p>\\n【意味】下手なくせに、その事が非常に好きで熱心なこと。<p>\\n18.<a href=\"https://100senmaru.com/kamenoko-teh09u45/\">亀の甲より年の功（かめのこうよりとしのこう）</a><p>\\n【意味】年長者の経験や知恵は尊ぶべきであるという意味。<p>\\n19.<a href=\"https://100senmaru.com/nidoaruk-z2grsegg/\">二度あることは三度ある（にどあることはさんどある）</a><p>\\n【意味】物事は繰り返されるものであるという意味。<p>\\n20.<a href=\"https://100senmaru.com/nitowoou-l1hfoe3z/\">二兎を追う者は一兎をも得ず（にとをおうものはいっともえず）</a><p>\\n【意味】同時に二つのことをしようとすれば、結局どちらも成功しないという意味。</p> <p>21.<a href=\"https://100senmaru.com/nikaikar-z32idaqk/\">二階から目薬（にかいからめぐすり）</a><p>\\n【意味】意のままにならずもどかしいこと。また、遠回りしすぎて、効き目のないこと。<p>\\n22.<a href=\"https://100senmaru.com/inonakan-l5izn407/\">井の中の蛙大海を知らず（いのなかのかわずたいかいをしらず）</a><p>\\n【意味】他に広い世界があることを知らずに、自分の周りの狭い見識や知識にとらわれている人を嘲笑する言葉。<p>\\n23.<a href=\"https://100senmaru.com/hitonouw-9dm4ej5n/\">人の噂も七十五日（ひとのうわさもしちじゅうごにち）</a><p>\\n【意味】世間の噂は一時のことで、しばらくすれば忘れられるものであるという意味。<p>\\n24.<a href=\"https://100senmaru.com/hitonofu-1ucew0t6/\">人の振り見て我が振り直せ（ひとのふりみてわがふりなおせ）</a><p>\\n【意味】他人の言動を見て、自分の行いを反省し、改めよという意味。<p>\\n25.<a href=\"https://100senmaru.com/hotokeno-1lerzfeg/\">仏の顔も三度まで（ほとけのかおもさんどまで）</a><p>\\n【意味】どんなに温和な人でも、何度も無礼なことをされれば腹を立てるというたとえ。<p>\\n26.<a href=\"https://100senmaru.com/derukuih-cw39pp5a/\">出る杭は打たれる（でるくいはうたれる）</a><p>\\n【意味】才能があって頭角を現す人は、とかく人から憎まれるということ。<p>\\n27.<a href=\"https://100senmaru.com/sennrino-io6tzoto/\">千里の道も一歩から（せんりのみちもいっぽから）</a><p>\\n【意味】遠大な事業も、手近なところから始まるたとえ。<p>\\n28.<a href=\"https://100senmaru.com/kuchihaw-0g0l6hps/\">口は災いの元（くちはわざわいのもと）</a><p>\\n【意味】不用意な発言は注意せよという意味。<p>\\n29.<a href=\"https://100senmaru.com/kawaiiko-iht1jbcm/\">可愛い子には旅をさせよ（かわいいこにはたびをさせよ）</a><p>\\n【意味】自分の子なら、甘やかさずに世の中のつらさや苦しみを経験させたほうがよい。<p>\\n30.<a href=\"https://100senmaru.com/inochiat-h92adx47/\">命あっての物種（いのちあってのものだね）</a><p>\\n【意味】何事も命があるからこそできるから、命に関わるような危険なことはく避けよという意味。<p>\\n31.<a href=\"https://100senmaru.com/zennhais-ayr1kz86/\">善は急げ（ぜんはいそげ）</a><p>\\n【意味】よいと思ったことは、ためらわずにただちに実行すべきであるという意味。<p>\\n32.<a href=\"https://100senmaru.com/nodomoto-iscdh29i/\">喉元過ぎれば熱さを忘れる（のどもとすぎればあつさをわすれる）</a><p>\\n【意味】苦しかった時に助けてもらったことも、楽になればその恩義を忘れてしまうという意味。<p>\\n33.<a href=\"https://100senmaru.com/chirimot-7faby3h3/\">塵も積もれば山となる（ちりもつもればやまとなる）</a><p>\\n【意味】塵のようにごくわずかなものでも、積もれば高大なものとなるたとえ。<p>\\n34.<a href=\"https://100senmaru.com/daihasho-4f65los9/\">大は小を兼ねる（だいはしょうをかねる）</a><p>\\n【意味】大きいものは、小さいものの役割をはたすことができる。<p>\\n35.<a href=\"https://100senmaru.com/fuufugen-ckj75tbr/\">夫婦喧嘩は犬も食わない（ふうふげんかはいぬもくわない）</a><p>\\n【意味】夫婦喧嘩に他人が仲裁に入る必要がないという意味。<p>\\n36.<a href=\"https://100senmaru.com/sukikoso-dsdpjdb0/\">好きこそ物の上手なれ（すきこそもののじょうずなれ）</a><p>\\n【意味】好きなことには自然とそれに熱中するから、上達が早いという意味。<p>\\n37.<a href=\"https://100senmaru.com/yasumono-882kdsuz/\">安物買いの銭失い（やすものがいのぜにうしない）</a><p>\\n【意味】安物ほど、すぐに壊れて使い物にならなくなるので、結局は高い買い物をするという意味。<p>\\n38.<a href=\"https://100senmaru.com/koubouni-wg9i0aip/\">弘法にも筆の誤り（こうぼうにもふでのあやまり）</a><p>\\n【意味】その道にすぐれている人でも、時には失敗することがあるという意味。<p>\\n39.<a href=\"https://100senmaru.com/yowarime-ye0pdgw9/\">弱り目に祟り目（よわりめにたたりめ）</a><p>\\n【意味】弱っている時に、さらに困ったことが起こることから、不運が重なること。<p>\\n40.<a href=\"https://100senmaru.com/atohanot-afnn007s/\">後は野となれ山となれ（あとはのとなれやまとなれ）</a><p>\\n【意味】目前の問題さえ片付けば、あとはどうなってもよいということ。</p> <p>41.<a href=\"https://100senmaru.com/isogabam-t6rfbtrm/\">急がば回れ（いそがばまわれ）</a><p>\\n【意味】急いでいるときほど、危険な近道より、多少遠くても安全な道を行くほうが良いという意味。<p>\\n42.<a href=\"https://100senmaru.com/sonnshit-u75rjqmi/\">損して得取れ（そんしてとくとれ）</a><p>\\n【意味】一時は損をしても、先の大きな利益を得るようにせよという意味。<p>\\n43.<a href=\"https://100senmaru.com/mukashit-j3yj2mje/\">昔取った杵柄（むかしとったきねづか）</a><p>\\n【意味】若い頃に習得した技量や腕前のこと。また、年月を経てもそれが衰えず十分に発揮できること。<p>\\n44.<a href=\"https://100senmaru.com/tokihaka-aohhs3x0/\">時は金なり（ときはかねなり）</a><p>\\n【意味】時間は貴重であるから、浪費してはならない。時間の貴さを教えることば。<p>\\n45.<a href=\"https://100senmaru.com/tsukitos-l5jdlb33/\">月とすっぽん（つきとすっぽん）</a><p>\\n【意味】よい事にはとかくさしさわりが多いこと。<p>\\n46.<a href=\"https://100senmaru.com/kiwomite-owq9xmzf/\">木を見て森を見ず（きをみてもりをみず）</a><p>\\n【意味】小さいことや些細なことにこだわって、全体を見失うことのたとえ。<p>\\n47.<a href=\"https://100senmaru.com/shunimaj-u9ii0ovc/\">朱に交われば赤くなる（しゅにまじわればあかくなる）</a><p>\\n【意味】人は交際する人間しだいで善くも悪くもなるというたとえ。<p>\\n48.<a href=\"https://100senmaru.com/momokuri-o6s83h7c/\">桃栗三年柿八年（ももくりさんねんかきはちねん）</a><p>\\n【意味】何事も成果がでるまでに相応の年月がかかること。<p>\\n49.<a href=\"https://100senmaru.com/annzuruy-pbcrqb6a/\">案ずるより産むが易し（あんずるよりうむがやすし）</a><p>\\n【意味】物事は、実際に行ってみると、事前にあれこれ心配していたより案外たやすくできるものだという意味。<p>\\n50.<a href=\"https://100senmaru.com/nakittsu-w8s7dhza/\">泣きっ面に蜂（なきっつらにはち）</a><p>\\n【意味】不幸や不運が重なって起こること。<p>\\n51.<a href=\"https://100senmaru.com/ebidetai-i9lrspqw/\">海老で鯛を釣る（えびでたいをつる）</a><p>\\n【意味】わずかな元手や労力で、大きな利益を得ること。<p>\\n52.<a href=\"https://100senmaru.com/nuretede-m3n2cbd8/\">濡れ手で粟（ぬれてであわ）</a><p>\\n【意味】苦労せずに楽々と利益を得ることのたとえ。濡れた手で粟を掴むと、手に粟粒がたくさん付いてくることから。<p>\\n53.<a href=\"https://100senmaru.com/kachuuno-tz328e3a/\">火中の栗を拾う（かちゅうのくりをひろう）</a><p>\\n【意味】自分の利益にならないのに、他人のために危険を冒すこと。<p>\\n53.<a href=\"https://100senmaru.com/kachuuno-qw2zv84t/\">火中の栗を拾う（かちゅうのくりをひろう）</a><p>\\n【意味】自分の利益にならないのに、他人のために危険を冒すこと。<p>\\n54.<a href=\"https://100senmaru.com/toudaimo-jka3ig3c/\">灯台下暗し（とうだいもとくらし）</a><p>\\n【意味】身近な事はかえって気付かず見落としがちなこと。<p>\\n55.<a href=\"https://100senmaru.com/naisodeh-muasxog1/\">無い袖は振れない（ないそではふれない）</a><p>\\n【意味】持っていないものはどうしてやることもできない。<p>\\n56.<a href=\"https://100senmaru.com/yakeishi-dvuwib1y/\">焼け石に水（やけいしにみず）</a><p>\\n【意味】ちょっとした努力や援助では、意味がないということ。<p>\\n57.<a href=\"https://100senmaru.com/inumoaru-dc04o5of/\">犬も歩けば棒に当たる（いぬもあるけばぼうにあたる）</a><p>\\n【意味】何かをしようとすると、災難に遭うことが多いという意味。また、思いがけない幸運に出会うこと。<p>\\n58.<a href=\"https://100senmaru.com/kennennn-vv8ovu23/\">犬猿の仲（けんえんのなか）</a><p>\\n【意味】何かにつけていがみ合うような、仲が悪い間柄のたとえ。<p>\\n59.<a href=\"https://100senmaru.com/nekoniko-mlq0rkt1/\">猫に小判（ねこにこばん）</a><p>\\n【意味】価値の分からぬ者に貴重なものを与えても無駄であること。<p>\\n60.<a href=\"https://100senmaru.com/nekonika-yb0xcd2n/\">猫に鰹節（ねこにかつおぶし）</a><p>\\n【意味】猫のそばに大好物の鰹節を置くこと。油断できないこと。</p> <p>61.<a href=\"https://100senmaru.com/sarumoki-rwuu0i1c/\">猿も木から落ちる（さるもきからおちる）</a><p>\\n【意味】その道に秀でた者でも、時には失敗することがあるという意味。<p>\\n62.<a href=\"https://100senmaru.com/otokogok-rqhu5qcs/\">男心と秋の空（おとこごころとあきのそら）</a><p>\\n【意味】男の女に対する愛情が、飽きやすく変わりやすいこと。<p>\\n63.<a href=\"https://100senmaru.com/mekaraur-316wq466/\">目から鱗が落ちる（めからうろこがおちる）</a><p>\\n【意味】あるきっかけで、今までよく分からなかった物事が急にはっきりわかるようになること。<p>\\n64.<a href=\"https://100senmaru.com/shiranug-9ilya5sj/\">知らぬが仏（しらぬがほとけ）</a><p>\\n【意味】知れば腹も立つが、知らないばかりに仏のように穏やかでいられるということ。また、実態を知らずに平然としている人をあざけっていう言葉。<p>\\n65.<a href=\"https://100senmaru.com/ishinoue-27cc9mhe/\">石の上にも三年（いしのうえにもさんねん）</a><p>\\n【意味】どんなに辛くても辛抱すれば、やがて成功するたとえ。<p>\\n66.<a href=\"https://100senmaru.com/ishibash-m1t7cifc/\">石橋を叩いて渡る（いしばしをたたいてわたる）</a><p>\\n【意味】用心の上にも用心を重ねて事を行うことのたとえ。<p>\\n67.<a href=\"https://100senmaru.com/akinasuh-1p2jt7hv/\">秋茄子は嫁に食わすな（あきなすはよめにくわすな）</a><p>\\n【意味】おいしい秋のなすは、もったいないから嫁には食べさせるなという姑の嫁いびりの言葉。<p>\\n68.<a href=\"https://100senmaru.com/nukaniku-rrkc04vu/\">糠に釘（ぬかにくぎ）</a><p>\\n【意味】糠に釘を打つように、少しの効き目も手ごたえもないこと。<p>\\n69.<a href=\"https://100senmaru.com/ennnoshi-j2iduyby/\">縁の下の力持ち（えんのしたのちからもち）</a><p>\\n【意味】人目につかないところで努力、苦労すること。または、そのような人。<p>\\n70.<a href=\"https://100senmaru.com/senihara-v2w6hx76/\">背に腹はかえられぬ（せにはらはかえられぬ）</a><p>\\n【意味】大事のためには、犠牲を払うのもやむを得ないというたとえ。<p>\\n71.<a href=\"https://100senmaru.com/nouaruta-c3nuf3w2/\">能ある鷹は爪を隠す（のうあるたかはつめをかくす）</a><p>\\n【意味】実力のある者は、むやみにそれを誇示することはしないという意味。<p>\\n72.<a href=\"https://100senmaru.com/ryouyaku-6xskpl0b/\">良薬は口に苦し（りょうやくはくちににがし）</a><p>\\n【意味】よく効く薬ほど苦くて飲みにくいこと。ためになる忠告ほど、当人は耳が痛くて聞きづらいというたとえ。<p>\\n73.<a href=\"https://100senmaru.com/abuhachi-8hdxwaua/\">虻蜂取らず（あぶはちとらず）</a><p>\\n【意味】同時に二つのものをねらって、両方とも得られないこと。<p>\\n74.<a href=\"https://100senmaru.com/shitashi-fw8mj840/\">親しき仲にも礼儀あり（したしきなかにもれいぎあり）</a><p>\\n【意味】親しい間柄でも礼儀を重んじるべきであるという意味。<p>\\n75.<a href=\"https://100senmaru.com/oyashira-exaff1od/\">親知らず子知らず（おやしらずこしらず）</a><p>\\n【意味】子を思う親の気持ちが通じないで、子が勝手気ままな振る舞いをすること。<p>\\n76.<a href=\"https://100senmaru.com/sawaranu-2lryolg9/\">触らぬ神に祟りなし（さわらぬかみにたたりなし）</a><p>\\n【意味】余計な口出しや手出しをしないほうがよい、という意味。<p>\\n77.<a href=\"https://100senmaru.com/ronnyori-j64mwzg4/\">論より証拠（ろんよりしょうこ）</a><p>\\n【意味】物事を明らかにするには、あれこれ論じるよりも証拠を出すほうが早いという意味。<p>\\n78.<a href=\"https://100senmaru.com/butanish-qkajuzwu/\">豚に真珠（ぶたにしんじゅ）</a><p>\\n【意味】どんな宝も価値のわからないものには、なんの値打ちもないことのたとえ。<p>\\n79.<a href=\"https://100senmaru.com/mikarade-u5d0tfij/\">身から出た錆（みからでたさび）</a><p>\\n【意味】自分自身で犯した悪行の結果として自分が苦しむこと。<p>\\n80.<a href=\"https://100senmaru.com/tookunos-z5e0t2uy/\">遠くの親戚より近くの他人（とおくのしんせきよりちかくのたにん）</a><p>\\n【意味】遠くにいたり疎遠にしている親戚よりも、近所の他人の方が頼りになるということ。</p> <p>81.<a href=\"https://100senmaru.com/gouniitt-enjdwnxk/\">郷に入っては郷に従え（ごうにいってはごうにしたがえ）</a><p>\\n【意味】場所によって風俗や習慣が違うので、住む土地の習慣や慣習に従うのがよいということ。<p>\\n82.<a href=\"https://100senmaru.com/tetsuhaa-kd4zfdwh/\">鉄は熱いうちに打て（てつはあついうちにうて）</a><p>\\n【意味】また、好機を逸してはいけないという意味。<p>\\n83.<a href=\"https://100senmaru.com/nagaimon-avumkx6u/\">長い物には巻かれろ（ながいものにはまかれろ）</a><p>\\n【意味】目上の者や勢力や権力の強い相手に対しては反抗せず、それに従ったほうが得策だという意。<p>\\n84.<a href=\"https://100senmaru.com/atamakak-nbh7jowu/\">頭隠して尻隠さず（あたまかくしてしりかくさず）</a><p>\\n【意味】一部だけ隠して、全部を隠したつもりになっている様子のこと。<p>\\n85.<a href=\"https://100senmaru.com/tonndehi-kk4hm1d4/\">飛んで火に入る夏の虫（とんでひにいるなつのむし）</a><p>\\n【意味】自分から進んで危険や災難に関わりあうことのたとえ。<p>\\n86.<a href=\"https://100senmaru.com/kaiinuni-8xh6vnc5/\">飼い犬に手を噛まれる（かいいぬにてをかまれる）</a><p>\\n【意味】思いがけずに裏切られたり、害を受けたりすること。<p>\\n87.<a href=\"https://100senmaru.com/mochiham-om57psil/\">餅は餅屋（もちはもちや）</a><p>\\n【意味】何事にもそれぞれ専門家がおり、素人はとてもかなわないというたとえ。<p>\\n88.<a href=\"https://100senmaru.com/umanomim-4q6r5mud/\">馬の耳に念仏（うまのみみにねんぶつ）</a><p>\\n【意味】人がいくら意見しても全く効き目のないこと。<p>\\n89.<a href=\"https://100senmaru.com/oninikan-64bmumu3/\">鬼に金棒（おににかなぼう）</a><p>\\n【意味】強い鬼にさらに金棒を持たせること。強いものに、さらに強さを加えるたとえ。<p>\\n90.<a href=\"https://100senmaru.com/uogokoro-c5n0hnvy/\">魚心あれば水心（うおごころあればみずごころ）</a><p>\\n【意味】相手の態度や行動により、こちらの対応や振る舞いも決まるという意味。<p>\\n91.<a href=\"https://100senmaru.com/hetanate-42wakxs3/\">下手な鉄砲も数撃ちゃ当たる（へたなてっぽうもかずうちゃあたる）</a><p>\\n【意味】数多く試みれば、まぐれ当たりで成功することもあるというたとえ。<p>\\n92.<a href=\"https://100senmaru.com/toranuta-4x4rippx/\">捕らぬ狸の皮算用（とらぬたぬきのかわざんよう）</a><p>\\n【意味】当てにならないことを当てにして計画を立てることのたとえ。まだ捕まえていない狸の皮の価格を計算することから。<p>\\n93.<a href=\"https://100senmaru.com/yanagino-vnrvvdud/\">柳の下の泥鰌（やなぎのしたのどじょう）</a><p>\\n【意味】偶然によいことが起こったからといって、同じ方法で得られるとは限らないという意味。<p>\\n94.<a href=\"https://100senmaru.com/rakuareb-tpleuv47/\">楽あれば苦あり（らくあればくあり）</a><p>\\n【意味】人生はいつも楽しいことばかりではなく苦しいこともある、逆に苦しいことばかりではなく楽しいこともあるという意味。<p>\\n95.<a href=\"https://100senmaru.com/dorobouw-xz06vaft/\">泥棒を捕らえて縄を綯う（どろぼうをとらえてなわをなう）</a><p>\\n【意味】事が起こってからあわてて用意をすること。<p>\\n96.<a href=\"https://100senmaru.com/wazawaiw-kp3viqrf/\">禍を転じて福と為す（わざわいをてんじてふくとなす）</a><p>\\n【意味】身にふりかかった災難を、自分の役に立つようにすること。<p>\\n97.<a href=\"https://100senmaru.com/waraukad-j3ef7im6/\">笑う門には福来たる（わらうかどにはふくきたる）</a><p>\\n【意味】いつも明るくにこにこしている家庭には、自然と幸福が訪れるということ。<p>\\n98.<a href=\"https://100senmaru.com/kiitegok-vb1x8vs7/\">聞いて極楽見て地獄（きいてごくらくみてじごく）</a><p>\\n【意味】人から聞いた話と、自分で実際に見たのでは、非常に差があるという意味。<p>\\n99.<a href=\"https://100senmaru.com/nigashit-sni6lw7v/\">逃がした魚は大きい（にがしたさかなはおおきい）</a><p>\\n【意味】手に入れ損なったものは、立派なものに思われるものである。<p>\\n100.<a href=\"https://100senmaru.com/kikuhait-j316xpsb/\">聞くは一時の恥、聞かぬは一生の恥（きくはいっときのはじ、きかぬはいっしょうのはじ）</a><p>\\n【意味】知らないことを聞くのはその時だけで済むが、聞かなければ一生恥ずかしい思いをして過ごすという意味。”</p> <p>有名なことわざを100個、有名順に並べました。</p> <p>1.<a href=\"https://100senmaru.com/nanakoro-57cz9d2h/\">七転び八起き（ななころびやおき）</a><p>\\n【意味】何度失敗してもめげず、奮起して頑張ること。<p>\\n2.<a href=\"https://100senmaru.com/mitsugon-sw2hzswz/\">三つ子の魂百まで（みつごのたましいひゃくまで）</a><p>\\n【意味】幼い時の性格は、年をとっても変わらないということ。<p>\\n3.<a href=\"https://100senmaru.com/sonaeare-y6baw6is/\">備えあれば憂いなし（そなえあればうれいなし）</a><p>\\n【意味】日頃から準備をしていれば、万一の事が起こっても心配することはないということ。<p>\\n4.<a href=\"https://100senmaru.com/nemimini-f427fuwa/\">寝耳に水（ねみみにみず）</a><p>\\n【意味】不意の出来事や知らせに驚き慌てるたとえ。<p>\\n5.<a href=\"https://100senmaru.com/koukaisa-2062b2v7/\">後悔先に立たず（こうかいさきにたたず）</a><p>\\n【意味】事が終わった後でいくら悔やんでも、手遅れで取り返しはつかない。<p>\\n6.<a href=\"https://100senmaru.com/nasakeha-ibpnjvpx/\">情けは人の為ならず（なさけはひとのためならず）</a><p>\\n【意味】人に情けをかけることは、相手のみならず、巡り巡ってやがて自分にも良い形で返ってくるという意味。<p>\\n7.<a href=\"https://100senmaru.com/hayaokih-za0qvrcc/\">早起きは三文の徳（はやおきはさんもんのとく）</a><p>\\n【意味】早起きは何かしら良いことがあるということわざ。<p>\\n8.<a href=\"https://100senmaru.com/norennni-h7ghjewf/\">暖簾に腕押し（のれんにうでおし）</a><p>\\n【意味】手ごたえや張り合いのないこと。<p>\\n9.<a href=\"https://100senmaru.com/tanakara-ezn4t0x5/\">棚から牡丹餅（たなからぼたもち）</a><p>\\n【意味】労せずして思いがけない幸運を得ること。<p>\\n10.<a href=\"https://100senmaru.com/hyakubun-uunq12vj/\">百聞は一見にしかず（ひゃくぶんはいっけんにしかず）</a><p>\\n【意味】人から何回も話を聞くより、直接見てしまったほうがよいこと。<p>\\n11.<a href=\"https://100senmaru.com/tatsutor-3882ywzj/\">立つ鳥跡を濁さず（たつとりあとをにごさず）</a><p>\\n【意味】立ち去る者は、きれいに後始末すべきであるという意味。<p>\\n12.<a href=\"https://100senmaru.com/aunnnoko-5xh4dtga/\">阿吽の呼吸（あうんのこきゅう）</a><p>\\n【意味】互いの微妙な気持ちや調子のこと。また、それがぴったり合うこと。<p>\\n13.<a href=\"https://100senmaru.com/kazegafu-3z5t4ao8/\">風が吹けば桶屋が儲かる（かぜがふけばおけやがもうかる）</a><p>\\n【意味】一つの事件が、めぐりめぐって意外なところに影響が出る<p>\\n14.<a href=\"https://100senmaru.com/donnguri-hwjmxwgh/\">どんぐりの背比べ（どんぐりのせいくらべ）</a><p>\\n【意味】どれもこれも平凡で、秀でたものがいないこと。<p>\\n15.<a href=\"https://100senmaru.com/miirator-ezvvhn10/\">ミイラ取りがミイラになる（みいらとりがみいらになる）</a><p>\\n【意味】人を連れ戻しに行った者が、先方に留まって帰ってこないこと。<p>\\n16.<a href=\"https://100senmaru.com/sannninn-kxotbcxz/\">三人寄れば文殊の知恵（さんにんよればもんじゅのちえ）</a><p>\\n【意味】凡人でも三人集まって相談すれば、よい知恵がでるものだという意味。<p>\\n17.<a href=\"https://100senmaru.com/hetanoyo-s2l81okd/\">下手の横好き（へたのよこずき）</a><p>\\n【意味】下手なくせに、その事が非常に好きで熱心なこと。<p>\\n18.<a href=\"https://100senmaru.com/kamenoko-teh09u45/\">亀の甲より年の功（かめのこうよりとしのこう）</a><p>\\n【意味】年長者の経験や知恵は尊ぶべきであるという意味。<p>\\n19.<a href=\"https://100senmaru.com/nidoaruk-z2grsegg/\">二度あることは三度ある（にどあることはさんどある）</a><p>\\n【意味】物事は繰り返されるものであるという意味。<p>\\n20.<a href=\"https://100senmaru.com/nitowoou-l1hfoe3z/\">二兎を追う者は一兎をも得ず（にとをおうものはいっともえず）</a><p>\\n【意味】同時に二つのことをしようとすれば、結局どちらも成功しないという意味。</p> <p>21.<a href=\"https://100senmaru.com/nikaikar-z32idaqk/\">二階から目薬（にかいからめぐすり）</a><p>\\n【意味】意のままにならずもどかしいこと。また、遠回りしすぎて、効き目のないこと。<p>\\n22.<a href=\"https://100senmaru.com/inonakan-l5izn407/\">井の中の蛙大海を知らず（いのなかのかわずたいかいをしらず）</a><p>\\n【意味】他に広い世界があることを知らずに、自分の周りの狭い見識や知識にとらわれている人を嘲笑する言葉。<p>\\n23.<a href=\"https://100senmaru.com/hitonouw-9dm4ej5n/\">人の噂も七十五日（ひとのうわさもしちじゅうごにち）</a><p>\\n【意味】世間の噂は一時のことで、しばらくすれば忘れられるものであるという意味。<p>\\n24.<a href=\"https://100senmaru.com/hitonofu-1ucew0t6/\">人の振り見て我が振り直せ（ひとのふりみてわがふりなおせ）</a><p>\\n【意味】他人の言動を見て、自分の行いを反省し、改めよという意味。<p>\\n25.<a href=\"https://100senmaru.com/hotokeno-1lerzfeg/\">仏の顔も三度まで（ほとけのかおもさんどまで）</a><p>\\n【意味】どんなに温和な人でも、何度も無礼なことをされれば腹を立てるというたとえ。<p>\\n26.<a href=\"https://100senmaru.com/derukuih-cw39pp5a/\">出る杭は打たれる（でるくいはうたれる）</a><p>\\n【意味】才能があって頭角を現す人は、とかく人から憎まれるということ。<p>\\n27.<a href=\"https://100senmaru.com/sennrino-io6tzoto/\">千里の道も一歩から（せんりのみちもいっぽから）</a><p>\\n【意味】遠大な事業も、手近なところから始まるたとえ。<p>\\n28.<a href=\"https://100senmaru.com/kuchihaw-0g0l6hps/\">口は災いの元（くちはわざわいのもと）</a><p>\\n【意味】不用意な発言は注意せよという意味。<p>\\n29.<a href=\"https://100senmaru.com/kawaiiko-iht1jbcm/\">可愛い子には旅をさせよ（かわいいこにはたびをさせよ）</a><p>\\n【意味】自分の子なら、甘やかさずに世の中のつらさや苦しみを経験させたほうがよい。<p>\\n30.<a href=\"https://100senmaru.com/inochiat-h92adx47/\">命あっての物種（いのちあってのものだね）</a><p>\\n【意味】何事も命があるからこそできるから、命に関わるような危険なことはく避けよという意味。<p>\\n31.<a href=\"https://100senmaru.com/zennhais-ayr1kz86/\">善は急げ（ぜんはいそげ）</a><p>\\n【意味】よいと思ったことは、ためらわずにただちに実行すべきであるという意味。<p>\\n32.<a href=\"https://100senmaru.com/nodomoto-iscdh29i/\">喉元過ぎれば熱さを忘れる（のどもとすぎればあつさをわすれる）</a><p>\\n【意味】苦しかった時に助けてもらったことも、楽になればその恩義を忘れてしまうという意味。<p>\\n33.<a href=\"https://100senmaru.com/chirimot-7faby3h3/\">塵も積もれば山となる（ちりもつもればやまとなる）</a><p>\\n【意味】塵のようにごくわずかなものでも、積もれば高大なものとなるたとえ。<p>\\n34.<a href=\"https://100senmaru.com/daihasho-4f65los9/\">大は小を兼ねる（だいはしょうをかねる）</a><p>\\n【意味】大きいものは、小さいものの役割をはたすことができる。<p>\\n35.<a href=\"https://100senmaru.com/fuufugen-ckj75tbr/\">夫婦喧嘩は犬も食わない（ふうふげんかはいぬもくわない）</a><p>\\n【意味】夫婦喧嘩に他人が仲裁に入る必要がないという意味。<p>\\n36.<a href=\"https://100senmaru.com/sukikoso-dsdpjdb0/\">好きこそ物の上手なれ（すきこそもののじょうずなれ）</a><p>\\n【意味】好きなことには自然とそれに熱中するから、上達が早いという意味。<p>\\n37.<a href=\"https://100senmaru.com/yasumono-882kdsuz/\">安物買いの銭失い（やすものがいのぜにうしない）</a><p>\\n【意味】安物ほど、すぐに壊れて使い物にならなくなるので、結局は高い買い物をするという意味。<p>\\n38.<a href=\"https://100senmaru.com/koubouni-wg9i0aip/\">弘法にも筆の誤り（こうぼうにもふでのあやまり）</a><p>\\n【意味】その道にすぐれている人でも、時には失敗することがあるという意味。<p>\\n39.<a href=\"https://100senmaru.com/yowarime-ye0pdgw9/\">弱り目に祟り目（よわりめにたたりめ）</a><p>\\n【意味】弱っている時に、さらに困ったことが起こることから、不運が重なること。<p>\\n40.<a href=\"https://100senmaru.com/atohanot-afnn007s/\">後は野となれ山となれ（あとはのとなれやまとなれ）</a><p>\\n【意味】目前の問題さえ片付けば、あとはどうなってもよいということ。</p> <p>41.<a href=\"https://100senmaru.com/isogabam-t6rfbtrm/\">急がば回れ（いそがばまわれ）</a><p>\\n【意味】急いでいるときほど、危険な近道より、多少遠くても安全な道を行くほうが良いという意味。<p>\\n42.<a href=\"https://100senmaru.com/sonnshit-u75rjqmi/\">損して得取れ（そんしてとくとれ）</a><p>\\n【意味】一時は損をしても、先の大きな利益を得るようにせよという意味。<p>\\n43.<a href=\"https://100senmaru.com/mukashit-j3yj2mje/\">昔取った杵柄（むかしとったきねづか）</a><p>\\n【意味】若い頃に習得した技量や腕前のこと。また、年月を経てもそれが衰えず十分に発揮できること。<p>\\n44.<a href=\"https://100senmaru.com/tokihaka-aohhs3x0/\">時は金なり（ときはかねなり）</a><p>\\n【意味】時間は貴重であるから、浪費してはならない。時間の貴さを教えることば。<p>\\n45.<a href=\"https://100senmaru.com/tsukitos-l5jdlb33/\">月とすっぽん（つきとすっぽん）</a><p>\\n【意味】よい事にはとかくさしさわりが多いこと。<p>\\n46.<a href=\"https://100senmaru.com/kiwomite-owq9xmzf/\">木を見て森を見ず（きをみてもりをみず）</a><p>\\n【意味】小さいことや些細なことにこだわって、全体を見失うことのたとえ。<p>\\n47.<a href=\"https://100senmaru.com/shunimaj-u9ii0ovc/\">朱に交われば赤くなる（しゅにまじわればあかくなる）</a><p>\\n【意味】人は交際する人間しだいで善くも悪くもなるというたとえ。<p>\\n48.<a href=\"https://100senmaru.com/momokuri-o6s83h7c/\">桃栗三年柿八年（ももくりさんねんかきはちねん）</a><p>\\n【意味】何事も成果がでるまでに相応の年月がかかること。<p>\\n49.<a href=\"https://100senmaru.com/annzuruy-pbcrqb6a/\">案ずるより産むが易し（あんずるよりうむがやすし）</a><p>\\n【意味】物事は、実際に行ってみると、事前にあれこれ心配していたより案外たやすくできるものだという意味。<p>\\n50.<a href=\"https://100senmaru.com/nakittsu-w8s7dhza/\">泣きっ面に蜂（なきっつらにはち）</a><p>\\n【意味】不幸や不運が重なって起こること。<p>\\n51.<a href=\"https://100senmaru.com/ebidetai-i9lrspqw/\">海老で鯛を釣る（えびでたいをつる）</a><p>\\n【意味】わずかな元手や労力で、大きな利益を得ること。<p>\\n52.<a href=\"https://100senmaru.com/nuretede-m3n2cbd8/\">濡れ手で粟（ぬれてであわ）</a><p>\\n【意味】苦労せずに楽々と利益を得ることのたとえ。濡れた手で粟を掴むと、手に粟粒がたくさん付いてくることから。<p>\\n53.<a href=\"https://100senmaru.com/kachuuno-tz328e3a/\">火中の栗を拾う（かちゅうのくりをひろう）</a><p>\\n【意味】自分の利益にならないのに、他人のために危険を冒すこと。<p>\\n53.<a href=\"https://100senmaru.com/kachuuno-qw2zv84t/\">火中の栗を拾う（かちゅうのくりをひろう）</a><p>\\n【意味】自分の利益にならないのに、他人のために危険を冒すこと。<p>\\n54.<a href=\"https://100senmaru.com/toudaimo-jka3ig3c/\">灯台下暗し（とうだいもとくらし）</a><p>\\n【意味】身近な事はかえって気付かず見落としがちなこと。<p>\\n55.<a href=\"https://100senmaru.com/naisodeh-muasxog1/\">無い袖は振れない（ないそではふれない）</a><p>\\n【意味】持っていないものはどうしてやることもできない。<p>\\n56.<a href=\"https://100senmaru.com/yakeishi-dvuwib1y/\">焼け石に水（やけいしにみず）</a><p>\\n【意味】ちょっとした努力や援助では、意味がないということ。<p>\\n57.<a href=\"https://100senmaru.com/inumoaru-dc04o5of/\">犬も歩けば棒に当たる（いぬもあるけばぼうにあたる）</a><p>\\n【意味】何かをしようとすると、災難に遭うことが多いという意味。また、思いがけない幸運に出会うこと。<p>\\n58.<a href=\"https://100senmaru.com/kennennn-vv8ovu23/\">犬猿の仲（けんえんのなか）</a><p>\\n【意味】何かにつけていがみ合うような、仲が悪い間柄のたとえ。<p>\\n59.<a href=\"https://100senmaru.com/nekoniko-mlq0rkt1/\">猫に小判（ねこにこばん）</a><p>\\n【意味】価値の分からぬ者に貴重なものを与えても無駄であること。<p>\\n60.<a href=\"https://100senmaru.com/nekonika-yb0xcd2n/\">猫に鰹節（ねこにかつおぶし）</a><p>\\n【意味】猫のそばに大好物の鰹節を置くこと。油断できないこと。</p> <p>61.<a href=\"https://100senmaru.com/sarumoki-rwuu0i1c/\">猿も木から落ちる（さるもきからおちる）</a><p>\\n【意味】その道に秀でた者でも、時には失敗することがあるという意味。<p>\\n62.<a href=\"https://100senmaru.com/otokogok-rqhu5qcs/\">男心と秋の空（おとこごころとあきのそら）</a><p>\\n【意味】男の女に対する愛情が、飽きやすく変わりやすいこと。<p>\\n63.<a href=\"https://100senmaru.com/mekaraur-316wq466/\">目から鱗が落ちる（めからうろこがおちる）</a><p>\\n【意味】あるきっかけで、今までよく分からなかった物事が急にはっきりわかるようになること。<p>\\n64.<a href=\"https://100senmaru.com/shiranug-9ilya5sj/\">知らぬが仏（しらぬがほとけ）</a><p>\\n【意味】知れば腹も立つが、知らないばかりに仏のように穏やかでいられるということ。また、実態を知らずに平然としている人をあざけっていう言葉。<p>\\n65.<a href=\"https://100senmaru.com/ishinoue-27cc9mhe/\">石の上にも三年（いしのうえにもさんねん）</a><p>\\n【意味】どんなに辛くても辛抱すれば、やがて成功するたとえ。<p>\\n66.<a href=\"https://100senmaru.com/ishibash-m1t7cifc/\">石橋を叩いて渡る（いしばしをたたいてわたる）</a><p>\\n【意味】用心の上にも用心を重ねて事を行うことのたとえ。<p>\\n67.<a href=\"https://100senmaru.com/akinasuh-1p2jt7hv/\">秋茄子は嫁に食わすな（あきなすはよめにくわすな）</a><p>\\n【意味】おいしい秋のなすは、もったいないから嫁には食べさせるなという姑の嫁いびりの言葉。<p>\\n68.<a href=\"https://100senmaru.com/nukaniku-rrkc04vu/\">糠に釘（ぬかにくぎ）</a><p>\\n【意味】糠に釘を打つように、少しの効き目も手ごたえもないこと。<p>\\n69.<a href=\"https://100senmaru.com/ennnoshi-j2iduyby/\">縁の下の力持ち（えんのしたのちからもち）</a><p>\\n【意味】人目につかないところで努力、苦労すること。または、そのような人。<p>\\n70.<a href=\"https://100senmaru.com/senihara-v2w6hx76/\">背に腹はかえられぬ（せにはらはかえられぬ）</a><p>\\n【意味】大事のためには、犠牲を払うのもやむを得ないというたとえ。<p>\\n71.<a href=\"https://100senmaru.com/nouaruta-c3nuf3w2/\">能ある鷹は爪を隠す（のうあるたかはつめをかくす）</a><p>\\n【意味】実力のある者は、むやみにそれを誇示することはしないという意味。<p>\\n72.<a href=\"https://100senmaru.com/ryouyaku-6xskpl0b/\">良薬は口に苦し（りょうやくはくちににがし）</a><p>\\n【意味】よく効く薬ほど苦くて飲みにくいこと。ためになる忠告ほど、当人は耳が痛くて聞きづらいというたとえ。<p>\\n73.<a href=\"https://100senmaru.com/abuhachi-8hdxwaua/\">虻蜂取らず（あぶはちとらず）</a><p>\\n【意味】同時に二つのものをねらって、両方とも得られないこと。<p>\\n74.<a href=\"https://100senmaru.com/shitashi-fw8mj840/\">親しき仲にも礼儀あり（したしきなかにもれいぎあり）</a><p>\\n【意味】親しい間柄でも礼儀を重んじるべきであるという意味。<p>\\n75.<a href=\"https://100senmaru.com/oyashira-exaff1od/\">親知らず子知らず（おやしらずこしらず）</a><p>\\n【意味】子を思う親の気持ちが通じないで、子が勝手気ままな振る舞いをすること。<p>\\n76.<a href=\"https://100senmaru.com/sawaranu-2lryolg9/\">触らぬ神に祟りなし（さわらぬかみにたたりなし）</a><p>\\n【意味】余計な口出しや手出しをしないほうがよい、という意味。<p>\\n77.<a href=\"https://100senmaru.com/ronnyori-j64mwzg4/\">論より証拠（ろんよりしょうこ）</a><p>\\n【意味】物事を明らかにするには、あれこれ論じるよりも証拠を出すほうが早いという意味。<p>\\n78.<a href=\"https://100senmaru.com/butanish-qkajuzwu/\">豚に真珠（ぶたにしんじゅ）</a><p>\\n【意味】どんな宝も価値のわからないものには、なんの値打ちもないことのたとえ。<p>\\n79.<a href=\"https://100senmaru.com/mikarade-u5d0tfij/\">身から出た錆（みからでたさび）</a><p>\\n【意味】自分自身で犯した悪行の結果として自分が苦しむこと。<p>\\n80.<a href=\"https://100senmaru.com/tookunos-z5e0t2uy/\">遠くの親戚より近くの他人（とおくのしんせきよりちかくのたにん）</a><p>\\n【意味】遠くにいたり疎遠にしている親戚よりも、近所の他人の方が頼りになるということ。</p> <p>81.<a href=\"https://100senmaru.com/gouniitt-enjdwnxk/\">郷に入っては郷に従え（ごうにいってはごうにしたがえ）</a><p>\\n【意味】場所によって風俗や習慣が違うので、住む土地の習慣や慣習に従うのがよいということ。<p>\\n82.<a href=\"https://100senmaru.com/tetsuhaa-kd4zfdwh/\">鉄は熱いうちに打て（てつはあついうちにうて）</a><p>\\n【意味】また、好機を逸してはいけないという意味。<p>\\n83.<a href=\"https://100senmaru.com/nagaimon-avumkx6u/\">長い物には巻かれろ（ながいものにはまかれろ）</a><p>\\n【意味】目上の者や勢力や権力の強い相手に対しては反抗せず、それに従ったほうが得策だという意。<p>\\n84.<a href=\"https://100senmaru.com/atamakak-nbh7jowu/\">頭隠して尻隠さず（あたまかくしてしりかくさず）</a><p>\\n【意味】一部だけ隠して、全部を隠したつもりになっている様子のこと。<p>\\n85.<a href=\"https://100senmaru.com/tonndehi-kk4hm1d4/\">飛んで火に入る夏の虫（とんでひにいるなつのむし）</a><p>\\n【意味】自分から進んで危険や災難に関わりあうことのたとえ。<p>\\n86.<a href=\"https://100senmaru.com/kaiinuni-8xh6vnc5/\">飼い犬に手を噛まれる（かいいぬにてをかまれる）</a><p>\\n【意味】思いがけずに裏切られたり、害を受けたりすること。<p>\\n87.<a href=\"https://100senmaru.com/mochiham-om57psil/\">餅は餅屋（もちはもちや）</a><p>\\n【意味】何事にもそれぞれ専門家がおり、素人はとてもかなわないというたとえ。<p>\\n88.<a href=\"https://100senmaru.com/umanomim-4q6r5mud/\">馬の耳に念仏（うまのみみにねんぶつ）</a><p>\\n【意味】人がいくら意見しても全く効き目のないこと。<p>\\n89.<a href=\"https://100senmaru.com/oninikan-64bmumu3/\">鬼に金棒（おににかなぼう）</a><p>\\n【意味】強い鬼にさらに金棒を持たせること。強いものに、さらに強さを加えるたとえ。<p>\\n90.<a href=\"https://100senmaru.com/uogokoro-c5n0hnvy/\">魚心あれば水心（うおごころあればみずごころ）</a><p>\\n【意味】相手の態度や行動により、こちらの対応や振る舞いも決まるという意味。<p>\\n91.<a href=\"https://100senmaru.com/hetanate-42wakxs3/\">下手な鉄砲も数撃ちゃ当たる（へたなてっぽうもかずうちゃあたる）</a><p>\\n【意味】数多く試みれば、まぐれ当たりで成功することもあるというたとえ。<p>\\n92.<a href=\"https://100senmaru.com/toranuta-4x4rippx/\">捕らぬ狸の皮算用（とらぬたぬきのかわざんよう）</a><p>\\n【意味】当てにならないことを当てにして計画を立てることのたとえ。まだ捕まえていない狸の皮の価格を計算することから。<p>\\n93.<a href=\"https://100senmaru.com/yanagino-vnrvvdud/\">柳の下の泥鰌（やなぎのしたのどじょう）</a><p>\\n【意味】偶然によいことが起こったからといって、同じ方法で得られるとは限らないという意味。<p>\\n94.<a href=\"https://100senmaru.com/rakuareb-tpleuv47/\">楽あれば苦あり（らくあればくあり）</a><p>\\n【意味】人生はいつも楽しいことばかりではなく苦しいこともある、逆に苦しいことばかりではなく楽しいこともあるという意味。<p>\\n95.<a href=\"https://100senmaru.com/dorobouw-xz06vaft/\">泥棒を捕らえて縄を綯う（どろぼうをとらえてなわをなう）</a><p>\\n【意味】事が起こってからあわてて用意をすること。<p>\\n96.<a href=\"https://100senmaru.com/wazawaiw-kp3viqrf/\">禍を転じて福と為す（わざわいをてんじてふくとなす）</a><p>\\n【意味】身にふりかかった災難を、自分の役に立つようにすること。<p>\\n97.<a href=\"https://100senmaru.com/waraukad-j3ef7im6/\">笑う門には福来たる（わらうかどにはふくきたる）</a><p>\\n【意味】いつも明るくにこにこしている家庭には、自然と幸福が訪れるということ。<p>\\n98.<a href=\"https://100senmaru.com/kiitegok-vb1x8vs7/\">聞いて極楽見て地獄（きいてごくらくみてじごく）</a><p>\\n【意味】人から聞いた話と、自分で実際に見たのでは、非常に差があるという意味。<p>\\n99.<a href=\"https://100senmaru.com/nigashit-sni6lw7v/\">逃がした魚は大きい（にがしたさかなはおおきい）</a><p>\\n【意味】手に入れ損なったものは、立派なものに思われるものである。<p>\\n100.<a href=\"https://100senmaru.com/kikuhait-j316xpsb/\">聞くは一時の恥、聞かぬは一生の恥（きくはいっときのはじ、きかぬはいっしょうのはじ）</a><p>\\n【意味】知らないことを聞くのはその時だけで済むが、聞かなければ一生恥ずかしい思いをして過ごすという意味。”</p> <p>有名なことわざを100個、有名順に並べました。</p> <p>1.<a href=\"https://100senmaru.com/nanakoro-57cz9d2h/\">七転び八起き（ななころびやおき）</a><p>\\n【意味】何度失敗してもめげず、奮起して頑張ること。<p>\\n2.<a href=\"https://100senmaru.com/mitsugon-sw2hzswz/\">三つ子の魂百まで（みつごのたましいひゃくまで）</a><p>\\n【意味】幼い時の性格は、年をとっても変わらないということ。<p>\\n3.<a href=\"https://100senmaru.com/sonaeare-y6baw6is/\">備えあれば憂いなし（そなえあればうれいなし）</a><p>\\n【意味】日頃から準備をしていれば、万一の事が起こっても心配することはないということ。<p>\\n4.<a href=\"https://100senmaru.com/nemimini-f427fuwa/\">寝耳に水（ねみみにみず）</a><p>\\n【意味】不意の出来事や知らせに驚き慌てるたとえ。<p>\\n5.<a href=\"https://100senmaru.com/koukaisa-2062b2v7/\">後悔先に立たず（こうかいさきにたたず）</a><p>\\n【意味】事が終わった後でいくら悔やんでも、手遅れで取り返しはつかない。<p>\\n6.<a href=\"https://100senmaru.com/nasakeha-ibpnjvpx/\">情けは人の為ならず（なさけはひとのためならず）</a><p>\\n【意味】人に情けをかけることは、相手のみならず、巡り巡ってやがて自分にも良い形で返ってくるという意味。<p>\\n7.<a href=\"https://100senmaru.com/hayaokih-za0qvrcc/\">早起きは三文の徳（はやおきはさんもんのとく）</a><p>\\n【意味】早起きは何かしら良いことがあるということわざ。<p>\\n8.<a href=\"https://100senmaru.com/norennni-h7ghjewf/\">暖簾に腕押し（のれんにうでおし）</a><p>\\n【意味】手ごたえや張り合いのないこと。<p>\\n9.<a href=\"https://100senmaru.com/tanakara-ezn4t0x5/\">棚から牡丹餅（たなからぼたもち）</a><p>\\n【意味】労せずして思いがけない幸運を得ること。<p>\\n10.<a href=\"https://100senmaru.com/hyakubun-uunq12vj/\">百聞は一見にしかず（ひゃくぶんはいっけんにしかず）</a><p>\\n【意味】人から何回も話を聞くより、直接見てしまったほうがよいこと。<p>\\n11.<a href=\"https://100senmaru.com/tatsutor-3882ywzj/\">立つ鳥跡を濁さず（たつとりあとをにごさず）</a><p>\\n【意味】立ち去る者は、きれいに後始末すべきであるという意味。<p>\\n12.<a href=\"https://100senmaru.com/aunnnoko-5xh4dtga/\">阿吽の呼吸（あうんのこきゅう）</a><p>\\n【意味】互いの微妙な気持ちや調子のこと。また、それがぴったり合うこと。<p>\\n13.<a href=\"https://100senmaru.com/kazegafu-3z5t4ao8/\">風が吹けば桶屋が儲かる（かぜがふけばおけやがもうかる）</a><p>\\n【意味】一つの事件が、めぐりめぐって意外なところに影響が出る<p>\\n14.<a href=\"https://100senmaru.com/donnguri-hwjmxwgh/\">どんぐりの背比べ（どんぐりのせいくらべ）</a><p>\\n【意味】どれもこれも平凡で、秀でたものがいないこと。<p>\\n15.<a href=\"https://100senmaru.com/miirator-ezvvhn10/\">ミイラ取りがミイラになる（みいらとりがみいらになる）</a><p>\\n【意味】人を連れ戻しに行った者が、先方に留まって帰ってこないこと。<p>\\n16.<a href=\"https://100senmaru.com/sannninn-kxotbcxz/\">三人寄れば文殊の知恵（さんにんよればもんじゅのちえ）</a><p>\\n【意味】凡人でも三人集まって相談すれば、よい知恵がでるものだという意味。<p>\\n17.<a href=\"https://100senmaru.com/hetanoyo-s2l81okd/\">下手の横好き（へたのよこずき）</a><p>\\n【意味】下手なくせに、その事が非常に好きで熱心なこと。<p>\\n18.<a href=\"https://100senmaru.com/kamenoko-teh09u45/\">亀の甲より年の功（かめのこうよりとしのこう）</a><p>\\n【意味】年長者の経験や知恵は尊ぶべきであるという意味。<p>\\n19.<a href=\"https://100senmaru.com/nidoaruk-z2grsegg/\">二度あることは三度ある（にどあることはさんどある）</a><p>\\n【意味】物事は繰り返されるものであるという意味。<p>\\n20.<a href=\"https://100senmaru.com/nitowoou-l1hfoe3z/\">二兎を追う者は一兎をも得ず（にとをおうものはいっともえず）</a><p>\\n【意味】同時に二つのことをしようとすれば、結局どちらも成功しないという意味。</p> <p>21.<a href=\"https://100senmaru.com/nikaikar-z32idaqk/\">二階から目薬（にかいからめぐすり）</a><p>\\n【意味】意のままにならずもどかしいこと。また、遠回りしすぎて、効き目のないこと。<p>\\n22.<a href=\"https://100senmaru.com/inonakan-l5izn407/\">井の中の蛙大海を知らず（いのなかのかわずたいかいをしらず）</a><p>\\n【意味】他に広い世界があることを知らずに、自分の周りの狭い見識や知識にとらわれている人を嘲笑する言葉。<p>\\n23.<a href=\"https://100senmaru.com/hitonouw-9dm4ej5n/\">人の噂も七十五日（ひとのうわさもしちじゅうごにち）</a><p>\\n【意味】世間の噂は一時のことで、しばらくすれば忘れられるものであるという意味。<p>\\n24.<a href=\"https://100senmaru.com/hitonofu-1ucew0t6/\">人の振り見て我が振り直せ（ひとのふりみてわがふりなおせ）</a><p>\\n【意味】他人の言動を見て、自分の行いを反省し、改めよという意味。<p>\\n25.<a href=\"https://100senmaru.com/hotokeno-1lerzfeg/\">仏の顔も三度まで（ほとけのかおもさんどまで）</a><p>\\n【意味】どんなに温和な人でも、何度も無礼なことをされれば腹を立てるというたとえ。<p>\\n26.<a href=\"https://100senmaru.com/derukuih-cw39pp5a/\">出る杭は打たれる（でるくいはうたれる）</a><p>\\n【意味】才能があって頭角を現す人は、とかく人から憎まれるということ。<p>\\n27.<a href=\"https://100senmaru.com/sennrino-io6tzoto/\">千里の道も一歩から（せんりのみちもいっぽから）</a><p>\\n【意味】遠大な事業も、手近なところから始まるたとえ。<p>\\n28.<a href=\"https://100senmaru.com/kuchihaw-0g0l6hps/\">口は災いの元（くちはわざわいのもと）</a><p>\\n【意味】不用意な発言は注意せよという意味。<p>\\n29.<a href=\"https://100senmaru.com/kawaiiko-iht1jbcm/\">可愛い子には旅をさせよ（かわいいこにはたびをさせよ）</a><p>\\n【意味】自分の子なら、甘やかさずに世の中のつらさや苦しみを経験させたほうがよい。<p>\\n30.<a href=\"https://100senmaru.com/inochiat-h92adx47/\">命あっての物種（いのちあってのものだね）</a><p>\\n【意味】何事も命があるからこそできるから、命に関わるような危険なことはく避けよという意味。<p>\\n31.<a href=\"https://100senmaru.com/zennhais-ayr1kz86/\">善は急げ（ぜんはいそげ）</a><p>\\n【意味】よいと思ったことは、ためらわずにただちに実行すべきであるという意味。<p>\\n32.<a href=\"https://100senmaru.com/nodomoto-iscdh29i/\">喉元過ぎれば熱さを忘れる（のどもとすぎればあつさをわすれる）</a><p>\\n【意味】苦しかった時に助けてもらったことも、楽になればその恩義を忘れてしまうという意味。<p>\\n33.<a href=\"https://100senmaru.com/chirimot-7faby3h3/\">塵も積もれば山となる（ちりもつもればやまとなる）</a><p>\\n【意味】塵のようにごくわずかなものでも、積もれば高大なものとなるたとえ。<p>\\n34.<a href=\"https://100senmaru.com/daihasho-4f65los9/\">大は小を兼ねる（だいはしょうをかねる）</a><p>\\n【意味】大きいものは、小さいものの役割をはたすことができる。<p>\\n35.<a href=\"https://100senmaru.com/fuufugen-ckj75tbr/\">夫婦喧嘩は犬も食わない（ふうふげんかはいぬもくわない）</a><p>\\n【意味】夫婦喧嘩に他人が仲裁に入る必要がないという意味。<p>\\n36.<a href=\"https://100senmaru.com/sukikoso-dsdpjdb0/\">好きこそ物の上手なれ（すきこそもののじょうずなれ）</a><p>\\n【意味】好きなことには自然とそれに熱中するから、上達が早いという意味。<p>\\n37.<a href=\"https://100senmaru.com/yasumono-882kdsuz/\">安物買いの銭失い（やすものがいのぜにうしない）</a><p>\\n【意味】安物ほど、すぐに壊れて使い物にならなくなるので、結局は高い買い物をするという意味。<p>\\n38.<a href=\"https://100senmaru.com/koubouni-wg9i0aip/\">弘法にも筆の誤り（こうぼうにもふでのあやまり）</a><p>\\n【意味】その道にすぐれている人でも、時には失敗することがあるという意味。<p>\\n39.<a href=\"https://100senmaru.com/yowarime-ye0pdgw9/\">弱り目に祟り目（よわりめにたたりめ）</a><p>\\n【意味】弱っている時に、さらに困ったことが起こることから、不運が重なること。<p>\\n40.<a href=\"https://100senmaru.com/atohanot-afnn007s/\">後は野となれ山となれ（あとはのとなれやまとなれ）</a><p>\\n【意味】目前の問題さえ片付けば、あとはどうなってもよいということ。</p> <p>41.<a href=\"https://100senmaru.com/isogabam-t6rfbtrm/\">急がば回れ（いそがばまわれ）</a><p>\\n【意味】急いでいるときほど、危険な近道より、多少遠くても安全な道を行くほうが良いという意味。<p>\\n42.<a href=\"https://100senmaru.com/sonnshit-u75rjqmi/\">損して得取れ（そんしてとくとれ）</a><p>\\n【意味】一時は損をしても、先の大きな利益を得るようにせよという意味。<p>\\n43.<a href=\"https://100senmaru.com/mukashit-j3yj2mje/\">昔取った杵柄（むかしとったきねづか）</a><p>\\n【意味】若い頃に習得した技量や腕前のこと。また、年月を経てもそれが衰えず十分に発揮できること。<p>\\n44.<a href=\"https://100senmaru.com/tokihaka-aohhs3x0/\">時は金なり（ときはかねなり）</a><p>\\n【意味】時間は貴重であるから、浪費してはならない。時間の貴さを教えることば。<p>\\n45.<a href=\"https://100senmaru.com/tsukitos-l5jdlb33/\">月とすっぽん（つきとすっぽん）</a><p>\\n【意味】よい事にはとかくさしさわりが多いこと。<p>\\n46.<a href=\"https://100senmaru.com/kiwomite-owq9xmzf/\">木を見て森を見ず（きをみてもりをみず）</a><p>\\n【意味】小さいことや些細なことにこだわって、全体を見失うことのたとえ。<p>\\n47.<a href=\"https://100senmaru.com/shunimaj-u9ii0ovc/\">朱に交われば赤くなる（しゅにまじわればあかくなる）</a><p>\\n【意味】人は交際する人間しだいで善くも悪くもなるというたとえ。<p>\\n48.<a href=\"https://100senmaru.com/momokuri-o6s83h7c/\">桃栗三年柿八年（ももくりさんねんかきはちねん）</a><p>\\n【意味】何事も成果がでるまでに相応の年月がかかること。<p>\\n49.<a href=\"https://100senmaru.com/annzuruy-pbcrqb6a/\">案ずるより産むが易し（あんずるよりうむがやすし）</a><p>\\n【意味】物事は、実際に行ってみると、事前にあれこれ心配していたより案外たやすくできるものだという意味。<p>\\n50.<a href=\"https://100senmaru.com/nakittsu-w8s7dhza/\">泣きっ面に蜂（なきっつらにはち）</a><p>\\n【意味】不幸や不運が重なって起こること。<p>\\n51.<a href=\"https://100senmaru.com/ebidetai-i9lrspqw/\">海老で鯛を釣る（えびでたいをつる）</a><p>\\n【意味】わずかな元手や労力で、大きな利益を得ること。<p>\\n52.<a href=\"https://100senmaru.com/nuretede-m3n2cbd8/\">濡れ手で粟（ぬれてであわ）</a><p>\\n【意味】苦労せずに楽々と利益を得ることのたとえ。濡れた手で粟を掴むと、手に粟粒がたくさん付いてくることから。<p>\\n53.<a href=\"https://100senmaru.com/kachuuno-tz328e3a/\">火中の栗を拾う（かちゅうのくりをひろう）</a><p>\\n【意味】自分の利益にならないのに、他人のために危険を冒すこと。<p>\\n53.<a href=\"https://100senmaru.com/kachuuno-qw2zv84t/\">火中の栗を拾う（かちゅうのくりをひろう）</a><p>\\n【意味】自分の利益にならないのに、他人のために危険を冒すこと。<p>\\n54.<a href=\"https://100senmaru.com/toudaimo-jka3ig3c/\">灯台下暗し（とうだいもとくらし）</a><p>\\n【意味】身近な事はかえって気付かず見落としがちなこと。<p>\\n55.<a href=\"https://100senmaru.com/naisodeh-muasxog1/\">無い袖は振れない（ないそではふれない）</a><p>\\n【意味】持っていないものはどうしてやることもできない。<p>\\n56.<a href=\"https://100senmaru.com/yakeishi-dvuwib1y/\">焼け石に水（やけいしにみず）</a><p>\\n【意味】ちょっとした努力や援助では、意味がないということ。<p>\\n57.<a href=\"https://100senmaru.com/inumoaru-dc04o5of/\">犬も歩けば棒に当たる（いぬもあるけばぼうにあたる）</a><p>\\n【意味】何かをしようとすると、災難に遭うことが多いという意味。また、思いがけない幸運に出会うこと。<p>\\n58.<a href=\"https://100senmaru.com/kennennn-vv8ovu23/\">犬猿の仲（けんえんのなか）</a><p>\\n【意味】何かにつけていがみ合うような、仲が悪い間柄のたとえ。<p>\\n59.<a href=\"https://100senmaru.com/nekoniko-mlq0rkt1/\">猫に小判（ねこにこばん）</a><p>\\n【意味】価値の分からぬ者に貴重なものを与えても無駄であること。<p>\\n60.<a href=\"https://100senmaru.com/nekonika-yb0xcd2n/\">猫に鰹節（ねこにかつおぶし）</a><p>\\n【意味】猫のそばに大好物の鰹節を置くこと。油断できないこと。</p> <p>61.<a href=\"https://100senmaru.com/sarumoki-rwuu0i1c/\">猿も木から落ちる（さるもきからおちる）</a><p>\\n【意味】その道に秀でた者でも、時には失敗することがあるという意味。<p>\\n62.<a href=\"https://100senmaru.com/otokogok-rqhu5qcs/\">男心と秋の空（おとこごころとあきのそら）</a><p>\\n【意味】男の女に対する愛情が、飽きやすく変わりやすいこと。<p>\\n63.<a href=\"https://100senmaru.com/mekaraur-316wq466/\">目から鱗が落ちる（めからうろこがおちる）</a><p>\\n【意味】あるきっかけで、今までよく分からなかった物事が急にはっきりわかるようになること。<p>\\n64.<a href=\"https://100senmaru.com/shiranug-9ilya5sj/\">知らぬが仏（しらぬがほとけ）</a><p>\\n【意味】知れば腹も立つが、知らないばかりに仏のように穏やかでいられるということ。また、実態を知らずに平然としている人をあざけっていう言葉。<p>\\n65.<a href=\"https://100senmaru.com/ishinoue-27cc9mhe/\">石の上にも三年（いしのうえにもさんねん）</a><p>\\n【意味】どんなに辛くても辛抱すれば、やがて成功するたとえ。<p>\\n66.<a href=\"https://100senmaru.com/ishibash-m1t7cifc/\">石橋を叩いて渡る（いしばしをたたいてわたる）</a><p>\\n【意味】用心の上にも用心を重ねて事を行うことのたとえ。<p>\\n67.<a href=\"https://100senmaru.com/akinasuh-1p2jt7hv/\">秋茄子は嫁に食わすな（あきなすはよめにくわすな）</a><p>\\n【意味】おいしい秋のなすは、もったいないから嫁には食べさせるなという姑の嫁いびりの言葉。<p>\\n68.<a href=\"https://100senmaru.com/nukaniku-rrkc04vu/\">糠に釘（ぬかにくぎ）</a><p>\\n【意味】糠に釘を打つように、少しの効き目も手ごたえもないこと。<p>\\n69.<a href=\"https://100senmaru.com/ennnoshi-j2iduyby/\">縁の下の力持ち（えんのしたのちからもち）</a><p>\\n【意味】人目につかないところで努力、苦労すること。または、そのような人。<p>\\n70.<a href=\"https://100senmaru.com/senihara-v2w6hx76/\">背に腹はかえられぬ（せにはらはかえられぬ）</a><p>\\n【意味】大事のためには、犠牲を払うのもやむを得ないというたとえ。<p>\\n71.<a href=\"https://100senmaru.com/nouaruta-c3nuf3w2/\">能ある鷹は爪を隠す（のうあるたかはつめをかくす）</a><p>\\n【意味】実力のある者は、むやみにそれを誇示することはしないという意味。<p>\\n72.<a href=\"https://100senmaru.com/ryouyaku-6xskpl0b/\">良薬は口に苦し（りょうやくはくちににがし）</a><p>\\n【意味】よく効く薬ほど苦くて飲みにくいこと。ためになる忠告ほど、当人は耳が痛くて聞きづらいというたとえ。<p>\\n73.<a href=\"https://100senmaru.com/abuhachi-8hdxwaua/\">虻蜂取らず（あぶはちとらず）</a><p>\\n【意味】同時に二つのものをねらって、両方とも得られないこと。<p>\\n74.<a href=\"https://100senmaru.com/shitashi-fw8mj840/\">親しき仲にも礼儀あり（したしきなかにもれいぎあり）</a><p>\\n【意味】親しい間柄でも礼儀を重んじるべきであるという意味。<p>\\n75.<a href=\"https://100senmaru.com/oyashira-exaff1od/\">親知らず子知らず（おやしらずこしらず）</a><p>\\n【意味】子を思う親の気持ちが通じないで、子が勝手気ままな振る舞いをすること。<p>\\n76.<a href=\"https://100senmaru.com/sawaranu-2lryolg9/\">触らぬ神に祟りなし（さわらぬかみにたたりなし）</a><p>\\n【意味】余計な口出しや手出しをしないほうがよい、という意味。<p>\\n77.<a href=\"https://100senmaru.com/ronnyori-j64mwzg4/\">論より証拠（ろんよりしょうこ）</a><p>\\n【意味】物事を明らかにするには、あれこれ論じるよりも証拠を出すほうが早いという意味。<p>\\n78.<a href=\"https://100senmaru.com/butanish-qkajuzwu/\">豚に真珠（ぶたにしんじゅ）</a><p>\\n【意味】どんな宝も価値のわからないものには、なんの値打ちもないことのたとえ。<p>\\n79.<a href=\"https://100senmaru.com/mikarade-u5d0tfij/\">身から出た錆（みからでたさび）</a><p>\\n【意味】自分自身で犯した悪行の結果として自分が苦しむこと。<p>\\n80.<a href=\"https://100senmaru.com/tookunos-z5e0t2uy/\">遠くの親戚より近くの他人（とおくのしんせきよりちかくのたにん）</a><p>\\n【意味】遠くにいたり疎遠にしている親戚よりも、近所の他人の方が頼りになるということ。</p> <p>81.<a href=\"https://100senmaru.com/gouniitt-enjdwnxk/\">郷に入っては郷に従え（ごうにいってはごうにしたがえ）</a><p>\\n【意味】場所によって風俗や習慣が違うので、住む土地の習慣や慣習に従うのがよいということ。<p>\\n82.<a href=\"https://100senmaru.com/tetsuhaa-kd4zfdwh/\">鉄は熱いうちに打て（てつはあついうちにうて）</a><p>\\n【意味】また、好機を逸してはいけないという意味。<p>\\n83.<a href=\"https://100senmaru.com/nagaimon-avumkx6u/\">長い物には巻かれろ（ながいものにはまかれろ）</a><p>\\n【意味】目上の者や勢力や権力の強い相手に対しては反抗せず、それに従ったほうが得策だという意。<p>\\n84.<a href=\"https://100senmaru.com/atamakak-nbh7jowu/\">頭隠して尻隠さず（あたまかくしてしりかくさず）</a><p>\\n【意味】一部だけ隠して、全部を隠したつもりになっている様子のこと。<p>\\n85.<a href=\"https://100senmaru.com/tonndehi-kk4hm1d4/\">飛んで火に入る夏の虫（とんでひにいるなつのむし）</a><p>\\n【意味】自分から進んで危険や災難に関わりあうことのたとえ。<p>\\n86.<a href=\"https://100senmaru.com/kaiinuni-8xh6vnc5/\">飼い犬に手を噛まれる（かいいぬにてをかまれる）</a><p>\\n【意味】思いがけずに裏切られたり、害を受けたりすること。<p>\\n87.<a href=\"https://100senmaru.com/mochiham-om57psil/\">餅は餅屋（もちはもちや）</a><p>\\n【意味】何事にもそれぞれ専門家がおり、素人はとてもかなわないというたとえ。<p>\\n88.<a href=\"https://100senmaru.com/umanomim-4q6r5mud/\">馬の耳に念仏（うまのみみにねんぶつ）</a><p>\\n【意味】人がいくら意見しても全く効き目のないこと。<p>\\n89.<a href=\"https://100senmaru.com/oninikan-64bmumu3/\">鬼に金棒（おににかなぼう）</a><p>\\n【意味】強い鬼にさらに金棒を持たせること。強いものに、さらに強さを加えるたとえ。<p>\\n90.<a href=\"https://100senmaru.com/uogokoro-c5n0hnvy/\">魚心あれば水心（うおごころあればみずごころ）</a><p>\\n【意味】相手の態度や行動により、こちらの対応や振る舞いも決まるという意味。<p>\\n91.<a href=\"https://100senmaru.com/hetanate-42wakxs3/\">下手な鉄砲も数撃ちゃ当たる（へたなてっぽうもかずうちゃあたる）</a><p>\\n【意味】数多く試みれば、まぐれ当たりで成功することもあるというたとえ。<p>\\n92.<a href=\"https://100senmaru.com/toranuta-4x4rippx/\">捕らぬ狸の皮算用（とらぬたぬきのかわざんよう）</a><p>\\n【意味】当てにならないことを当てにして計画を立てることのたとえ。まだ捕まえていない狸の皮の価格を計算することから。<p>\\n93.<a href=\"https://100senmaru.com/yanagino-vnrvvdud/\">柳の下の泥鰌（やなぎのしたのどじょう）</a><p>\\n【意味】偶然によいことが起こったからといって、同じ方法で得られるとは限らないという意味。<p>\\n94.<a href=\"https://100senmaru.com/rakuareb-tpleuv47/\">楽あれば苦あり（らくあればくあり）</a><p>\\n【意味】人生はいつも楽しいことばかりではなく苦しいこともある、逆に苦しいことばかりではなく楽しいこともあるという意味。<p>\\n95.<a href=\"https://100senmaru.com/dorobouw-xz06vaft/\">泥棒を捕らえて縄を綯う（どろぼうをとらえてなわをなう）</a><p>\\n【意味】事が起こってからあわてて用意をすること。<p>\\n96.<a href=\"https://100senmaru.com/wazawaiw-kp3viqrf/\">禍を転じて福と為す（わざわいをてんじてふくとなす）</a><p>\\n【意味】身にふりかかった災難を、自分の役に立つようにすること。<p>\\n97.<a href=\"https://100senmaru.com/waraukad-j3ef7im6/\">笑う門には福来たる（わらうかどにはふくきたる）</a><p>\\n【意味】いつも明るくにこにこしている家庭には、自然と幸福が訪れるということ。<p>\\n98.<a href=\"https://100senmaru.com/kiitegok-vb1x8vs7/\">聞いて極楽見て地獄（きいてごくらくみてじごく）</a><p>\\n【意味】人から聞いた話と、自分で実際に見たのでは、非常に差があるという意味。<p>\\n99.<a href=\"https://100senmaru.com/nigashit-sni6lw7v/\">逃がした魚は大きい（にがしたさかなはおおきい）</a><p>\\n【意味】手に入れ損なったものは、立派なものに思われるものである。<p>\\n100.<a href=\"https://100senmaru.com/kikuhait-j316xpsb/\">聞くは一時の恥、聞かぬは一生の恥（きくはいっときのはじ、きかぬはいっしょうのはじ）</a><p>\\n【意味】知らないことを聞くのはその時だけで済むが、聞かなければ一生恥ずかしい思いをして過ごすという意味。”</p>'"
      ]
     },
     "execution_count": 37,
     "metadata": {},
     "output_type": "execute_result"
    }
   ],
   "source": [
    "ptag = list(soup.select('p'))\n",
    "# sp_ptag = []\n",
    "for i in ptag:\n",
    "    temp = str(i)\n",
    "    temp = temp.replace('<br/>', '<p>')\n",
    "#     for j in temp:\n",
    "    sp_ptag.append(temp)\n",
    "' '.join(sp_ptag)"
   ]
  },
  {
   "cell_type": "code",
   "execution_count": 59,
   "id": "351a8bc0",
   "metadata": {},
   "outputs": [],
   "source": [
    "import re"
   ]
  },
  {
   "cell_type": "markdown",
   "id": "82dba211",
   "metadata": {},
   "source": [
    "> 그 결과로 긁어 온 [정규식](https://code-study.tistory.com/55). 왜 긁어 왔는지 참고하셈. "
   ]
  },
  {
   "cell_type": "code",
   "execution_count": 82,
   "id": "770682fb",
   "metadata": {},
   "outputs": [],
   "source": [
    "new = []\n",
    "for i in sp_ptag:\n",
    "    new.append(re.sub('(<([^>]+)>)', '', i))"
   ]
  },
  {
   "cell_type": "markdown",
   "id": "b7997eba",
   "metadata": {},
   "source": [
    "> 제목을 잡아 올랬는데 이것만 한시간... 결국 못.... ㅠㅠ"
   ]
  },
  {
   "cell_type": "code",
   "execution_count": 146,
   "id": "f5b23bfe",
   "metadata": {
    "collapsed": true
   },
   "outputs": [
    {
     "ename": "ValueError",
     "evalue": "DataFrame constructor not properly called!",
     "output_type": "error",
     "traceback": [
      "\u001b[1;31m---------------------------------------------------------------------------\u001b[0m",
      "\u001b[1;31mValueError\u001b[0m                                Traceback (most recent call last)",
      "\u001b[1;32m<ipython-input-146-5986d594fa09>\u001b[0m in \u001b[0;36m<module>\u001b[1;34m\u001b[0m\n\u001b[0;32m      1\u001b[0m \u001b[0mnew0\u001b[0m \u001b[1;33m=\u001b[0m \u001b[0mnew\u001b[0m\u001b[1;33m[\u001b[0m\u001b[1;36m0\u001b[0m\u001b[1;33m]\u001b[0m\u001b[1;33m\u001b[0m\u001b[1;33m\u001b[0m\u001b[0m\n\u001b[1;32m----> 2\u001b[1;33m \u001b[0mnew0\u001b[0m \u001b[1;33m=\u001b[0m \u001b[0mpd\u001b[0m\u001b[1;33m.\u001b[0m\u001b[0mDataFrame\u001b[0m\u001b[1;33m(\u001b[0m\u001b[0mnew0\u001b[0m\u001b[1;33m)\u001b[0m\u001b[1;33m\u001b[0m\u001b[1;33m\u001b[0m\u001b[0m\n\u001b[0m",
      "\u001b[1;32m~\\anaconda3\\lib\\site-packages\\pandas\\core\\frame.py\u001b[0m in \u001b[0;36m__init__\u001b[1;34m(self, data, index, columns, dtype, copy)\u001b[0m\n\u001b[0;32m    728\u001b[0m         \u001b[1;32melse\u001b[0m\u001b[1;33m:\u001b[0m\u001b[1;33m\u001b[0m\u001b[1;33m\u001b[0m\u001b[0m\n\u001b[0;32m    729\u001b[0m             \u001b[1;32mif\u001b[0m \u001b[0mindex\u001b[0m \u001b[1;32mis\u001b[0m \u001b[1;32mNone\u001b[0m \u001b[1;32mor\u001b[0m \u001b[0mcolumns\u001b[0m \u001b[1;32mis\u001b[0m \u001b[1;32mNone\u001b[0m\u001b[1;33m:\u001b[0m\u001b[1;33m\u001b[0m\u001b[1;33m\u001b[0m\u001b[0m\n\u001b[1;32m--> 730\u001b[1;33m                 \u001b[1;32mraise\u001b[0m \u001b[0mValueError\u001b[0m\u001b[1;33m(\u001b[0m\u001b[1;34m\"DataFrame constructor not properly called!\"\u001b[0m\u001b[1;33m)\u001b[0m\u001b[1;33m\u001b[0m\u001b[1;33m\u001b[0m\u001b[0m\n\u001b[0m\u001b[0;32m    731\u001b[0m \u001b[1;33m\u001b[0m\u001b[0m\n\u001b[0;32m    732\u001b[0m             \u001b[1;31m# Argument 1 to \"ensure_index\" has incompatible type \"Collection[Any]\";\u001b[0m\u001b[1;33m\u001b[0m\u001b[1;33m\u001b[0m\u001b[1;33m\u001b[0m\u001b[0m\n",
      "\u001b[1;31mValueError\u001b[0m: DataFrame constructor not properly called!"
     ]
    }
   ],
   "source": [
    "new0 = new[0]\n",
    "new0 = pd.DataFrame(new0)"
   ]
  },
  {
   "cell_type": "markdown",
   "id": "2ad80f12",
   "metadata": {},
   "source": [
    "> 그렇게 해메었는데도 문장간이 붙어있어서 2중리스트라 인덱스별로 나눠줌"
   ]
  },
  {
   "cell_type": "code",
   "execution_count": 87,
   "id": "d34381e5",
   "metadata": {},
   "outputs": [],
   "source": [
    "new1 = new[1].split(\"\\n\")\n",
    "new2 = new[2].split(\"\\n\")\n",
    "new3 = new[3].split(\"\\n\")\n",
    "new4 = new[4].split(\"\\n\")\n",
    "new5 = new[5].split(\"\\n\")"
   ]
  },
  {
   "cell_type": "markdown",
   "id": "7851510e",
   "metadata": {},
   "source": [
    "> 개별 데이타후렘화"
   ]
  },
  {
   "cell_type": "code",
   "execution_count": 164,
   "id": "8eb26501",
   "metadata": {
    "scrolled": true
   },
   "outputs": [],
   "source": [
    "# new0 = pd.DataFrame(new[0])\n",
    "new1 = pd.DataFrame(new1)\n",
    "new2 = pd.DataFrame(new2)\n",
    "new3 = pd.DataFrame(new3)\n",
    "new4 = pd.DataFrame(new4)\n",
    "new5 = pd.DataFrame(new5)"
   ]
  },
  {
   "cell_type": "markdown",
   "id": "f69612ce",
   "metadata": {},
   "source": [
    "> 이건 뭐.. 말안해도...."
   ]
  },
  {
   "cell_type": "code",
   "execution_count": 143,
   "id": "73e28535",
   "metadata": {
    "scrolled": true
   },
   "outputs": [],
   "source": [
    "final = pd.concat([new1, new2, new3, new4, new5])"
   ]
  },
  {
   "cell_type": "code",
   "execution_count": 144,
   "id": "9e48f572",
   "metadata": {},
   "outputs": [
    {
     "data": {
      "text/html": [
       "<div>\n",
       "<style scoped>\n",
       "    .dataframe tbody tr th:only-of-type {\n",
       "        vertical-align: middle;\n",
       "    }\n",
       "\n",
       "    .dataframe tbody tr th {\n",
       "        vertical-align: top;\n",
       "    }\n",
       "\n",
       "    .dataframe thead th {\n",
       "        text-align: right;\n",
       "    }\n",
       "</style>\n",
       "<table border=\"1\" class=\"dataframe\">\n",
       "  <thead>\n",
       "    <tr style=\"text-align: right;\">\n",
       "      <th></th>\n",
       "      <th>0</th>\n",
       "    </tr>\n",
       "  </thead>\n",
       "  <tbody>\n",
       "    <tr>\n",
       "      <th>0</th>\n",
       "      <td>1.七転び八起き（ななころびやおき）</td>\n",
       "    </tr>\n",
       "    <tr>\n",
       "      <th>1</th>\n",
       "      <td>【意味】何度失敗してもめげず、奮起して頑張ること。</td>\n",
       "    </tr>\n",
       "    <tr>\n",
       "      <th>2</th>\n",
       "      <td>2.三つ子の魂百まで（みつごのたましいひゃくまで）</td>\n",
       "    </tr>\n",
       "    <tr>\n",
       "      <th>3</th>\n",
       "      <td>【意味】幼い時の性格は、年をとっても変わらないということ。</td>\n",
       "    </tr>\n",
       "    <tr>\n",
       "      <th>4</th>\n",
       "      <td>3.備えあれば憂いなし（そなえあればうれいなし）</td>\n",
       "    </tr>\n",
       "    <tr>\n",
       "      <th>...</th>\n",
       "      <td>...</td>\n",
       "    </tr>\n",
       "    <tr>\n",
       "      <th>35</th>\n",
       "      <td>【意味】人から聞いた話と、自分で実際に見たのでは、非常に差があるという意味。</td>\n",
       "    </tr>\n",
       "    <tr>\n",
       "      <th>36</th>\n",
       "      <td>99.逃がした魚は大きい（にがしたさかなはおおきい）</td>\n",
       "    </tr>\n",
       "    <tr>\n",
       "      <th>37</th>\n",
       "      <td>【意味】手に入れ損なったものは、立派なものに思われるものである。</td>\n",
       "    </tr>\n",
       "    <tr>\n",
       "      <th>38</th>\n",
       "      <td>100.聞くは一時の恥、聞かぬは一生の恥（きくはいっときのはじ、きかぬはいっしょうのはじ）</td>\n",
       "    </tr>\n",
       "    <tr>\n",
       "      <th>39</th>\n",
       "      <td>【意味】知らないことを聞くのはその時だけで済むが、聞かなければ一生恥ずかしい思いをして過ごす...</td>\n",
       "    </tr>\n",
       "  </tbody>\n",
       "</table>\n",
       "<p>202 rows × 1 columns</p>\n",
       "</div>"
      ],
      "text/plain": [
       "                                                    0\n",
       "0                                  1.七転び八起き（ななころびやおき）\n",
       "1                           【意味】何度失敗してもめげず、奮起して頑張ること。\n",
       "2                           2.三つ子の魂百まで（みつごのたましいひゃくまで）\n",
       "3                       【意味】幼い時の性格は、年をとっても変わらないということ。\n",
       "4                            3.備えあれば憂いなし（そなえあればうれいなし）\n",
       "..                                                ...\n",
       "35             【意味】人から聞いた話と、自分で実際に見たのでは、非常に差があるという意味。\n",
       "36                         99.逃がした魚は大きい（にがしたさかなはおおきい）\n",
       "37                   【意味】手に入れ損なったものは、立派なものに思われるものである。\n",
       "38      100.聞くは一時の恥、聞かぬは一生の恥（きくはいっときのはじ、きかぬはいっしょうのはじ）\n",
       "39  【意味】知らないことを聞くのはその時だけで済むが、聞かなければ一生恥ずかしい思いをして過ごす...\n",
       "\n",
       "[202 rows x 1 columns]"
      ]
     },
     "execution_count": 144,
     "metadata": {},
     "output_type": "execute_result"
    }
   ],
   "source": [
    "final"
   ]
  },
  {
   "cell_type": "code",
   "execution_count": null,
   "id": "8b1e4842",
   "metadata": {},
   "outputs": [],
   "source": []
  },
  {
   "cell_type": "code",
   "execution_count": null,
   "id": "cebedfdc",
   "metadata": {},
   "outputs": [],
   "source": []
  },
  {
   "cell_type": "markdown",
   "id": "9e314db0",
   "metadata": {},
   "source": [
    "# 도저히 제목을 0번위에 다가 올리지를 못하겠!!!!!"
   ]
  },
  {
   "cell_type": "code",
   "execution_count": 163,
   "id": "3523f4c0",
   "metadata": {},
   "outputs": [],
   "source": [
    "final.insert?"
   ]
  },
  {
   "cell_type": "code",
   "execution_count": 165,
   "id": "d4c0136f",
   "metadata": {
    "scrolled": true
   },
   "outputs": [
    {
     "ename": "TypeError",
     "evalue": "cannot concatenate object of type '<class 'str'>'; only Series and DataFrame objs are valid",
     "output_type": "error",
     "traceback": [
      "\u001b[1;31m---------------------------------------------------------------------------\u001b[0m",
      "\u001b[1;31mTypeError\u001b[0m                                 Traceback (most recent call last)",
      "\u001b[1;32m<ipython-input-165-9ae851a206ab>\u001b[0m in \u001b[0;36m<module>\u001b[1;34m\u001b[0m\n\u001b[1;32m----> 1\u001b[1;33m \u001b[0mfinal\u001b[0m\u001b[1;33m.\u001b[0m\u001b[0mappend\u001b[0m\u001b[1;33m(\u001b[0m\u001b[0mnew0\u001b[0m\u001b[1;33m)\u001b[0m\u001b[1;33m\u001b[0m\u001b[1;33m\u001b[0m\u001b[0m\n\u001b[0m",
      "\u001b[1;32m~\\anaconda3\\lib\\site-packages\\pandas\\core\\frame.py\u001b[0m in \u001b[0;36mappend\u001b[1;34m(self, other, ignore_index, verify_integrity, sort)\u001b[0m\n\u001b[0;32m   8963\u001b[0m             \u001b[0mto_concat\u001b[0m \u001b[1;33m=\u001b[0m \u001b[1;33m[\u001b[0m\u001b[0mself\u001b[0m\u001b[1;33m,\u001b[0m \u001b[0mother\u001b[0m\u001b[1;33m]\u001b[0m\u001b[1;33m\u001b[0m\u001b[1;33m\u001b[0m\u001b[0m\n\u001b[0;32m   8964\u001b[0m         return (\n\u001b[1;32m-> 8965\u001b[1;33m             concat(\n\u001b[0m\u001b[0;32m   8966\u001b[0m                 \u001b[0mto_concat\u001b[0m\u001b[1;33m,\u001b[0m\u001b[1;33m\u001b[0m\u001b[1;33m\u001b[0m\u001b[0m\n\u001b[0;32m   8967\u001b[0m                 \u001b[0mignore_index\u001b[0m\u001b[1;33m=\u001b[0m\u001b[0mignore_index\u001b[0m\u001b[1;33m,\u001b[0m\u001b[1;33m\u001b[0m\u001b[1;33m\u001b[0m\u001b[0m\n",
      "\u001b[1;32m~\\anaconda3\\lib\\site-packages\\pandas\\util\\_decorators.py\u001b[0m in \u001b[0;36mwrapper\u001b[1;34m(*args, **kwargs)\u001b[0m\n\u001b[0;32m    309\u001b[0m                     \u001b[0mstacklevel\u001b[0m\u001b[1;33m=\u001b[0m\u001b[0mstacklevel\u001b[0m\u001b[1;33m,\u001b[0m\u001b[1;33m\u001b[0m\u001b[1;33m\u001b[0m\u001b[0m\n\u001b[0;32m    310\u001b[0m                 )\n\u001b[1;32m--> 311\u001b[1;33m             \u001b[1;32mreturn\u001b[0m \u001b[0mfunc\u001b[0m\u001b[1;33m(\u001b[0m\u001b[1;33m*\u001b[0m\u001b[0margs\u001b[0m\u001b[1;33m,\u001b[0m \u001b[1;33m**\u001b[0m\u001b[0mkwargs\u001b[0m\u001b[1;33m)\u001b[0m\u001b[1;33m\u001b[0m\u001b[1;33m\u001b[0m\u001b[0m\n\u001b[0m\u001b[0;32m    312\u001b[0m \u001b[1;33m\u001b[0m\u001b[0m\n\u001b[0;32m    313\u001b[0m         \u001b[1;32mreturn\u001b[0m \u001b[0mwrapper\u001b[0m\u001b[1;33m\u001b[0m\u001b[1;33m\u001b[0m\u001b[0m\n",
      "\u001b[1;32m~\\anaconda3\\lib\\site-packages\\pandas\\core\\reshape\\concat.py\u001b[0m in \u001b[0;36mconcat\u001b[1;34m(objs, axis, join, ignore_index, keys, levels, names, verify_integrity, sort, copy)\u001b[0m\n\u001b[0;32m    292\u001b[0m     \u001b[0mValueError\u001b[0m\u001b[1;33m:\u001b[0m \u001b[0mIndexes\u001b[0m \u001b[0mhave\u001b[0m \u001b[0moverlapping\u001b[0m \u001b[0mvalues\u001b[0m\u001b[1;33m:\u001b[0m \u001b[1;33m[\u001b[0m\u001b[1;34m'a'\u001b[0m\u001b[1;33m]\u001b[0m\u001b[1;33m\u001b[0m\u001b[1;33m\u001b[0m\u001b[0m\n\u001b[0;32m    293\u001b[0m     \"\"\"\n\u001b[1;32m--> 294\u001b[1;33m     op = _Concatenator(\n\u001b[0m\u001b[0;32m    295\u001b[0m         \u001b[0mobjs\u001b[0m\u001b[1;33m,\u001b[0m\u001b[1;33m\u001b[0m\u001b[1;33m\u001b[0m\u001b[0m\n\u001b[0;32m    296\u001b[0m         \u001b[0maxis\u001b[0m\u001b[1;33m=\u001b[0m\u001b[0maxis\u001b[0m\u001b[1;33m,\u001b[0m\u001b[1;33m\u001b[0m\u001b[1;33m\u001b[0m\u001b[0m\n",
      "\u001b[1;32m~\\anaconda3\\lib\\site-packages\\pandas\\core\\reshape\\concat.py\u001b[0m in \u001b[0;36m__init__\u001b[1;34m(self, objs, axis, join, keys, levels, names, ignore_index, verify_integrity, copy, sort)\u001b[0m\n\u001b[0;32m    382\u001b[0m                     \u001b[1;34m\"only Series and DataFrame objs are valid\"\u001b[0m\u001b[1;33m\u001b[0m\u001b[1;33m\u001b[0m\u001b[0m\n\u001b[0;32m    383\u001b[0m                 )\n\u001b[1;32m--> 384\u001b[1;33m                 \u001b[1;32mraise\u001b[0m \u001b[0mTypeError\u001b[0m\u001b[1;33m(\u001b[0m\u001b[0mmsg\u001b[0m\u001b[1;33m)\u001b[0m\u001b[1;33m\u001b[0m\u001b[1;33m\u001b[0m\u001b[0m\n\u001b[0m\u001b[0;32m    385\u001b[0m \u001b[1;33m\u001b[0m\u001b[0m\n\u001b[0;32m    386\u001b[0m             \u001b[0mndims\u001b[0m\u001b[1;33m.\u001b[0m\u001b[0madd\u001b[0m\u001b[1;33m(\u001b[0m\u001b[0mobj\u001b[0m\u001b[1;33m.\u001b[0m\u001b[0mndim\u001b[0m\u001b[1;33m)\u001b[0m\u001b[1;33m\u001b[0m\u001b[1;33m\u001b[0m\u001b[0m\n",
      "\u001b[1;31mTypeError\u001b[0m: cannot concatenate object of type '<class 'str'>'; only Series and DataFrame objs are valid"
     ]
    }
   ],
   "source": [
    "final.append(new0)"
   ]
  },
  {
   "cell_type": "code",
   "execution_count": 153,
   "id": "5e0473a4",
   "metadata": {},
   "outputs": [
    {
     "data": {
      "text/plain": [
       "'有名なことわざを100個、有名順に並べました。'"
      ]
     },
     "execution_count": 153,
     "metadata": {},
     "output_type": "execute_result"
    }
   ],
   "source": [
    "new[0]"
   ]
  },
  {
   "cell_type": "markdown",
   "id": "75637154",
   "metadata": {},
   "source": [
    "> 후기.\n",
    ">\n",
    "> 삐진게요?\n",
    ">\n",
    "> 아니 왜?\n",
    ">\n",
    "> 싸이트 구조가 이상한거 같아서 같이 헤매보잔건데 왜???\n",
    "> \n",
    "> 내가 이 병만 아녔어도 진작에 엎었을 법한 site네요.\n",
    ">\n",
    "> 흡사 양의 탈을 쓴 사탄같은 넘이 만든 사이트인듯.\n",
    ">\n",
    "> 이제 와서 생각해보니 소스코드를 가져와서 태그 한두개만 일괄 작업하고 수프 돌렸으면....???\n",
    ">\n",
    "> 아까 이쁘게 보이던거는 마녀의 유혹이었음. (그거때메 우습게앎.. ㅠㅠ)\n",
    ">\n",
    "> 그 화면을 긁어서 메모장에 붙여서 엑셀로 소환하는게 훨씬 편할듯... 4시간이라니... ㅠㅠ\n",
    ">\n",
    "> 암튼 덕분에 좋은 경험했네요."
   ]
  },
  {
   "cell_type": "code",
   "execution_count": null,
   "id": "c5f70e25",
   "metadata": {},
   "outputs": [],
   "source": []
  },
  {
   "cell_type": "code",
   "execution_count": null,
   "id": "95276683",
   "metadata": {},
   "outputs": [],
   "source": []
  },
  {
   "cell_type": "code",
   "execution_count": null,
   "id": "9e088b13",
   "metadata": {},
   "outputs": [],
   "source": []
  },
  {
   "cell_type": "code",
   "execution_count": null,
   "id": "ca156dda",
   "metadata": {},
   "outputs": [],
   "source": []
  }
 ],
 "metadata": {
  "kernelspec": {
   "display_name": "Python 3",
   "language": "python",
   "name": "python3"
  },
  "language_info": {
   "codemirror_mode": {
    "name": "ipython",
    "version": 3
   },
   "file_extension": ".py",
   "mimetype": "text/x-python",
   "name": "python",
   "nbconvert_exporter": "python",
   "pygments_lexer": "ipython3",
   "version": "3.8.8"
  },
  "toc": {
   "base_numbering": 1,
   "nav_menu": {},
   "number_sections": true,
   "sideBar": true,
   "skip_h1_title": false,
   "title_cell": "Table of Contents",
   "title_sidebar": "Contents",
   "toc_cell": false,
   "toc_position": {},
   "toc_section_display": true,
   "toc_window_display": false
  }
 },
 "nbformat": 4,
 "nbformat_minor": 5
}
